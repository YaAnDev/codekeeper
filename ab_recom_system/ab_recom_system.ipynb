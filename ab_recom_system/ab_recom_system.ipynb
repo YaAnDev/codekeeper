{
 "cells": [
  {
   "cell_type": "markdown",
   "metadata": {},
   "source": [
    "# Проведение оценки результатов A/B-теста, связанного с внедрением улучшенной рекомендательной системы"
   ]
  },
  {
   "cell_type": "markdown",
   "metadata": {},
   "source": [
    "# *Краткое описание*"
   ]
  },
  {
   "cell_type": "markdown",
   "metadata": {},
   "source": [
    "**Цели и задачи проекта:** \n",
    "\n",
    "1. Оценить корректность проведения теста.\n",
    "2. Проанализировать результаты теста.\n",
    "\n",
    "Для выполнения поставленной задачи предстоит работать с данными, содержащимися в четырех датасетах формата csv."
   ]
  },
  {
   "cell_type": "markdown",
   "metadata": {},
   "source": [
    "**План работы:**\n",
    "1. Откроем файлы с данными, изучим общую информацию и предобработаем их.\n",
    "2. Проведем исследовательский анализ данных.\n",
    "3. Проведем оценку результатов A/B-тестирования.\n",
    "4. Подготовим выводы исследования."
   ]
  },
  {
   "cell_type": "markdown",
   "metadata": {},
   "source": [
    "**Оглавление**"
   ]
  },
  {
   "cell_type": "markdown",
   "metadata": {},
   "source": [
    "1. [Ознакомление с данными и предобработка](#start)\n",
    "2. [Исследовательский анализ](#analyzing)\n",
    "3. [Оценка результатов А/В-теста](#results_checking)\n",
    "4. [Общие выводы](#summary)"
   ]
  },
  {
   "cell_type": "markdown",
   "metadata": {},
   "source": [
    "**Техническое задание**\n",
    "1. Название теста: recommender_system_test;\n",
    "2. Группы: А (контрольная), B (новая платёжная воронка);\n",
    "3. Дата запуска: 2020-12-07;\n",
    "4. Дата остановки набора новых пользователей: 2020-12-21;\n",
    "5. Дата остановки: 2021-01-04;\n",
    "6. Аудитория: 15% новых пользователей из региона EU;\n",
    "7. Назначение теста: тестирование изменений, связанных с внедрением улучшенной рекомендательной системы;\n",
    "8. Ожидаемое количество участников теста: 6000.\n",
    "9. Ожидаемый эффект: за 14 дней с момента регистрации в системе пользователи покажут улучшение каждой метрики не менее, чем на 10%:\n",
    "    - конверсии в просмотр карточек товаров — событие product_page;\n",
    "    - просмотры корзины — product_cart;\n",
    "    - покупки — purchase."
   ]
  },
  {
   "cell_type": "markdown",
   "metadata": {},
   "source": [
    "<a id=\"start\"></a>\n",
    "## Ознакомление с данными и предобработка "
   ]
  },
  {
   "cell_type": "code",
   "execution_count": 1,
   "metadata": {},
   "outputs": [],
   "source": [
    "import pandas as pd\n",
    "import numpy as np\n",
    "import matplotlib.pyplot as plt\n",
    "import scipy.stats as st\n",
    "import math as mth"
   ]
  },
  {
   "cell_type": "code",
   "execution_count": 2,
   "metadata": {},
   "outputs": [],
   "source": [
    "#сохраним данные в соответствующие переменные\n",
    "marketing_events = pd.read_csv('/datasets/ab_project_marketing_events.csv')\n",
    "ab_new_users = pd.read_csv('/datasets/final_ab_new_users.csv')\n",
    "ab_events = pd.read_csv('/datasets/final_ab_events.csv')\n",
    "ab_participants = pd.read_csv('/datasets/final_ab_participants.csv')"
   ]
  },
  {
   "cell_type": "code",
   "execution_count": 3,
   "metadata": {},
   "outputs": [],
   "source": [
    "#создадим функцию для ознакомления с данными\n",
    "def data_info(data):\n",
    "    print('Визуальное ознакомление с датасетом')\n",
    "    display(data.head())\n",
    "    print()\n",
    "    print('Получение информации о датасете')\n",
    "    display(data.describe())\n",
    "    print()\n",
    "    display(data.info())\n",
    "    print()\n",
    "    print('Доля пропущенных значений')\n",
    "    display(data.isna().mean()*100)  "
   ]
  },
  {
   "cell_type": "markdown",
   "metadata": {},
   "source": [
    "### Датасет marketing_events"
   ]
  },
  {
   "cell_type": "code",
   "execution_count": 4,
   "metadata": {},
   "outputs": [
    {
     "name": "stdout",
     "output_type": "stream",
     "text": [
      "Визуальное ознакомление с датасетом\n"
     ]
    },
    {
     "data": {
      "text/html": [
       "<div>\n",
       "<style scoped>\n",
       "    .dataframe tbody tr th:only-of-type {\n",
       "        vertical-align: middle;\n",
       "    }\n",
       "\n",
       "    .dataframe tbody tr th {\n",
       "        vertical-align: top;\n",
       "    }\n",
       "\n",
       "    .dataframe thead th {\n",
       "        text-align: right;\n",
       "    }\n",
       "</style>\n",
       "<table border=\"1\" class=\"dataframe\">\n",
       "  <thead>\n",
       "    <tr style=\"text-align: right;\">\n",
       "      <th></th>\n",
       "      <th>name</th>\n",
       "      <th>regions</th>\n",
       "      <th>start_dt</th>\n",
       "      <th>finish_dt</th>\n",
       "    </tr>\n",
       "  </thead>\n",
       "  <tbody>\n",
       "    <tr>\n",
       "      <td>0</td>\n",
       "      <td>Christmas&amp;New Year Promo</td>\n",
       "      <td>EU, N.America</td>\n",
       "      <td>2020-12-25</td>\n",
       "      <td>2021-01-03</td>\n",
       "    </tr>\n",
       "    <tr>\n",
       "      <td>1</td>\n",
       "      <td>St. Valentine's Day Giveaway</td>\n",
       "      <td>EU, CIS, APAC, N.America</td>\n",
       "      <td>2020-02-14</td>\n",
       "      <td>2020-02-16</td>\n",
       "    </tr>\n",
       "    <tr>\n",
       "      <td>2</td>\n",
       "      <td>St. Patric's Day Promo</td>\n",
       "      <td>EU, N.America</td>\n",
       "      <td>2020-03-17</td>\n",
       "      <td>2020-03-19</td>\n",
       "    </tr>\n",
       "    <tr>\n",
       "      <td>3</td>\n",
       "      <td>Easter Promo</td>\n",
       "      <td>EU, CIS, APAC, N.America</td>\n",
       "      <td>2020-04-12</td>\n",
       "      <td>2020-04-19</td>\n",
       "    </tr>\n",
       "    <tr>\n",
       "      <td>4</td>\n",
       "      <td>4th of July Promo</td>\n",
       "      <td>N.America</td>\n",
       "      <td>2020-07-04</td>\n",
       "      <td>2020-07-11</td>\n",
       "    </tr>\n",
       "  </tbody>\n",
       "</table>\n",
       "</div>"
      ],
      "text/plain": [
       "                           name                   regions    start_dt  \\\n",
       "0      Christmas&New Year Promo             EU, N.America  2020-12-25   \n",
       "1  St. Valentine's Day Giveaway  EU, CIS, APAC, N.America  2020-02-14   \n",
       "2        St. Patric's Day Promo             EU, N.America  2020-03-17   \n",
       "3                  Easter Promo  EU, CIS, APAC, N.America  2020-04-12   \n",
       "4             4th of July Promo                 N.America  2020-07-04   \n",
       "\n",
       "    finish_dt  \n",
       "0  2021-01-03  \n",
       "1  2020-02-16  \n",
       "2  2020-03-19  \n",
       "3  2020-04-19  \n",
       "4  2020-07-11  "
      ]
     },
     "metadata": {},
     "output_type": "display_data"
    },
    {
     "name": "stdout",
     "output_type": "stream",
     "text": [
      "\n",
      "Получение информации о датасете\n"
     ]
    },
    {
     "data": {
      "text/html": [
       "<div>\n",
       "<style scoped>\n",
       "    .dataframe tbody tr th:only-of-type {\n",
       "        vertical-align: middle;\n",
       "    }\n",
       "\n",
       "    .dataframe tbody tr th {\n",
       "        vertical-align: top;\n",
       "    }\n",
       "\n",
       "    .dataframe thead th {\n",
       "        text-align: right;\n",
       "    }\n",
       "</style>\n",
       "<table border=\"1\" class=\"dataframe\">\n",
       "  <thead>\n",
       "    <tr style=\"text-align: right;\">\n",
       "      <th></th>\n",
       "      <th>name</th>\n",
       "      <th>regions</th>\n",
       "      <th>start_dt</th>\n",
       "      <th>finish_dt</th>\n",
       "    </tr>\n",
       "  </thead>\n",
       "  <tbody>\n",
       "    <tr>\n",
       "      <td>count</td>\n",
       "      <td>14</td>\n",
       "      <td>14</td>\n",
       "      <td>14</td>\n",
       "      <td>14</td>\n",
       "    </tr>\n",
       "    <tr>\n",
       "      <td>unique</td>\n",
       "      <td>14</td>\n",
       "      <td>6</td>\n",
       "      <td>14</td>\n",
       "      <td>14</td>\n",
       "    </tr>\n",
       "    <tr>\n",
       "      <td>top</td>\n",
       "      <td>Labor day (May 1st) Ads Campaign</td>\n",
       "      <td>APAC</td>\n",
       "      <td>2020-07-04</td>\n",
       "      <td>2020-05-11</td>\n",
       "    </tr>\n",
       "    <tr>\n",
       "      <td>freq</td>\n",
       "      <td>1</td>\n",
       "      <td>4</td>\n",
       "      <td>1</td>\n",
       "      <td>1</td>\n",
       "    </tr>\n",
       "  </tbody>\n",
       "</table>\n",
       "</div>"
      ],
      "text/plain": [
       "                                    name regions    start_dt   finish_dt\n",
       "count                                 14      14          14          14\n",
       "unique                                14       6          14          14\n",
       "top     Labor day (May 1st) Ads Campaign    APAC  2020-07-04  2020-05-11\n",
       "freq                                   1       4           1           1"
      ]
     },
     "metadata": {},
     "output_type": "display_data"
    },
    {
     "name": "stdout",
     "output_type": "stream",
     "text": [
      "\n",
      "<class 'pandas.core.frame.DataFrame'>\n",
      "RangeIndex: 14 entries, 0 to 13\n",
      "Data columns (total 4 columns):\n",
      "name         14 non-null object\n",
      "regions      14 non-null object\n",
      "start_dt     14 non-null object\n",
      "finish_dt    14 non-null object\n",
      "dtypes: object(4)\n",
      "memory usage: 576.0+ bytes\n"
     ]
    },
    {
     "data": {
      "text/plain": [
       "None"
      ]
     },
     "metadata": {},
     "output_type": "display_data"
    },
    {
     "name": "stdout",
     "output_type": "stream",
     "text": [
      "\n",
      "Доля пропущенных значений\n"
     ]
    },
    {
     "data": {
      "text/plain": [
       "name         0.0\n",
       "regions      0.0\n",
       "start_dt     0.0\n",
       "finish_dt    0.0\n",
       "dtype: float64"
      ]
     },
     "metadata": {},
     "output_type": "display_data"
    }
   ],
   "source": [
    "#посмотрим на датасет marketing_events\n",
    "data_info(marketing_events)"
   ]
  },
  {
   "cell_type": "code",
   "execution_count": 5,
   "metadata": {},
   "outputs": [
    {
     "data": {
      "text/html": [
       "<div>\n",
       "<style scoped>\n",
       "    .dataframe tbody tr th:only-of-type {\n",
       "        vertical-align: middle;\n",
       "    }\n",
       "\n",
       "    .dataframe tbody tr th {\n",
       "        vertical-align: top;\n",
       "    }\n",
       "\n",
       "    .dataframe thead th {\n",
       "        text-align: right;\n",
       "    }\n",
       "</style>\n",
       "<table border=\"1\" class=\"dataframe\">\n",
       "  <thead>\n",
       "    <tr style=\"text-align: right;\">\n",
       "      <th></th>\n",
       "      <th>name</th>\n",
       "      <th>regions</th>\n",
       "      <th>start_dt</th>\n",
       "      <th>finish_dt</th>\n",
       "    </tr>\n",
       "  </thead>\n",
       "  <tbody>\n",
       "    <tr>\n",
       "      <td>10</td>\n",
       "      <td>CIS New Year Gift Lottery</td>\n",
       "      <td>CIS</td>\n",
       "      <td>2020-12-30</td>\n",
       "      <td>2021-01-07</td>\n",
       "    </tr>\n",
       "    <tr>\n",
       "      <td>0</td>\n",
       "      <td>Christmas&amp;New Year Promo</td>\n",
       "      <td>EU, N.America</td>\n",
       "      <td>2020-12-25</td>\n",
       "      <td>2021-01-03</td>\n",
       "    </tr>\n",
       "    <tr>\n",
       "      <td>5</td>\n",
       "      <td>Black Friday Ads Campaign</td>\n",
       "      <td>EU, CIS, APAC, N.America</td>\n",
       "      <td>2020-11-26</td>\n",
       "      <td>2020-12-01</td>\n",
       "    </tr>\n",
       "    <tr>\n",
       "      <td>12</td>\n",
       "      <td>Single's Day Gift Promo</td>\n",
       "      <td>APAC</td>\n",
       "      <td>2020-11-11</td>\n",
       "      <td>2020-11-12</td>\n",
       "    </tr>\n",
       "    <tr>\n",
       "      <td>13</td>\n",
       "      <td>Chinese Moon Festival</td>\n",
       "      <td>APAC</td>\n",
       "      <td>2020-10-01</td>\n",
       "      <td>2020-10-07</td>\n",
       "    </tr>\n",
       "    <tr>\n",
       "      <td>4</td>\n",
       "      <td>4th of July Promo</td>\n",
       "      <td>N.America</td>\n",
       "      <td>2020-07-04</td>\n",
       "      <td>2020-07-11</td>\n",
       "    </tr>\n",
       "    <tr>\n",
       "      <td>11</td>\n",
       "      <td>Dragon Boat Festival Giveaway</td>\n",
       "      <td>APAC</td>\n",
       "      <td>2020-06-25</td>\n",
       "      <td>2020-07-01</td>\n",
       "    </tr>\n",
       "    <tr>\n",
       "      <td>9</td>\n",
       "      <td>Victory Day CIS (May 9th) Event</td>\n",
       "      <td>CIS</td>\n",
       "      <td>2020-05-09</td>\n",
       "      <td>2020-05-11</td>\n",
       "    </tr>\n",
       "    <tr>\n",
       "      <td>7</td>\n",
       "      <td>Labor day (May 1st) Ads Campaign</td>\n",
       "      <td>EU, CIS, APAC</td>\n",
       "      <td>2020-05-01</td>\n",
       "      <td>2020-05-03</td>\n",
       "    </tr>\n",
       "    <tr>\n",
       "      <td>3</td>\n",
       "      <td>Easter Promo</td>\n",
       "      <td>EU, CIS, APAC, N.America</td>\n",
       "      <td>2020-04-12</td>\n",
       "      <td>2020-04-19</td>\n",
       "    </tr>\n",
       "    <tr>\n",
       "      <td>2</td>\n",
       "      <td>St. Patric's Day Promo</td>\n",
       "      <td>EU, N.America</td>\n",
       "      <td>2020-03-17</td>\n",
       "      <td>2020-03-19</td>\n",
       "    </tr>\n",
       "    <tr>\n",
       "      <td>8</td>\n",
       "      <td>International Women's Day Promo</td>\n",
       "      <td>EU, CIS, APAC</td>\n",
       "      <td>2020-03-08</td>\n",
       "      <td>2020-03-10</td>\n",
       "    </tr>\n",
       "    <tr>\n",
       "      <td>1</td>\n",
       "      <td>St. Valentine's Day Giveaway</td>\n",
       "      <td>EU, CIS, APAC, N.America</td>\n",
       "      <td>2020-02-14</td>\n",
       "      <td>2020-02-16</td>\n",
       "    </tr>\n",
       "    <tr>\n",
       "      <td>6</td>\n",
       "      <td>Chinese New Year Promo</td>\n",
       "      <td>APAC</td>\n",
       "      <td>2020-01-25</td>\n",
       "      <td>2020-02-07</td>\n",
       "    </tr>\n",
       "  </tbody>\n",
       "</table>\n",
       "</div>"
      ],
      "text/plain": [
       "                                name                   regions    start_dt  \\\n",
       "10         CIS New Year Gift Lottery                       CIS  2020-12-30   \n",
       "0           Christmas&New Year Promo             EU, N.America  2020-12-25   \n",
       "5          Black Friday Ads Campaign  EU, CIS, APAC, N.America  2020-11-26   \n",
       "12           Single's Day Gift Promo                      APAC  2020-11-11   \n",
       "13             Chinese Moon Festival                      APAC  2020-10-01   \n",
       "4                  4th of July Promo                 N.America  2020-07-04   \n",
       "11     Dragon Boat Festival Giveaway                      APAC  2020-06-25   \n",
       "9    Victory Day CIS (May 9th) Event                       CIS  2020-05-09   \n",
       "7   Labor day (May 1st) Ads Campaign             EU, CIS, APAC  2020-05-01   \n",
       "3                       Easter Promo  EU, CIS, APAC, N.America  2020-04-12   \n",
       "2             St. Patric's Day Promo             EU, N.America  2020-03-17   \n",
       "8    International Women's Day Promo             EU, CIS, APAC  2020-03-08   \n",
       "1       St. Valentine's Day Giveaway  EU, CIS, APAC, N.America  2020-02-14   \n",
       "6             Chinese New Year Promo                      APAC  2020-01-25   \n",
       "\n",
       "     finish_dt  \n",
       "10  2021-01-07  \n",
       "0   2021-01-03  \n",
       "5   2020-12-01  \n",
       "12  2020-11-12  \n",
       "13  2020-10-07  \n",
       "4   2020-07-11  \n",
       "11  2020-07-01  \n",
       "9   2020-05-11  \n",
       "7   2020-05-03  \n",
       "3   2020-04-19  \n",
       "2   2020-03-19  \n",
       "8   2020-03-10  \n",
       "1   2020-02-16  \n",
       "6   2020-02-07  "
      ]
     },
     "execution_count": 5,
     "metadata": {},
     "output_type": "execute_result"
    }
   ],
   "source": [
    "#отсортируем даты завершения маркетинговых событий \n",
    "marketing_events.sort_values(by='finish_dt', ascending=False)"
   ]
  },
  {
   "cell_type": "code",
   "execution_count": 6,
   "metadata": {},
   "outputs": [],
   "source": [
    "#напишем функцию для проверки пересечения дат\n",
    "def test_date(data):\n",
    "    if data['start_dt'] > '2021-01-04' or data['finish_dt'] < '2020-12-07':\n",
    "        return 'NO'\n",
    "    elif 'EU' not in data['regions']:\n",
    "        return 'NO'\n",
    "    else:\n",
    "        return 'YES'\n",
    "#добавим столбец с указанием пересечений \n",
    "marketing_events['intersection'] = marketing_events.apply(test_date, axis=1)"
   ]
  },
  {
   "cell_type": "code",
   "execution_count": 7,
   "metadata": {},
   "outputs": [
    {
     "data": {
      "text/html": [
       "<div>\n",
       "<style scoped>\n",
       "    .dataframe tbody tr th:only-of-type {\n",
       "        vertical-align: middle;\n",
       "    }\n",
       "\n",
       "    .dataframe tbody tr th {\n",
       "        vertical-align: top;\n",
       "    }\n",
       "\n",
       "    .dataframe thead th {\n",
       "        text-align: right;\n",
       "    }\n",
       "</style>\n",
       "<table border=\"1\" class=\"dataframe\">\n",
       "  <thead>\n",
       "    <tr style=\"text-align: right;\">\n",
       "      <th></th>\n",
       "      <th>name</th>\n",
       "      <th>regions</th>\n",
       "      <th>start_dt</th>\n",
       "      <th>finish_dt</th>\n",
       "      <th>intersection</th>\n",
       "    </tr>\n",
       "  </thead>\n",
       "  <tbody>\n",
       "    <tr>\n",
       "      <td>0</td>\n",
       "      <td>Christmas&amp;New Year Promo</td>\n",
       "      <td>EU, N.America</td>\n",
       "      <td>2020-12-25</td>\n",
       "      <td>2021-01-03</td>\n",
       "      <td>YES</td>\n",
       "    </tr>\n",
       "    <tr>\n",
       "      <td>1</td>\n",
       "      <td>St. Valentine's Day Giveaway</td>\n",
       "      <td>EU, CIS, APAC, N.America</td>\n",
       "      <td>2020-02-14</td>\n",
       "      <td>2020-02-16</td>\n",
       "      <td>NO</td>\n",
       "    </tr>\n",
       "    <tr>\n",
       "      <td>2</td>\n",
       "      <td>St. Patric's Day Promo</td>\n",
       "      <td>EU, N.America</td>\n",
       "      <td>2020-03-17</td>\n",
       "      <td>2020-03-19</td>\n",
       "      <td>NO</td>\n",
       "    </tr>\n",
       "    <tr>\n",
       "      <td>3</td>\n",
       "      <td>Easter Promo</td>\n",
       "      <td>EU, CIS, APAC, N.America</td>\n",
       "      <td>2020-04-12</td>\n",
       "      <td>2020-04-19</td>\n",
       "      <td>NO</td>\n",
       "    </tr>\n",
       "    <tr>\n",
       "      <td>4</td>\n",
       "      <td>4th of July Promo</td>\n",
       "      <td>N.America</td>\n",
       "      <td>2020-07-04</td>\n",
       "      <td>2020-07-11</td>\n",
       "      <td>NO</td>\n",
       "    </tr>\n",
       "    <tr>\n",
       "      <td>5</td>\n",
       "      <td>Black Friday Ads Campaign</td>\n",
       "      <td>EU, CIS, APAC, N.America</td>\n",
       "      <td>2020-11-26</td>\n",
       "      <td>2020-12-01</td>\n",
       "      <td>NO</td>\n",
       "    </tr>\n",
       "    <tr>\n",
       "      <td>6</td>\n",
       "      <td>Chinese New Year Promo</td>\n",
       "      <td>APAC</td>\n",
       "      <td>2020-01-25</td>\n",
       "      <td>2020-02-07</td>\n",
       "      <td>NO</td>\n",
       "    </tr>\n",
       "    <tr>\n",
       "      <td>7</td>\n",
       "      <td>Labor day (May 1st) Ads Campaign</td>\n",
       "      <td>EU, CIS, APAC</td>\n",
       "      <td>2020-05-01</td>\n",
       "      <td>2020-05-03</td>\n",
       "      <td>NO</td>\n",
       "    </tr>\n",
       "    <tr>\n",
       "      <td>8</td>\n",
       "      <td>International Women's Day Promo</td>\n",
       "      <td>EU, CIS, APAC</td>\n",
       "      <td>2020-03-08</td>\n",
       "      <td>2020-03-10</td>\n",
       "      <td>NO</td>\n",
       "    </tr>\n",
       "    <tr>\n",
       "      <td>9</td>\n",
       "      <td>Victory Day CIS (May 9th) Event</td>\n",
       "      <td>CIS</td>\n",
       "      <td>2020-05-09</td>\n",
       "      <td>2020-05-11</td>\n",
       "      <td>NO</td>\n",
       "    </tr>\n",
       "    <tr>\n",
       "      <td>10</td>\n",
       "      <td>CIS New Year Gift Lottery</td>\n",
       "      <td>CIS</td>\n",
       "      <td>2020-12-30</td>\n",
       "      <td>2021-01-07</td>\n",
       "      <td>NO</td>\n",
       "    </tr>\n",
       "    <tr>\n",
       "      <td>11</td>\n",
       "      <td>Dragon Boat Festival Giveaway</td>\n",
       "      <td>APAC</td>\n",
       "      <td>2020-06-25</td>\n",
       "      <td>2020-07-01</td>\n",
       "      <td>NO</td>\n",
       "    </tr>\n",
       "    <tr>\n",
       "      <td>12</td>\n",
       "      <td>Single's Day Gift Promo</td>\n",
       "      <td>APAC</td>\n",
       "      <td>2020-11-11</td>\n",
       "      <td>2020-11-12</td>\n",
       "      <td>NO</td>\n",
       "    </tr>\n",
       "    <tr>\n",
       "      <td>13</td>\n",
       "      <td>Chinese Moon Festival</td>\n",
       "      <td>APAC</td>\n",
       "      <td>2020-10-01</td>\n",
       "      <td>2020-10-07</td>\n",
       "      <td>NO</td>\n",
       "    </tr>\n",
       "  </tbody>\n",
       "</table>\n",
       "</div>"
      ],
      "text/plain": [
       "                                name                   regions    start_dt  \\\n",
       "0           Christmas&New Year Promo             EU, N.America  2020-12-25   \n",
       "1       St. Valentine's Day Giveaway  EU, CIS, APAC, N.America  2020-02-14   \n",
       "2             St. Patric's Day Promo             EU, N.America  2020-03-17   \n",
       "3                       Easter Promo  EU, CIS, APAC, N.America  2020-04-12   \n",
       "4                  4th of July Promo                 N.America  2020-07-04   \n",
       "5          Black Friday Ads Campaign  EU, CIS, APAC, N.America  2020-11-26   \n",
       "6             Chinese New Year Promo                      APAC  2020-01-25   \n",
       "7   Labor day (May 1st) Ads Campaign             EU, CIS, APAC  2020-05-01   \n",
       "8    International Women's Day Promo             EU, CIS, APAC  2020-03-08   \n",
       "9    Victory Day CIS (May 9th) Event                       CIS  2020-05-09   \n",
       "10         CIS New Year Gift Lottery                       CIS  2020-12-30   \n",
       "11     Dragon Boat Festival Giveaway                      APAC  2020-06-25   \n",
       "12           Single's Day Gift Promo                      APAC  2020-11-11   \n",
       "13             Chinese Moon Festival                      APAC  2020-10-01   \n",
       "\n",
       "     finish_dt intersection  \n",
       "0   2021-01-03          YES  \n",
       "1   2020-02-16           NO  \n",
       "2   2020-03-19           NO  \n",
       "3   2020-04-19           NO  \n",
       "4   2020-07-11           NO  \n",
       "5   2020-12-01           NO  \n",
       "6   2020-02-07           NO  \n",
       "7   2020-05-03           NO  \n",
       "8   2020-03-10           NO  \n",
       "9   2020-05-11           NO  \n",
       "10  2021-01-07           NO  \n",
       "11  2020-07-01           NO  \n",
       "12  2020-11-12           NO  \n",
       "13  2020-10-07           NO  "
      ]
     },
     "execution_count": 7,
     "metadata": {},
     "output_type": "execute_result"
    }
   ],
   "source": [
    "#посмотрим на пересечения марк. событий и а/в теста\n",
    "marketing_events"
   ]
  },
  {
   "cell_type": "markdown",
   "metadata": {},
   "source": [
    "**Выводы:**\n",
    "1. В данном датасете представлены данные маркетинговых событий за 20 год. \n",
    "2. Тип данных во всех 4 столбцах - object. Данный тип данных можно оставить без изменений, т.к. для целей исследования он подходит. Пропусков и дубликатов нет.\n",
    "3. Обращаем внимание на то, что для региона EU одно маркетинговое событие проходило в тоже время, что и А/В-тест: Christmas&New Year Promo с 25.12.20 по 03.01.21."
   ]
  },
  {
   "cell_type": "markdown",
   "metadata": {},
   "source": [
    "### Датасет ab_new_users"
   ]
  },
  {
   "cell_type": "code",
   "execution_count": 8,
   "metadata": {},
   "outputs": [
    {
     "name": "stdout",
     "output_type": "stream",
     "text": [
      "Визуальное ознакомление с датасетом\n"
     ]
    },
    {
     "data": {
      "text/html": [
       "<div>\n",
       "<style scoped>\n",
       "    .dataframe tbody tr th:only-of-type {\n",
       "        vertical-align: middle;\n",
       "    }\n",
       "\n",
       "    .dataframe tbody tr th {\n",
       "        vertical-align: top;\n",
       "    }\n",
       "\n",
       "    .dataframe thead th {\n",
       "        text-align: right;\n",
       "    }\n",
       "</style>\n",
       "<table border=\"1\" class=\"dataframe\">\n",
       "  <thead>\n",
       "    <tr style=\"text-align: right;\">\n",
       "      <th></th>\n",
       "      <th>user_id</th>\n",
       "      <th>first_date</th>\n",
       "      <th>region</th>\n",
       "      <th>device</th>\n",
       "    </tr>\n",
       "  </thead>\n",
       "  <tbody>\n",
       "    <tr>\n",
       "      <td>0</td>\n",
       "      <td>D72A72121175D8BE</td>\n",
       "      <td>2020-12-07</td>\n",
       "      <td>EU</td>\n",
       "      <td>PC</td>\n",
       "    </tr>\n",
       "    <tr>\n",
       "      <td>1</td>\n",
       "      <td>F1C668619DFE6E65</td>\n",
       "      <td>2020-12-07</td>\n",
       "      <td>N.America</td>\n",
       "      <td>Android</td>\n",
       "    </tr>\n",
       "    <tr>\n",
       "      <td>2</td>\n",
       "      <td>2E1BF1D4C37EA01F</td>\n",
       "      <td>2020-12-07</td>\n",
       "      <td>EU</td>\n",
       "      <td>PC</td>\n",
       "    </tr>\n",
       "    <tr>\n",
       "      <td>3</td>\n",
       "      <td>50734A22C0C63768</td>\n",
       "      <td>2020-12-07</td>\n",
       "      <td>EU</td>\n",
       "      <td>iPhone</td>\n",
       "    </tr>\n",
       "    <tr>\n",
       "      <td>4</td>\n",
       "      <td>E1BDDCE0DAFA2679</td>\n",
       "      <td>2020-12-07</td>\n",
       "      <td>N.America</td>\n",
       "      <td>iPhone</td>\n",
       "    </tr>\n",
       "  </tbody>\n",
       "</table>\n",
       "</div>"
      ],
      "text/plain": [
       "            user_id  first_date     region   device\n",
       "0  D72A72121175D8BE  2020-12-07         EU       PC\n",
       "1  F1C668619DFE6E65  2020-12-07  N.America  Android\n",
       "2  2E1BF1D4C37EA01F  2020-12-07         EU       PC\n",
       "3  50734A22C0C63768  2020-12-07         EU   iPhone\n",
       "4  E1BDDCE0DAFA2679  2020-12-07  N.America   iPhone"
      ]
     },
     "metadata": {},
     "output_type": "display_data"
    },
    {
     "name": "stdout",
     "output_type": "stream",
     "text": [
      "\n",
      "Получение информации о датасете\n"
     ]
    },
    {
     "data": {
      "text/html": [
       "<div>\n",
       "<style scoped>\n",
       "    .dataframe tbody tr th:only-of-type {\n",
       "        vertical-align: middle;\n",
       "    }\n",
       "\n",
       "    .dataframe tbody tr th {\n",
       "        vertical-align: top;\n",
       "    }\n",
       "\n",
       "    .dataframe thead th {\n",
       "        text-align: right;\n",
       "    }\n",
       "</style>\n",
       "<table border=\"1\" class=\"dataframe\">\n",
       "  <thead>\n",
       "    <tr style=\"text-align: right;\">\n",
       "      <th></th>\n",
       "      <th>user_id</th>\n",
       "      <th>first_date</th>\n",
       "      <th>region</th>\n",
       "      <th>device</th>\n",
       "    </tr>\n",
       "  </thead>\n",
       "  <tbody>\n",
       "    <tr>\n",
       "      <td>count</td>\n",
       "      <td>61733</td>\n",
       "      <td>61733</td>\n",
       "      <td>61733</td>\n",
       "      <td>61733</td>\n",
       "    </tr>\n",
       "    <tr>\n",
       "      <td>unique</td>\n",
       "      <td>61733</td>\n",
       "      <td>17</td>\n",
       "      <td>4</td>\n",
       "      <td>4</td>\n",
       "    </tr>\n",
       "    <tr>\n",
       "      <td>top</td>\n",
       "      <td>814EE158DDEE3B0A</td>\n",
       "      <td>2020-12-21</td>\n",
       "      <td>EU</td>\n",
       "      <td>Android</td>\n",
       "    </tr>\n",
       "    <tr>\n",
       "      <td>freq</td>\n",
       "      <td>1</td>\n",
       "      <td>6290</td>\n",
       "      <td>46270</td>\n",
       "      <td>27520</td>\n",
       "    </tr>\n",
       "  </tbody>\n",
       "</table>\n",
       "</div>"
      ],
      "text/plain": [
       "                 user_id  first_date region   device\n",
       "count              61733       61733  61733    61733\n",
       "unique             61733          17      4        4\n",
       "top     814EE158DDEE3B0A  2020-12-21     EU  Android\n",
       "freq                   1        6290  46270    27520"
      ]
     },
     "metadata": {},
     "output_type": "display_data"
    },
    {
     "name": "stdout",
     "output_type": "stream",
     "text": [
      "\n",
      "<class 'pandas.core.frame.DataFrame'>\n",
      "RangeIndex: 61733 entries, 0 to 61732\n",
      "Data columns (total 4 columns):\n",
      "user_id       61733 non-null object\n",
      "first_date    61733 non-null object\n",
      "region        61733 non-null object\n",
      "device        61733 non-null object\n",
      "dtypes: object(4)\n",
      "memory usage: 1.9+ MB\n"
     ]
    },
    {
     "data": {
      "text/plain": [
       "None"
      ]
     },
     "metadata": {},
     "output_type": "display_data"
    },
    {
     "name": "stdout",
     "output_type": "stream",
     "text": [
      "\n",
      "Доля пропущенных значений\n"
     ]
    },
    {
     "data": {
      "text/plain": [
       "user_id       0.0\n",
       "first_date    0.0\n",
       "region        0.0\n",
       "device        0.0\n",
       "dtype: float64"
      ]
     },
     "metadata": {},
     "output_type": "display_data"
    }
   ],
   "source": [
    "#посмотрим на датасет ab_new_users\n",
    "data_info(ab_new_users)"
   ]
  },
  {
   "cell_type": "code",
   "execution_count": 9,
   "metadata": {},
   "outputs": [
    {
     "name": "stdout",
     "output_type": "stream",
     "text": [
      "<class 'pandas.core.frame.DataFrame'>\n",
      "RangeIndex: 61733 entries, 0 to 61732\n",
      "Data columns (total 4 columns):\n",
      "user_id       61733 non-null object\n",
      "first_date    61733 non-null datetime64[ns]\n",
      "region        61733 non-null object\n",
      "device        61733 non-null object\n",
      "dtypes: datetime64[ns](1), object(3)\n",
      "memory usage: 1.9+ MB\n"
     ]
    },
    {
     "data": {
      "text/html": [
       "<div>\n",
       "<style scoped>\n",
       "    .dataframe tbody tr th:only-of-type {\n",
       "        vertical-align: middle;\n",
       "    }\n",
       "\n",
       "    .dataframe tbody tr th {\n",
       "        vertical-align: top;\n",
       "    }\n",
       "\n",
       "    .dataframe thead th {\n",
       "        text-align: right;\n",
       "    }\n",
       "</style>\n",
       "<table border=\"1\" class=\"dataframe\">\n",
       "  <thead>\n",
       "    <tr style=\"text-align: right;\">\n",
       "      <th></th>\n",
       "      <th>user_id</th>\n",
       "      <th>first_date</th>\n",
       "      <th>region</th>\n",
       "      <th>device</th>\n",
       "    </tr>\n",
       "  </thead>\n",
       "  <tbody>\n",
       "    <tr>\n",
       "      <td>0</td>\n",
       "      <td>D72A72121175D8BE</td>\n",
       "      <td>2020-12-07</td>\n",
       "      <td>EU</td>\n",
       "      <td>PC</td>\n",
       "    </tr>\n",
       "  </tbody>\n",
       "</table>\n",
       "</div>"
      ],
      "text/plain": [
       "            user_id first_date region device\n",
       "0  D72A72121175D8BE 2020-12-07     EU     PC"
      ]
     },
     "metadata": {},
     "output_type": "display_data"
    }
   ],
   "source": [
    "#приведем столбец с датой к типу date\n",
    "ab_new_users['first_date'] = pd.to_datetime(ab_new_users['first_date'], format='%Y-%m-%d')\n",
    "\n",
    "#проверяем\n",
    "ab_new_users.info()\n",
    "display(ab_new_users.head(1))"
   ]
  },
  {
   "cell_type": "code",
   "execution_count": 10,
   "metadata": {},
   "outputs": [
    {
     "name": "stdout",
     "output_type": "stream",
     "text": [
      "Минимальная дата: 2020-12-07 00:00:00.\n",
      "Максимальная дата: 2020-12-23 00:00:00.\n"
     ]
    }
   ],
   "source": [
    "#посмотрим на минимальную и максимальную даты\n",
    "print(f\"Минимальная дата: {ab_new_users['first_date'].min()}.\")\n",
    "print(f\"Максимальная дата: {ab_new_users['first_date'].max()}.\")"
   ]
  },
  {
   "cell_type": "markdown",
   "metadata": {},
   "source": [
    "*По заданию набор пользователей должен был быть остановлен 21.12.20, но в данных видим пользователей, которые зарегистрировались 23.12.20. Необходимо посчитать количество таких пользователей.* "
   ]
  },
  {
   "cell_type": "code",
   "execution_count": 11,
   "metadata": {},
   "outputs": [
    {
     "name": "stdout",
     "output_type": "stream",
     "text": [
      "Процент пользователей, пришедших после 21.12, от общего объема датасета: 8.53%\n"
     ]
    }
   ],
   "source": [
    "#посмотрим на строки, после 21.12.20\n",
    "ab_new_users.query('first_date > \"2020-12-21\"').head()\n",
    "\n",
    "#посчитаем их соотношение к общему объему датасета\n",
    "print('Процент пользователей, пришедших после 21.12, от общего объема датасета: {:.2%}'.\\\n",
    "      format(len(ab_new_users.query('first_date > \"2020-12-21\"')) / len(ab_new_users)))"
   ]
  },
  {
   "cell_type": "code",
   "execution_count": 12,
   "metadata": {},
   "outputs": [
    {
     "data": {
      "text/html": [
       "<div>\n",
       "<style scoped>\n",
       "    .dataframe tbody tr th:only-of-type {\n",
       "        vertical-align: middle;\n",
       "    }\n",
       "\n",
       "    .dataframe tbody tr th {\n",
       "        vertical-align: top;\n",
       "    }\n",
       "\n",
       "    .dataframe thead th {\n",
       "        text-align: right;\n",
       "    }\n",
       "</style>\n",
       "<table border=\"1\" class=\"dataframe\">\n",
       "  <thead>\n",
       "    <tr style=\"text-align: right;\">\n",
       "      <th></th>\n",
       "      <th>user_id</th>\n",
       "      <th>first_date</th>\n",
       "      <th>region</th>\n",
       "      <th>device</th>\n",
       "    </tr>\n",
       "  </thead>\n",
       "  <tbody>\n",
       "    <tr>\n",
       "      <td>0</td>\n",
       "      <td>D72A72121175D8BE</td>\n",
       "      <td>2020-12-07</td>\n",
       "      <td>EU</td>\n",
       "      <td>PC</td>\n",
       "    </tr>\n",
       "    <tr>\n",
       "      <td>1</td>\n",
       "      <td>F1C668619DFE6E65</td>\n",
       "      <td>2020-12-07</td>\n",
       "      <td>N.America</td>\n",
       "      <td>Android</td>\n",
       "    </tr>\n",
       "    <tr>\n",
       "      <td>2</td>\n",
       "      <td>2E1BF1D4C37EA01F</td>\n",
       "      <td>2020-12-07</td>\n",
       "      <td>EU</td>\n",
       "      <td>PC</td>\n",
       "    </tr>\n",
       "    <tr>\n",
       "      <td>3</td>\n",
       "      <td>50734A22C0C63768</td>\n",
       "      <td>2020-12-07</td>\n",
       "      <td>EU</td>\n",
       "      <td>iPhone</td>\n",
       "    </tr>\n",
       "    <tr>\n",
       "      <td>4</td>\n",
       "      <td>E1BDDCE0DAFA2679</td>\n",
       "      <td>2020-12-07</td>\n",
       "      <td>N.America</td>\n",
       "      <td>iPhone</td>\n",
       "    </tr>\n",
       "  </tbody>\n",
       "</table>\n",
       "</div>"
      ],
      "text/plain": [
       "            user_id first_date     region   device\n",
       "0  D72A72121175D8BE 2020-12-07         EU       PC\n",
       "1  F1C668619DFE6E65 2020-12-07  N.America  Android\n",
       "2  2E1BF1D4C37EA01F 2020-12-07         EU       PC\n",
       "3  50734A22C0C63768 2020-12-07         EU   iPhone\n",
       "4  E1BDDCE0DAFA2679 2020-12-07  N.America   iPhone"
      ]
     },
     "metadata": {},
     "output_type": "display_data"
    },
    {
     "name": "stdout",
     "output_type": "stream",
     "text": [
      "\n",
      "2020-12-21 00:00:00\n",
      "\n",
      "<class 'pandas.core.frame.DataFrame'>\n",
      "Int64Index: 56470 entries, 0 to 61732\n",
      "Data columns (total 4 columns):\n",
      "user_id       56470 non-null object\n",
      "first_date    56470 non-null datetime64[ns]\n",
      "region        56470 non-null object\n",
      "device        56470 non-null object\n",
      "dtypes: datetime64[ns](1), object(3)\n",
      "memory usage: 2.2+ MB\n"
     ]
    }
   ],
   "source": [
    "#делаем срез только для тех, кто пришел до 21.12.20\n",
    "ab_new_users_cleaned = ab_new_users.query('first_date <= \"2020-12-21\"').copy()\n",
    "\n",
    "#проверяем\n",
    "display(ab_new_users_cleaned.head())\n",
    "print()\n",
    "print(ab_new_users_cleaned['first_date'].max())\n",
    "print()\n",
    "ab_new_users_cleaned.info()"
   ]
  },
  {
   "cell_type": "code",
   "execution_count": 13,
   "metadata": {},
   "outputs": [
    {
     "name": "stdout",
     "output_type": "stream",
     "text": [
      "Количество дубликатов: 0.\n"
     ]
    }
   ],
   "source": [
    "#проверим на дубликаты\n",
    "print(f'Количество дубликатов: {ab_new_users_cleaned.duplicated().sum()}.')"
   ]
  },
  {
   "cell_type": "code",
   "execution_count": 14,
   "metadata": {},
   "outputs": [
    {
     "data": {
      "text/plain": [
       "EU           42340\n",
       "N.America     8347\n",
       "CIS           2900\n",
       "APAC          2883\n",
       "Name: region, dtype: int64"
      ]
     },
     "execution_count": 14,
     "metadata": {},
     "output_type": "execute_result"
    }
   ],
   "source": [
    "#посмотрим на уникальные значения регионов\n",
    "ab_new_users_cleaned['region'].value_counts()"
   ]
  },
  {
   "cell_type": "code",
   "execution_count": 15,
   "metadata": {},
   "outputs": [
    {
     "data": {
      "text/html": [
       "<div>\n",
       "<style scoped>\n",
       "    .dataframe tbody tr th:only-of-type {\n",
       "        vertical-align: middle;\n",
       "    }\n",
       "\n",
       "    .dataframe tbody tr th {\n",
       "        vertical-align: top;\n",
       "    }\n",
       "\n",
       "    .dataframe thead th {\n",
       "        text-align: right;\n",
       "    }\n",
       "</style>\n",
       "<table border=\"1\" class=\"dataframe\">\n",
       "  <thead>\n",
       "    <tr style=\"text-align: right;\">\n",
       "      <th></th>\n",
       "      <th>user_id</th>\n",
       "      <th>first_date</th>\n",
       "      <th>region</th>\n",
       "      <th>device</th>\n",
       "    </tr>\n",
       "  </thead>\n",
       "  <tbody>\n",
       "    <tr>\n",
       "      <td>0</td>\n",
       "      <td>D72A72121175D8BE</td>\n",
       "      <td>2020-12-07</td>\n",
       "      <td>EU</td>\n",
       "      <td>PC</td>\n",
       "    </tr>\n",
       "    <tr>\n",
       "      <td>2</td>\n",
       "      <td>2E1BF1D4C37EA01F</td>\n",
       "      <td>2020-12-07</td>\n",
       "      <td>EU</td>\n",
       "      <td>PC</td>\n",
       "    </tr>\n",
       "    <tr>\n",
       "      <td>3</td>\n",
       "      <td>50734A22C0C63768</td>\n",
       "      <td>2020-12-07</td>\n",
       "      <td>EU</td>\n",
       "      <td>iPhone</td>\n",
       "    </tr>\n",
       "    <tr>\n",
       "      <td>7</td>\n",
       "      <td>8942E64218C9A1ED</td>\n",
       "      <td>2020-12-07</td>\n",
       "      <td>EU</td>\n",
       "      <td>PC</td>\n",
       "    </tr>\n",
       "    <tr>\n",
       "      <td>9</td>\n",
       "      <td>FFCEA1179C253104</td>\n",
       "      <td>2020-12-07</td>\n",
       "      <td>EU</td>\n",
       "      <td>Android</td>\n",
       "    </tr>\n",
       "  </tbody>\n",
       "</table>\n",
       "</div>"
      ],
      "text/plain": [
       "            user_id first_date region   device\n",
       "0  D72A72121175D8BE 2020-12-07     EU       PC\n",
       "2  2E1BF1D4C37EA01F 2020-12-07     EU       PC\n",
       "3  50734A22C0C63768 2020-12-07     EU   iPhone\n",
       "7  8942E64218C9A1ED 2020-12-07     EU       PC\n",
       "9  FFCEA1179C253104 2020-12-07     EU  Android"
      ]
     },
     "metadata": {},
     "output_type": "display_data"
    },
    {
     "name": "stdout",
     "output_type": "stream",
     "text": [
      "\n",
      "<class 'pandas.core.frame.DataFrame'>\n",
      "Int64Index: 42340 entries, 0 to 61732\n",
      "Data columns (total 4 columns):\n",
      "user_id       42340 non-null object\n",
      "first_date    42340 non-null datetime64[ns]\n",
      "region        42340 non-null object\n",
      "device        42340 non-null object\n",
      "dtypes: datetime64[ns](1), object(3)\n",
      "memory usage: 1.6+ MB\n"
     ]
    }
   ],
   "source": [
    "#создадим датасет для пользователей из EU\n",
    "ab_new_users_cleaned_EU = ab_new_users_cleaned.query('region == \"EU\"').copy()\n",
    "\n",
    "#проверяем\n",
    "display(ab_new_users_cleaned_EU.head())\n",
    "print()\n",
    "ab_new_users_cleaned_EU.info()"
   ]
  },
  {
   "cell_type": "markdown",
   "metadata": {},
   "source": [
    "**Выводы:**\n",
    "1. В данном датасете представлены данные о пользователях, которых всего - 61 733.\n",
    "2. По заданию набор пользователей должен был быть остановлен 21.12.20, но в данных есть пользователи, зарегистрировавшиеся 23.12.20. Поэтому создан срез ab_new_users_cleaned, в котором будут пользователи до 21.12.20. Также был создан дополнительный датасет для пользователей из региона EU - ab_new_users_cleaned_EU.  \n",
    "3. Тип данных во всех 4 столбцах - object. В одном столбце хранятся сведения о дате, поэтому данный столбец привели к типу datetime. Остальные столбцы оставили без изменений, т.к. для целей исследования их тип менять не требуется.\n",
    "4. Пропусков и дубликатов не обнаружено."
   ]
  },
  {
   "cell_type": "markdown",
   "metadata": {},
   "source": [
    "### Датасет ab_events"
   ]
  },
  {
   "cell_type": "code",
   "execution_count": 16,
   "metadata": {},
   "outputs": [
    {
     "name": "stdout",
     "output_type": "stream",
     "text": [
      "Визуальное ознакомление с датасетом\n"
     ]
    },
    {
     "data": {
      "text/html": [
       "<div>\n",
       "<style scoped>\n",
       "    .dataframe tbody tr th:only-of-type {\n",
       "        vertical-align: middle;\n",
       "    }\n",
       "\n",
       "    .dataframe tbody tr th {\n",
       "        vertical-align: top;\n",
       "    }\n",
       "\n",
       "    .dataframe thead th {\n",
       "        text-align: right;\n",
       "    }\n",
       "</style>\n",
       "<table border=\"1\" class=\"dataframe\">\n",
       "  <thead>\n",
       "    <tr style=\"text-align: right;\">\n",
       "      <th></th>\n",
       "      <th>user_id</th>\n",
       "      <th>event_dt</th>\n",
       "      <th>event_name</th>\n",
       "      <th>details</th>\n",
       "    </tr>\n",
       "  </thead>\n",
       "  <tbody>\n",
       "    <tr>\n",
       "      <td>0</td>\n",
       "      <td>E1BDDCE0DAFA2679</td>\n",
       "      <td>2020-12-07 20:22:03</td>\n",
       "      <td>purchase</td>\n",
       "      <td>99.99</td>\n",
       "    </tr>\n",
       "    <tr>\n",
       "      <td>1</td>\n",
       "      <td>7B6452F081F49504</td>\n",
       "      <td>2020-12-07 09:22:53</td>\n",
       "      <td>purchase</td>\n",
       "      <td>9.99</td>\n",
       "    </tr>\n",
       "    <tr>\n",
       "      <td>2</td>\n",
       "      <td>9CD9F34546DF254C</td>\n",
       "      <td>2020-12-07 12:59:29</td>\n",
       "      <td>purchase</td>\n",
       "      <td>4.99</td>\n",
       "    </tr>\n",
       "    <tr>\n",
       "      <td>3</td>\n",
       "      <td>96F27A054B191457</td>\n",
       "      <td>2020-12-07 04:02:40</td>\n",
       "      <td>purchase</td>\n",
       "      <td>4.99</td>\n",
       "    </tr>\n",
       "    <tr>\n",
       "      <td>4</td>\n",
       "      <td>1FD7660FDF94CA1F</td>\n",
       "      <td>2020-12-07 10:15:09</td>\n",
       "      <td>purchase</td>\n",
       "      <td>4.99</td>\n",
       "    </tr>\n",
       "  </tbody>\n",
       "</table>\n",
       "</div>"
      ],
      "text/plain": [
       "            user_id             event_dt event_name  details\n",
       "0  E1BDDCE0DAFA2679  2020-12-07 20:22:03   purchase    99.99\n",
       "1  7B6452F081F49504  2020-12-07 09:22:53   purchase     9.99\n",
       "2  9CD9F34546DF254C  2020-12-07 12:59:29   purchase     4.99\n",
       "3  96F27A054B191457  2020-12-07 04:02:40   purchase     4.99\n",
       "4  1FD7660FDF94CA1F  2020-12-07 10:15:09   purchase     4.99"
      ]
     },
     "metadata": {},
     "output_type": "display_data"
    },
    {
     "name": "stdout",
     "output_type": "stream",
     "text": [
      "\n",
      "Получение информации о датасете\n"
     ]
    },
    {
     "data": {
      "text/html": [
       "<div>\n",
       "<style scoped>\n",
       "    .dataframe tbody tr th:only-of-type {\n",
       "        vertical-align: middle;\n",
       "    }\n",
       "\n",
       "    .dataframe tbody tr th {\n",
       "        vertical-align: top;\n",
       "    }\n",
       "\n",
       "    .dataframe thead th {\n",
       "        text-align: right;\n",
       "    }\n",
       "</style>\n",
       "<table border=\"1\" class=\"dataframe\">\n",
       "  <thead>\n",
       "    <tr style=\"text-align: right;\">\n",
       "      <th></th>\n",
       "      <th>details</th>\n",
       "    </tr>\n",
       "  </thead>\n",
       "  <tbody>\n",
       "    <tr>\n",
       "      <td>count</td>\n",
       "      <td>62740.000000</td>\n",
       "    </tr>\n",
       "    <tr>\n",
       "      <td>mean</td>\n",
       "      <td>23.877631</td>\n",
       "    </tr>\n",
       "    <tr>\n",
       "      <td>std</td>\n",
       "      <td>72.180465</td>\n",
       "    </tr>\n",
       "    <tr>\n",
       "      <td>min</td>\n",
       "      <td>4.990000</td>\n",
       "    </tr>\n",
       "    <tr>\n",
       "      <td>25%</td>\n",
       "      <td>4.990000</td>\n",
       "    </tr>\n",
       "    <tr>\n",
       "      <td>50%</td>\n",
       "      <td>4.990000</td>\n",
       "    </tr>\n",
       "    <tr>\n",
       "      <td>75%</td>\n",
       "      <td>9.990000</td>\n",
       "    </tr>\n",
       "    <tr>\n",
       "      <td>max</td>\n",
       "      <td>499.990000</td>\n",
       "    </tr>\n",
       "  </tbody>\n",
       "</table>\n",
       "</div>"
      ],
      "text/plain": [
       "            details\n",
       "count  62740.000000\n",
       "mean      23.877631\n",
       "std       72.180465\n",
       "min        4.990000\n",
       "25%        4.990000\n",
       "50%        4.990000\n",
       "75%        9.990000\n",
       "max      499.990000"
      ]
     },
     "metadata": {},
     "output_type": "display_data"
    },
    {
     "name": "stdout",
     "output_type": "stream",
     "text": [
      "\n",
      "<class 'pandas.core.frame.DataFrame'>\n",
      "RangeIndex: 440317 entries, 0 to 440316\n",
      "Data columns (total 4 columns):\n",
      "user_id       440317 non-null object\n",
      "event_dt      440317 non-null object\n",
      "event_name    440317 non-null object\n",
      "details       62740 non-null float64\n",
      "dtypes: float64(1), object(3)\n",
      "memory usage: 13.4+ MB\n"
     ]
    },
    {
     "data": {
      "text/plain": [
       "None"
      ]
     },
     "metadata": {},
     "output_type": "display_data"
    },
    {
     "name": "stdout",
     "output_type": "stream",
     "text": [
      "\n",
      "Доля пропущенных значений\n"
     ]
    },
    {
     "data": {
      "text/plain": [
       "user_id        0.000000\n",
       "event_dt       0.000000\n",
       "event_name     0.000000\n",
       "details       85.751175\n",
       "dtype: float64"
      ]
     },
     "metadata": {},
     "output_type": "display_data"
    }
   ],
   "source": [
    "#посмотрим на датасет ab_events\n",
    "data_info(ab_events)"
   ]
  },
  {
   "cell_type": "markdown",
   "metadata": {},
   "source": [
    "*В столбце details почти 86 % пропусков. Далее необходимо изучить их. Кроме того, можем заметить, что в столбце event_dt хранятся даты, но тип данных object. Тип данных других столбцов оставляем без изменений.*"
   ]
  },
  {
   "cell_type": "code",
   "execution_count": 17,
   "metadata": {},
   "outputs": [
    {
     "data": {
      "text/plain": [
       "login           189552\n",
       "product_page    125563\n",
       "purchase         62740\n",
       "product_cart     62462\n",
       "Name: event_name, dtype: int64"
      ]
     },
     "execution_count": 17,
     "metadata": {},
     "output_type": "execute_result"
    }
   ],
   "source": [
    "#посмотрим на уникальные значения столбца event_name  \n",
    "ab_events['event_name'].value_counts()"
   ]
  },
  {
   "cell_type": "markdown",
   "metadata": {},
   "source": [
    "*В столбце event_name предусмотрено 4 пользовательские события: ввод логина, страница продукта, покупки и корзина.*"
   ]
  },
  {
   "cell_type": "code",
   "execution_count": 18,
   "metadata": {},
   "outputs": [
    {
     "name": "stdout",
     "output_type": "stream",
     "text": [
      "<class 'pandas.core.frame.DataFrame'>\n",
      "RangeIndex: 440317 entries, 0 to 440316\n",
      "Data columns (total 4 columns):\n",
      "user_id       440317 non-null object\n",
      "event_dt      440317 non-null datetime64[ns]\n",
      "event_name    440317 non-null object\n",
      "details       62740 non-null float64\n",
      "dtypes: datetime64[ns](1), float64(1), object(2)\n",
      "memory usage: 13.4+ MB\n"
     ]
    },
    {
     "data": {
      "text/html": [
       "<div>\n",
       "<style scoped>\n",
       "    .dataframe tbody tr th:only-of-type {\n",
       "        vertical-align: middle;\n",
       "    }\n",
       "\n",
       "    .dataframe tbody tr th {\n",
       "        vertical-align: top;\n",
       "    }\n",
       "\n",
       "    .dataframe thead th {\n",
       "        text-align: right;\n",
       "    }\n",
       "</style>\n",
       "<table border=\"1\" class=\"dataframe\">\n",
       "  <thead>\n",
       "    <tr style=\"text-align: right;\">\n",
       "      <th></th>\n",
       "      <th>user_id</th>\n",
       "      <th>event_dt</th>\n",
       "      <th>event_name</th>\n",
       "      <th>details</th>\n",
       "    </tr>\n",
       "  </thead>\n",
       "  <tbody>\n",
       "    <tr>\n",
       "      <td>0</td>\n",
       "      <td>E1BDDCE0DAFA2679</td>\n",
       "      <td>2020-12-07 20:22:03</td>\n",
       "      <td>purchase</td>\n",
       "      <td>99.99</td>\n",
       "    </tr>\n",
       "  </tbody>\n",
       "</table>\n",
       "</div>"
      ],
      "text/plain": [
       "            user_id            event_dt event_name  details\n",
       "0  E1BDDCE0DAFA2679 2020-12-07 20:22:03   purchase    99.99"
      ]
     },
     "metadata": {},
     "output_type": "display_data"
    }
   ],
   "source": [
    "#приведем столбец с датой к типу date\n",
    "ab_events['event_dt'] = pd.to_datetime(ab_events['event_dt'], format='%Y-%m-%d %H:%M:%S')\n",
    "\n",
    "#проверяем\n",
    "ab_events.info()\n",
    "display(ab_events.head(1))"
   ]
  },
  {
   "cell_type": "code",
   "execution_count": 19,
   "metadata": {},
   "outputs": [
    {
     "data": {
      "text/html": [
       "<div>\n",
       "<style scoped>\n",
       "    .dataframe tbody tr th:only-of-type {\n",
       "        vertical-align: middle;\n",
       "    }\n",
       "\n",
       "    .dataframe tbody tr th {\n",
       "        vertical-align: top;\n",
       "    }\n",
       "\n",
       "    .dataframe thead th {\n",
       "        text-align: right;\n",
       "    }\n",
       "</style>\n",
       "<table border=\"1\" class=\"dataframe\">\n",
       "  <thead>\n",
       "    <tr style=\"text-align: right;\">\n",
       "      <th></th>\n",
       "      <th>user_id</th>\n",
       "      <th>event_dt</th>\n",
       "      <th>event_name</th>\n",
       "      <th>details</th>\n",
       "    </tr>\n",
       "  </thead>\n",
       "  <tbody>\n",
       "    <tr>\n",
       "      <td>62740</td>\n",
       "      <td>2E1BF1D4C37EA01F</td>\n",
       "      <td>2020-12-07 09:05:47</td>\n",
       "      <td>product_cart</td>\n",
       "      <td>NaN</td>\n",
       "    </tr>\n",
       "    <tr>\n",
       "      <td>62741</td>\n",
       "      <td>50734A22C0C63768</td>\n",
       "      <td>2020-12-07 13:24:03</td>\n",
       "      <td>product_cart</td>\n",
       "      <td>NaN</td>\n",
       "    </tr>\n",
       "    <tr>\n",
       "      <td>62742</td>\n",
       "      <td>5EB159DA9DC94DBA</td>\n",
       "      <td>2020-12-07 22:54:02</td>\n",
       "      <td>product_cart</td>\n",
       "      <td>NaN</td>\n",
       "    </tr>\n",
       "    <tr>\n",
       "      <td>62743</td>\n",
       "      <td>084A22B980BA8169</td>\n",
       "      <td>2020-12-07 15:25:55</td>\n",
       "      <td>product_cart</td>\n",
       "      <td>NaN</td>\n",
       "    </tr>\n",
       "    <tr>\n",
       "      <td>62744</td>\n",
       "      <td>0FC21E6F8FAA8DEC</td>\n",
       "      <td>2020-12-07 06:56:27</td>\n",
       "      <td>product_cart</td>\n",
       "      <td>NaN</td>\n",
       "    </tr>\n",
       "  </tbody>\n",
       "</table>\n",
       "</div>"
      ],
      "text/plain": [
       "                user_id            event_dt    event_name  details\n",
       "62740  2E1BF1D4C37EA01F 2020-12-07 09:05:47  product_cart      NaN\n",
       "62741  50734A22C0C63768 2020-12-07 13:24:03  product_cart      NaN\n",
       "62742  5EB159DA9DC94DBA 2020-12-07 22:54:02  product_cart      NaN\n",
       "62743  084A22B980BA8169 2020-12-07 15:25:55  product_cart      NaN\n",
       "62744  0FC21E6F8FAA8DEC 2020-12-07 06:56:27  product_cart      NaN"
      ]
     },
     "metadata": {},
     "output_type": "display_data"
    },
    {
     "data": {
      "text/html": [
       "<div>\n",
       "<style scoped>\n",
       "    .dataframe tbody tr th:only-of-type {\n",
       "        vertical-align: middle;\n",
       "    }\n",
       "\n",
       "    .dataframe tbody tr th {\n",
       "        vertical-align: top;\n",
       "    }\n",
       "\n",
       "    .dataframe thead th {\n",
       "        text-align: right;\n",
       "    }\n",
       "</style>\n",
       "<table border=\"1\" class=\"dataframe\">\n",
       "  <thead>\n",
       "    <tr style=\"text-align: right;\">\n",
       "      <th></th>\n",
       "      <th>user_id</th>\n",
       "      <th>event_dt</th>\n",
       "      <th>event_name</th>\n",
       "      <th>details</th>\n",
       "    </tr>\n",
       "  </thead>\n",
       "  <tbody>\n",
       "    <tr>\n",
       "      <td>440312</td>\n",
       "      <td>245E85F65C358E08</td>\n",
       "      <td>2020-12-30 19:35:55</td>\n",
       "      <td>login</td>\n",
       "      <td>NaN</td>\n",
       "    </tr>\n",
       "    <tr>\n",
       "      <td>440313</td>\n",
       "      <td>9385A108F5A0A7A7</td>\n",
       "      <td>2020-12-30 10:54:15</td>\n",
       "      <td>login</td>\n",
       "      <td>NaN</td>\n",
       "    </tr>\n",
       "    <tr>\n",
       "      <td>440314</td>\n",
       "      <td>DB650B7559AC6EAC</td>\n",
       "      <td>2020-12-30 10:59:09</td>\n",
       "      <td>login</td>\n",
       "      <td>NaN</td>\n",
       "    </tr>\n",
       "    <tr>\n",
       "      <td>440315</td>\n",
       "      <td>F80C9BDDEA02E53C</td>\n",
       "      <td>2020-12-30 09:53:39</td>\n",
       "      <td>login</td>\n",
       "      <td>NaN</td>\n",
       "    </tr>\n",
       "    <tr>\n",
       "      <td>440316</td>\n",
       "      <td>7AEC61159B672CC5</td>\n",
       "      <td>2020-12-30 11:36:13</td>\n",
       "      <td>login</td>\n",
       "      <td>NaN</td>\n",
       "    </tr>\n",
       "  </tbody>\n",
       "</table>\n",
       "</div>"
      ],
      "text/plain": [
       "                 user_id            event_dt event_name  details\n",
       "440312  245E85F65C358E08 2020-12-30 19:35:55      login      NaN\n",
       "440313  9385A108F5A0A7A7 2020-12-30 10:54:15      login      NaN\n",
       "440314  DB650B7559AC6EAC 2020-12-30 10:59:09      login      NaN\n",
       "440315  F80C9BDDEA02E53C 2020-12-30 09:53:39      login      NaN\n",
       "440316  7AEC61159B672CC5 2020-12-30 11:36:13      login      NaN"
      ]
     },
     "metadata": {},
     "output_type": "display_data"
    },
    {
     "name": "stdout",
     "output_type": "stream",
     "text": [
      "<class 'pandas.core.frame.DataFrame'>\n",
      "Int64Index: 377577 entries, 62740 to 440316\n",
      "Data columns (total 4 columns):\n",
      "user_id       377577 non-null object\n",
      "event_dt      377577 non-null datetime64[ns]\n",
      "event_name    377577 non-null object\n",
      "details       0 non-null float64\n",
      "dtypes: datetime64[ns](1), float64(1), object(2)\n",
      "memory usage: 14.4+ MB\n"
     ]
    },
    {
     "data": {
      "text/plain": [
       "None"
      ]
     },
     "metadata": {},
     "output_type": "display_data"
    }
   ],
   "source": [
    "#посмотрим на строки, у которых в столбце project_type NaN\n",
    "display(ab_events.loc[ab_events['details'].isnull()].head())\n",
    "display(ab_events.loc[ab_events['details'].isnull()].tail())\n",
    "display(ab_events.loc[ab_events['details'].isnull()].info())"
   ]
  },
  {
   "cell_type": "markdown",
   "metadata": {},
   "source": [
    "*Наблюдаем следующее - пропуски имеются в строках details, если в столбце event_name любое событие кроме purchase. Дальше, чтобы убедиться в этом, посмотрим на общее количество строк, где значение details не NaN и при этом в столбце event_name значение purchase.*  "
   ]
  },
  {
   "cell_type": "code",
   "execution_count": 20,
   "metadata": {},
   "outputs": [
    {
     "data": {
      "text/plain": [
       "62740"
      ]
     },
     "execution_count": 20,
     "metadata": {},
     "output_type": "execute_result"
    }
   ],
   "source": [
    "#смотрим на количество строк\n",
    "len(ab_events.loc[ab_events['details'].notnull(), ['event_name']] == 'purchase')"
   ]
  },
  {
   "cell_type": "markdown",
   "metadata": {},
   "source": [
    "*Видим, что полученное количество равно количеству заполненных значений в details (62740). Следовательно, предположение выше верно. И делаем вывод, что details заполнялся только для покупок, чтобы отразить их стоимость. По этой причине с пропусками в столбце details делать ничего не будем.*"
   ]
  },
  {
   "cell_type": "markdown",
   "metadata": {},
   "source": [
    "*Теперь необходимо проверить есть ли в датасете ab_events пользователи, которые пришли после 21.12.20*"
   ]
  },
  {
   "cell_type": "code",
   "execution_count": 21,
   "metadata": {},
   "outputs": [
    {
     "name": "stdout",
     "output_type": "stream",
     "text": [
      "<class 'pandas.core.frame.DataFrame'>\n",
      "Int64Index: 32567 entries, 44368 to 438417\n",
      "Data columns (total 4 columns):\n",
      "user_id       32567 non-null object\n",
      "event_dt      32567 non-null datetime64[ns]\n",
      "event_name    32567 non-null object\n",
      "details       4647 non-null float64\n",
      "dtypes: datetime64[ns](1), float64(1), object(2)\n",
      "memory usage: 1.2+ MB\n"
     ]
    }
   ],
   "source": [
    "#создаем списки id пользователей, которые пришли после 21.12.20\n",
    "users_id_after_21 = list(ab_new_users.query('first_date > \"2020-12-21\"')['user_id'].unique())\n",
    "\n",
    "#проверяем\n",
    "ab_events.query('user_id in@users_id_after_21').info()"
   ]
  },
  {
   "cell_type": "markdown",
   "metadata": {},
   "source": [
    "*Как видим, в датасете ab_events тоже есть пользователи, которые пришли после 21.12.* "
   ]
  },
  {
   "cell_type": "code",
   "execution_count": 22,
   "metadata": {},
   "outputs": [
    {
     "name": "stdout",
     "output_type": "stream",
     "text": [
      "<class 'pandas.core.frame.DataFrame'>\n",
      "Int64Index: 407750 entries, 0 to 440316\n",
      "Data columns (total 4 columns):\n",
      "user_id       407750 non-null object\n",
      "event_dt      407750 non-null datetime64[ns]\n",
      "event_name    407750 non-null object\n",
      "details       58093 non-null float64\n",
      "dtypes: datetime64[ns](1), float64(1), object(2)\n",
      "memory usage: 15.6+ MB\n"
     ]
    }
   ],
   "source": [
    "#создаем датасет с теми, кто пришел до 21.12 включительно\n",
    "ab_events_cleaned = ab_events.query('user_id not in@users_id_after_21').copy()\n",
    "\n",
    "#проверяем\n",
    "ab_events_cleaned.info()"
   ]
  },
  {
   "cell_type": "code",
   "execution_count": 23,
   "metadata": {},
   "outputs": [
    {
     "name": "stdout",
     "output_type": "stream",
     "text": [
      "Количество дубликатов: 0.\n"
     ]
    }
   ],
   "source": [
    "#проверим на дубликаты\n",
    "print(f'Количество дубликатов: {ab_events_cleaned.duplicated().sum()}.')"
   ]
  },
  {
   "cell_type": "code",
   "execution_count": 24,
   "metadata": {},
   "outputs": [
    {
     "name": "stdout",
     "output_type": "stream",
     "text": [
      "Минимальная дата 2020-12-07 00:00:33, максимальная 2020-12-30 23:36:33\n"
     ]
    }
   ],
   "source": [
    "#посмотрим на даты событий\n",
    "print(f\"Минимальная дата {ab_events_cleaned['event_dt'].min()}, максимальная {ab_events_cleaned['event_dt'].max()}\")"
   ]
  },
  {
   "cell_type": "markdown",
   "metadata": {},
   "source": [
    "*Даты укладываются в период, озвученный в задании. Поэтому исключать какие-либо строки не требуется. Но при этом отмечаем, что события перестали фиксироваться 30.12.20, а не 04.01.21 как планировалось.*"
   ]
  },
  {
   "cell_type": "markdown",
   "metadata": {},
   "source": [
    "**Выводы:**\n",
    "1. В данном датасете представлены данные о всех событиях пользователей.\n",
    "2. В столбце details почти 86 % пропусков, однако столбец details заполнялся только для события - покупка, чтобы отразить его стоимость. По этой причине с пропусками в столбце details ничего не делали.\n",
    "3. Создали датасет ab_events_cleaned, из которого убрали тех пользователей, которые пришли после 21.12.20. Кроме того заметили, что события перестали фиксироваться 30.12.20, а не 04.01.21 как планировалось.\n",
    "4. Тип данных во всех 4 столбцах - object. В столбце event_dt хранятся сведения о дате и времени, поэтому данный столбец привели к типу datetime. Остальные столбцы оставили без изменений, т.к. для целей исследования их тип менять не требуется.\n",
    "5. Дубликатов не обнаружено."
   ]
  },
  {
   "cell_type": "markdown",
   "metadata": {},
   "source": [
    "### Датасет ab_participants"
   ]
  },
  {
   "cell_type": "code",
   "execution_count": 25,
   "metadata": {},
   "outputs": [
    {
     "name": "stdout",
     "output_type": "stream",
     "text": [
      "Визуальное ознакомление с датасетом\n"
     ]
    },
    {
     "data": {
      "text/html": [
       "<div>\n",
       "<style scoped>\n",
       "    .dataframe tbody tr th:only-of-type {\n",
       "        vertical-align: middle;\n",
       "    }\n",
       "\n",
       "    .dataframe tbody tr th {\n",
       "        vertical-align: top;\n",
       "    }\n",
       "\n",
       "    .dataframe thead th {\n",
       "        text-align: right;\n",
       "    }\n",
       "</style>\n",
       "<table border=\"1\" class=\"dataframe\">\n",
       "  <thead>\n",
       "    <tr style=\"text-align: right;\">\n",
       "      <th></th>\n",
       "      <th>user_id</th>\n",
       "      <th>group</th>\n",
       "      <th>ab_test</th>\n",
       "    </tr>\n",
       "  </thead>\n",
       "  <tbody>\n",
       "    <tr>\n",
       "      <td>0</td>\n",
       "      <td>D1ABA3E2887B6A73</td>\n",
       "      <td>A</td>\n",
       "      <td>recommender_system_test</td>\n",
       "    </tr>\n",
       "    <tr>\n",
       "      <td>1</td>\n",
       "      <td>A7A3664BD6242119</td>\n",
       "      <td>A</td>\n",
       "      <td>recommender_system_test</td>\n",
       "    </tr>\n",
       "    <tr>\n",
       "      <td>2</td>\n",
       "      <td>DABC14FDDFADD29E</td>\n",
       "      <td>A</td>\n",
       "      <td>recommender_system_test</td>\n",
       "    </tr>\n",
       "    <tr>\n",
       "      <td>3</td>\n",
       "      <td>04988C5DF189632E</td>\n",
       "      <td>A</td>\n",
       "      <td>recommender_system_test</td>\n",
       "    </tr>\n",
       "    <tr>\n",
       "      <td>4</td>\n",
       "      <td>482F14783456D21B</td>\n",
       "      <td>B</td>\n",
       "      <td>recommender_system_test</td>\n",
       "    </tr>\n",
       "  </tbody>\n",
       "</table>\n",
       "</div>"
      ],
      "text/plain": [
       "            user_id group                  ab_test\n",
       "0  D1ABA3E2887B6A73     A  recommender_system_test\n",
       "1  A7A3664BD6242119     A  recommender_system_test\n",
       "2  DABC14FDDFADD29E     A  recommender_system_test\n",
       "3  04988C5DF189632E     A  recommender_system_test\n",
       "4  482F14783456D21B     B  recommender_system_test"
      ]
     },
     "metadata": {},
     "output_type": "display_data"
    },
    {
     "name": "stdout",
     "output_type": "stream",
     "text": [
      "\n",
      "Получение информации о датасете\n"
     ]
    },
    {
     "data": {
      "text/html": [
       "<div>\n",
       "<style scoped>\n",
       "    .dataframe tbody tr th:only-of-type {\n",
       "        vertical-align: middle;\n",
       "    }\n",
       "\n",
       "    .dataframe tbody tr th {\n",
       "        vertical-align: top;\n",
       "    }\n",
       "\n",
       "    .dataframe thead th {\n",
       "        text-align: right;\n",
       "    }\n",
       "</style>\n",
       "<table border=\"1\" class=\"dataframe\">\n",
       "  <thead>\n",
       "    <tr style=\"text-align: right;\">\n",
       "      <th></th>\n",
       "      <th>user_id</th>\n",
       "      <th>group</th>\n",
       "      <th>ab_test</th>\n",
       "    </tr>\n",
       "  </thead>\n",
       "  <tbody>\n",
       "    <tr>\n",
       "      <td>count</td>\n",
       "      <td>18268</td>\n",
       "      <td>18268</td>\n",
       "      <td>18268</td>\n",
       "    </tr>\n",
       "    <tr>\n",
       "      <td>unique</td>\n",
       "      <td>16666</td>\n",
       "      <td>2</td>\n",
       "      <td>2</td>\n",
       "    </tr>\n",
       "    <tr>\n",
       "      <td>top</td>\n",
       "      <td>28F165B39D160BC5</td>\n",
       "      <td>A</td>\n",
       "      <td>interface_eu_test</td>\n",
       "    </tr>\n",
       "    <tr>\n",
       "      <td>freq</td>\n",
       "      <td>2</td>\n",
       "      <td>9655</td>\n",
       "      <td>11567</td>\n",
       "    </tr>\n",
       "  </tbody>\n",
       "</table>\n",
       "</div>"
      ],
      "text/plain": [
       "                 user_id  group            ab_test\n",
       "count              18268  18268              18268\n",
       "unique             16666      2                  2\n",
       "top     28F165B39D160BC5      A  interface_eu_test\n",
       "freq                   2   9655              11567"
      ]
     },
     "metadata": {},
     "output_type": "display_data"
    },
    {
     "name": "stdout",
     "output_type": "stream",
     "text": [
      "\n",
      "<class 'pandas.core.frame.DataFrame'>\n",
      "RangeIndex: 18268 entries, 0 to 18267\n",
      "Data columns (total 3 columns):\n",
      "user_id    18268 non-null object\n",
      "group      18268 non-null object\n",
      "ab_test    18268 non-null object\n",
      "dtypes: object(3)\n",
      "memory usage: 428.3+ KB\n"
     ]
    },
    {
     "data": {
      "text/plain": [
       "None"
      ]
     },
     "metadata": {},
     "output_type": "display_data"
    },
    {
     "name": "stdout",
     "output_type": "stream",
     "text": [
      "\n",
      "Доля пропущенных значений\n"
     ]
    },
    {
     "data": {
      "text/plain": [
       "user_id    0.0\n",
       "group      0.0\n",
       "ab_test    0.0\n",
       "dtype: float64"
      ]
     },
     "metadata": {},
     "output_type": "display_data"
    }
   ],
   "source": [
    "#посмотрим на датасет ab_participants\n",
    "data_info(ab_participants)"
   ]
  },
  {
   "cell_type": "code",
   "execution_count": 26,
   "metadata": {},
   "outputs": [
    {
     "data": {
      "text/plain": [
       "A    9655\n",
       "B    8613\n",
       "Name: group, dtype: int64"
      ]
     },
     "execution_count": 26,
     "metadata": {},
     "output_type": "execute_result"
    }
   ],
   "source": [
    "#проверим уникальные значения в столбце с группами\n",
    "ab_participants['group'].value_counts()"
   ]
  },
  {
   "cell_type": "markdown",
   "metadata": {},
   "source": [
    "*В столбце содержатся только две группы: А и В. Каких-то дополнительных групп, в том числе записанных строчными буквами, нет.*"
   ]
  },
  {
   "cell_type": "code",
   "execution_count": 27,
   "metadata": {},
   "outputs": [
    {
     "data": {
      "text/plain": [
       "interface_eu_test          11567\n",
       "recommender_system_test     6701\n",
       "Name: ab_test, dtype: int64"
      ]
     },
     "execution_count": 27,
     "metadata": {},
     "output_type": "execute_result"
    }
   ],
   "source": [
    "#проверим уникальные значения в столбце с названием теста\n",
    "ab_participants['ab_test'].value_counts()"
   ]
  },
  {
   "cell_type": "markdown",
   "metadata": {},
   "source": [
    "*В столбце имеется кроме интересующего нас теста еще и тест interface_eu_test. Посмотрим, есть ли пользователи, которые проходили и тот, и другой тест.*"
   ]
  },
  {
   "cell_type": "code",
   "execution_count": 28,
   "metadata": {},
   "outputs": [
    {
     "data": {
      "text/plain": [
       "1602"
      ]
     },
     "execution_count": 28,
     "metadata": {},
     "output_type": "execute_result"
    }
   ],
   "source": [
    "#создаем списки id пользователей, которые входили тест. группу интерфейса\n",
    "users_id_interface = list(ab_participants.query('ab_test == \"interface_eu_test\"')['user_id'].unique())\n",
    "\n",
    "#проверяем на пересечение\n",
    "len(ab_participants.query('user_id in@users_id_interface and ab_test == \"recommender_system_test\"')['user_id'].unique())"
   ]
  },
  {
   "cell_type": "markdown",
   "metadata": {},
   "source": [
    "*В переменной users_id_interface хранятся id пользователей, которые прошли тест interface_eu_test. Проверив на пересечение, выявили, что 1 602 пользователя проходило и тот, и другой тест.*"
   ]
  },
  {
   "cell_type": "code",
   "execution_count": 29,
   "metadata": {},
   "outputs": [
    {
     "name": "stdout",
     "output_type": "stream",
     "text": [
      "recommender_system_test    6701\n",
      "Name: ab_test, dtype: int64\n",
      "\n"
     ]
    },
    {
     "data": {
      "text/html": [
       "<div>\n",
       "<style scoped>\n",
       "    .dataframe tbody tr th:only-of-type {\n",
       "        vertical-align: middle;\n",
       "    }\n",
       "\n",
       "    .dataframe tbody tr th {\n",
       "        vertical-align: top;\n",
       "    }\n",
       "\n",
       "    .dataframe thead th {\n",
       "        text-align: right;\n",
       "    }\n",
       "</style>\n",
       "<table border=\"1\" class=\"dataframe\">\n",
       "  <thead>\n",
       "    <tr style=\"text-align: right;\">\n",
       "      <th></th>\n",
       "      <th>user_id</th>\n",
       "      <th>group</th>\n",
       "      <th>ab_test</th>\n",
       "    </tr>\n",
       "  </thead>\n",
       "  <tbody>\n",
       "    <tr>\n",
       "      <td>0</td>\n",
       "      <td>D1ABA3E2887B6A73</td>\n",
       "      <td>A</td>\n",
       "      <td>recommender_system_test</td>\n",
       "    </tr>\n",
       "    <tr>\n",
       "      <td>1</td>\n",
       "      <td>A7A3664BD6242119</td>\n",
       "      <td>A</td>\n",
       "      <td>recommender_system_test</td>\n",
       "    </tr>\n",
       "    <tr>\n",
       "      <td>2</td>\n",
       "      <td>DABC14FDDFADD29E</td>\n",
       "      <td>A</td>\n",
       "      <td>recommender_system_test</td>\n",
       "    </tr>\n",
       "    <tr>\n",
       "      <td>3</td>\n",
       "      <td>04988C5DF189632E</td>\n",
       "      <td>A</td>\n",
       "      <td>recommender_system_test</td>\n",
       "    </tr>\n",
       "    <tr>\n",
       "      <td>4</td>\n",
       "      <td>482F14783456D21B</td>\n",
       "      <td>B</td>\n",
       "      <td>recommender_system_test</td>\n",
       "    </tr>\n",
       "  </tbody>\n",
       "</table>\n",
       "</div>"
      ],
      "text/plain": [
       "            user_id group                  ab_test\n",
       "0  D1ABA3E2887B6A73     A  recommender_system_test\n",
       "1  A7A3664BD6242119     A  recommender_system_test\n",
       "2  DABC14FDDFADD29E     A  recommender_system_test\n",
       "3  04988C5DF189632E     A  recommender_system_test\n",
       "4  482F14783456D21B     B  recommender_system_test"
      ]
     },
     "metadata": {},
     "output_type": "display_data"
    }
   ],
   "source": [
    "#создадим датасет только с тестом recommender_system_test\n",
    "ab_participants_recommender = ab_participants.query('ab_test == \"recommender_system_test\"')\n",
    "\n",
    "#проверяем\n",
    "print(ab_participants_recommender['ab_test'].value_counts())\n",
    "print()\n",
    "display(ab_participants_recommender.head())"
   ]
  },
  {
   "cell_type": "code",
   "execution_count": 30,
   "metadata": {},
   "outputs": [
    {
     "name": "stdout",
     "output_type": "stream",
     "text": [
      "Количество дубликатов: 0.\n"
     ]
    }
   ],
   "source": [
    "#проверим на дубликаты\n",
    "print(f'Количество дубликатов: {ab_participants_recommender.duplicated().sum()}.')"
   ]
  },
  {
   "cell_type": "markdown",
   "metadata": {},
   "source": [
    "**Выводы:**\n",
    "1. В данном датасете представлены данные об участниках теста.\n",
    "2. В столбце ab_test имеется кроме интересующего нас теста еще и тест interface_eu_test. Кроме того, есть 1 602 пользователя, которые принимали участие в обоих тестах.\n",
    "3. Создали датасет ab_participants_recommender, в котором оставили только тех пользователей, которые прошли recommender_system_test.\n",
    "4. Тип данных во всех 3 столбцах - object. Оставили его без изменений, т.к. для целей исследования их тип менять не требуется.\n",
    "5. Дубликатов и пропусков нет."
   ]
  },
  {
   "cell_type": "markdown",
   "metadata": {},
   "source": [
    "### Выводы к шагу 1"
   ]
  },
  {
   "cell_type": "markdown",
   "metadata": {},
   "source": [
    "1. Для региона EU одно маркетинговое событие проходило в тоже время, что и А/В-тест: Christmas&New Year Promo с 25.12.20 по 03.01.21.\n",
    "2. По заданию набор пользователей должен был быть остановлен 21.12.20, но в данных есть пользователи, зарегистрировавшиеся 23.12.20. Поэтому создан срез ab_new_users_cleaned, в котором только пользователи до 21.12.20. Также был создан датасет для пользователей из EU - ab_new_users_cleaned_EU.  \n",
    "3. Столбцы с датами привели к типу datetime. Остальные столбцы оставили без изменений, т.к. для целей исследования их тип менять не требуется.\n",
    "4. Столбец details заполнялся только для события - покупка, чтобы отразить его стоимость. По этой причине с пропусками в столбце details ничего не делали.\n",
    "5. Создали датасет ab_events_cleaned, из которого убрали тех пользователей, которые пришли после 21.12.20. Кроме того заметили, что события перестали фиксироваться 30.12.20, а не 04.01.21 как планировалось.\n",
    "6. В столбце ab_test имеется кроме интересующего нас теста еще и тест interface_eu_test. Кроме того, есть 1 602 пользователя, которые принимали участие в обоих тестах.\n",
    "7. Создали датасет ab_participants_recommender, в котором оставили только тех пользователей, которые прошли тест  recommender_system_test.\n",
    "8. Дубликатов в датасетах не обнаружено."
   ]
  },
  {
   "cell_type": "markdown",
   "metadata": {},
   "source": [
    " <a id=\"analyzing\"></a>\n",
    "## Исследовательский анализ "
   ]
  },
  {
   "cell_type": "markdown",
   "metadata": {},
   "source": [
    "### Поиск аномалий в сумме покупок"
   ]
  },
  {
   "cell_type": "markdown",
   "metadata": {},
   "source": [
    "*Посмотрим есть ли аномалии в данных о покупках.*"
   ]
  },
  {
   "cell_type": "code",
   "execution_count": 31,
   "metadata": {},
   "outputs": [
    {
     "data": {
      "text/plain": [
       "<matplotlib.axes._subplots.AxesSubplot at 0x7fecda44edd0>"
      ]
     },
     "execution_count": 31,
     "metadata": {},
     "output_type": "execute_result"
    },
    {
     "data": {
      "image/png": "[encoded data removed]",
      "text/plain": [
       "<Figure size 504x504 with 1 Axes>"
      ]
     },
     "metadata": {
      "needs_background": "light"
     },
     "output_type": "display_data"
    }
   ],
   "source": [
    "#построим боксплот\n",
    "ab_events_cleaned.boxplot(column='details', figsize=(7, 7))"
   ]
  },
  {
   "cell_type": "markdown",
   "metadata": {},
   "source": [
    "*Видим выдающиеся значения в районе 100 и 500.*"
   ]
  },
  {
   "cell_type": "code",
   "execution_count": 32,
   "metadata": {},
   "outputs": [
    {
     "name": "stdout",
     "output_type": "stream",
     "text": [
      "[ 99.99 499.99]\n"
     ]
    }
   ],
   "source": [
    "#найдем перцентили для покупок\n",
    "print(np.percentile(ab_events_cleaned.loc[ab_events_cleaned['details'].notnull(), ['details']], [95, 99]))"
   ]
  },
  {
   "cell_type": "markdown",
   "metadata": {},
   "source": [
    "*Глядя на перецентили видим, что 5 процентов значений о покупках больше 99.99 и 1 процент больше 499.99.*"
   ]
  },
  {
   "cell_type": "code",
   "execution_count": 33,
   "metadata": {},
   "outputs": [
    {
     "data": {
      "text/plain": [
       "<matplotlib.collections.PathCollection at 0x7fecda8a6310>"
      ]
     },
     "execution_count": 33,
     "metadata": {},
     "output_type": "execute_result"
    },
    {
     "data": {
      "image/png": "[encoded data removed]",
      "text/plain": [
       "<Figure size 432x288 with 1 Axes>"
      ]
     },
     "metadata": {
      "needs_background": "light"
     },
     "output_type": "display_data"
    }
   ],
   "source": [
    "#создаем структуру Series с количеством значений для оси Х\n",
    "x_values = pd.Series(range(0, len(ab_events_cleaned.loc[ab_events_cleaned['details'].notnull()])))\n",
    "\n",
    "#строим точечный график\n",
    "plt.scatter(x_values, ab_events_cleaned.loc[ab_events_cleaned['details'].notnull(), ['details']])"
   ]
  },
  {
   "cell_type": "code",
   "execution_count": 34,
   "metadata": {},
   "outputs": [
    {
     "data": {
      "text/plain": [
       "6337"
      ]
     },
     "execution_count": 34,
     "metadata": {},
     "output_type": "execute_result"
    }
   ],
   "source": [
    "#смотрим на общее количество покупок более 99\n",
    "len(ab_events_cleaned.query('details > 99'))"
   ]
  },
  {
   "cell_type": "markdown",
   "metadata": {},
   "source": [
    "*Достаточно большое количество покупок по размеру суммы приходится на выдающиеся значения более 99 - около 6 337. Это почти 10 % информации о покупках. Это могут быть как выбросы, так и категории товаров с достаточно высокой ценой. В задании исследуется конверсия и количество покупок, а не сумма, поэтому эти значения оставляем как есть. Но если требуется найти различия в суммах покупок, то такие значения придется дополнительно изучить и на основании этого принимать решение, что с ними делать.*"
   ]
  },
  {
   "cell_type": "markdown",
   "metadata": {},
   "source": [
    "### Проверка групп на пересечение и необходимого количества пользователей  "
   ]
  },
  {
   "cell_type": "markdown",
   "metadata": {},
   "source": [
    "*Создаем списки id пользователей из EU, а также тех, кто принадлежит разным группам теста*"
   ]
  },
  {
   "cell_type": "code",
   "execution_count": 35,
   "metadata": {},
   "outputs": [],
   "source": [
    "#создаем списки id пользователей из EU\n",
    "new_users_id_EU = list(ab_new_users_cleaned_EU['user_id'].unique())\n",
    "\n",
    "#оставляем в датасете с событиями только пользователей из EU\n",
    "ab_events_cleaned_EU = ab_events_cleaned.query('user_id in @new_users_id_EU').copy()\n",
    "\n",
    "#оставляем в датасете с группами тестируемых только пользователей из EU\n",
    "ab_participants_recommender_EU = ab_participants_recommender.query('user_id in @new_users_id_EU').copy()\n",
    "\n",
    "#составляем список id тех, кто относится к группе А\n",
    "ab_participants_id_A = list(ab_participants_recommender_EU.query('group == \"A\"')['user_id'].unique())\n",
    "\n",
    "#составляем список id тех, кто относится к группе В\n",
    "ab_participants_id_B = list(ab_participants_recommender_EU.query('group == \"B\"')['user_id'].unique())"
   ]
  },
  {
   "cell_type": "markdown",
   "metadata": {},
   "source": [
    "*Создадим датасет, где будут только пользователи, которые совершали события в течение 14 дней с регистрации, и список с именами их ID.*"
   ]
  },
  {
   "cell_type": "code",
   "execution_count": 36,
   "metadata": {},
   "outputs": [
    {
     "name": "stdout",
     "output_type": "stream",
     "text": [
      "<class 'pandas.core.frame.DataFrame'>\n",
      "Int64Index: 6096 entries, 0 to 6350\n",
      "Data columns (total 4 columns):\n",
      "user_id            6096 non-null object\n",
      "first_date         6096 non-null datetime64[ns]\n",
      "max_date           6096 non-null datetime64[ns]\n",
      "date_difference    6096 non-null timedelta64[ns]\n",
      "dtypes: datetime64[ns](2), object(1), timedelta64[ns](1)\n",
      "memory usage: 238.1+ KB\n"
     ]
    }
   ],
   "source": [
    "#добавим столбец с датой в ab_events_cleaned_EU\n",
    "ab_events_cleaned_EU['date'] = pd.to_datetime(ab_events_cleaned_EU['event_dt'].dt.date)\n",
    "\n",
    "#создаем датасет с первыми регистрациями пользователей, прошедших тест recommender\n",
    "ab_new_users_recommender_EU = ab_new_users_cleaned_EU.\\\n",
    "query('user_id in @ab_participants_id_A or user_id in @ab_participants_id_B').copy()\n",
    "\n",
    "#убираем ненужные колонки\n",
    "ab_new_users_recommender_EU.drop(columns=['region', 'device'], inplace=True)\n",
    "\n",
    "#найдем последнюю дату для каждого пользователя (для этого группируем по пользователю ab_events_cleaned_EU)\n",
    "max_date = ab_events_cleaned_EU.groupby('user_id', as_index=False)['date'].max().\\\n",
    "rename(columns={\"date\": \"max_date\"})\n",
    "\n",
    "#создаем датасет, в котором будет хранится разница между первым и последним действием пользователя\n",
    "date_difference = ab_new_users_recommender_EU.merge(max_date, how='left', on='user_id')\n",
    "\n",
    "#заполняем пропуски (пропуски у тех, кто не совершал больше одного события), указывая дату старта теста\n",
    "date_difference[\"max_date\"] = date_difference[\"max_date\"].fillna('2020-12-07')\n",
    "\n",
    "#приводим формат столбца к datetime\n",
    "date_difference[\"max_date\"] = pd.to_datetime(date_difference[\"max_date\"], format='%Y-%m-%d')\n",
    "\n",
    "#находим разницу между макс. и перв. датой\n",
    "date_difference['date_difference'] = date_difference['max_date'] - date_difference['first_date']\n",
    "\n",
    "#делаем срез, где будет только пользователи у которых прошло 14 дней между 1 и последним действием\n",
    "date_difference_only_14_days = date_difference.query('date_difference <= \"14 days\"')\n",
    "\n",
    "#проверяем\n",
    "date_difference_only_14_days.info()\n",
    "\n",
    "#делаем список Id для пользователей из date_difference_only_14_days\n",
    "id_only_14_days = list(date_difference_only_14_days['user_id'].unique())"
   ]
  },
  {
   "cell_type": "markdown",
   "metadata": {},
   "source": [
    "*Промаркируем пользователей в датасете с событиями на принадлежность к группе А и В.*"
   ]
  },
  {
   "cell_type": "code",
   "execution_count": 37,
   "metadata": {},
   "outputs": [
    {
     "data": {
      "text/html": [
       "<div>\n",
       "<style scoped>\n",
       "    .dataframe tbody tr th:only-of-type {\n",
       "        vertical-align: middle;\n",
       "    }\n",
       "\n",
       "    .dataframe tbody tr th {\n",
       "        vertical-align: top;\n",
       "    }\n",
       "\n",
       "    .dataframe thead th {\n",
       "        text-align: right;\n",
       "    }\n",
       "</style>\n",
       "<table border=\"1\" class=\"dataframe\">\n",
       "  <thead>\n",
       "    <tr style=\"text-align: right;\">\n",
       "      <th></th>\n",
       "      <th>user_id</th>\n",
       "      <th>event_dt</th>\n",
       "      <th>event_name</th>\n",
       "      <th>details</th>\n",
       "      <th>date</th>\n",
       "      <th>group</th>\n",
       "    </tr>\n",
       "  </thead>\n",
       "  <tbody>\n",
       "    <tr>\n",
       "      <td>1</td>\n",
       "      <td>7B6452F081F49504</td>\n",
       "      <td>2020-12-07 09:22:53</td>\n",
       "      <td>purchase</td>\n",
       "      <td>9.99</td>\n",
       "      <td>2020-12-07</td>\n",
       "      <td>Others</td>\n",
       "    </tr>\n",
       "    <tr>\n",
       "      <td>3</td>\n",
       "      <td>96F27A054B191457</td>\n",
       "      <td>2020-12-07 04:02:40</td>\n",
       "      <td>purchase</td>\n",
       "      <td>4.99</td>\n",
       "      <td>2020-12-07</td>\n",
       "      <td>Others</td>\n",
       "    </tr>\n",
       "    <tr>\n",
       "      <td>4</td>\n",
       "      <td>1FD7660FDF94CA1F</td>\n",
       "      <td>2020-12-07 10:15:09</td>\n",
       "      <td>purchase</td>\n",
       "      <td>4.99</td>\n",
       "      <td>2020-12-07</td>\n",
       "      <td>Others</td>\n",
       "    </tr>\n",
       "    <tr>\n",
       "      <td>5</td>\n",
       "      <td>831887FE7F2D6CBA</td>\n",
       "      <td>2020-12-07 06:50:29</td>\n",
       "      <td>purchase</td>\n",
       "      <td>4.99</td>\n",
       "      <td>2020-12-07</td>\n",
       "      <td>A</td>\n",
       "    </tr>\n",
       "    <tr>\n",
       "      <td>6</td>\n",
       "      <td>6B2F726BFD5F8220</td>\n",
       "      <td>2020-12-07 11:27:42</td>\n",
       "      <td>purchase</td>\n",
       "      <td>4.99</td>\n",
       "      <td>2020-12-07</td>\n",
       "      <td>Others</td>\n",
       "    </tr>\n",
       "  </tbody>\n",
       "</table>\n",
       "</div>"
      ],
      "text/plain": [
       "            user_id            event_dt event_name  details       date   group\n",
       "1  7B6452F081F49504 2020-12-07 09:22:53   purchase     9.99 2020-12-07  Others\n",
       "3  96F27A054B191457 2020-12-07 04:02:40   purchase     4.99 2020-12-07  Others\n",
       "4  1FD7660FDF94CA1F 2020-12-07 10:15:09   purchase     4.99 2020-12-07  Others\n",
       "5  831887FE7F2D6CBA 2020-12-07 06:50:29   purchase     4.99 2020-12-07       A\n",
       "6  6B2F726BFD5F8220 2020-12-07 11:27:42   purchase     4.99 2020-12-07  Others"
      ]
     },
     "metadata": {},
     "output_type": "display_data"
    },
    {
     "name": "stdout",
     "output_type": "stream",
     "text": [
      "<class 'pandas.core.frame.DataFrame'>\n",
      "Int64Index: 302653 entries, 1 to 440316\n",
      "Data columns (total 6 columns):\n",
      "user_id       302653 non-null object\n",
      "event_dt      302653 non-null datetime64[ns]\n",
      "event_name    302653 non-null object\n",
      "details       44918 non-null float64\n",
      "date          302653 non-null datetime64[ns]\n",
      "group         302653 non-null object\n",
      "dtypes: datetime64[ns](2), float64(1), object(3)\n",
      "memory usage: 16.2+ MB\n"
     ]
    },
    {
     "data": {
      "text/plain": [
       "None"
      ]
     },
     "metadata": {},
     "output_type": "display_data"
    },
    {
     "data": {
      "text/plain": [
       "Others    281331\n",
       "A          17105\n",
       "B           4217\n",
       "Name: group, dtype: int64"
      ]
     },
     "metadata": {},
     "output_type": "display_data"
    }
   ],
   "source": [
    "#напишем функцию для маркировки к какой группе (А или В) принадлежит пользователь\n",
    "def ab_marker(data):\n",
    "    if data['user_id'] in id_only_14_days and data['user_id'] in ab_participants_id_A:\n",
    "        return 'A'\n",
    "    elif data['user_id'] in id_only_14_days and data['user_id'] in ab_participants_id_B:\n",
    "        return 'B'\n",
    "    else:\n",
    "        return 'Others'\n",
    "#добавим столбец с обозначением группы и с датой\n",
    "ab_events_cleaned_EU['group'] = ab_events_cleaned_EU.apply(ab_marker, axis=1)\n",
    "\n",
    "#проверяем\n",
    "display(ab_events_cleaned_EU.head())\n",
    "display(ab_events_cleaned_EU.info())\n",
    "display(ab_events_cleaned_EU['group'].value_counts())"
   ]
  },
  {
   "cell_type": "code",
   "execution_count": 38,
   "metadata": {},
   "outputs": [
    {
     "data": {
      "text/html": [
       "<div>\n",
       "<style scoped>\n",
       "    .dataframe tbody tr th:only-of-type {\n",
       "        vertical-align: middle;\n",
       "    }\n",
       "\n",
       "    .dataframe tbody tr th {\n",
       "        vertical-align: top;\n",
       "    }\n",
       "\n",
       "    .dataframe thead th {\n",
       "        text-align: right;\n",
       "    }\n",
       "</style>\n",
       "<table border=\"1\" class=\"dataframe\">\n",
       "  <thead>\n",
       "    <tr style=\"text-align: right;\">\n",
       "      <th></th>\n",
       "      <th>user_id</th>\n",
       "      <th>event_dt</th>\n",
       "      <th>event_name</th>\n",
       "      <th>details</th>\n",
       "      <th>date</th>\n",
       "      <th>group</th>\n",
       "    </tr>\n",
       "  </thead>\n",
       "  <tbody>\n",
       "    <tr>\n",
       "      <td>5</td>\n",
       "      <td>831887FE7F2D6CBA</td>\n",
       "      <td>2020-12-07 06:50:29</td>\n",
       "      <td>purchase</td>\n",
       "      <td>4.99</td>\n",
       "      <td>2020-12-07</td>\n",
       "      <td>A</td>\n",
       "    </tr>\n",
       "    <tr>\n",
       "      <td>17</td>\n",
       "      <td>3C5DD0288AC4FE23</td>\n",
       "      <td>2020-12-07 19:42:40</td>\n",
       "      <td>purchase</td>\n",
       "      <td>4.99</td>\n",
       "      <td>2020-12-07</td>\n",
       "      <td>A</td>\n",
       "    </tr>\n",
       "    <tr>\n",
       "      <td>93</td>\n",
       "      <td>2F46396B6766CFDB</td>\n",
       "      <td>2020-12-07 13:29:30</td>\n",
       "      <td>purchase</td>\n",
       "      <td>4.99</td>\n",
       "      <td>2020-12-07</td>\n",
       "      <td>A</td>\n",
       "    </tr>\n",
       "    <tr>\n",
       "      <td>246</td>\n",
       "      <td>2828E6688DC580C4</td>\n",
       "      <td>2020-12-07 11:43:42</td>\n",
       "      <td>purchase</td>\n",
       "      <td>4.99</td>\n",
       "      <td>2020-12-07</td>\n",
       "      <td>A</td>\n",
       "    </tr>\n",
       "    <tr>\n",
       "      <td>287</td>\n",
       "      <td>A1550AF89E314963</td>\n",
       "      <td>2020-12-07 01:22:52</td>\n",
       "      <td>purchase</td>\n",
       "      <td>4.99</td>\n",
       "      <td>2020-12-07</td>\n",
       "      <td>A</td>\n",
       "    </tr>\n",
       "  </tbody>\n",
       "</table>\n",
       "</div>"
      ],
      "text/plain": [
       "              user_id            event_dt event_name  details       date group\n",
       "5    831887FE7F2D6CBA 2020-12-07 06:50:29   purchase     4.99 2020-12-07     A\n",
       "17   3C5DD0288AC4FE23 2020-12-07 19:42:40   purchase     4.99 2020-12-07     A\n",
       "93   2F46396B6766CFDB 2020-12-07 13:29:30   purchase     4.99 2020-12-07     A\n",
       "246  2828E6688DC580C4 2020-12-07 11:43:42   purchase     4.99 2020-12-07     A\n",
       "287  A1550AF89E314963 2020-12-07 01:22:52   purchase     4.99 2020-12-07     A"
      ]
     },
     "metadata": {},
     "output_type": "display_data"
    },
    {
     "data": {
      "text/plain": [
       "A    17105\n",
       "Name: group, dtype: int64"
      ]
     },
     "metadata": {},
     "output_type": "display_data"
    },
    {
     "name": "stdout",
     "output_type": "stream",
     "text": [
      "\n"
     ]
    },
    {
     "data": {
      "text/html": [
       "<div>\n",
       "<style scoped>\n",
       "    .dataframe tbody tr th:only-of-type {\n",
       "        vertical-align: middle;\n",
       "    }\n",
       "\n",
       "    .dataframe tbody tr th {\n",
       "        vertical-align: top;\n",
       "    }\n",
       "\n",
       "    .dataframe thead th {\n",
       "        text-align: right;\n",
       "    }\n",
       "</style>\n",
       "<table border=\"1\" class=\"dataframe\">\n",
       "  <thead>\n",
       "    <tr style=\"text-align: right;\">\n",
       "      <th></th>\n",
       "      <th>user_id</th>\n",
       "      <th>event_dt</th>\n",
       "      <th>event_name</th>\n",
       "      <th>details</th>\n",
       "      <th>date</th>\n",
       "      <th>group</th>\n",
       "    </tr>\n",
       "  </thead>\n",
       "  <tbody>\n",
       "    <tr>\n",
       "      <td>58</td>\n",
       "      <td>49EA242586C87836</td>\n",
       "      <td>2020-12-07 06:31:24</td>\n",
       "      <td>purchase</td>\n",
       "      <td>99.99</td>\n",
       "      <td>2020-12-07</td>\n",
       "      <td>B</td>\n",
       "    </tr>\n",
       "    <tr>\n",
       "      <td>74</td>\n",
       "      <td>A640F31CAC7823A6</td>\n",
       "      <td>2020-12-07 18:48:26</td>\n",
       "      <td>purchase</td>\n",
       "      <td>4.99</td>\n",
       "      <td>2020-12-07</td>\n",
       "      <td>B</td>\n",
       "    </tr>\n",
       "    <tr>\n",
       "      <td>118</td>\n",
       "      <td>A9908F62C41613A8</td>\n",
       "      <td>2020-12-07 11:26:47</td>\n",
       "      <td>purchase</td>\n",
       "      <td>9.99</td>\n",
       "      <td>2020-12-07</td>\n",
       "      <td>B</td>\n",
       "    </tr>\n",
       "    <tr>\n",
       "      <td>146</td>\n",
       "      <td>0997EC1C4850B27B</td>\n",
       "      <td>2020-12-07 08:01:55</td>\n",
       "      <td>purchase</td>\n",
       "      <td>4.99</td>\n",
       "      <td>2020-12-07</td>\n",
       "      <td>B</td>\n",
       "    </tr>\n",
       "    <tr>\n",
       "      <td>155</td>\n",
       "      <td>C7CB2F1BA42F102B</td>\n",
       "      <td>2020-12-07 03:05:05</td>\n",
       "      <td>purchase</td>\n",
       "      <td>99.99</td>\n",
       "      <td>2020-12-07</td>\n",
       "      <td>B</td>\n",
       "    </tr>\n",
       "  </tbody>\n",
       "</table>\n",
       "</div>"
      ],
      "text/plain": [
       "              user_id            event_dt event_name  details       date group\n",
       "58   49EA242586C87836 2020-12-07 06:31:24   purchase    99.99 2020-12-07     B\n",
       "74   A640F31CAC7823A6 2020-12-07 18:48:26   purchase     4.99 2020-12-07     B\n",
       "118  A9908F62C41613A8 2020-12-07 11:26:47   purchase     9.99 2020-12-07     B\n",
       "146  0997EC1C4850B27B 2020-12-07 08:01:55   purchase     4.99 2020-12-07     B\n",
       "155  C7CB2F1BA42F102B 2020-12-07 03:05:05   purchase    99.99 2020-12-07     B"
      ]
     },
     "metadata": {},
     "output_type": "display_data"
    },
    {
     "data": {
      "text/plain": [
       "B    4217\n",
       "Name: group, dtype: int64"
      ]
     },
     "metadata": {},
     "output_type": "display_data"
    }
   ],
   "source": [
    "#создаем отдельные датасеты для каждой группы\n",
    "group_a = ab_events_cleaned_EU.query('group == \"A\"').copy()\n",
    "group_b = ab_events_cleaned_EU.query('group == \"B\"').copy()\n",
    "\n",
    "#проверяем\n",
    "display(group_a.head())\n",
    "display(group_a['group'].value_counts())\n",
    "print()\n",
    "display(group_b.head())\n",
    "display(group_b['group'].value_counts())"
   ]
  },
  {
   "cell_type": "code",
   "execution_count": 39,
   "metadata": {},
   "outputs": [
    {
     "data": {
      "text/plain": [
       "0"
      ]
     },
     "execution_count": 39,
     "metadata": {},
     "output_type": "execute_result"
    }
   ],
   "source": [
    "#создаем списки id пользователей, которые входили тест. группу B\n",
    "users_id_group_b = list(group_b['user_id'].unique())\n",
    "\n",
    "#проверяем на пересечение\n",
    "len(group_a.query('user_id in@users_id_group_b')['user_id'].unique())"
   ]
  },
  {
   "cell_type": "markdown",
   "metadata": {},
   "source": [
    "*Пересечений не найдено.*"
   ]
  },
  {
   "cell_type": "code",
   "execution_count": 40,
   "metadata": {},
   "outputs": [
    {
     "name": "stdout",
     "output_type": "stream",
     "text": [
      "Процент пользователей из EU, принявших участие в тесте: 14.4%\n"
     ]
    }
   ],
   "source": [
    "#считаем процент пользователей из региона EU, участвовавших в тесте и у которых прошло 14 дней с регистрации\n",
    "print(\"Процент пользователей из EU, принявших участие в тесте: {:.1%}\".\\\n",
    "      format(date_difference_only_14_days['user_id'].nunique() / ab_new_users_cleaned_EU['user_id'].nunique()))"
   ]
  },
  {
   "cell_type": "code",
   "execution_count": 41,
   "metadata": {},
   "outputs": [
    {
     "name": "stdout",
     "output_type": "stream",
     "text": [
      "Количество пользователей из EU, принявших участие в тесте: 6096\n"
     ]
    }
   ],
   "source": [
    "#считаем количество пользователей из региона EU, участвовавших в тесте и у которых прошло 14 дней с регистрации\n",
    "print(\"Количество пользователей из EU, принявших участие в тесте: {}\".\\\n",
    "      format(date_difference_only_14_days['user_id'].nunique()))"
   ]
  },
  {
   "cell_type": "markdown",
   "metadata": {},
   "source": [
    "*Видим, что в тесте приняли участие 14.4%, что на 0.6% меньше, чем в задании.*  \n",
    "*Получили результат - в тесте приняли участие 6 096 пользователь из EU, т.е. задание в этой части соблюдается.*"
   ]
  },
  {
   "cell_type": "markdown",
   "metadata": {},
   "source": [
    "### Распределение событий по дням"
   ]
  },
  {
   "cell_type": "code",
   "execution_count": 42,
   "metadata": {},
   "outputs": [
    {
     "data": {
      "image/png": "[encoded data removed]",
      "text/plain": [
       "<Figure size 864x576 with 1 Axes>"
      ]
     },
     "metadata": {
      "needs_background": "light"
     },
     "output_type": "display_data"
    }
   ],
   "source": [
    "#строим график по дням и по количеству определенных событий\n",
    "ab_events_cleaned_EU.pivot_table(index='date', columns='group', values='event_name', aggfunc='count').plot(figsize=(12, 8), grid=True)\n",
    "plt.title('Распределение по дням и по количеству событий для каждой из групп')\n",
    "plt.ylabel('Количество событий в шт.')\n",
    "plt.xlabel('Даты')\n",
    "plt.show()\n"
   ]
  },
  {
   "cell_type": "markdown",
   "metadata": {},
   "source": [
    "*На общем графике заметен рост активности пользователей групп А и В в период с 13 по 21 декабря. При этом показатели группы А выше, чем у группы В.*"
   ]
  },
  {
   "cell_type": "code",
   "execution_count": 43,
   "metadata": {},
   "outputs": [
    {
     "data": {
      "image/png": "[encoded data removed]",
      "text/plain": [
       "<Figure size 864x576 with 1 Axes>"
      ]
     },
     "metadata": {
      "needs_background": "light"
     },
     "output_type": "display_data"
    }
   ],
   "source": [
    "#строим график по дням и по событиям группы А\n",
    "group_a.pivot_table(index='date', columns='event_name', values='event_dt', aggfunc='count').plot(figsize=(12, 8), grid=True)\n",
    "plt.title('Распределение по дням и по событиям для группы А')\n",
    "plt.ylabel('Количество событий в шт.')\n",
    "plt.xlabel('Даты')\n",
    "plt.show()"
   ]
  },
  {
   "cell_type": "markdown",
   "metadata": {},
   "source": [
    "*Для группы А заметно два резких подъема: с 13 по 14 декабря и с 20 по 21 декабря. При этом рост был непрерывным с 16 по 21 декабря. После 21 декабря наблюдается резкий и постоянный спад.*"
   ]
  },
  {
   "cell_type": "code",
   "execution_count": 44,
   "metadata": {},
   "outputs": [
    {
     "data": {
      "image/png": "[encoded data removed]",
      "text/plain": [
       "<Figure size 864x576 with 1 Axes>"
      ]
     },
     "metadata": {
      "needs_background": "light"
     },
     "output_type": "display_data"
    }
   ],
   "source": [
    "#строим график по дням и по событиям группы В\n",
    "group_b.pivot_table(index='date', columns='event_name', values='event_dt', aggfunc='count').plot(figsize=(12, 8), grid=True)\n",
    "plt.title('Распределение по дням и по событиям для группы B')\n",
    "plt.ylabel('Количество событий в шт.')\n",
    "plt.xlabel('Даты')\n",
    "plt.show()"
   ]
  },
  {
   "cell_type": "markdown",
   "metadata": {},
   "source": [
    "*Для группы В поведение пользователей отличается. График более импульсивный. Видим много пиков и спадов. Самыми заметными являются: с 08 по 09, с 15 на 16 и с 20 на 21. Но после 21 декабря также наблюдается резкий спад. Правда для событий purchase, product cart и product page c 26.12 наблюдается незначительный подъем, который длится 2 дня. По срокам это совпадает с  проводимой акцией, возможно этим и обусловлен подъем.*  \n",
    "*Судя по всем графикам, можно сделать следующий вывод: 1) на наиболее активный период (13-21 декабря) могло повлиять то, что жители европейской зоны активно совершали покупки перед рождественскими праздниками; 2) действия пользователей из группы В были более импульсивными, чем пользователей из группы А; 3) скорее всего маркетинговое событие Christmas&New Year Promo, которое действовало с  25.12.20 по 03.01.21, могло повлиять на поведение пользователей из группы В в период с 26 по 28 декабря.*"
   ]
  },
  {
   "cell_type": "markdown",
   "metadata": {},
   "source": [
    "### Построение воронок и нахождение конверсии"
   ]
  },
  {
   "cell_type": "code",
   "execution_count": 45,
   "metadata": {},
   "outputs": [],
   "source": [
    "#создадим датасет, напротив каждого пользователя будет название группы\n",
    "users_14_days_with_groups = date_difference_only_14_days.merge(ab_participants_recommender_EU, how='left', on='user_id')"
   ]
  },
  {
   "cell_type": "code",
   "execution_count": 46,
   "metadata": {},
   "outputs": [
    {
     "data": {
      "text/html": [
       "<div>\n",
       "<style scoped>\n",
       "    .dataframe tbody tr th:only-of-type {\n",
       "        vertical-align: middle;\n",
       "    }\n",
       "\n",
       "    .dataframe tbody tr th {\n",
       "        vertical-align: top;\n",
       "    }\n",
       "\n",
       "    .dataframe thead th {\n",
       "        text-align: right;\n",
       "    }\n",
       "</style>\n",
       "<table border=\"1\" class=\"dataframe\">\n",
       "  <thead>\n",
       "    <tr style=\"text-align: right;\">\n",
       "      <th></th>\n",
       "      <th>event_name</th>\n",
       "      <th>users_number</th>\n",
       "      <th>ratio</th>\n",
       "    </tr>\n",
       "  </thead>\n",
       "  <tbody>\n",
       "    <tr>\n",
       "      <td>4</td>\n",
       "      <td>registrations</td>\n",
       "      <td>3488</td>\n",
       "      <td>1.00</td>\n",
       "    </tr>\n",
       "    <tr>\n",
       "      <td>0</td>\n",
       "      <td>login</td>\n",
       "      <td>2458</td>\n",
       "      <td>0.70</td>\n",
       "    </tr>\n",
       "    <tr>\n",
       "      <td>2</td>\n",
       "      <td>product_page</td>\n",
       "      <td>1590</td>\n",
       "      <td>0.46</td>\n",
       "    </tr>\n",
       "    <tr>\n",
       "      <td>3</td>\n",
       "      <td>purchase</td>\n",
       "      <td>798</td>\n",
       "      <td>0.23</td>\n",
       "    </tr>\n",
       "    <tr>\n",
       "      <td>1</td>\n",
       "      <td>product_cart</td>\n",
       "      <td>748</td>\n",
       "      <td>0.21</td>\n",
       "    </tr>\n",
       "  </tbody>\n",
       "</table>\n",
       "</div>"
      ],
      "text/plain": [
       "      event_name  users_number  ratio\n",
       "4  registrations          3488   1.00\n",
       "0          login          2458   0.70\n",
       "2   product_page          1590   0.46\n",
       "3       purchase           798   0.23\n",
       "1   product_cart           748   0.21"
      ]
     },
     "metadata": {},
     "output_type": "display_data"
    }
   ],
   "source": [
    "#построим воронку для группы А\n",
    "funnel_A = group_a.groupby('event_name', as_index=False).agg({'user_id': 'nunique'}).\\\n",
    "rename(columns={\"user_id\": \"users_number\"})\n",
    "\n",
    "#добавим в датафрейм данные по регистрациям, как 1 этап воронки\n",
    "funnel_A.loc[4] = ['registrations', len(users_14_days_with_groups.query('group == \"A\"'))]\n",
    "\n",
    "#найдем долю\n",
    "funnel_A['ratio'] = round(funnel_A['users_number'] / len(users_14_days_with_groups.query('group == \"A\"')), 2)\n",
    "\n",
    "display(funnel_A.sort_values(by='users_number', ascending=False))"
   ]
  },
  {
   "cell_type": "code",
   "execution_count": 47,
   "metadata": {},
   "outputs": [
    {
     "data": {
      "text/html": [
       "<div>\n",
       "<style scoped>\n",
       "    .dataframe tbody tr th:only-of-type {\n",
       "        vertical-align: middle;\n",
       "    }\n",
       "\n",
       "    .dataframe tbody tr th {\n",
       "        vertical-align: top;\n",
       "    }\n",
       "\n",
       "    .dataframe thead th {\n",
       "        text-align: right;\n",
       "    }\n",
       "</style>\n",
       "<table border=\"1\" class=\"dataframe\">\n",
       "  <thead>\n",
       "    <tr style=\"text-align: right;\">\n",
       "      <th></th>\n",
       "      <th>event_name</th>\n",
       "      <th>users_number</th>\n",
       "      <th>ratio</th>\n",
       "    </tr>\n",
       "  </thead>\n",
       "  <tbody>\n",
       "    <tr>\n",
       "      <td>4</td>\n",
       "      <td>registrations</td>\n",
       "      <td>2608</td>\n",
       "      <td>1.00</td>\n",
       "    </tr>\n",
       "    <tr>\n",
       "      <td>0</td>\n",
       "      <td>login</td>\n",
       "      <td>768</td>\n",
       "      <td>0.29</td>\n",
       "    </tr>\n",
       "    <tr>\n",
       "      <td>2</td>\n",
       "      <td>product_page</td>\n",
       "      <td>432</td>\n",
       "      <td>0.17</td>\n",
       "    </tr>\n",
       "    <tr>\n",
       "      <td>3</td>\n",
       "      <td>purchase</td>\n",
       "      <td>220</td>\n",
       "      <td>0.08</td>\n",
       "    </tr>\n",
       "    <tr>\n",
       "      <td>1</td>\n",
       "      <td>product_cart</td>\n",
       "      <td>218</td>\n",
       "      <td>0.08</td>\n",
       "    </tr>\n",
       "  </tbody>\n",
       "</table>\n",
       "</div>"
      ],
      "text/plain": [
       "      event_name  users_number  ratio\n",
       "4  registrations          2608   1.00\n",
       "0          login           768   0.29\n",
       "2   product_page           432   0.17\n",
       "3       purchase           220   0.08\n",
       "1   product_cart           218   0.08"
      ]
     },
     "metadata": {},
     "output_type": "display_data"
    }
   ],
   "source": [
    "#построим воронку для группы B\n",
    "funnel_B = group_b.groupby('event_name', as_index=False).agg({'user_id': 'nunique'}).\\\n",
    "rename(columns={\"user_id\": \"users_number\"})\n",
    "\n",
    "#добавим в датафрейм данные по регистрациям, как 1 этап воронки\n",
    "funnel_B.loc[4] = ['registrations', len(users_14_days_with_groups.query('group == \"B\"'))]\n",
    "\n",
    "#найдем долю\n",
    "funnel_B['ratio'] = round(funnel_B['users_number'] / len(users_14_days_with_groups.query('group == \"B\"')), 2)\n",
    "\n",
    "display(funnel_B.sort_values(by='users_number', ascending=False))"
   ]
  },
  {
   "cell_type": "markdown",
   "metadata": {},
   "source": [
    "*1. Если отталкиваться от значений воронок, то конверсия на каждом шаге воронки для теста В хуже, чем у группы А: доля product_page на 30 меньше, purchase - на 15, product_cart - на 13.*  \n",
    "*2. Кроме этого, количество покупок - последний шаг обеих воронок, превышает количество событий на предпоследнем шаге - добавление в корзину. Вероятно это обусловлено тем, что товар приобретался сразу, минуя корзину.*"
   ]
  },
  {
   "cell_type": "code",
   "execution_count": 48,
   "metadata": {},
   "outputs": [
    {
     "name": "stdout",
     "output_type": "stream",
     "text": [
      "Всего участников в группе В и А 6096\n"
     ]
    }
   ],
   "source": [
    "#посмотрим сколько всего участников в группе А и В\n",
    "print(\"Всего участников в группе В и А\", int(funnel_B.loc[4, 'users_number'] + funnel_A.loc[4, 'users_number']))"
   ]
  },
  {
   "cell_type": "code",
   "execution_count": 49,
   "metadata": {},
   "outputs": [
    {
     "name": "stdout",
     "output_type": "stream",
     "text": [
      "Событий на 1 пользователя в группе А: 4\n",
      "Событий на 1 пользователя в группе B: 1\n"
     ]
    }
   ],
   "source": [
    "#посмотрим сколько приходится событий на 1 одного пользователя в группе\n",
    "print(\"Событий на 1 пользователя в группе А:\", int(len(group_a) / funnel_A.loc[4, 'users_number']))\n",
    "print(\"Событий на 1 пользователя в группе B:\", int(len(group_b) / funnel_B.loc[4, 'users_number']))"
   ]
  },
  {
   "cell_type": "markdown",
   "metadata": {},
   "source": [
    "*Всего участников в группах А и В - 6096, при этом на каждого пользователя в группе А приходится по 4 события, а на участников из группы В по 1 событию.*"
   ]
  },
  {
   "cell_type": "markdown",
   "metadata": {},
   "source": [
    "### Выводы к шагу 2\n",
    "1. Наблюдения по распределению событий: 1) наиболее активный период для пользователей 13-21 декабря, на который могло повлиять то, что жители европейской зоны активно совершали покупки перед рождественскими праздниками; 2) действия пользователей из группы В были более импульсивными, чем пользователей из группы А; 3) скорее всего маркетинговое событие Christmas&New Year Promo, которое действовало с  25.12.20 по 03.01.21, могло в какой-то степени повлиять на поведение пользователей из группы В в период с 26 по 28 декабря.\n",
    "2. Окончание периода теста приходилось на новогодние праздники. Возможно по этому в группе В активность пользователей к 30.12 была около 0. \n",
    "3. По заданию набор пользователей должен был быть остановлен 21.12.20, но в данных были пользователи, зарегистрировавшиеся 23.12.20. Поэтому такие пользователи были исключены из анализа.\n",
    "4. В данных было обнаружено, что часть пользователей участвовала в тесте interface_eu_test (1 602 пользователя).\n",
    "5. В тесте приняли участие 14.4% из EU, что на 06.% меньше, чем в задании. Всего участвовал 6 096 пользователь из EU, т.е. задание в этой части соблюдено.\n",
    "6. Всего участников в группах А и В - 6096, при этом на каждого пользователя в группе А приходится по 4 события, а на участников из группы В по 1 событию.\n",
    "7. Конверсия на каждом шаге воронки для теста В хуже, чем у группы А: доля product_page на 30 меньше, purchase - на 15, product_cart - на 13. Кроме этого, количество покупок - последний шаг обеих воронок, превышает количество событий на предпоследнем шаге - добавление в корзину. Вероятно это обусловлено тем, что товар приобретался сразу, минуя корзину.\n",
    "8. Достаточно большое количество покупок по размеру суммы приходится на выдающиеся значения более 99 - около 6 337. Это почти 10 % информации о покупках. Это могут быть как выбросы, так и категории товаров с достаточно высокой ценой. В задании исследуется конверсия и количество покупок, а не сумма, поэтому эти значения оставляем как есть. Но если требуется найти различия в суммах покупок, то такие значения придется дополнительно изучить и на основании этого принимать решение, что с ними делать.\n",
    "9. Пересечения в группах по тесту recommender_system_test отсутствуют."
   ]
  },
  {
   "cell_type": "markdown",
   "metadata": {},
   "source": [
    " <a id=\"results_checking\"></a>\n",
    "## Оценка результатов А/В-теста"
   ]
  },
  {
   "cell_type": "markdown",
   "metadata": {},
   "source": [
    "*Формулируем гипотезы:*  \n",
    "\n",
    "*1. Нулевая гипотеза (Н0) - статистически значимых различий в долях групп А и В нет.*  \n",
    "*2. Альтернативная гипотеза (Н1) - статистически значимые различия между долями в группах А и В имеются.*"
   ]
  },
  {
   "cell_type": "code",
   "execution_count": 50,
   "metadata": {},
   "outputs": [],
   "source": [
    "#создадим функцию для расчета стат. значимости\n",
    "def stat_sign(success_1, success_2, trial_1, trial_2):\n",
    "    # критический уровень статистической значимости\n",
    "    alpha = 0.05 \n",
    "\n",
    "    successes = np.array([success_1, success_2])\n",
    "    trials = np.array([trial_1, trial_2])\n",
    "\n",
    "    # пропорция успехов в первой группе:\n",
    "    p1 = successes[0]/trials[0]\n",
    "\n",
    "    # пропорция успехов во второй группе:\n",
    "    p2 = successes[1]/trials[1]\n",
    "\n",
    "    #пропорция успехов в комбинированном датасете:\n",
    "    p_combined = (successes[0] + successes[1]) / (trials[0] + trials[1])\n",
    "\n",
    "    #разница пропорций в датасетах\n",
    "    difference = p1 - p2 \n",
    "\n",
    "    #считаем статистику в ст.отклонениях стандартного нормального распределения\n",
    "    z_value = difference / mth.sqrt(\n",
    "    p_combined * (1 - p_combined) * (1 / trials[0] + 1 / trials[1])\n",
    "    )\n",
    "\n",
    "    # задаем стандартное нормальное распределение (среднее 0, ст.отклонение 1)\n",
    "    distr = st.norm(0, 1)\n",
    "\n",
    "    p_value = (1 - distr.cdf(abs(z_value))) * 2\n",
    "\n",
    "    print('p-значение: ', p_value)\n",
    "\n",
    "    if p_value < alpha:\n",
    "        print('Отвергаем нулевую гипотезу: между долями есть значимая разница')\n",
    "    else:\n",
    "        print(\n",
    "        'Не получилось отвергнуть нулевую гипотезу, нет оснований считать доли разными.'\n",
    "        ) "
   ]
  },
  {
   "cell_type": "markdown",
   "metadata": {},
   "source": [
    "*Смотрим на стат. значимость в долях для product_page*"
   ]
  },
  {
   "cell_type": "code",
   "execution_count": 51,
   "metadata": {},
   "outputs": [
    {
     "name": "stdout",
     "output_type": "stream",
     "text": [
      "p-значение:  0.0\n",
      "Отвергаем нулевую гипотезу: между долями есть значимая разница\n"
     ]
    }
   ],
   "source": [
    "#вызываем функцию для product_page\n",
    "stat_sign(funnel_A.loc[2, 'users_number'], funnel_B.loc[2, 'users_number'], funnel_A.loc[4, 'users_number'], funnel_B.loc[4, 'users_number'])"
   ]
  },
  {
   "cell_type": "code",
   "execution_count": 52,
   "metadata": {},
   "outputs": [
    {
     "name": "stdout",
     "output_type": "stream",
     "text": [
      "Доля product_page группы А равна: 0.46\n",
      "Доля product_page группы B равна: 0.17\n"
     ]
    }
   ],
   "source": [
    "print('Доля product_page группы А равна:', funnel_A.loc[2, 'ratio'])\n",
    "print('Доля product_page группы B равна:', funnel_B.loc[2, 'ratio'])"
   ]
  },
  {
   "cell_type": "markdown",
   "metadata": {},
   "source": [
    "*Смотрим на стат. значимость в долях для product_cart*"
   ]
  },
  {
   "cell_type": "code",
   "execution_count": 53,
   "metadata": {},
   "outputs": [
    {
     "name": "stdout",
     "output_type": "stream",
     "text": [
      "p-значение:  0.0\n",
      "Отвергаем нулевую гипотезу: между долями есть значимая разница\n"
     ]
    }
   ],
   "source": [
    "#вызываем функцию для product_cart\n",
    "stat_sign(funnel_A.loc[1, 'users_number'], funnel_B.loc[1, 'users_number'], funnel_A.loc[4, 'users_number'], funnel_B.loc[4, 'users_number'])"
   ]
  },
  {
   "cell_type": "code",
   "execution_count": 54,
   "metadata": {},
   "outputs": [
    {
     "name": "stdout",
     "output_type": "stream",
     "text": [
      "Доля product_cart группы А равна: 0.21\n",
      "Доля product_cart группы B равна: 0.08\n"
     ]
    }
   ],
   "source": [
    "print('Доля product_cart группы А равна:', funnel_A.loc[1, 'ratio'])\n",
    "print('Доля product_cart группы B равна:', funnel_B.loc[1, 'ratio'])"
   ]
  },
  {
   "cell_type": "markdown",
   "metadata": {},
   "source": [
    "*Смотрим на стат. значимость в долях для purchase*"
   ]
  },
  {
   "cell_type": "code",
   "execution_count": 55,
   "metadata": {},
   "outputs": [
    {
     "name": "stdout",
     "output_type": "stream",
     "text": [
      "p-значение:  0.0\n",
      "Отвергаем нулевую гипотезу: между долями есть значимая разница\n"
     ]
    }
   ],
   "source": [
    "#вызываем функцию для purchase\n",
    "stat_sign(funnel_A.loc[3, 'users_number'], funnel_B.loc[3, 'users_number'], funnel_A.loc[4, 'users_number'], funnel_B.loc[4, 'users_number'])"
   ]
  },
  {
   "cell_type": "code",
   "execution_count": 56,
   "metadata": {},
   "outputs": [
    {
     "name": "stdout",
     "output_type": "stream",
     "text": [
      "Доля purchase группы А равна: 0.23\n",
      "Доля purchase группы B равна: 0.08\n"
     ]
    }
   ],
   "source": [
    "print('Доля purchase группы А равна:', funnel_A.loc[3, 'ratio'])\n",
    "print('Доля purchase группы B равна:', funnel_B.loc[3, 'ratio'])"
   ]
  },
  {
   "cell_type": "markdown",
   "metadata": {},
   "source": [
    "*Уровень статистической значимости взят в размере 0.05*  \n",
    "*Проверка статистических гипотез показала, что между долями в группах А и В есть статистически значимые различия.*\n"
   ]
  },
  {
   "cell_type": "markdown",
   "metadata": {},
   "source": [
    "<a id=\"summary\"></a>\n",
    "## Общие выводы"
   ]
  },
  {
   "cell_type": "markdown",
   "metadata": {},
   "source": [
    "1. Наблюдения по распределению событий: 1) наиболее активный период для пользователей 13-21 декабря, на который могло повлиять то, что жители европейской зоны активно совершали покупки перед рождественскими праздниками; 2) действия пользователей из группы В были более импульсивными, чем пользователей из группы А; 3) скорее всего маркетинговое событие Christmas&New Year Promo, которое действовало с  25.12.20 по 03.01.21, могло повлиять на поведение пользователей из группы В в период с 26 по 28 декабря.\n",
    "2. Окончание периода теста приходилось на новогодние праздники. Возможно по этому в группе В активность пользователей к 30.12 была около 0. \n",
    "3. По заданию набор пользователей должен был быть остановлен 21.12.20, но в данных были пользователи, зарегистрировавшиеся 23.12.20. Поэтому такие пользователи были исключены из анализа.\n",
    "4. В данных было обнаружено, что часть пользователей участвовала в тесте interface_eu_test (1 602 пользователя).\n",
    "5. В тесте приняли участие 14.4% из EU, что на 06.% меньше, чем в задании. Всего участвовал 6 096 пользователь из EU, т.е. задание в этой части соблюдено.\n",
    "6. Всего участников в группах А и В - 6096, при этом на каждого пользователя в группе А приходится по 4 события, а на участников из группы В по 1 событию.\n",
    "7. Конверсия на каждом шаге воронки для теста В хуже, чем у группы А: доля product_page на 30 меньше, purchase - на 15, product_cart - на 13. Кроме этого, количество покупок - последний шаг обеих воронок, превышает количество событий на предпоследнем шаге - добавление в корзину. Вероятно это обусловлено тем, что товар приобретался сразу, минуя корзину.\n",
    "8. Достаточно большое количество покупок по размеру суммы приходится на выдающиеся значения более 99 - около 6 337. Это почти 10 % информации о покупках. Это могут быть как выбросы, так и категории товаров с достаточно высокой ценой. В задании исследуется конверсия и количество покупок, а не сумма, поэтому эти значения оставляем как есть. Но если требуется найти различия в суммах покупок, то такие значения придется дополнительно изучить и на основании этого принимать решение, что с ними делать.\n",
    "9. Пересечений в группах по тесту recommender_system_test не найдено.\n",
    "10. Проверка статистических гипотез показала, что между долями в группах А и В есть статистически значимые различия.\n",
    "\n",
    "**Требования тех. задания были учтены при проверке, пересечения в группах отсутствовали. Вместе с тем, следует отметить, что часть требований тех. задания не была соблюдена: доля пользователей из EU составила чуть менее 15% (14.4%), маркетинговое событие Christmas&New Year могло незначительно повлиять на поведение пользователей (немного заметно по группе В). Но при этом, в показателях конверсии группа А значительно лучше показателей группы В, что подтверждено и стат. тестами. Поэтому можно сказать, что измененную рекомендательную систему внедрять не следует.**"
   ]
  },
  {
   "cell_type": "code",
   "execution_count": null,
   "metadata": {},
   "outputs": [],
   "source": []
  }
 ],
 "metadata": {
  "ExecuteTimeLog": [
   {
    "duration": 807,
    "start_time": "2021-10-11T18:44:03.349Z"
   },
   {
    "duration": 696,
    "start_time": "2021-10-11T18:44:20.940Z"
   },
   {
    "duration": 3,
    "start_time": "2021-10-11T18:44:21.639Z"
   },
   {
    "duration": 7,
    "start_time": "2021-10-11T18:44:21.645Z"
   },
   {
    "duration": 1680,
    "start_time": "2021-10-11T18:49:52.871Z"
   },
   {
    "duration": 589,
    "start_time": "2021-10-12T06:58:21.749Z"
   },
   {
    "duration": 904,
    "start_time": "2021-10-12T06:58:22.340Z"
   },
   {
    "duration": 4,
    "start_time": "2021-10-12T06:58:23.248Z"
   },
   {
    "duration": 617,
    "start_time": "2021-10-12T07:01:14.437Z"
   },
   {
    "duration": 648,
    "start_time": "2021-10-12T07:01:15.056Z"
   },
   {
    "duration": 4,
    "start_time": "2021-10-12T07:01:15.706Z"
   },
   {
    "duration": 51,
    "start_time": "2021-10-12T07:01:15.712Z"
   },
   {
    "duration": 137,
    "start_time": "2021-10-12T07:01:15.765Z"
   },
   {
    "duration": 174,
    "start_time": "2021-10-12T07:01:15.903Z"
   },
   {
    "duration": 44,
    "start_time": "2021-10-12T07:01:16.078Z"
   },
   {
    "duration": 11,
    "start_time": "2021-10-12T07:34:31.548Z"
   },
   {
    "duration": 18,
    "start_time": "2021-10-12T08:00:13.125Z"
   },
   {
    "duration": 15,
    "start_time": "2021-10-12T08:00:39.691Z"
   },
   {
    "duration": 16,
    "start_time": "2021-10-12T08:00:58.681Z"
   },
   {
    "duration": 5,
    "start_time": "2021-10-12T08:07:39.803Z"
   },
   {
    "duration": 23,
    "start_time": "2021-10-12T08:08:10.842Z"
   },
   {
    "duration": 20,
    "start_time": "2021-10-12T08:08:25.335Z"
   },
   {
    "duration": 90,
    "start_time": "2021-10-12T08:10:30.267Z"
   },
   {
    "duration": 4,
    "start_time": "2021-10-12T08:11:02.251Z"
   },
   {
    "duration": 108,
    "start_time": "2021-10-12T08:12:18.652Z"
   },
   {
    "duration": 5,
    "start_time": "2021-10-12T08:13:54.588Z"
   },
   {
    "duration": 27,
    "start_time": "2021-10-12T08:16:08.383Z"
   },
   {
    "duration": 40,
    "start_time": "2021-10-12T08:16:20.847Z"
   },
   {
    "duration": 27,
    "start_time": "2021-10-12T08:18:13.013Z"
   },
   {
    "duration": 284,
    "start_time": "2021-10-12T08:22:08.842Z"
   },
   {
    "duration": 14,
    "start_time": "2021-10-12T08:22:31.017Z"
   },
   {
    "duration": 12,
    "start_time": "2021-10-12T08:23:43.170Z"
   },
   {
    "duration": 11,
    "start_time": "2021-10-12T08:24:41.861Z"
   },
   {
    "duration": 17,
    "start_time": "2021-10-12T08:38:14.209Z"
   },
   {
    "duration": 14,
    "start_time": "2021-10-12T08:45:14.574Z"
   },
   {
    "duration": 12,
    "start_time": "2021-10-12T08:45:55.779Z"
   },
   {
    "duration": 25,
    "start_time": "2021-10-12T08:49:00.748Z"
   },
   {
    "duration": 28,
    "start_time": "2021-10-12T08:50:01.727Z"
   },
   {
    "duration": 25,
    "start_time": "2021-10-12T08:50:16.744Z"
   },
   {
    "duration": 28,
    "start_time": "2021-10-12T08:50:26.767Z"
   },
   {
    "duration": 30,
    "start_time": "2021-10-12T08:50:58.115Z"
   },
   {
    "duration": 594,
    "start_time": "2021-10-12T09:55:34.511Z"
   },
   {
    "duration": 626,
    "start_time": "2021-10-12T09:55:35.107Z"
   },
   {
    "duration": 3,
    "start_time": "2021-10-12T09:55:35.735Z"
   },
   {
    "duration": 42,
    "start_time": "2021-10-12T09:55:35.740Z"
   },
   {
    "duration": 8,
    "start_time": "2021-10-12T09:55:35.784Z"
   },
   {
    "duration": 136,
    "start_time": "2021-10-12T09:55:35.794Z"
   },
   {
    "duration": 45,
    "start_time": "2021-10-12T09:55:35.931Z"
   },
   {
    "duration": 4,
    "start_time": "2021-10-12T09:55:35.978Z"
   },
   {
    "duration": 11,
    "start_time": "2021-10-12T09:55:35.984Z"
   },
   {
    "duration": 52,
    "start_time": "2021-10-12T09:55:35.997Z"
   },
   {
    "duration": 28,
    "start_time": "2021-10-12T09:55:36.051Z"
   },
   {
    "duration": 171,
    "start_time": "2021-10-12T09:55:36.081Z"
   },
   {
    "duration": 43,
    "start_time": "2021-10-12T09:55:36.253Z"
   },
   {
    "duration": 3,
    "start_time": "2021-10-12T09:58:02.650Z"
   },
   {
    "duration": 3,
    "start_time": "2021-10-12T09:58:06.265Z"
   },
   {
    "duration": 40,
    "start_time": "2021-10-12T10:49:20.671Z"
   },
   {
    "duration": 152,
    "start_time": "2021-10-12T10:57:31.977Z"
   },
   {
    "duration": 93,
    "start_time": "2021-10-12T11:00:00.343Z"
   },
   {
    "duration": 110,
    "start_time": "2021-10-12T11:02:08.983Z"
   },
   {
    "duration": 494,
    "start_time": "2021-10-12T11:21:25.939Z"
   },
   {
    "duration": 5953,
    "start_time": "2021-10-12T11:28:52.307Z"
   },
   {
    "duration": 5526,
    "start_time": "2021-10-12T11:29:49.175Z"
   },
   {
    "duration": 78,
    "start_time": "2021-10-12T11:30:31.615Z"
   },
   {
    "duration": 127,
    "start_time": "2021-10-12T11:31:05.614Z"
   },
   {
    "duration": 14,
    "start_time": "2021-10-12T11:36:41.376Z"
   },
   {
    "duration": 8,
    "start_time": "2021-10-12T11:50:40.375Z"
   },
   {
    "duration": 4,
    "start_time": "2021-10-12T11:51:02.190Z"
   },
   {
    "duration": 50,
    "start_time": "2021-10-12T11:54:56.541Z"
   },
   {
    "duration": 49,
    "start_time": "2021-10-12T11:55:20.097Z"
   },
   {
    "duration": 52,
    "start_time": "2021-10-12T11:57:13.775Z"
   },
   {
    "duration": 77,
    "start_time": "2021-10-12T12:00:30.384Z"
   },
   {
    "duration": 119,
    "start_time": "2021-10-12T12:01:15.316Z"
   },
   {
    "duration": 163,
    "start_time": "2021-10-12T12:02:52.925Z"
   },
   {
    "duration": 6,
    "start_time": "2021-10-12T12:10:04.098Z"
   },
   {
    "duration": 8,
    "start_time": "2021-10-12T12:23:10.303Z"
   },
   {
    "duration": 7,
    "start_time": "2021-10-12T15:39:00.640Z"
   },
   {
    "duration": 15,
    "start_time": "2021-10-12T15:48:51.375Z"
   },
   {
    "duration": 212,
    "start_time": "2021-10-12T15:54:22.675Z"
   },
   {
    "duration": 16,
    "start_time": "2021-10-12T15:54:40.182Z"
   },
   {
    "duration": 14,
    "start_time": "2021-10-12T16:03:05.108Z"
   },
   {
    "duration": 7,
    "start_time": "2021-10-12T16:04:48.587Z"
   },
   {
    "duration": 14,
    "start_time": "2021-10-12T16:06:17.755Z"
   },
   {
    "duration": 7,
    "start_time": "2021-10-12T16:07:44.832Z"
   },
   {
    "duration": 27,
    "start_time": "2021-10-12T17:01:17.793Z"
   },
   {
    "duration": 5,
    "start_time": "2021-10-12T17:14:52.791Z"
   },
   {
    "duration": 9,
    "start_time": "2021-10-12T17:16:33.707Z"
   },
   {
    "duration": 8,
    "start_time": "2021-10-12T17:17:47.327Z"
   },
   {
    "duration": 8,
    "start_time": "2021-10-12T17:17:53.307Z"
   },
   {
    "duration": 8,
    "start_time": "2021-10-12T17:17:59.500Z"
   },
   {
    "duration": 939,
    "start_time": "2021-10-13T07:19:53.626Z"
   },
   {
    "duration": 737,
    "start_time": "2021-10-13T07:19:54.567Z"
   },
   {
    "duration": 5,
    "start_time": "2021-10-13T07:19:58.373Z"
   },
   {
    "duration": 76,
    "start_time": "2021-10-13T07:19:58.381Z"
   },
   {
    "duration": 13,
    "start_time": "2021-10-13T07:20:40.843Z"
   },
   {
    "duration": 143,
    "start_time": "2021-10-13T07:20:40.859Z"
   },
   {
    "duration": 60,
    "start_time": "2021-10-13T07:20:41.005Z"
   },
   {
    "duration": 795,
    "start_time": "2021-10-13T07:42:12.627Z"
   },
   {
    "duration": 739,
    "start_time": "2021-10-13T07:42:13.424Z"
   },
   {
    "duration": 5,
    "start_time": "2021-10-13T07:42:14.165Z"
   },
   {
    "duration": 84,
    "start_time": "2021-10-13T07:42:14.172Z"
   },
   {
    "duration": 14,
    "start_time": "2021-10-13T07:42:14.259Z"
   },
   {
    "duration": 162,
    "start_time": "2021-10-13T07:42:14.275Z"
   },
   {
    "duration": 36,
    "start_time": "2021-10-13T07:42:14.457Z"
   },
   {
    "duration": 5,
    "start_time": "2021-10-13T07:42:14.497Z"
   },
   {
    "duration": 63,
    "start_time": "2021-10-13T07:42:14.505Z"
   },
   {
    "duration": 12,
    "start_time": "2021-10-13T07:42:14.570Z"
   },
   {
    "duration": 35,
    "start_time": "2021-10-13T07:42:14.584Z"
   },
   {
    "duration": 68,
    "start_time": "2021-10-13T07:42:14.621Z"
   },
   {
    "duration": 210,
    "start_time": "2021-10-13T07:42:14.691Z"
   },
   {
    "duration": 58,
    "start_time": "2021-10-13T07:42:14.904Z"
   },
   {
    "duration": 232,
    "start_time": "2021-10-13T07:42:14.964Z"
   },
   {
    "duration": 173,
    "start_time": "2021-10-13T07:42:15.198Z"
   },
   {
    "duration": 19,
    "start_time": "2021-10-13T07:42:15.373Z"
   },
   {
    "duration": 105,
    "start_time": "2021-10-13T07:42:15.395Z"
   },
   {
    "duration": 146,
    "start_time": "2021-10-13T07:42:15.503Z"
   },
   {
    "duration": 207,
    "start_time": "2021-10-13T07:42:15.652Z"
   },
   {
    "duration": 6,
    "start_time": "2021-10-13T07:42:15.861Z"
   },
   {
    "duration": 95,
    "start_time": "2021-10-13T07:42:15.870Z"
   },
   {
    "duration": 9,
    "start_time": "2021-10-13T07:42:15.971Z"
   },
   {
    "duration": 12,
    "start_time": "2021-10-13T07:42:15.983Z"
   },
   {
    "duration": 71,
    "start_time": "2021-10-13T07:42:15.998Z"
   },
   {
    "duration": 19,
    "start_time": "2021-10-13T07:42:16.072Z"
   },
   {
    "duration": 10,
    "start_time": "2021-10-13T07:42:16.093Z"
   },
   {
    "duration": 71,
    "start_time": "2021-10-13T07:42:16.105Z"
   },
   {
    "duration": 10,
    "start_time": "2021-10-13T07:42:16.178Z"
   },
   {
    "duration": 12,
    "start_time": "2021-10-13T07:47:47.475Z"
   },
   {
    "duration": 32,
    "start_time": "2021-10-13T07:49:34.672Z"
   },
   {
    "duration": 12,
    "start_time": "2021-10-13T08:01:34.427Z"
   },
   {
    "duration": 13,
    "start_time": "2021-10-13T08:01:37.868Z"
   },
   {
    "duration": 11,
    "start_time": "2021-10-13T08:01:40.652Z"
   },
   {
    "duration": 422,
    "start_time": "2021-10-13T08:04:24.717Z"
   },
   {
    "duration": 329,
    "start_time": "2021-10-13T08:04:32.455Z"
   },
   {
    "duration": 516,
    "start_time": "2021-10-13T08:21:04.297Z"
   },
   {
    "duration": 3672,
    "start_time": "2021-10-13T08:22:05.985Z"
   },
   {
    "duration": 49,
    "start_time": "2021-10-13T08:22:47.634Z"
   },
   {
    "duration": 7,
    "start_time": "2021-10-13T08:23:33.861Z"
   },
   {
    "duration": 605,
    "start_time": "2021-10-13T08:24:37.743Z"
   },
   {
    "duration": 106,
    "start_time": "2021-10-13T08:26:40.749Z"
   },
   {
    "duration": 13,
    "start_time": "2021-10-13T08:26:46.771Z"
   },
   {
    "duration": 577,
    "start_time": "2021-10-13T08:27:33.807Z"
   },
   {
    "duration": 1517,
    "start_time": "2021-10-13T08:27:55.143Z"
   },
   {
    "duration": 550,
    "start_time": "2021-10-13T08:29:06.263Z"
   },
   {
    "duration": 549,
    "start_time": "2021-10-13T08:29:38.576Z"
   },
   {
    "duration": 106,
    "start_time": "2021-10-13T08:33:34.068Z"
   },
   {
    "duration": 6907,
    "start_time": "2021-10-13T08:33:55.721Z"
   },
   {
    "duration": 6856,
    "start_time": "2021-10-13T08:35:16.170Z"
   },
   {
    "duration": 239,
    "start_time": "2021-10-13T08:42:00.516Z"
   },
   {
    "duration": 222,
    "start_time": "2021-10-13T08:45:23.121Z"
   },
   {
    "duration": 618,
    "start_time": "2021-10-13T08:45:54.982Z"
   },
   {
    "duration": 209,
    "start_time": "2021-10-13T08:46:13.078Z"
   },
   {
    "duration": 5331,
    "start_time": "2021-10-13T08:46:33.628Z"
   },
   {
    "duration": -277,
    "start_time": "2021-10-13T08:47:27.824Z"
   },
   {
    "duration": 225,
    "start_time": "2021-10-13T08:47:35.685Z"
   },
   {
    "duration": 348,
    "start_time": "2021-10-13T08:51:56.129Z"
   },
   {
    "duration": 262,
    "start_time": "2021-10-13T08:52:27.806Z"
   },
   {
    "duration": 7,
    "start_time": "2021-10-13T08:56:03.261Z"
   },
   {
    "duration": 871,
    "start_time": "2021-10-13T08:56:43.836Z"
   },
   {
    "duration": 16,
    "start_time": "2021-10-13T08:57:29.805Z"
   },
   {
    "duration": 1125,
    "start_time": "2021-10-13T09:04:03.520Z"
   },
   {
    "duration": 14,
    "start_time": "2021-10-13T09:08:01.828Z"
   },
   {
    "duration": 31,
    "start_time": "2021-10-13T09:08:52.171Z"
   },
   {
    "duration": 81,
    "start_time": "2021-10-13T10:27:50.825Z"
   },
   {
    "duration": 170,
    "start_time": "2021-10-13T10:34:51.117Z"
   },
   {
    "duration": 47,
    "start_time": "2021-10-13T10:36:46.005Z"
   },
   {
    "duration": 9,
    "start_time": "2021-10-13T10:37:15.555Z"
   },
   {
    "duration": 11,
    "start_time": "2021-10-13T10:59:28.644Z"
   },
   {
    "duration": 174,
    "start_time": "2021-10-13T11:02:53.821Z"
   },
   {
    "duration": 161,
    "start_time": "2021-10-13T11:03:13.479Z"
   },
   {
    "duration": 13,
    "start_time": "2021-10-13T11:05:24.107Z"
   },
   {
    "duration": 40,
    "start_time": "2021-10-13T11:05:35.435Z"
   },
   {
    "duration": 230,
    "start_time": "2021-10-13T11:06:07.349Z"
   },
   {
    "duration": 136,
    "start_time": "2021-10-13T13:20:27.161Z"
   },
   {
    "duration": 12,
    "start_time": "2021-10-13T13:21:00.624Z"
   },
   {
    "duration": 145,
    "start_time": "2021-10-13T13:21:35.301Z"
   },
   {
    "duration": 18,
    "start_time": "2021-10-13T13:21:53.101Z"
   },
   {
    "duration": 620,
    "start_time": "2021-10-13T13:22:06.916Z"
   },
   {
    "duration": 15,
    "start_time": "2021-10-13T13:22:26.700Z"
   },
   {
    "duration": 124,
    "start_time": "2021-10-13T13:23:02.799Z"
   },
   {
    "duration": 9,
    "start_time": "2021-10-13T13:46:42.184Z"
   },
   {
    "duration": 23237,
    "start_time": "2021-10-13T14:18:14.052Z"
   },
   {
    "duration": 54,
    "start_time": "2021-10-13T14:18:40.739Z"
   },
   {
    "duration": 5,
    "start_time": "2021-10-13T14:19:41.238Z"
   },
   {
    "duration": 13,
    "start_time": "2021-10-13T14:21:50.645Z"
   },
   {
    "duration": 458,
    "start_time": "2021-10-13T14:41:03.703Z"
   },
   {
    "duration": 316,
    "start_time": "2021-10-13T14:41:24.886Z"
   },
   {
    "duration": 48,
    "start_time": "2021-10-13T14:46:46.459Z"
   },
   {
    "duration": 14,
    "start_time": "2021-10-13T15:04:28.303Z"
   },
   {
    "duration": 4,
    "start_time": "2021-10-13T15:04:33.942Z"
   },
   {
    "duration": 34559,
    "start_time": "2021-10-13T15:04:36.513Z"
   },
   {
    "duration": 14,
    "start_time": "2021-10-13T15:05:14.010Z"
   },
   {
    "duration": 42,
    "start_time": "2021-10-13T15:06:14.177Z"
   },
   {
    "duration": 69,
    "start_time": "2021-10-13T15:07:50.071Z"
   },
   {
    "duration": 32755,
    "start_time": "2021-10-13T15:48:22.551Z"
   },
   {
    "duration": 113,
    "start_time": "2021-10-13T16:10:57.699Z"
   },
   {
    "duration": 55,
    "start_time": "2021-10-13T16:12:55.922Z"
   },
   {
    "duration": 142,
    "start_time": "2021-10-13T16:25:53.282Z"
   },
   {
    "duration": 35,
    "start_time": "2021-10-13T16:26:05.343Z"
   },
   {
    "duration": 401,
    "start_time": "2021-10-13T16:27:25.387Z"
   },
   {
    "duration": 404,
    "start_time": "2021-10-13T16:27:58.395Z"
   },
   {
    "duration": 5,
    "start_time": "2021-10-13T16:30:59.427Z"
   },
   {
    "duration": 5,
    "start_time": "2021-10-13T16:31:13.665Z"
   },
   {
    "duration": 14,
    "start_time": "2021-10-13T16:31:28.221Z"
   },
   {
    "duration": 50,
    "start_time": "2021-10-13T16:31:42.442Z"
   },
   {
    "duration": 38,
    "start_time": "2021-10-13T16:35:08.728Z"
   },
   {
    "duration": 37,
    "start_time": "2021-10-13T16:35:40.271Z"
   },
   {
    "duration": 567,
    "start_time": "2021-10-13T16:36:50.162Z"
   },
   {
    "duration": 5,
    "start_time": "2021-10-13T16:47:06.759Z"
   },
   {
    "duration": 4,
    "start_time": "2021-10-13T16:47:59.043Z"
   },
   {
    "duration": 5,
    "start_time": "2021-10-13T16:48:52.809Z"
   },
   {
    "duration": 7,
    "start_time": "2021-10-13T16:49:26.448Z"
   },
   {
    "duration": 13,
    "start_time": "2021-10-13T17:05:38.114Z"
   },
   {
    "duration": 1814,
    "start_time": "2021-10-13T17:07:06.407Z"
   },
   {
    "duration": 50,
    "start_time": "2021-10-13T17:09:20.162Z"
   },
   {
    "duration": 195,
    "start_time": "2021-10-13T17:10:56.557Z"
   },
   {
    "duration": 191,
    "start_time": "2021-10-13T17:11:00.290Z"
   },
   {
    "duration": 1901,
    "start_time": "2021-10-13T17:11:03.933Z"
   },
   {
    "duration": 696,
    "start_time": "2021-10-13T17:13:18.565Z"
   },
   {
    "duration": 116,
    "start_time": "2021-10-13T17:19:43.177Z"
   },
   {
    "duration": 388,
    "start_time": "2021-10-13T17:20:07.135Z"
   },
   {
    "duration": 6,
    "start_time": "2021-10-13T17:20:19.049Z"
   },
   {
    "duration": 5,
    "start_time": "2021-10-13T17:20:49.700Z"
   },
   {
    "duration": 31690,
    "start_time": "2021-10-13T17:26:37.235Z"
   },
   {
    "duration": 117,
    "start_time": "2021-10-13T17:27:31.583Z"
   },
   {
    "duration": 720,
    "start_time": "2021-10-13T17:29:02.052Z"
   },
   {
    "duration": 625,
    "start_time": "2021-10-13T17:30:49.525Z"
   },
   {
    "duration": 7,
    "start_time": "2021-10-13T18:21:42.282Z"
   },
   {
    "duration": 4,
    "start_time": "2021-10-13T18:27:48.698Z"
   },
   {
    "duration": 354,
    "start_time": "2021-10-13T18:44:06.682Z"
   },
   {
    "duration": 4,
    "start_time": "2021-10-13T18:45:04.748Z"
   },
   {
    "duration": 11,
    "start_time": "2021-10-13T18:45:17.766Z"
   },
   {
    "duration": 14,
    "start_time": "2021-10-13T18:45:28.751Z"
   },
   {
    "duration": 1090,
    "start_time": "2021-10-14T18:49:10.356Z"
   },
   {
    "duration": 530,
    "start_time": "2021-10-14T18:49:11.447Z"
   },
   {
    "duration": 3,
    "start_time": "2021-10-14T18:49:11.979Z"
   },
   {
    "duration": 35,
    "start_time": "2021-10-14T18:49:11.984Z"
   },
   {
    "duration": 8,
    "start_time": "2021-10-14T18:49:12.021Z"
   },
   {
    "duration": 125,
    "start_time": "2021-10-14T18:49:12.031Z"
   },
   {
    "duration": 41,
    "start_time": "2021-10-14T18:49:12.158Z"
   },
   {
    "duration": 4,
    "start_time": "2021-10-14T18:49:12.201Z"
   },
   {
    "duration": 9,
    "start_time": "2021-10-14T18:49:12.208Z"
   },
   {
    "duration": 57,
    "start_time": "2021-10-14T18:49:12.220Z"
   },
   {
    "duration": 26,
    "start_time": "2021-10-14T18:49:12.278Z"
   },
   {
    "duration": 9,
    "start_time": "2021-10-14T18:49:12.306Z"
   },
   {
    "duration": 24,
    "start_time": "2021-10-14T18:49:12.317Z"
   },
   {
    "duration": 184,
    "start_time": "2021-10-14T18:49:12.343Z"
   },
   {
    "duration": 51,
    "start_time": "2021-10-14T18:49:12.528Z"
   },
   {
    "duration": 156,
    "start_time": "2021-10-14T18:49:12.580Z"
   },
   {
    "duration": 106,
    "start_time": "2021-10-14T18:49:12.737Z"
   },
   {
    "duration": 13,
    "start_time": "2021-10-14T18:49:12.845Z"
   },
   {
    "duration": 65,
    "start_time": "2021-10-14T18:49:12.859Z"
   },
   {
    "duration": 113,
    "start_time": "2021-10-14T18:49:12.926Z"
   },
   {
    "duration": 138,
    "start_time": "2021-10-14T18:49:13.040Z"
   },
   {
    "duration": 4,
    "start_time": "2021-10-14T18:49:13.180Z"
   },
   {
    "duration": 40,
    "start_time": "2021-10-14T18:49:13.186Z"
   },
   {
    "duration": 5,
    "start_time": "2021-10-14T18:49:13.228Z"
   },
   {
    "duration": 9,
    "start_time": "2021-10-14T18:49:13.235Z"
   },
   {
    "duration": 14,
    "start_time": "2021-10-14T18:49:13.277Z"
   },
   {
    "duration": 21,
    "start_time": "2021-10-14T18:49:13.294Z"
   },
   {
    "duration": 6,
    "start_time": "2021-10-14T18:49:13.318Z"
   },
   {
    "duration": 177,
    "start_time": "2021-10-14T18:49:13.325Z"
   },
   {
    "duration": 8,
    "start_time": "2021-10-14T18:49:13.503Z"
   },
   {
    "duration": 773,
    "start_time": "2021-10-14T18:49:13.513Z"
   },
   {
    "duration": 8,
    "start_time": "2021-10-14T18:49:14.287Z"
   },
   {
    "duration": 17350,
    "start_time": "2021-10-14T18:49:14.297Z"
   },
   {
    "duration": 96,
    "start_time": "2021-10-14T18:49:31.649Z"
   },
   {
    "duration": 53,
    "start_time": "2021-10-14T18:49:31.746Z"
   },
   {
    "duration": 364,
    "start_time": "2021-10-14T18:49:31.800Z"
   },
   {
    "duration": 362,
    "start_time": "2021-10-14T18:49:32.165Z"
   },
   {
    "duration": 368,
    "start_time": "2021-10-14T18:49:32.529Z"
   },
   {
    "duration": 25,
    "start_time": "2021-10-14T18:49:32.899Z"
   },
   {
    "duration": 308,
    "start_time": "2021-10-14T18:49:32.925Z"
   },
   {
    "duration": 4,
    "start_time": "2021-10-14T18:49:33.234Z"
   },
   {
    "duration": 7,
    "start_time": "2021-10-14T18:49:33.240Z"
   },
   {
    "duration": 8,
    "start_time": "2021-10-14T18:49:33.248Z"
   },
   {
    "duration": 6,
    "start_time": "2021-10-14T19:19:24.581Z"
   },
   {
    "duration": 16,
    "start_time": "2021-10-14T19:24:35.437Z"
   },
   {
    "duration": 453,
    "start_time": "2021-10-14T19:24:46.176Z"
   },
   {
    "duration": 7,
    "start_time": "2021-10-14T19:24:48.872Z"
   },
   {
    "duration": 32,
    "start_time": "2021-10-14T19:24:53.223Z"
   },
   {
    "duration": 9,
    "start_time": "2021-10-14T19:26:21.864Z"
   },
   {
    "duration": 11,
    "start_time": "2021-10-14T19:26:47.768Z"
   },
   {
    "duration": 12,
    "start_time": "2021-10-14T19:28:07.654Z"
   },
   {
    "duration": 7,
    "start_time": "2021-10-14T19:29:28.055Z"
   },
   {
    "duration": 39,
    "start_time": "2021-10-14T19:29:36.135Z"
   },
   {
    "duration": 4,
    "start_time": "2021-10-14T19:46:20.532Z"
   },
   {
    "duration": 4,
    "start_time": "2021-10-14T19:46:31.354Z"
   },
   {
    "duration": 1106,
    "start_time": "2021-10-14T19:50:02.446Z"
   },
   {
    "duration": 537,
    "start_time": "2021-10-14T19:50:03.554Z"
   },
   {
    "duration": 3,
    "start_time": "2021-10-14T19:50:04.094Z"
   },
   {
    "duration": 50,
    "start_time": "2021-10-14T19:50:04.099Z"
   },
   {
    "duration": 9,
    "start_time": "2021-10-14T19:50:04.150Z"
   },
   {
    "duration": 128,
    "start_time": "2021-10-14T19:50:04.161Z"
   },
   {
    "duration": 27,
    "start_time": "2021-10-14T19:50:04.291Z"
   },
   {
    "duration": 5,
    "start_time": "2021-10-14T19:50:04.320Z"
   },
   {
    "duration": 14,
    "start_time": "2021-10-14T19:50:04.328Z"
   },
   {
    "duration": 54,
    "start_time": "2021-10-14T19:50:04.344Z"
   },
   {
    "duration": 22,
    "start_time": "2021-10-14T19:50:04.399Z"
   },
   {
    "duration": 8,
    "start_time": "2021-10-14T19:50:04.423Z"
   },
   {
    "duration": 44,
    "start_time": "2021-10-14T19:50:04.432Z"
   },
   {
    "duration": 150,
    "start_time": "2021-10-14T19:50:04.478Z"
   },
   {
    "duration": 50,
    "start_time": "2021-10-14T19:50:04.630Z"
   },
   {
    "duration": 152,
    "start_time": "2021-10-14T19:50:04.681Z"
   },
   {
    "duration": 107,
    "start_time": "2021-10-14T19:50:04.835Z"
   },
   {
    "duration": 13,
    "start_time": "2021-10-14T19:50:04.944Z"
   },
   {
    "duration": 64,
    "start_time": "2021-10-14T19:50:04.959Z"
   },
   {
    "duration": 107,
    "start_time": "2021-10-14T19:50:05.025Z"
   },
   {
    "duration": 136,
    "start_time": "2021-10-14T19:50:05.134Z"
   },
   {
    "duration": 5,
    "start_time": "2021-10-14T19:50:05.272Z"
   },
   {
    "duration": 45,
    "start_time": "2021-10-14T19:50:05.278Z"
   },
   {
    "duration": 7,
    "start_time": "2021-10-14T19:50:05.325Z"
   },
   {
    "duration": 46,
    "start_time": "2021-10-14T19:50:05.334Z"
   },
   {
    "duration": 19,
    "start_time": "2021-10-14T19:50:05.382Z"
   },
   {
    "duration": 16,
    "start_time": "2021-10-14T19:50:05.405Z"
   },
   {
    "duration": 9,
    "start_time": "2021-10-14T19:50:05.423Z"
   },
   {
    "duration": 164,
    "start_time": "2021-10-14T19:50:05.434Z"
   },
   {
    "duration": 8,
    "start_time": "2021-10-14T19:50:05.600Z"
   },
   {
    "duration": 740,
    "start_time": "2021-10-14T19:50:05.610Z"
   },
   {
    "duration": 8,
    "start_time": "2021-10-14T19:50:06.352Z"
   },
   {
    "duration": 17269,
    "start_time": "2021-10-14T19:50:06.361Z"
   },
   {
    "duration": 90,
    "start_time": "2021-10-14T19:50:23.631Z"
   },
   {
    "duration": 54,
    "start_time": "2021-10-14T19:50:23.723Z"
   },
   {
    "duration": 11,
    "start_time": "2021-10-14T19:50:23.779Z"
   },
   {
    "duration": 41,
    "start_time": "2021-10-14T19:50:23.791Z"
   },
   {
    "duration": 384,
    "start_time": "2021-10-14T19:50:23.834Z"
   },
   {
    "duration": 352,
    "start_time": "2021-10-14T19:50:24.219Z"
   },
   {
    "duration": 368,
    "start_time": "2021-10-14T19:50:24.576Z"
   },
   {
    "duration": 34,
    "start_time": "2021-10-14T19:50:24.945Z"
   },
   {
    "duration": 304,
    "start_time": "2021-10-14T19:50:24.981Z"
   },
   {
    "duration": 4,
    "start_time": "2021-10-14T19:50:25.287Z"
   },
   {
    "duration": 5,
    "start_time": "2021-10-14T19:50:25.293Z"
   },
   {
    "duration": 8,
    "start_time": "2021-10-14T19:50:25.299Z"
   },
   {
    "duration": 9,
    "start_time": "2021-10-14T19:50:25.308Z"
   },
   {
    "duration": 1025,
    "start_time": "2021-10-15T08:34:54.329Z"
   },
   {
    "duration": 534,
    "start_time": "2021-10-15T08:34:55.356Z"
   },
   {
    "duration": 3,
    "start_time": "2021-10-15T08:34:55.892Z"
   },
   {
    "duration": 38,
    "start_time": "2021-10-15T08:34:55.897Z"
   },
   {
    "duration": 8,
    "start_time": "2021-10-15T08:34:55.936Z"
   },
   {
    "duration": 134,
    "start_time": "2021-10-15T08:34:55.946Z"
   },
   {
    "duration": 25,
    "start_time": "2021-10-15T08:34:56.082Z"
   },
   {
    "duration": 4,
    "start_time": "2021-10-15T08:34:56.110Z"
   },
   {
    "duration": 11,
    "start_time": "2021-10-15T08:34:56.116Z"
   },
   {
    "duration": 55,
    "start_time": "2021-10-15T08:34:56.128Z"
   },
   {
    "duration": 22,
    "start_time": "2021-10-15T08:34:56.185Z"
   },
   {
    "duration": 9,
    "start_time": "2021-10-15T08:34:56.209Z"
   },
   {
    "duration": 23,
    "start_time": "2021-10-15T08:34:56.220Z"
   },
   {
    "duration": 176,
    "start_time": "2021-10-15T08:34:56.244Z"
   },
   {
    "duration": 36,
    "start_time": "2021-10-15T08:34:56.422Z"
   },
   {
    "duration": 156,
    "start_time": "2021-10-15T08:34:56.459Z"
   },
   {
    "duration": 114,
    "start_time": "2021-10-15T08:34:56.617Z"
   },
   {
    "duration": 13,
    "start_time": "2021-10-15T08:34:56.733Z"
   },
   {
    "duration": 60,
    "start_time": "2021-10-15T08:34:56.747Z"
   },
   {
    "duration": 103,
    "start_time": "2021-10-15T08:34:56.808Z"
   },
   {
    "duration": 142,
    "start_time": "2021-10-15T08:34:56.912Z"
   },
   {
    "duration": 5,
    "start_time": "2021-10-15T08:34:57.055Z"
   },
   {
    "duration": 50,
    "start_time": "2021-10-15T08:34:57.063Z"
   },
   {
    "duration": 6,
    "start_time": "2021-10-15T08:34:57.114Z"
   },
   {
    "duration": 8,
    "start_time": "2021-10-15T08:34:57.122Z"
   },
   {
    "duration": 17,
    "start_time": "2021-10-15T08:34:57.132Z"
   },
   {
    "duration": 37,
    "start_time": "2021-10-15T08:34:57.151Z"
   },
   {
    "duration": 13,
    "start_time": "2021-10-15T08:34:57.189Z"
   },
   {
    "duration": 175,
    "start_time": "2021-10-15T08:34:57.203Z"
   },
   {
    "duration": 9,
    "start_time": "2021-10-15T08:34:57.380Z"
   },
   {
    "duration": 749,
    "start_time": "2021-10-15T08:34:57.390Z"
   },
   {
    "duration": 8,
    "start_time": "2021-10-15T08:34:58.141Z"
   },
   {
    "duration": 17109,
    "start_time": "2021-10-15T08:34:58.151Z"
   },
   {
    "duration": 90,
    "start_time": "2021-10-15T08:35:15.261Z"
   },
   {
    "duration": 59,
    "start_time": "2021-10-15T08:35:15.352Z"
   },
   {
    "duration": 12,
    "start_time": "2021-10-15T08:35:15.413Z"
   },
   {
    "duration": 55,
    "start_time": "2021-10-15T08:35:15.426Z"
   },
   {
    "duration": 364,
    "start_time": "2021-10-15T08:35:15.483Z"
   },
   {
    "duration": 349,
    "start_time": "2021-10-15T08:35:15.849Z"
   },
   {
    "duration": 365,
    "start_time": "2021-10-15T08:35:16.200Z"
   },
   {
    "duration": 30,
    "start_time": "2021-10-15T08:35:16.567Z"
   },
   {
    "duration": 304,
    "start_time": "2021-10-15T08:35:16.599Z"
   },
   {
    "duration": 4,
    "start_time": "2021-10-15T08:35:16.905Z"
   },
   {
    "duration": 5,
    "start_time": "2021-10-15T08:35:16.911Z"
   },
   {
    "duration": 8,
    "start_time": "2021-10-15T08:35:16.917Z"
   },
   {
    "duration": 6,
    "start_time": "2021-10-15T08:35:16.926Z"
   },
   {
    "duration": 28282,
    "start_time": "2021-10-15T09:13:52.633Z"
   },
   {
    "duration": 44,
    "start_time": "2021-10-15T09:28:38.584Z"
   },
   {
    "duration": 10,
    "start_time": "2021-10-15T09:29:03.343Z"
   },
   {
    "duration": 13,
    "start_time": "2021-10-15T09:30:18.581Z"
   },
   {
    "duration": 7,
    "start_time": "2021-10-15T09:30:35.018Z"
   },
   {
    "duration": 8,
    "start_time": "2021-10-15T09:42:49.576Z"
   },
   {
    "duration": 39,
    "start_time": "2021-10-15T09:43:37.529Z"
   },
   {
    "duration": 9,
    "start_time": "2021-10-15T09:43:45.437Z"
   },
   {
    "duration": 7,
    "start_time": "2021-10-15T09:43:52.314Z"
   },
   {
    "duration": 35,
    "start_time": "2021-10-15T09:53:50.416Z"
   },
   {
    "duration": 42,
    "start_time": "2021-10-15T09:54:32.326Z"
   },
   {
    "duration": 45,
    "start_time": "2021-10-15T09:55:13.761Z"
   },
   {
    "duration": 34,
    "start_time": "2021-10-15T09:57:05.182Z"
   },
   {
    "duration": 6,
    "start_time": "2021-10-15T10:08:15.088Z"
   },
   {
    "duration": 7,
    "start_time": "2021-10-15T10:10:42.427Z"
   },
   {
    "duration": 362,
    "start_time": "2021-10-15T10:38:53.870Z"
   },
   {
    "duration": 354,
    "start_time": "2021-10-15T10:39:02.915Z"
   },
   {
    "duration": 351,
    "start_time": "2021-10-15T10:51:28.529Z"
   },
   {
    "duration": 400,
    "start_time": "2021-10-15T10:51:37.787Z"
   },
   {
    "duration": 387,
    "start_time": "2021-10-15T10:52:21.804Z"
   },
   {
    "duration": 25,
    "start_time": "2021-10-15T11:14:20.855Z"
   },
   {
    "duration": 26,
    "start_time": "2021-10-15T11:14:31.974Z"
   },
   {
    "duration": 16,
    "start_time": "2021-10-15T11:14:38.522Z"
   },
   {
    "duration": 5,
    "start_time": "2021-10-15T11:18:52.236Z"
   },
   {
    "duration": 4,
    "start_time": "2021-10-15T11:19:13.029Z"
   },
   {
    "duration": 8,
    "start_time": "2021-10-15T14:23:42.939Z"
   },
   {
    "duration": 8,
    "start_time": "2021-10-15T14:24:19.359Z"
   },
   {
    "duration": 16,
    "start_time": "2021-10-15T14:29:35.665Z"
   },
   {
    "duration": 16,
    "start_time": "2021-10-15T14:30:08.262Z"
   },
   {
    "duration": 5,
    "start_time": "2021-10-15T14:34:57.870Z"
   },
   {
    "duration": 7,
    "start_time": "2021-10-15T14:41:12.087Z"
   },
   {
    "duration": 5,
    "start_time": "2021-10-15T14:41:14.658Z"
   },
   {
    "duration": 10,
    "start_time": "2021-10-15T14:46:02.417Z"
   },
   {
    "duration": 87,
    "start_time": "2021-10-15T14:47:55.130Z"
   },
   {
    "duration": 10,
    "start_time": "2021-10-15T14:49:22.274Z"
   },
   {
    "duration": 11,
    "start_time": "2021-10-15T14:49:32.312Z"
   },
   {
    "duration": 6,
    "start_time": "2021-10-15T14:54:33.769Z"
   },
   {
    "duration": 11,
    "start_time": "2021-10-15T14:57:29.866Z"
   },
   {
    "duration": 18,
    "start_time": "2021-10-15T15:02:12.593Z"
   },
   {
    "duration": 22,
    "start_time": "2021-10-15T15:03:02.166Z"
   },
   {
    "duration": 10,
    "start_time": "2021-10-15T15:25:02.986Z"
   },
   {
    "duration": 10,
    "start_time": "2021-10-15T15:26:50.001Z"
   },
   {
    "duration": 8,
    "start_time": "2021-10-15T15:27:32.726Z"
   },
   {
    "duration": 6,
    "start_time": "2021-10-15T15:50:42.343Z"
   },
   {
    "duration": 544,
    "start_time": "2021-10-15T16:09:51.227Z"
   },
   {
    "duration": 380,
    "start_time": "2021-10-15T16:10:04.746Z"
   },
   {
    "duration": 24,
    "start_time": "2021-10-15T16:10:45.800Z"
   },
   {
    "duration": 5,
    "start_time": "2021-10-15T16:10:48.950Z"
   },
   {
    "duration": 92,
    "start_time": "2021-10-15T16:22:30.752Z"
   },
   {
    "duration": 84,
    "start_time": "2021-10-15T16:22:44.848Z"
   },
   {
    "duration": 726,
    "start_time": "2021-10-15T16:28:00.429Z"
   },
   {
    "duration": 84,
    "start_time": "2021-10-15T16:28:09.356Z"
   },
   {
    "duration": 99,
    "start_time": "2021-10-15T16:31:47.905Z"
   },
   {
    "duration": 87,
    "start_time": "2021-10-15T16:32:01.967Z"
   },
   {
    "duration": 111,
    "start_time": "2021-10-15T16:37:25.040Z"
   },
   {
    "duration": 101,
    "start_time": "2021-10-15T16:37:52.216Z"
   },
   {
    "duration": 131,
    "start_time": "2021-10-15T16:40:37.647Z"
   },
   {
    "duration": 98,
    "start_time": "2021-10-15T16:40:59.519Z"
   },
   {
    "duration": 480,
    "start_time": "2021-10-15T16:53:27.055Z"
   },
   {
    "duration": 115,
    "start_time": "2021-10-15T16:53:54.140Z"
   },
   {
    "duration": 115,
    "start_time": "2021-10-15T16:55:56.920Z"
   },
   {
    "duration": 118,
    "start_time": "2021-10-15T16:56:15.699Z"
   },
   {
    "duration": 115,
    "start_time": "2021-10-15T16:57:05.026Z"
   },
   {
    "duration": 513,
    "start_time": "2021-10-15T17:05:08.886Z"
   },
   {
    "duration": 119,
    "start_time": "2021-10-15T17:08:11.243Z"
   },
   {
    "duration": 127,
    "start_time": "2021-10-15T17:08:52.966Z"
   },
   {
    "duration": 120,
    "start_time": "2021-10-15T17:09:04.097Z"
   },
   {
    "duration": 385,
    "start_time": "2021-10-15T17:14:31.428Z"
   },
   {
    "duration": 23,
    "start_time": "2021-10-15T17:15:26.709Z"
   },
   {
    "duration": 24,
    "start_time": "2021-10-15T17:15:59.944Z"
   },
   {
    "duration": 25,
    "start_time": "2021-10-15T17:16:28.921Z"
   },
   {
    "duration": 7,
    "start_time": "2021-10-15T17:23:06.253Z"
   },
   {
    "duration": 116,
    "start_time": "2021-10-15T17:37:08.377Z"
   },
   {
    "duration": 9,
    "start_time": "2021-10-15T17:37:24.822Z"
   },
   {
    "duration": 8,
    "start_time": "2021-10-15T17:37:40.957Z"
   },
   {
    "duration": 127,
    "start_time": "2021-10-15T17:48:26.341Z"
   },
   {
    "duration": 204,
    "start_time": "2021-10-15T17:48:33.118Z"
   },
   {
    "duration": 205,
    "start_time": "2021-10-15T17:48:36.800Z"
   },
   {
    "duration": 148,
    "start_time": "2021-10-15T17:48:41.498Z"
   },
   {
    "duration": 96,
    "start_time": "2021-10-15T17:50:44.451Z"
   },
   {
    "duration": 247,
    "start_time": "2021-10-15T17:50:49.418Z"
   },
   {
    "duration": 8,
    "start_time": "2021-10-15T17:53:06.534Z"
   },
   {
    "duration": 3,
    "start_time": "2021-10-15T17:55:00.042Z"
   },
   {
    "duration": 96,
    "start_time": "2021-10-15T17:55:07.555Z"
   },
   {
    "duration": 252,
    "start_time": "2021-10-15T17:55:13.101Z"
   },
   {
    "duration": 244,
    "start_time": "2021-10-15T19:03:17.909Z"
   },
   {
    "duration": 31722,
    "start_time": "2021-10-15T19:14:09.857Z"
   },
   {
    "duration": 41,
    "start_time": "2021-10-15T19:18:44.412Z"
   },
   {
    "duration": 9,
    "start_time": "2021-10-15T19:18:56.756Z"
   },
   {
    "duration": 7,
    "start_time": "2021-10-15T19:19:40.293Z"
   },
   {
    "duration": 10,
    "start_time": "2021-10-15T19:22:56.129Z"
   },
   {
    "duration": 7,
    "start_time": "2021-10-15T19:28:38.268Z"
   },
   {
    "duration": 1036,
    "start_time": "2021-10-15T19:33:08.513Z"
   },
   {
    "duration": 534,
    "start_time": "2021-10-15T19:33:09.550Z"
   },
   {
    "duration": 3,
    "start_time": "2021-10-15T19:33:10.087Z"
   },
   {
    "duration": 43,
    "start_time": "2021-10-15T19:33:10.092Z"
   },
   {
    "duration": 9,
    "start_time": "2021-10-15T19:33:10.137Z"
   },
   {
    "duration": 131,
    "start_time": "2021-10-15T19:33:10.148Z"
   },
   {
    "duration": 26,
    "start_time": "2021-10-15T19:33:10.281Z"
   },
   {
    "duration": 4,
    "start_time": "2021-10-15T19:33:10.310Z"
   },
   {
    "duration": 9,
    "start_time": "2021-10-15T19:33:10.315Z"
   },
   {
    "duration": 56,
    "start_time": "2021-10-15T19:33:10.326Z"
   },
   {
    "duration": 25,
    "start_time": "2021-10-15T19:33:10.384Z"
   },
   {
    "duration": 9,
    "start_time": "2021-10-15T19:33:10.411Z"
   },
   {
    "duration": 57,
    "start_time": "2021-10-15T19:33:10.422Z"
   },
   {
    "duration": 159,
    "start_time": "2021-10-15T19:33:10.482Z"
   },
   {
    "duration": 54,
    "start_time": "2021-10-15T19:33:10.643Z"
   },
   {
    "duration": 148,
    "start_time": "2021-10-15T19:33:10.698Z"
   },
   {
    "duration": 113,
    "start_time": "2021-10-15T19:33:10.848Z"
   },
   {
    "duration": 24,
    "start_time": "2021-10-15T19:33:10.963Z"
   },
   {
    "duration": 49,
    "start_time": "2021-10-15T19:33:10.988Z"
   },
   {
    "duration": 111,
    "start_time": "2021-10-15T19:33:11.038Z"
   },
   {
    "duration": 132,
    "start_time": "2021-10-15T19:33:11.151Z"
   },
   {
    "duration": 5,
    "start_time": "2021-10-15T19:33:11.285Z"
   },
   {
    "duration": 38,
    "start_time": "2021-10-15T19:33:11.294Z"
   },
   {
    "duration": 6,
    "start_time": "2021-10-15T19:33:11.334Z"
   },
   {
    "duration": 37,
    "start_time": "2021-10-15T19:33:11.342Z"
   },
   {
    "duration": 17,
    "start_time": "2021-10-15T19:33:11.380Z"
   },
   {
    "duration": 12,
    "start_time": "2021-10-15T19:33:11.399Z"
   },
   {
    "duration": 5,
    "start_time": "2021-10-15T19:33:11.412Z"
   },
   {
    "duration": 188,
    "start_time": "2021-10-15T19:33:11.419Z"
   },
   {
    "duration": 8,
    "start_time": "2021-10-15T19:33:11.609Z"
   },
   {
    "duration": 761,
    "start_time": "2021-10-15T19:33:11.618Z"
   },
   {
    "duration": 9,
    "start_time": "2021-10-15T19:33:12.381Z"
   },
   {
    "duration": 147,
    "start_time": "2021-10-15T19:33:12.392Z"
   },
   {
    "duration": 344,
    "start_time": "2021-10-15T19:33:12.541Z"
   },
   {
    "duration": 82995,
    "start_time": "2021-10-15T19:33:12.886Z"
   },
   {
    "duration": 38,
    "start_time": "2021-10-15T19:34:35.883Z"
   },
   {
    "duration": 8,
    "start_time": "2021-10-15T19:34:35.922Z"
   },
   {
    "duration": 25,
    "start_time": "2021-10-15T19:34:35.932Z"
   },
   {
    "duration": 32,
    "start_time": "2021-10-15T19:34:35.958Z"
   },
   {
    "duration": 50,
    "start_time": "2021-10-15T19:34:35.991Z"
   },
   {
    "duration": 6,
    "start_time": "2021-10-15T19:34:36.043Z"
   },
   {
    "duration": 378,
    "start_time": "2021-10-15T19:34:36.050Z"
   },
   {
    "duration": 347,
    "start_time": "2021-10-15T19:34:36.429Z"
   },
   {
    "duration": 357,
    "start_time": "2021-10-15T19:34:36.778Z"
   },
   {
    "duration": 40,
    "start_time": "2021-10-15T19:34:37.136Z"
   },
   {
    "duration": 14,
    "start_time": "2021-10-15T19:34:37.178Z"
   },
   {
    "duration": 8,
    "start_time": "2021-10-15T19:34:37.194Z"
   },
   {
    "duration": 8,
    "start_time": "2021-10-15T19:34:37.203Z"
   },
   {
    "duration": 8,
    "start_time": "2021-10-15T19:34:37.212Z"
   },
   {
    "duration": 8,
    "start_time": "2021-10-15T19:34:37.222Z"
   },
   {
    "duration": 9,
    "start_time": "2021-10-15T19:42:35.377Z"
   },
   {
    "duration": 11,
    "start_time": "2021-10-15T19:42:41.766Z"
   },
   {
    "duration": 529,
    "start_time": "2021-10-15T19:45:11.964Z"
   },
   {
    "duration": 11,
    "start_time": "2021-10-15T19:45:36.930Z"
   },
   {
    "duration": 116,
    "start_time": "2021-10-15T19:47:06.097Z"
   },
   {
    "duration": 5,
    "start_time": "2021-10-15T19:47:16.819Z"
   },
   {
    "duration": 343,
    "start_time": "2021-10-15T19:59:17.810Z"
   },
   {
    "duration": 1074,
    "start_time": "2021-10-16T08:07:10.974Z"
   },
   {
    "duration": 533,
    "start_time": "2021-10-16T08:07:12.050Z"
   },
   {
    "duration": 4,
    "start_time": "2021-10-16T08:07:12.585Z"
   },
   {
    "duration": 37,
    "start_time": "2021-10-16T08:07:12.591Z"
   },
   {
    "duration": 8,
    "start_time": "2021-10-16T08:07:12.630Z"
   },
   {
    "duration": 137,
    "start_time": "2021-10-16T08:07:12.640Z"
   },
   {
    "duration": 25,
    "start_time": "2021-10-16T08:07:12.779Z"
   },
   {
    "duration": 4,
    "start_time": "2021-10-16T08:07:12.808Z"
   },
   {
    "duration": 9,
    "start_time": "2021-10-16T08:07:12.815Z"
   },
   {
    "duration": 58,
    "start_time": "2021-10-16T08:07:12.826Z"
   },
   {
    "duration": 24,
    "start_time": "2021-10-16T08:07:12.886Z"
   },
   {
    "duration": 9,
    "start_time": "2021-10-16T08:07:12.911Z"
   },
   {
    "duration": 23,
    "start_time": "2021-10-16T08:07:12.921Z"
   },
   {
    "duration": 172,
    "start_time": "2021-10-16T08:07:12.945Z"
   },
   {
    "duration": 37,
    "start_time": "2021-10-16T08:07:13.119Z"
   },
   {
    "duration": 157,
    "start_time": "2021-10-16T08:07:13.158Z"
   },
   {
    "duration": 104,
    "start_time": "2021-10-16T08:07:13.317Z"
   },
   {
    "duration": 12,
    "start_time": "2021-10-16T08:07:13.423Z"
   },
   {
    "duration": 64,
    "start_time": "2021-10-16T08:07:13.437Z"
   },
   {
    "duration": 101,
    "start_time": "2021-10-16T08:07:13.502Z"
   },
   {
    "duration": 130,
    "start_time": "2021-10-16T08:07:13.605Z"
   },
   {
    "duration": 5,
    "start_time": "2021-10-16T08:07:13.736Z"
   },
   {
    "duration": 56,
    "start_time": "2021-10-16T08:07:13.744Z"
   },
   {
    "duration": 5,
    "start_time": "2021-10-16T08:07:13.802Z"
   },
   {
    "duration": 7,
    "start_time": "2021-10-16T08:07:13.809Z"
   },
   {
    "duration": 14,
    "start_time": "2021-10-16T08:07:13.818Z"
   },
   {
    "duration": 44,
    "start_time": "2021-10-16T08:07:13.834Z"
   },
   {
    "duration": 6,
    "start_time": "2021-10-16T08:07:13.880Z"
   },
   {
    "duration": 191,
    "start_time": "2021-10-16T08:07:13.887Z"
   },
   {
    "duration": 9,
    "start_time": "2021-10-16T08:07:14.079Z"
   },
   {
    "duration": 850,
    "start_time": "2021-10-16T08:07:14.090Z"
   },
   {
    "duration": 8,
    "start_time": "2021-10-16T08:07:14.942Z"
   },
   {
    "duration": 103,
    "start_time": "2021-10-16T08:07:14.951Z"
   },
   {
    "duration": 267,
    "start_time": "2021-10-16T08:07:15.056Z"
   },
   {
    "duration": 81566,
    "start_time": "2021-10-16T08:07:15.325Z"
   },
   {
    "duration": 40,
    "start_time": "2021-10-16T08:08:36.892Z"
   },
   {
    "duration": 8,
    "start_time": "2021-10-16T08:08:36.934Z"
   },
   {
    "duration": 40,
    "start_time": "2021-10-16T08:08:36.944Z"
   },
   {
    "duration": 6,
    "start_time": "2021-10-16T08:08:36.985Z"
   },
   {
    "duration": 11,
    "start_time": "2021-10-16T08:08:36.993Z"
   },
   {
    "duration": 4,
    "start_time": "2021-10-16T08:08:37.005Z"
   },
   {
    "duration": 409,
    "start_time": "2021-10-16T08:08:37.011Z"
   },
   {
    "duration": 355,
    "start_time": "2021-10-16T08:08:37.422Z"
   },
   {
    "duration": 357,
    "start_time": "2021-10-16T08:08:37.778Z"
   },
   {
    "duration": 25,
    "start_time": "2021-10-16T08:08:38.136Z"
   },
   {
    "duration": 27,
    "start_time": "2021-10-16T08:08:38.163Z"
   },
   {
    "duration": 4,
    "start_time": "2021-10-16T08:08:38.191Z"
   },
   {
    "duration": 5,
    "start_time": "2021-10-16T08:08:38.197Z"
   },
   {
    "duration": 6,
    "start_time": "2021-10-16T08:08:38.204Z"
   },
   {
    "duration": 7,
    "start_time": "2021-10-16T08:08:38.212Z"
   },
   {
    "duration": 8,
    "start_time": "2021-10-16T08:14:02.404Z"
   },
   {
    "duration": 9,
    "start_time": "2021-10-16T08:14:51.545Z"
   },
   {
    "duration": 13,
    "start_time": "2021-10-16T08:17:18.809Z"
   },
   {
    "duration": 16,
    "start_time": "2021-10-16T08:17:31.513Z"
   },
   {
    "duration": 15,
    "start_time": "2021-10-16T08:18:03.858Z"
   },
   {
    "duration": 15,
    "start_time": "2021-10-16T08:19:10.661Z"
   },
   {
    "duration": 14,
    "start_time": "2021-10-16T08:20:46.607Z"
   },
   {
    "duration": 7,
    "start_time": "2021-10-16T08:21:06.733Z"
   },
   {
    "duration": 9,
    "start_time": "2021-10-16T08:21:34.213Z"
   },
   {
    "duration": 33,
    "start_time": "2021-10-16T08:31:54.636Z"
   },
   {
    "duration": 29,
    "start_time": "2021-10-16T08:32:33.022Z"
   },
   {
    "duration": 23,
    "start_time": "2021-10-16T08:34:23.466Z"
   },
   {
    "duration": 769,
    "start_time": "2021-10-16T08:39:14.968Z"
   },
   {
    "duration": 365,
    "start_time": "2021-10-16T08:41:10.919Z"
   },
   {
    "duration": 2,
    "start_time": "2021-10-16T08:41:27.064Z"
   },
   {
    "duration": 380,
    "start_time": "2021-10-16T08:41:30.281Z"
   },
   {
    "duration": 4,
    "start_time": "2021-10-16T08:47:03.321Z"
   },
   {
    "duration": 4,
    "start_time": "2021-10-16T08:50:36.057Z"
   },
   {
    "duration": 10,
    "start_time": "2021-10-16T08:52:17.399Z"
   },
   {
    "duration": 8,
    "start_time": "2021-10-16T09:39:33.168Z"
   },
   {
    "duration": 7,
    "start_time": "2021-10-16T09:42:03.418Z"
   },
   {
    "duration": 5,
    "start_time": "2021-10-16T09:50:57.798Z"
   },
   {
    "duration": 7,
    "start_time": "2021-10-16T09:52:54.041Z"
   },
   {
    "duration": 5,
    "start_time": "2021-10-16T09:56:15.924Z"
   },
   {
    "duration": 7,
    "start_time": "2021-10-16T09:57:11.195Z"
   },
   {
    "duration": 4,
    "start_time": "2021-10-16T10:00:41.227Z"
   },
   {
    "duration": 3,
    "start_time": "2021-10-16T10:01:03.763Z"
   },
   {
    "duration": 4,
    "start_time": "2021-10-16T10:02:12.612Z"
   },
   {
    "duration": 4,
    "start_time": "2021-10-16T10:05:08.982Z"
   },
   {
    "duration": 4,
    "start_time": "2021-10-16T10:05:30.152Z"
   },
   {
    "duration": 5,
    "start_time": "2021-10-16T11:17:17.297Z"
   },
   {
    "duration": 9,
    "start_time": "2021-10-16T11:17:29.925Z"
   },
   {
    "duration": 5,
    "start_time": "2021-10-16T11:20:34.728Z"
   },
   {
    "duration": 10,
    "start_time": "2021-10-16T11:20:37.215Z"
   },
   {
    "duration": 218,
    "start_time": "2021-10-16T13:51:50.261Z"
   },
   {
    "duration": 1089,
    "start_time": "2021-10-16T13:51:56.071Z"
   },
   {
    "duration": 543,
    "start_time": "2021-10-16T13:51:57.162Z"
   },
   {
    "duration": 3,
    "start_time": "2021-10-16T13:51:57.709Z"
   },
   {
    "duration": 36,
    "start_time": "2021-10-16T13:51:57.714Z"
   },
   {
    "duration": 8,
    "start_time": "2021-10-16T13:51:57.752Z"
   },
   {
    "duration": 30,
    "start_time": "2021-10-16T13:51:57.761Z"
   },
   {
    "duration": 9,
    "start_time": "2021-10-16T13:51:57.793Z"
   },
   {
    "duration": 728,
    "start_time": "2021-10-16T13:51:57.805Z"
   },
   {
    "duration": -1347,
    "start_time": "2021-10-16T13:51:59.883Z"
   },
   {
    "duration": -1386,
    "start_time": "2021-10-16T13:51:59.923Z"
   },
   {
    "duration": -1415,
    "start_time": "2021-10-16T13:51:59.953Z"
   },
   {
    "duration": -1431,
    "start_time": "2021-10-16T13:51:59.970Z"
   },
   {
    "duration": -1444,
    "start_time": "2021-10-16T13:51:59.984Z"
   },
   {
    "duration": -1450,
    "start_time": "2021-10-16T13:51:59.991Z"
   },
   {
    "duration": -1511,
    "start_time": "2021-10-16T13:52:00.053Z"
   },
   {
    "duration": -1541,
    "start_time": "2021-10-16T13:52:00.084Z"
   },
   {
    "duration": -1609,
    "start_time": "2021-10-16T13:52:00.153Z"
   },
   {
    "duration": -2292,
    "start_time": "2021-10-16T13:52:00.837Z"
   },
   {
    "duration": -2301,
    "start_time": "2021-10-16T13:52:00.847Z"
   },
   {
    "duration": -2309,
    "start_time": "2021-10-16T13:52:00.855Z"
   },
   {
    "duration": -2328,
    "start_time": "2021-10-16T13:52:00.876Z"
   },
   {
    "duration": -2345,
    "start_time": "2021-10-16T13:52:00.894Z"
   },
   {
    "duration": -2359,
    "start_time": "2021-10-16T13:52:00.909Z"
   },
   {
    "duration": -2398,
    "start_time": "2021-10-16T13:52:00.948Z"
   },
   {
    "duration": -2426,
    "start_time": "2021-10-16T13:52:00.977Z"
   },
   {
    "duration": -2434,
    "start_time": "2021-10-16T13:52:00.986Z"
   },
   {
    "duration": -2440,
    "start_time": "2021-10-16T13:52:00.993Z"
   },
   {
    "duration": -2453,
    "start_time": "2021-10-16T13:52:01.007Z"
   },
   {
    "duration": -2489,
    "start_time": "2021-10-16T13:52:01.044Z"
   },
   {
    "duration": -2499,
    "start_time": "2021-10-16T13:52:01.055Z"
   },
   {
    "duration": -2522,
    "start_time": "2021-10-16T13:52:01.079Z"
   },
   {
    "duration": -2543,
    "start_time": "2021-10-16T13:52:01.101Z"
   },
   {
    "duration": -2559,
    "start_time": "2021-10-16T13:52:01.117Z"
   },
   {
    "duration": -2568,
    "start_time": "2021-10-16T13:52:01.127Z"
   },
   {
    "duration": -2582,
    "start_time": "2021-10-16T13:52:01.142Z"
   },
   {
    "duration": -2599,
    "start_time": "2021-10-16T13:52:01.160Z"
   },
   {
    "duration": -2612,
    "start_time": "2021-10-16T13:52:01.174Z"
   },
   {
    "duration": -2623,
    "start_time": "2021-10-16T13:52:01.186Z"
   },
   {
    "duration": -2635,
    "start_time": "2021-10-16T13:52:01.199Z"
   },
   {
    "duration": -2644,
    "start_time": "2021-10-16T13:52:01.209Z"
   },
   {
    "duration": -2656,
    "start_time": "2021-10-16T13:52:01.222Z"
   },
   {
    "duration": -2667,
    "start_time": "2021-10-16T13:52:01.234Z"
   },
   {
    "duration": -2676,
    "start_time": "2021-10-16T13:52:01.243Z"
   },
   {
    "duration": -2683,
    "start_time": "2021-10-16T13:52:01.251Z"
   },
   {
    "duration": -2700,
    "start_time": "2021-10-16T13:52:01.269Z"
   },
   {
    "duration": -2718,
    "start_time": "2021-10-16T13:52:01.288Z"
   },
   {
    "duration": -2734,
    "start_time": "2021-10-16T13:52:01.305Z"
   },
   {
    "duration": -2750,
    "start_time": "2021-10-16T13:52:01.321Z"
   },
   {
    "duration": -2775,
    "start_time": "2021-10-16T13:52:01.366Z"
   },
   {
    "duration": -2784,
    "start_time": "2021-10-16T13:52:01.376Z"
   },
   {
    "duration": -2794,
    "start_time": "2021-10-16T13:52:01.386Z"
   },
   {
    "duration": -2801,
    "start_time": "2021-10-16T13:52:01.394Z"
   },
   {
    "duration": -2820,
    "start_time": "2021-10-16T13:52:01.414Z"
   },
   {
    "duration": -2906,
    "start_time": "2021-10-16T13:52:01.501Z"
   },
   {
    "duration": -2945,
    "start_time": "2021-10-16T13:52:01.541Z"
   },
   {
    "duration": -3028,
    "start_time": "2021-10-16T13:52:01.625Z"
   },
   {
    "duration": -3093,
    "start_time": "2021-10-16T13:52:01.691Z"
   },
   {
    "duration": -3123,
    "start_time": "2021-10-16T13:52:01.722Z"
   },
   {
    "duration": -3155,
    "start_time": "2021-10-16T13:52:01.755Z"
   },
   {
    "duration": 694,
    "start_time": "2021-10-16T13:53:12.071Z"
   },
   {
    "duration": 664,
    "start_time": "2021-10-16T13:53:37.772Z"
   },
   {
    "duration": 16,
    "start_time": "2021-10-16T13:54:47.624Z"
   },
   {
    "duration": 15,
    "start_time": "2021-10-16T13:55:03.421Z"
   },
   {
    "duration": 16,
    "start_time": "2021-10-16T13:55:11.720Z"
   },
   {
    "duration": 14,
    "start_time": "2021-10-16T13:56:04.671Z"
   },
   {
    "duration": 20,
    "start_time": "2021-10-16T13:56:20.097Z"
   },
   {
    "duration": 983,
    "start_time": "2021-10-16T13:57:11.914Z"
   },
   {
    "duration": 622,
    "start_time": "2021-10-16T13:57:12.899Z"
   },
   {
    "duration": 4,
    "start_time": "2021-10-16T13:57:13.525Z"
   },
   {
    "duration": 39,
    "start_time": "2021-10-16T13:57:13.531Z"
   },
   {
    "duration": 21,
    "start_time": "2021-10-16T13:57:13.571Z"
   },
   {
    "duration": 8,
    "start_time": "2021-10-16T13:57:13.593Z"
   },
   {
    "duration": 11,
    "start_time": "2021-10-16T13:57:13.602Z"
   },
   {
    "duration": 113,
    "start_time": "2021-10-16T13:57:13.615Z"
   },
   {
    "duration": 27,
    "start_time": "2021-10-16T13:57:13.730Z"
   },
   {
    "duration": 5,
    "start_time": "2021-10-16T13:57:13.758Z"
   },
   {
    "duration": 9,
    "start_time": "2021-10-16T13:57:13.791Z"
   },
   {
    "duration": 24,
    "start_time": "2021-10-16T13:57:13.802Z"
   },
   {
    "duration": 23,
    "start_time": "2021-10-16T13:57:13.827Z"
   },
   {
    "duration": 9,
    "start_time": "2021-10-16T13:57:13.852Z"
   },
   {
    "duration": 23,
    "start_time": "2021-10-16T13:57:13.892Z"
   },
   {
    "duration": 175,
    "start_time": "2021-10-16T13:57:13.917Z"
   },
   {
    "duration": 47,
    "start_time": "2021-10-16T13:57:14.094Z"
   },
   {
    "duration": 183,
    "start_time": "2021-10-16T13:57:14.144Z"
   },
   {
    "duration": 116,
    "start_time": "2021-10-16T13:57:14.329Z"
   },
   {
    "duration": 12,
    "start_time": "2021-10-16T13:57:14.447Z"
   },
   {
    "duration": 60,
    "start_time": "2021-10-16T13:57:14.461Z"
   },
   {
    "duration": 111,
    "start_time": "2021-10-16T13:57:14.523Z"
   },
   {
    "duration": 142,
    "start_time": "2021-10-16T13:57:14.636Z"
   },
   {
    "duration": 13,
    "start_time": "2021-10-16T13:57:14.780Z"
   },
   {
    "duration": 42,
    "start_time": "2021-10-16T13:57:14.794Z"
   },
   {
    "duration": 6,
    "start_time": "2021-10-16T13:57:14.840Z"
   },
   {
    "duration": 10,
    "start_time": "2021-10-16T13:57:14.848Z"
   },
   {
    "duration": 44,
    "start_time": "2021-10-16T13:57:14.859Z"
   },
   {
    "duration": 11,
    "start_time": "2021-10-16T13:57:14.905Z"
   },
   {
    "duration": 6,
    "start_time": "2021-10-16T13:57:14.918Z"
   },
   {
    "duration": 199,
    "start_time": "2021-10-16T13:57:14.926Z"
   },
   {
    "duration": 8,
    "start_time": "2021-10-16T13:57:15.127Z"
   },
   {
    "duration": 758,
    "start_time": "2021-10-16T13:57:15.137Z"
   },
   {
    "duration": 8,
    "start_time": "2021-10-16T13:57:15.897Z"
   },
   {
    "duration": 103,
    "start_time": "2021-10-16T13:57:15.907Z"
   },
   {
    "duration": 280,
    "start_time": "2021-10-16T13:57:16.011Z"
   },
   {
    "duration": 88308,
    "start_time": "2021-10-16T13:57:16.293Z"
   },
   {
    "duration": 44,
    "start_time": "2021-10-16T13:58:44.602Z"
   },
   {
    "duration": 9,
    "start_time": "2021-10-16T13:58:44.648Z"
   },
   {
    "duration": 35,
    "start_time": "2021-10-16T13:58:44.658Z"
   },
   {
    "duration": 7,
    "start_time": "2021-10-16T13:58:44.695Z"
   },
   {
    "duration": 11,
    "start_time": "2021-10-16T13:58:44.704Z"
   },
   {
    "duration": 4,
    "start_time": "2021-10-16T13:58:44.717Z"
   },
   {
    "duration": 439,
    "start_time": "2021-10-16T13:58:44.722Z"
   },
   {
    "duration": 372,
    "start_time": "2021-10-16T13:58:45.163Z"
   },
   {
    "duration": 368,
    "start_time": "2021-10-16T13:58:45.536Z"
   },
   {
    "duration": 12,
    "start_time": "2021-10-16T13:58:45.906Z"
   },
   {
    "duration": 33,
    "start_time": "2021-10-16T13:58:45.920Z"
   },
   {
    "duration": 51,
    "start_time": "2021-10-16T13:58:45.955Z"
   },
   {
    "duration": 4,
    "start_time": "2021-10-16T13:58:46.008Z"
   },
   {
    "duration": 7,
    "start_time": "2021-10-16T13:58:46.014Z"
   },
   {
    "duration": 6,
    "start_time": "2021-10-16T13:58:46.023Z"
   },
   {
    "duration": 10,
    "start_time": "2021-10-16T13:58:46.031Z"
   },
   {
    "duration": 6,
    "start_time": "2021-10-16T13:58:46.043Z"
   },
   {
    "duration": 7,
    "start_time": "2021-10-16T13:58:46.051Z"
   },
   {
    "duration": 5,
    "start_time": "2021-10-16T13:58:46.092Z"
   },
   {
    "duration": 7,
    "start_time": "2021-10-16T13:58:46.098Z"
   },
   {
    "duration": 5,
    "start_time": "2021-10-16T13:58:46.107Z"
   },
   {
    "duration": 12,
    "start_time": "2021-10-16T14:08:07.040Z"
   },
   {
    "duration": 13,
    "start_time": "2021-10-16T14:08:16.739Z"
   },
   {
    "duration": 62,
    "start_time": "2021-10-16T14:11:12.968Z"
   },
   {
    "duration": 498,
    "start_time": "2021-10-16T14:11:17.391Z"
   },
   {
    "duration": 16,
    "start_time": "2021-10-16T14:11:26.735Z"
   },
   {
    "duration": 8,
    "start_time": "2021-10-16T14:11:47.710Z"
   },
   {
    "duration": 17,
    "start_time": "2021-10-16T14:11:54.859Z"
   },
   {
    "duration": 14,
    "start_time": "2021-10-16T14:11:58.610Z"
   },
   {
    "duration": 14,
    "start_time": "2021-10-16T14:12:31.585Z"
   },
   {
    "duration": 14,
    "start_time": "2021-10-16T14:12:36.436Z"
   },
   {
    "duration": 13,
    "start_time": "2021-10-16T14:12:46.485Z"
   },
   {
    "duration": 14,
    "start_time": "2021-10-16T14:13:06.261Z"
   },
   {
    "duration": 8,
    "start_time": "2021-10-16T14:17:26.969Z"
   },
   {
    "duration": 9,
    "start_time": "2021-10-16T14:18:08.045Z"
   },
   {
    "duration": 8,
    "start_time": "2021-10-16T14:18:22.263Z"
   },
   {
    "duration": 7,
    "start_time": "2021-10-16T14:18:53.990Z"
   },
   {
    "duration": 171,
    "start_time": "2021-10-16T14:19:28.978Z"
   },
   {
    "duration": 799,
    "start_time": "2021-10-16T14:19:42.497Z"
   },
   {
    "duration": 123,
    "start_time": "2021-10-16T14:20:05.325Z"
   },
   {
    "duration": 998,
    "start_time": "2021-10-16T14:28:20.967Z"
   },
   {
    "duration": 545,
    "start_time": "2021-10-16T14:28:21.967Z"
   },
   {
    "duration": 3,
    "start_time": "2021-10-16T14:28:22.514Z"
   },
   {
    "duration": 35,
    "start_time": "2021-10-16T14:28:22.519Z"
   },
   {
    "duration": 9,
    "start_time": "2021-10-16T14:28:22.555Z"
   },
   {
    "duration": 7,
    "start_time": "2021-10-16T14:28:22.565Z"
   },
   {
    "duration": 25,
    "start_time": "2021-10-16T14:28:22.573Z"
   },
   {
    "duration": 110,
    "start_time": "2021-10-16T14:28:22.599Z"
   },
   {
    "duration": 25,
    "start_time": "2021-10-16T14:28:22.712Z"
   },
   {
    "duration": 5,
    "start_time": "2021-10-16T14:28:22.739Z"
   },
   {
    "duration": 12,
    "start_time": "2021-10-16T14:28:22.745Z"
   },
   {
    "duration": 52,
    "start_time": "2021-10-16T14:28:22.759Z"
   },
   {
    "duration": 26,
    "start_time": "2021-10-16T14:28:22.813Z"
   },
   {
    "duration": 9,
    "start_time": "2021-10-16T14:28:22.841Z"
   },
   {
    "duration": 51,
    "start_time": "2021-10-16T14:28:22.852Z"
   },
   {
    "duration": 164,
    "start_time": "2021-10-16T14:28:22.905Z"
   },
   {
    "duration": 49,
    "start_time": "2021-10-16T14:28:23.071Z"
   },
   {
    "duration": 153,
    "start_time": "2021-10-16T14:28:23.122Z"
   },
   {
    "duration": 115,
    "start_time": "2021-10-16T14:28:23.276Z"
   },
   {
    "duration": 13,
    "start_time": "2021-10-16T14:28:23.393Z"
   },
   {
    "duration": 49,
    "start_time": "2021-10-16T14:28:23.408Z"
   },
   {
    "duration": 118,
    "start_time": "2021-10-16T14:28:23.459Z"
   },
   {
    "duration": 147,
    "start_time": "2021-10-16T14:28:23.579Z"
   },
   {
    "duration": 4,
    "start_time": "2021-10-16T14:28:23.728Z"
   },
   {
    "duration": 63,
    "start_time": "2021-10-16T14:28:23.734Z"
   },
   {
    "duration": 8,
    "start_time": "2021-10-16T14:28:23.798Z"
   },
   {
    "duration": 6,
    "start_time": "2021-10-16T14:28:23.810Z"
   },
   {
    "duration": 15,
    "start_time": "2021-10-16T14:28:23.819Z"
   },
   {
    "duration": 12,
    "start_time": "2021-10-16T14:28:23.836Z"
   },
   {
    "duration": 43,
    "start_time": "2021-10-16T14:28:23.849Z"
   },
   {
    "duration": 182,
    "start_time": "2021-10-16T14:28:23.894Z"
   },
   {
    "duration": 14,
    "start_time": "2021-10-16T14:28:24.078Z"
   },
   {
    "duration": 778,
    "start_time": "2021-10-16T14:28:24.094Z"
   },
   {
    "duration": 9,
    "start_time": "2021-10-16T14:28:24.874Z"
   },
   {
    "duration": 101,
    "start_time": "2021-10-16T14:28:24.892Z"
   },
   {
    "duration": 276,
    "start_time": "2021-10-16T14:28:24.995Z"
   },
   {
    "duration": 87365,
    "start_time": "2021-10-16T14:28:25.273Z"
   },
   {
    "duration": 61,
    "start_time": "2021-10-16T14:29:52.640Z"
   },
   {
    "duration": 10,
    "start_time": "2021-10-16T14:29:52.702Z"
   },
   {
    "duration": 13,
    "start_time": "2021-10-16T14:29:52.714Z"
   },
   {
    "duration": 8,
    "start_time": "2021-10-16T14:29:52.729Z"
   },
   {
    "duration": 12,
    "start_time": "2021-10-16T14:29:52.739Z"
   },
   {
    "duration": 40,
    "start_time": "2021-10-16T14:29:52.753Z"
   },
   {
    "duration": 22,
    "start_time": "2021-10-16T14:29:52.795Z"
   },
   {
    "duration": 535,
    "start_time": "2021-10-16T14:29:52.819Z"
   },
   {
    "duration": 417,
    "start_time": "2021-10-16T14:29:53.356Z"
   },
   {
    "duration": 474,
    "start_time": "2021-10-16T14:29:53.776Z"
   },
   {
    "duration": 10,
    "start_time": "2021-10-16T14:29:54.252Z"
   },
   {
    "duration": 50,
    "start_time": "2021-10-16T14:29:54.263Z"
   },
   {
    "duration": 24,
    "start_time": "2021-10-16T14:29:54.316Z"
   },
   {
    "duration": 816,
    "start_time": "2021-10-16T14:29:54.342Z"
   },
   {
    "duration": 3,
    "start_time": "2021-10-16T14:29:55.160Z"
   },
   {
    "duration": 26,
    "start_time": "2021-10-16T14:29:55.165Z"
   },
   {
    "duration": 6,
    "start_time": "2021-10-16T14:29:55.193Z"
   },
   {
    "duration": 8,
    "start_time": "2021-10-16T14:29:55.201Z"
   },
   {
    "duration": 5,
    "start_time": "2021-10-16T14:29:55.211Z"
   },
   {
    "duration": 12,
    "start_time": "2021-10-16T14:29:55.217Z"
   },
   {
    "duration": 6,
    "start_time": "2021-10-16T14:29:55.230Z"
   },
   {
    "duration": 5,
    "start_time": "2021-10-16T14:29:55.237Z"
   },
   {
    "duration": 4,
    "start_time": "2021-10-16T14:29:55.292Z"
   },
   {
    "duration": 3681,
    "start_time": "2021-10-19T15:21:53.886Z"
   },
   {
    "duration": 1284,
    "start_time": "2021-10-19T15:24:48.986Z"
   },
   {
    "duration": 748,
    "start_time": "2021-10-19T15:24:50.273Z"
   },
   {
    "duration": 6,
    "start_time": "2021-10-19T15:24:51.025Z"
   },
   {
    "duration": 79,
    "start_time": "2021-10-19T15:24:51.034Z"
   },
   {
    "duration": 15,
    "start_time": "2021-10-19T15:24:51.115Z"
   },
   {
    "duration": 24,
    "start_time": "2021-10-19T15:24:51.132Z"
   },
   {
    "duration": 47,
    "start_time": "2021-10-19T15:24:51.158Z"
   },
   {
    "duration": 152,
    "start_time": "2021-10-19T15:24:51.210Z"
   },
   {
    "duration": 51,
    "start_time": "2021-10-19T15:24:51.365Z"
   },
   {
    "duration": 5,
    "start_time": "2021-10-19T15:24:51.419Z"
   },
   {
    "duration": 28,
    "start_time": "2021-10-19T15:24:51.427Z"
   },
   {
    "duration": 57,
    "start_time": "2021-10-19T15:24:51.457Z"
   },
   {
    "duration": 38,
    "start_time": "2021-10-19T15:24:51.517Z"
   },
   {
    "duration": 33,
    "start_time": "2021-10-19T15:24:51.558Z"
   },
   {
    "duration": 65,
    "start_time": "2021-10-19T15:24:51.594Z"
   },
   {
    "duration": 194,
    "start_time": "2021-10-19T15:24:51.661Z"
   },
   {
    "duration": 69,
    "start_time": "2021-10-19T15:24:51.858Z"
   },
   {
    "duration": 219,
    "start_time": "2021-10-19T15:24:51.929Z"
   },
   {
    "duration": 179,
    "start_time": "2021-10-19T15:24:52.150Z"
   },
   {
    "duration": 21,
    "start_time": "2021-10-19T15:24:52.332Z"
   },
   {
    "duration": 97,
    "start_time": "2021-10-19T15:24:52.355Z"
   },
   {
    "duration": 160,
    "start_time": "2021-10-19T15:24:52.454Z"
   },
   {
    "duration": 228,
    "start_time": "2021-10-19T15:24:52.620Z"
   },
   {
    "duration": 7,
    "start_time": "2021-10-19T15:24:52.851Z"
   },
   {
    "duration": 80,
    "start_time": "2021-10-19T15:24:52.860Z"
   },
   {
    "duration": 39,
    "start_time": "2021-10-19T15:24:52.942Z"
   },
   {
    "duration": 9,
    "start_time": "2021-10-19T15:24:52.984Z"
   },
   {
    "duration": 29,
    "start_time": "2021-10-19T15:24:52.995Z"
   },
   {
    "duration": 18,
    "start_time": "2021-10-19T15:24:53.026Z"
   },
   {
    "duration": 10,
    "start_time": "2021-10-19T15:24:53.082Z"
   },
   {
    "duration": 292,
    "start_time": "2021-10-19T15:24:53.094Z"
   },
   {
    "duration": 12,
    "start_time": "2021-10-19T15:24:53.388Z"
   },
   {
    "duration": 1146,
    "start_time": "2021-10-19T15:24:53.403Z"
   },
   {
    "duration": 11,
    "start_time": "2021-10-19T15:24:54.551Z"
   },
   {
    "duration": 159,
    "start_time": "2021-10-19T15:24:54.564Z"
   },
   {
    "duration": 402,
    "start_time": "2021-10-19T15:24:54.726Z"
   },
   {
    "duration": 118553,
    "start_time": "2021-10-19T15:24:55.131Z"
   },
   {
    "duration": 66,
    "start_time": "2021-10-19T15:26:53.686Z"
   },
   {
    "duration": 37,
    "start_time": "2021-10-19T15:26:53.755Z"
   },
   {
    "duration": 16,
    "start_time": "2021-10-19T15:26:53.794Z"
   },
   {
    "duration": 5,
    "start_time": "2021-10-19T15:26:53.813Z"
   },
   {
    "duration": 679,
    "start_time": "2021-10-19T15:26:53.821Z"
   },
   {
    "duration": 627,
    "start_time": "2021-10-19T15:26:54.503Z"
   },
   {
    "duration": 624,
    "start_time": "2021-10-19T15:26:55.132Z"
   },
   {
    "duration": 27,
    "start_time": "2021-10-19T15:26:55.758Z"
   },
   {
    "duration": 44,
    "start_time": "2021-10-19T15:26:55.787Z"
   },
   {
    "duration": 56,
    "start_time": "2021-10-19T15:26:55.833Z"
   },
   {
    "duration": 5,
    "start_time": "2021-10-19T15:26:55.891Z"
   },
   {
    "duration": 7,
    "start_time": "2021-10-19T15:26:55.898Z"
   },
   {
    "duration": 8,
    "start_time": "2021-10-19T15:26:55.908Z"
   },
   {
    "duration": 25,
    "start_time": "2021-10-19T15:26:55.918Z"
   },
   {
    "duration": 10,
    "start_time": "2021-10-19T15:26:55.945Z"
   },
   {
    "duration": 29,
    "start_time": "2021-10-19T15:26:55.957Z"
   },
   {
    "duration": 17,
    "start_time": "2021-10-19T15:26:55.988Z"
   },
   {
    "duration": 24,
    "start_time": "2021-10-19T15:26:56.007Z"
   },
   {
    "duration": 13,
    "start_time": "2021-10-19T15:26:56.033Z"
   }
  ],
  "kernelspec": {
   "display_name": "Python 3",
   "language": "python",
   "name": "python3"
  },
  "language_info": {
   "codemirror_mode": {
    "name": "ipython",
    "version": 3
   },
   "file_extension": ".py",
   "mimetype": "text/x-python",
   "name": "python",
   "nbconvert_exporter": "python",
   "pygments_lexer": "ipython3",
   "version": "3.7.8"
  },
  "toc": {
   "base_numbering": 1,
   "nav_menu": {},
   "number_sections": true,
   "sideBar": true,
   "skip_h1_title": true,
   "title_cell": "Table of Contents",
   "title_sidebar": "Contents",
   "toc_cell": false,
   "toc_position": {},
   "toc_section_display": true,
   "toc_window_display": false
  }
 },
 "nbformat": 4,
 "nbformat_minor": 2
}
