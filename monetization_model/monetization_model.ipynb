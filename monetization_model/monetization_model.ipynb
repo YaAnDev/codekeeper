{
 "cells": [
  {
   "cell_type": "markdown",
   "metadata": {},
   "source": [
    "# Формирование модели монетизации для игры \"Космические братья\""
   ]
  },
  {
   "cell_type": "markdown",
   "metadata": {},
   "source": [
    "# *Краткое описание*"
   ]
  },
  {
   "cell_type": "markdown",
   "metadata": {},
   "source": [
    "**Цели и задачи проекта:** \n",
    "\n",
    "*Предложить модель монетизации для игры \"Космические братья\" и предоставить рекомендации на основе имеющихся данных.*\n",
    "\n",
    "*Для выполнения поставленной задачи предстоит работать с данными, содержащимися в трех датасетах формата csv.*"
   ]
  },
  {
   "cell_type": "markdown",
   "metadata": {},
   "source": [
    "**План работы:**\n",
    "1. Откроем файлы с данными, изучим общую информацию и предобработаем их.\n",
    "2. Проанализируем данные и рассчитаем метрики.\n",
    "3. Проверим гипотезы.\n",
    "4. Подготовим выводы исследования и презентацию."
   ]
  },
  {
   "cell_type": "markdown",
   "metadata": {},
   "source": [
    "**Оглавление**"
   ]
  },
  {
   "cell_type": "markdown",
   "metadata": {},
   "source": [
    "1. [Ознакомление с данными и предобработка](#start)\n",
    "2. [Анализ данных и расчет метрик](#analyzing)\n",
    "3. [Проверка гипотез](#hypothesis_checking)\n",
    "4. [Общие выводы](#summary)"
   ]
  },
  {
   "cell_type": "markdown",
   "metadata": {},
   "source": [
    "**Материалы**\n",
    "1. [Презентация](https://drive.google.com/file/d/1ClDYgYKFfkB96pLC7GPwKXz97XAprfqQ/view?usp=sharing)  \n",
    "2. [Дашборд](https://public.tableau.com/app/profile/anton7665/viz/Kit2forYandex/Dashboard1#1)"
   ]
  },
  {
   "cell_type": "markdown",
   "metadata": {},
   "source": [
    "<a id=\"start\"></a>\n",
    "## Ознакомление с данными и предобработка "
   ]
  },
  {
   "cell_type": "code",
   "execution_count": 1,
   "metadata": {},
   "outputs": [],
   "source": [
    "import pandas as pd\n",
    "import matplotlib.pyplot as plt\n",
    "import seaborn as sns\n",
    "from scipy import stats as st\n",
    "import numpy as np"
   ]
  },
  {
   "cell_type": "code",
   "execution_count": 2,
   "metadata": {},
   "outputs": [],
   "source": [
    "#сохраним данные в соответствующие переменные\n",
    "game_actions = pd.read_csv('/datasets/game_actions.csv')\n",
    "ad_costs = pd.read_csv('/datasets/ad_costs.csv')\n",
    "user_source = pd.read_csv('/datasets/user_source.csv')"
   ]
  },
  {
   "cell_type": "code",
   "execution_count": 3,
   "metadata": {},
   "outputs": [],
   "source": [
    "#создадим функцию для ознакомления с данными\n",
    "def data_info(data):\n",
    "    print('Визуальное ознакомление с датасетом')\n",
    "    display(data.head())\n",
    "    print()\n",
    "    print('Получение информации о датасете')\n",
    "    display(data.describe())\n",
    "    print()\n",
    "    display(data.info())\n",
    "    print()\n",
    "    print('Доля пропущенных значений')\n",
    "    display(data.isna().mean()*100)     "
   ]
  },
  {
   "cell_type": "code",
   "execution_count": 4,
   "metadata": {},
   "outputs": [
    {
     "name": "stdout",
     "output_type": "stream",
     "text": [
      "Визуальное ознакомление с датасетом\n"
     ]
    },
    {
     "data": {
      "text/html": [
       "<div>\n",
       "<style scoped>\n",
       "    .dataframe tbody tr th:only-of-type {\n",
       "        vertical-align: middle;\n",
       "    }\n",
       "\n",
       "    .dataframe tbody tr th {\n",
       "        vertical-align: top;\n",
       "    }\n",
       "\n",
       "    .dataframe thead th {\n",
       "        text-align: right;\n",
       "    }\n",
       "</style>\n",
       "<table border=\"1\" class=\"dataframe\">\n",
       "  <thead>\n",
       "    <tr style=\"text-align: right;\">\n",
       "      <th></th>\n",
       "      <th>event_datetime</th>\n",
       "      <th>event</th>\n",
       "      <th>building_type</th>\n",
       "      <th>user_id</th>\n",
       "      <th>project_type</th>\n",
       "    </tr>\n",
       "  </thead>\n",
       "  <tbody>\n",
       "    <tr>\n",
       "      <td>0</td>\n",
       "      <td>2020-05-04 00:00:01</td>\n",
       "      <td>building</td>\n",
       "      <td>assembly_shop</td>\n",
       "      <td>55e92310-cb8e-4754-b622-597e124b03de</td>\n",
       "      <td>NaN</td>\n",
       "    </tr>\n",
       "    <tr>\n",
       "      <td>1</td>\n",
       "      <td>2020-05-04 00:00:03</td>\n",
       "      <td>building</td>\n",
       "      <td>assembly_shop</td>\n",
       "      <td>c07b1c10-f477-44dc-81dc-ec82254b1347</td>\n",
       "      <td>NaN</td>\n",
       "    </tr>\n",
       "    <tr>\n",
       "      <td>2</td>\n",
       "      <td>2020-05-04 00:00:16</td>\n",
       "      <td>building</td>\n",
       "      <td>assembly_shop</td>\n",
       "      <td>6edd42cc-e753-4ff6-a947-2107cd560710</td>\n",
       "      <td>NaN</td>\n",
       "    </tr>\n",
       "    <tr>\n",
       "      <td>3</td>\n",
       "      <td>2020-05-04 00:00:16</td>\n",
       "      <td>building</td>\n",
       "      <td>assembly_shop</td>\n",
       "      <td>92c69003-d60a-444a-827f-8cc51bf6bf4c</td>\n",
       "      <td>NaN</td>\n",
       "    </tr>\n",
       "    <tr>\n",
       "      <td>4</td>\n",
       "      <td>2020-05-04 00:00:35</td>\n",
       "      <td>building</td>\n",
       "      <td>assembly_shop</td>\n",
       "      <td>cdc6bb92-0ccb-4490-9866-ef142f09139d</td>\n",
       "      <td>NaN</td>\n",
       "    </tr>\n",
       "  </tbody>\n",
       "</table>\n",
       "</div>"
      ],
      "text/plain": [
       "        event_datetime     event  building_type  \\\n",
       "0  2020-05-04 00:00:01  building  assembly_shop   \n",
       "1  2020-05-04 00:00:03  building  assembly_shop   \n",
       "2  2020-05-04 00:00:16  building  assembly_shop   \n",
       "3  2020-05-04 00:00:16  building  assembly_shop   \n",
       "4  2020-05-04 00:00:35  building  assembly_shop   \n",
       "\n",
       "                                user_id project_type  \n",
       "0  55e92310-cb8e-4754-b622-597e124b03de          NaN  \n",
       "1  c07b1c10-f477-44dc-81dc-ec82254b1347          NaN  \n",
       "2  6edd42cc-e753-4ff6-a947-2107cd560710          NaN  \n",
       "3  92c69003-d60a-444a-827f-8cc51bf6bf4c          NaN  \n",
       "4  cdc6bb92-0ccb-4490-9866-ef142f09139d          NaN  "
      ]
     },
     "metadata": {},
     "output_type": "display_data"
    },
    {
     "name": "stdout",
     "output_type": "stream",
     "text": [
      "\n",
      "Получение информации о датасете\n"
     ]
    },
    {
     "data": {
      "text/html": [
       "<div>\n",
       "<style scoped>\n",
       "    .dataframe tbody tr th:only-of-type {\n",
       "        vertical-align: middle;\n",
       "    }\n",
       "\n",
       "    .dataframe tbody tr th {\n",
       "        vertical-align: top;\n",
       "    }\n",
       "\n",
       "    .dataframe thead th {\n",
       "        text-align: right;\n",
       "    }\n",
       "</style>\n",
       "<table border=\"1\" class=\"dataframe\">\n",
       "  <thead>\n",
       "    <tr style=\"text-align: right;\">\n",
       "      <th></th>\n",
       "      <th>event_datetime</th>\n",
       "      <th>event</th>\n",
       "      <th>building_type</th>\n",
       "      <th>user_id</th>\n",
       "      <th>project_type</th>\n",
       "    </tr>\n",
       "  </thead>\n",
       "  <tbody>\n",
       "    <tr>\n",
       "      <td>count</td>\n",
       "      <td>135640</td>\n",
       "      <td>135640</td>\n",
       "      <td>127957</td>\n",
       "      <td>135640</td>\n",
       "      <td>1866</td>\n",
       "    </tr>\n",
       "    <tr>\n",
       "      <td>unique</td>\n",
       "      <td>128790</td>\n",
       "      <td>3</td>\n",
       "      <td>3</td>\n",
       "      <td>13576</td>\n",
       "      <td>1</td>\n",
       "    </tr>\n",
       "    <tr>\n",
       "      <td>top</td>\n",
       "      <td>2020-05-10 03:08:18</td>\n",
       "      <td>building</td>\n",
       "      <td>spaceport</td>\n",
       "      <td>ff841992-d93b-462e-bc6e-18c24a514f36</td>\n",
       "      <td>satellite_orbital_assembly</td>\n",
       "    </tr>\n",
       "    <tr>\n",
       "      <td>freq</td>\n",
       "      <td>4</td>\n",
       "      <td>127957</td>\n",
       "      <td>59325</td>\n",
       "      <td>22</td>\n",
       "      <td>1866</td>\n",
       "    </tr>\n",
       "  </tbody>\n",
       "</table>\n",
       "</div>"
      ],
      "text/plain": [
       "             event_datetime     event building_type  \\\n",
       "count                135640    135640        127957   \n",
       "unique               128790         3             3   \n",
       "top     2020-05-10 03:08:18  building     spaceport   \n",
       "freq                      4    127957         59325   \n",
       "\n",
       "                                     user_id                project_type  \n",
       "count                                 135640                        1866  \n",
       "unique                                 13576                           1  \n",
       "top     ff841992-d93b-462e-bc6e-18c24a514f36  satellite_orbital_assembly  \n",
       "freq                                      22                        1866  "
      ]
     },
     "metadata": {},
     "output_type": "display_data"
    },
    {
     "name": "stdout",
     "output_type": "stream",
     "text": [
      "\n",
      "<class 'pandas.core.frame.DataFrame'>\n",
      "RangeIndex: 135640 entries, 0 to 135639\n",
      "Data columns (total 5 columns):\n",
      "event_datetime    135640 non-null object\n",
      "event             135640 non-null object\n",
      "building_type     127957 non-null object\n",
      "user_id           135640 non-null object\n",
      "project_type      1866 non-null object\n",
      "dtypes: object(5)\n",
      "memory usage: 5.2+ MB\n"
     ]
    },
    {
     "data": {
      "text/plain": [
       "None"
      ]
     },
     "metadata": {},
     "output_type": "display_data"
    },
    {
     "name": "stdout",
     "output_type": "stream",
     "text": [
      "\n",
      "Доля пропущенных значений\n"
     ]
    },
    {
     "data": {
      "text/plain": [
       "event_datetime     0.000000\n",
       "event              0.000000\n",
       "building_type      5.664258\n",
       "user_id            0.000000\n",
       "project_type      98.624300\n",
       "dtype: float64"
      ]
     },
     "metadata": {},
     "output_type": "display_data"
    }
   ],
   "source": [
    "#знакомимся с датасетом game_actions\n",
    "data_info(game_actions)"
   ]
  },
  {
   "cell_type": "code",
   "execution_count": 5,
   "metadata": {
    "scrolled": true
   },
   "outputs": [
    {
     "data": {
      "text/plain": [
       "spaceport          59325\n",
       "assembly_shop      54494\n",
       "research_center    14138\n",
       "Name: building_type, dtype: int64"
      ]
     },
     "metadata": {},
     "output_type": "display_data"
    },
    {
     "data": {
      "text/plain": [
       "building            127957\n",
       "finished_stage_1      5817\n",
       "project               1866\n",
       "Name: event, dtype: int64"
      ]
     },
     "metadata": {},
     "output_type": "display_data"
    }
   ],
   "source": [
    "#также посмотрим на уникальные значения в столбце building_type, event\n",
    "#на случай неадекватных значений\n",
    "display(game_actions['building_type'].value_counts())\n",
    "display(game_actions['event'].value_counts())"
   ]
  },
  {
   "cell_type": "code",
   "execution_count": 6,
   "metadata": {},
   "outputs": [
    {
     "name": "stdout",
     "output_type": "stream",
     "text": [
      "Визуальное ознакомление с датасетом\n"
     ]
    },
    {
     "data": {
      "text/html": [
       "<div>\n",
       "<style scoped>\n",
       "    .dataframe tbody tr th:only-of-type {\n",
       "        vertical-align: middle;\n",
       "    }\n",
       "\n",
       "    .dataframe tbody tr th {\n",
       "        vertical-align: top;\n",
       "    }\n",
       "\n",
       "    .dataframe thead th {\n",
       "        text-align: right;\n",
       "    }\n",
       "</style>\n",
       "<table border=\"1\" class=\"dataframe\">\n",
       "  <thead>\n",
       "    <tr style=\"text-align: right;\">\n",
       "      <th></th>\n",
       "      <th>source</th>\n",
       "      <th>day</th>\n",
       "      <th>cost</th>\n",
       "    </tr>\n",
       "  </thead>\n",
       "  <tbody>\n",
       "    <tr>\n",
       "      <td>0</td>\n",
       "      <td>facebook_ads</td>\n",
       "      <td>2020-05-03</td>\n",
       "      <td>935.882786</td>\n",
       "    </tr>\n",
       "    <tr>\n",
       "      <td>1</td>\n",
       "      <td>facebook_ads</td>\n",
       "      <td>2020-05-04</td>\n",
       "      <td>548.354480</td>\n",
       "    </tr>\n",
       "    <tr>\n",
       "      <td>2</td>\n",
       "      <td>facebook_ads</td>\n",
       "      <td>2020-05-05</td>\n",
       "      <td>260.185754</td>\n",
       "    </tr>\n",
       "    <tr>\n",
       "      <td>3</td>\n",
       "      <td>facebook_ads</td>\n",
       "      <td>2020-05-06</td>\n",
       "      <td>177.982200</td>\n",
       "    </tr>\n",
       "    <tr>\n",
       "      <td>4</td>\n",
       "      <td>facebook_ads</td>\n",
       "      <td>2020-05-07</td>\n",
       "      <td>111.766796</td>\n",
       "    </tr>\n",
       "  </tbody>\n",
       "</table>\n",
       "</div>"
      ],
      "text/plain": [
       "         source         day        cost\n",
       "0  facebook_ads  2020-05-03  935.882786\n",
       "1  facebook_ads  2020-05-04  548.354480\n",
       "2  facebook_ads  2020-05-05  260.185754\n",
       "3  facebook_ads  2020-05-06  177.982200\n",
       "4  facebook_ads  2020-05-07  111.766796"
      ]
     },
     "metadata": {},
     "output_type": "display_data"
    },
    {
     "name": "stdout",
     "output_type": "stream",
     "text": [
      "\n",
      "Получение информации о датасете\n"
     ]
    },
    {
     "data": {
      "text/html": [
       "<div>\n",
       "<style scoped>\n",
       "    .dataframe tbody tr th:only-of-type {\n",
       "        vertical-align: middle;\n",
       "    }\n",
       "\n",
       "    .dataframe tbody tr th {\n",
       "        vertical-align: top;\n",
       "    }\n",
       "\n",
       "    .dataframe thead th {\n",
       "        text-align: right;\n",
       "    }\n",
       "</style>\n",
       "<table border=\"1\" class=\"dataframe\">\n",
       "  <thead>\n",
       "    <tr style=\"text-align: right;\">\n",
       "      <th></th>\n",
       "      <th>cost</th>\n",
       "    </tr>\n",
       "  </thead>\n",
       "  <tbody>\n",
       "    <tr>\n",
       "      <td>count</td>\n",
       "      <td>28.000000</td>\n",
       "    </tr>\n",
       "    <tr>\n",
       "      <td>mean</td>\n",
       "      <td>271.556321</td>\n",
       "    </tr>\n",
       "    <tr>\n",
       "      <td>std</td>\n",
       "      <td>286.867650</td>\n",
       "    </tr>\n",
       "    <tr>\n",
       "      <td>min</td>\n",
       "      <td>23.314669</td>\n",
       "    </tr>\n",
       "    <tr>\n",
       "      <td>25%</td>\n",
       "      <td>66.747365</td>\n",
       "    </tr>\n",
       "    <tr>\n",
       "      <td>50%</td>\n",
       "      <td>160.056443</td>\n",
       "    </tr>\n",
       "    <tr>\n",
       "      <td>75%</td>\n",
       "      <td>349.034473</td>\n",
       "    </tr>\n",
       "    <tr>\n",
       "      <td>max</td>\n",
       "      <td>969.139394</td>\n",
       "    </tr>\n",
       "  </tbody>\n",
       "</table>\n",
       "</div>"
      ],
      "text/plain": [
       "             cost\n",
       "count   28.000000\n",
       "mean   271.556321\n",
       "std    286.867650\n",
       "min     23.314669\n",
       "25%     66.747365\n",
       "50%    160.056443\n",
       "75%    349.034473\n",
       "max    969.139394"
      ]
     },
     "metadata": {},
     "output_type": "display_data"
    },
    {
     "name": "stdout",
     "output_type": "stream",
     "text": [
      "\n",
      "<class 'pandas.core.frame.DataFrame'>\n",
      "RangeIndex: 28 entries, 0 to 27\n",
      "Data columns (total 3 columns):\n",
      "source    28 non-null object\n",
      "day       28 non-null object\n",
      "cost      28 non-null float64\n",
      "dtypes: float64(1), object(2)\n",
      "memory usage: 800.0+ bytes\n"
     ]
    },
    {
     "data": {
      "text/plain": [
       "None"
      ]
     },
     "metadata": {},
     "output_type": "display_data"
    },
    {
     "name": "stdout",
     "output_type": "stream",
     "text": [
      "\n",
      "Доля пропущенных значений\n"
     ]
    },
    {
     "data": {
      "text/plain": [
       "source    0.0\n",
       "day       0.0\n",
       "cost      0.0\n",
       "dtype: float64"
      ]
     },
     "metadata": {},
     "output_type": "display_data"
    }
   ],
   "source": [
    "#знакомимся с датасетом ad_costs\n",
    "data_info(ad_costs)"
   ]
  },
  {
   "cell_type": "code",
   "execution_count": 7,
   "metadata": {},
   "outputs": [
    {
     "data": {
      "text/plain": [
       "yandex_direct              7\n",
       "instagram_new_adverts      7\n",
       "facebook_ads               7\n",
       "youtube_channel_reklama    7\n",
       "Name: source, dtype: int64"
      ]
     },
     "execution_count": 7,
     "metadata": {},
     "output_type": "execute_result"
    }
   ],
   "source": [
    "#также посмотрим на уникальные значения в столбце source\n",
    "#на случай неадекватных значений\n",
    "ad_costs['source'].value_counts()"
   ]
  },
  {
   "cell_type": "code",
   "execution_count": 8,
   "metadata": {},
   "outputs": [
    {
     "name": "stdout",
     "output_type": "stream",
     "text": [
      "Визуальное ознакомление с датасетом\n"
     ]
    },
    {
     "data": {
      "text/html": [
       "<div>\n",
       "<style scoped>\n",
       "    .dataframe tbody tr th:only-of-type {\n",
       "        vertical-align: middle;\n",
       "    }\n",
       "\n",
       "    .dataframe tbody tr th {\n",
       "        vertical-align: top;\n",
       "    }\n",
       "\n",
       "    .dataframe thead th {\n",
       "        text-align: right;\n",
       "    }\n",
       "</style>\n",
       "<table border=\"1\" class=\"dataframe\">\n",
       "  <thead>\n",
       "    <tr style=\"text-align: right;\">\n",
       "      <th></th>\n",
       "      <th>user_id</th>\n",
       "      <th>source</th>\n",
       "    </tr>\n",
       "  </thead>\n",
       "  <tbody>\n",
       "    <tr>\n",
       "      <td>0</td>\n",
       "      <td>0001f83c-c6ac-4621-b7f0-8a28b283ac30</td>\n",
       "      <td>facebook_ads</td>\n",
       "    </tr>\n",
       "    <tr>\n",
       "      <td>1</td>\n",
       "      <td>00151b4f-ba38-44a8-a650-d7cf130a0105</td>\n",
       "      <td>yandex_direct</td>\n",
       "    </tr>\n",
       "    <tr>\n",
       "      <td>2</td>\n",
       "      <td>001aaea6-3d14-43f1-8ca8-7f48820f17aa</td>\n",
       "      <td>youtube_channel_reklama</td>\n",
       "    </tr>\n",
       "    <tr>\n",
       "      <td>3</td>\n",
       "      <td>001d39dc-366c-4021-9604-6a3b9ff01e25</td>\n",
       "      <td>instagram_new_adverts</td>\n",
       "    </tr>\n",
       "    <tr>\n",
       "      <td>4</td>\n",
       "      <td>002f508f-67b6-479f-814b-b05f00d4e995</td>\n",
       "      <td>facebook_ads</td>\n",
       "    </tr>\n",
       "  </tbody>\n",
       "</table>\n",
       "</div>"
      ],
      "text/plain": [
       "                                user_id                   source\n",
       "0  0001f83c-c6ac-4621-b7f0-8a28b283ac30             facebook_ads\n",
       "1  00151b4f-ba38-44a8-a650-d7cf130a0105            yandex_direct\n",
       "2  001aaea6-3d14-43f1-8ca8-7f48820f17aa  youtube_channel_reklama\n",
       "3  001d39dc-366c-4021-9604-6a3b9ff01e25    instagram_new_adverts\n",
       "4  002f508f-67b6-479f-814b-b05f00d4e995             facebook_ads"
      ]
     },
     "metadata": {},
     "output_type": "display_data"
    },
    {
     "name": "stdout",
     "output_type": "stream",
     "text": [
      "\n",
      "Получение информации о датасете\n"
     ]
    },
    {
     "data": {
      "text/html": [
       "<div>\n",
       "<style scoped>\n",
       "    .dataframe tbody tr th:only-of-type {\n",
       "        vertical-align: middle;\n",
       "    }\n",
       "\n",
       "    .dataframe tbody tr th {\n",
       "        vertical-align: top;\n",
       "    }\n",
       "\n",
       "    .dataframe thead th {\n",
       "        text-align: right;\n",
       "    }\n",
       "</style>\n",
       "<table border=\"1\" class=\"dataframe\">\n",
       "  <thead>\n",
       "    <tr style=\"text-align: right;\">\n",
       "      <th></th>\n",
       "      <th>user_id</th>\n",
       "      <th>source</th>\n",
       "    </tr>\n",
       "  </thead>\n",
       "  <tbody>\n",
       "    <tr>\n",
       "      <td>count</td>\n",
       "      <td>13576</td>\n",
       "      <td>13576</td>\n",
       "    </tr>\n",
       "    <tr>\n",
       "      <td>unique</td>\n",
       "      <td>13576</td>\n",
       "      <td>4</td>\n",
       "    </tr>\n",
       "    <tr>\n",
       "      <td>top</td>\n",
       "      <td>8f68517d-3462-4c31-9336-5c7451b20729</td>\n",
       "      <td>yandex_direct</td>\n",
       "    </tr>\n",
       "    <tr>\n",
       "      <td>freq</td>\n",
       "      <td>1</td>\n",
       "      <td>4817</td>\n",
       "    </tr>\n",
       "  </tbody>\n",
       "</table>\n",
       "</div>"
      ],
      "text/plain": [
       "                                     user_id         source\n",
       "count                                  13576          13576\n",
       "unique                                 13576              4\n",
       "top     8f68517d-3462-4c31-9336-5c7451b20729  yandex_direct\n",
       "freq                                       1           4817"
      ]
     },
     "metadata": {},
     "output_type": "display_data"
    },
    {
     "name": "stdout",
     "output_type": "stream",
     "text": [
      "\n",
      "<class 'pandas.core.frame.DataFrame'>\n",
      "RangeIndex: 13576 entries, 0 to 13575\n",
      "Data columns (total 2 columns):\n",
      "user_id    13576 non-null object\n",
      "source     13576 non-null object\n",
      "dtypes: object(2)\n",
      "memory usage: 212.2+ KB\n"
     ]
    },
    {
     "data": {
      "text/plain": [
       "None"
      ]
     },
     "metadata": {},
     "output_type": "display_data"
    },
    {
     "name": "stdout",
     "output_type": "stream",
     "text": [
      "\n",
      "Доля пропущенных значений\n"
     ]
    },
    {
     "data": {
      "text/plain": [
       "user_id    0.0\n",
       "source     0.0\n",
       "dtype: float64"
      ]
     },
     "metadata": {},
     "output_type": "display_data"
    }
   ],
   "source": [
    "#знакомимся с датасетом user_source\n",
    "data_info(user_source)"
   ]
  },
  {
   "cell_type": "code",
   "execution_count": 9,
   "metadata": {},
   "outputs": [
    {
     "data": {
      "text/plain": [
       "yandex_direct              4817\n",
       "instagram_new_adverts      3347\n",
       "facebook_ads               2726\n",
       "youtube_channel_reklama    2686\n",
       "Name: source, dtype: int64"
      ]
     },
     "execution_count": 9,
     "metadata": {},
     "output_type": "execute_result"
    }
   ],
   "source": [
    "#также посмотрим на уникальные значения в столбце source\n",
    "#на случай неадекватных значений\n",
    "user_source['source'].value_counts()"
   ]
  },
  {
   "cell_type": "markdown",
   "metadata": {},
   "source": [
    "### Проверяем корректность наименований столбцов"
   ]
  },
  {
   "cell_type": "markdown",
   "metadata": {},
   "source": [
    "*Названия столбцов соответствуют содержанию. Сами названия оформлены корректно, поэтому наименования столбцов оставляем как есть.*"
   ]
  },
  {
   "cell_type": "markdown",
   "metadata": {},
   "source": [
    "### Исследуем пропущенные значения "
   ]
  },
  {
   "cell_type": "markdown",
   "metadata": {},
   "source": [
    "*Из информации, полученной выше, видим, что пропущенные значения были найдены в столбцах building_type (5.7%) и project_type (98.6%) датасета game_actions. В датасетах user_source и ad_costs пропуски отсутствуют.*"
   ]
  },
  {
   "cell_type": "code",
   "execution_count": 10,
   "metadata": {},
   "outputs": [
    {
     "data": {
      "text/html": [
       "<div>\n",
       "<style scoped>\n",
       "    .dataframe tbody tr th:only-of-type {\n",
       "        vertical-align: middle;\n",
       "    }\n",
       "\n",
       "    .dataframe tbody tr th {\n",
       "        vertical-align: top;\n",
       "    }\n",
       "\n",
       "    .dataframe thead th {\n",
       "        text-align: right;\n",
       "    }\n",
       "</style>\n",
       "<table border=\"1\" class=\"dataframe\">\n",
       "  <thead>\n",
       "    <tr style=\"text-align: right;\">\n",
       "      <th></th>\n",
       "      <th>event_datetime</th>\n",
       "      <th>event</th>\n",
       "      <th>building_type</th>\n",
       "      <th>user_id</th>\n",
       "      <th>project_type</th>\n",
       "    </tr>\n",
       "  </thead>\n",
       "  <tbody>\n",
       "    <tr>\n",
       "      <td>6659</td>\n",
       "      <td>2020-05-04 19:47:29</td>\n",
       "      <td>finished_stage_1</td>\n",
       "      <td>NaN</td>\n",
       "      <td>ced7b368-818f-48f6-9461-2346de0892c5</td>\n",
       "      <td>NaN</td>\n",
       "    </tr>\n",
       "    <tr>\n",
       "      <td>13134</td>\n",
       "      <td>2020-05-05 13:22:09</td>\n",
       "      <td>finished_stage_1</td>\n",
       "      <td>NaN</td>\n",
       "      <td>7ef7fc89-2779-46ea-b328-9e5035b83af5</td>\n",
       "      <td>NaN</td>\n",
       "    </tr>\n",
       "    <tr>\n",
       "      <td>15274</td>\n",
       "      <td>2020-05-05 18:54:37</td>\n",
       "      <td>finished_stage_1</td>\n",
       "      <td>NaN</td>\n",
       "      <td>70db22b3-c2f4-43bc-94ea-51c8d2904a29</td>\n",
       "      <td>NaN</td>\n",
       "    </tr>\n",
       "    <tr>\n",
       "      <td>16284</td>\n",
       "      <td>2020-05-05 21:27:29</td>\n",
       "      <td>finished_stage_1</td>\n",
       "      <td>NaN</td>\n",
       "      <td>903fc9ef-ba97-4b12-9d5c-ac8d602fbd8b</td>\n",
       "      <td>NaN</td>\n",
       "    </tr>\n",
       "    <tr>\n",
       "      <td>19650</td>\n",
       "      <td>2020-05-06 06:02:22</td>\n",
       "      <td>finished_stage_1</td>\n",
       "      <td>NaN</td>\n",
       "      <td>58e077ba-feb1-4556-a5a0-d96bd04efa39</td>\n",
       "      <td>NaN</td>\n",
       "    </tr>\n",
       "  </tbody>\n",
       "</table>\n",
       "</div>"
      ],
      "text/plain": [
       "            event_datetime             event building_type  \\\n",
       "6659   2020-05-04 19:47:29  finished_stage_1           NaN   \n",
       "13134  2020-05-05 13:22:09  finished_stage_1           NaN   \n",
       "15274  2020-05-05 18:54:37  finished_stage_1           NaN   \n",
       "16284  2020-05-05 21:27:29  finished_stage_1           NaN   \n",
       "19650  2020-05-06 06:02:22  finished_stage_1           NaN   \n",
       "\n",
       "                                    user_id project_type  \n",
       "6659   ced7b368-818f-48f6-9461-2346de0892c5          NaN  \n",
       "13134  7ef7fc89-2779-46ea-b328-9e5035b83af5          NaN  \n",
       "15274  70db22b3-c2f4-43bc-94ea-51c8d2904a29          NaN  \n",
       "16284  903fc9ef-ba97-4b12-9d5c-ac8d602fbd8b          NaN  \n",
       "19650  58e077ba-feb1-4556-a5a0-d96bd04efa39          NaN  "
      ]
     },
     "metadata": {},
     "output_type": "display_data"
    },
    {
     "name": "stdout",
     "output_type": "stream",
     "text": [
      "<class 'pandas.core.frame.DataFrame'>\n",
      "Int64Index: 7683 entries, 6659 to 135639\n",
      "Data columns (total 5 columns):\n",
      "event_datetime    7683 non-null object\n",
      "event             7683 non-null object\n",
      "building_type     0 non-null object\n",
      "user_id           7683 non-null object\n",
      "project_type      1866 non-null object\n",
      "dtypes: object(5)\n",
      "memory usage: 360.1+ KB\n"
     ]
    },
    {
     "data": {
      "text/plain": [
       "None"
      ]
     },
     "metadata": {},
     "output_type": "display_data"
    }
   ],
   "source": [
    "#посмотрим на строки, у которых в столбце building_type NaN\n",
    "display(game_actions.loc[game_actions['building_type'].isnull()].head())\n",
    "display(game_actions.loc[game_actions['building_type'].isnull()].info())"
   ]
  },
  {
   "cell_type": "markdown",
   "metadata": {},
   "source": [
    "*Поясним, что в столбце building_type содержится классификация объектов, которые можно построить в игре. Таким образом, данные, хранящиеся в нем, носят категориальный характер.*  \n",
    "*Видим, что пропуски в столбце building_type имеются в строках, где присутствует целевое событие - finished_stage_1 из столбца event. Так же по полученному срезу замечаем, что в столбце event, в котором может содержаться целевое событие - finished_stage_1, пропуски отсутствуют.*  \n",
    "*Из этого можно сделать вывод, что: 1) удалить строки с пропусками тоже не можем, т.к. потеряем данные по целевым событиям; 2) сами пропуски обусловлены механизмом сбора данных.* "
   ]
  },
  {
   "cell_type": "code",
   "execution_count": 11,
   "metadata": {},
   "outputs": [
    {
     "data": {
      "text/html": [
       "<div>\n",
       "<style scoped>\n",
       "    .dataframe tbody tr th:only-of-type {\n",
       "        vertical-align: middle;\n",
       "    }\n",
       "\n",
       "    .dataframe tbody tr th {\n",
       "        vertical-align: top;\n",
       "    }\n",
       "\n",
       "    .dataframe thead th {\n",
       "        text-align: right;\n",
       "    }\n",
       "</style>\n",
       "<table border=\"1\" class=\"dataframe\">\n",
       "  <thead>\n",
       "    <tr style=\"text-align: right;\">\n",
       "      <th></th>\n",
       "      <th>event_datetime</th>\n",
       "      <th>event</th>\n",
       "      <th>building_type</th>\n",
       "      <th>user_id</th>\n",
       "      <th>project_type</th>\n",
       "    </tr>\n",
       "  </thead>\n",
       "  <tbody>\n",
       "    <tr>\n",
       "      <td>0</td>\n",
       "      <td>2020-05-04 00:00:01</td>\n",
       "      <td>building</td>\n",
       "      <td>assembly_shop</td>\n",
       "      <td>55e92310-cb8e-4754-b622-597e124b03de</td>\n",
       "      <td>NaN</td>\n",
       "    </tr>\n",
       "    <tr>\n",
       "      <td>1</td>\n",
       "      <td>2020-05-04 00:00:03</td>\n",
       "      <td>building</td>\n",
       "      <td>assembly_shop</td>\n",
       "      <td>c07b1c10-f477-44dc-81dc-ec82254b1347</td>\n",
       "      <td>NaN</td>\n",
       "    </tr>\n",
       "    <tr>\n",
       "      <td>2</td>\n",
       "      <td>2020-05-04 00:00:16</td>\n",
       "      <td>building</td>\n",
       "      <td>assembly_shop</td>\n",
       "      <td>6edd42cc-e753-4ff6-a947-2107cd560710</td>\n",
       "      <td>NaN</td>\n",
       "    </tr>\n",
       "    <tr>\n",
       "      <td>3</td>\n",
       "      <td>2020-05-04 00:00:16</td>\n",
       "      <td>building</td>\n",
       "      <td>assembly_shop</td>\n",
       "      <td>92c69003-d60a-444a-827f-8cc51bf6bf4c</td>\n",
       "      <td>NaN</td>\n",
       "    </tr>\n",
       "    <tr>\n",
       "      <td>4</td>\n",
       "      <td>2020-05-04 00:00:35</td>\n",
       "      <td>building</td>\n",
       "      <td>assembly_shop</td>\n",
       "      <td>cdc6bb92-0ccb-4490-9866-ef142f09139d</td>\n",
       "      <td>NaN</td>\n",
       "    </tr>\n",
       "  </tbody>\n",
       "</table>\n",
       "</div>"
      ],
      "text/plain": [
       "        event_datetime     event  building_type  \\\n",
       "0  2020-05-04 00:00:01  building  assembly_shop   \n",
       "1  2020-05-04 00:00:03  building  assembly_shop   \n",
       "2  2020-05-04 00:00:16  building  assembly_shop   \n",
       "3  2020-05-04 00:00:16  building  assembly_shop   \n",
       "4  2020-05-04 00:00:35  building  assembly_shop   \n",
       "\n",
       "                                user_id project_type  \n",
       "0  55e92310-cb8e-4754-b622-597e124b03de          NaN  \n",
       "1  c07b1c10-f477-44dc-81dc-ec82254b1347          NaN  \n",
       "2  6edd42cc-e753-4ff6-a947-2107cd560710          NaN  \n",
       "3  92c69003-d60a-444a-827f-8cc51bf6bf4c          NaN  \n",
       "4  cdc6bb92-0ccb-4490-9866-ef142f09139d          NaN  "
      ]
     },
     "metadata": {},
     "output_type": "display_data"
    },
    {
     "name": "stdout",
     "output_type": "stream",
     "text": [
      "<class 'pandas.core.frame.DataFrame'>\n",
      "Int64Index: 133774 entries, 0 to 135639\n",
      "Data columns (total 5 columns):\n",
      "event_datetime    133774 non-null object\n",
      "event             133774 non-null object\n",
      "building_type     127957 non-null object\n",
      "user_id           133774 non-null object\n",
      "project_type      0 non-null object\n",
      "dtypes: object(5)\n",
      "memory usage: 6.1+ MB\n"
     ]
    },
    {
     "data": {
      "text/plain": [
       "None"
      ]
     },
     "metadata": {},
     "output_type": "display_data"
    }
   ],
   "source": [
    "#посмотрим на строки, у которых в столбце project_type NaN\n",
    "display(game_actions.loc[game_actions['project_type'].isnull()].head())\n",
    "display(game_actions.loc[game_actions['project_type'].isnull()].info())"
   ]
  },
  {
   "cell_type": "code",
   "execution_count": 12,
   "metadata": {},
   "outputs": [
    {
     "data": {
      "text/html": [
       "<div>\n",
       "<style scoped>\n",
       "    .dataframe tbody tr th:only-of-type {\n",
       "        vertical-align: middle;\n",
       "    }\n",
       "\n",
       "    .dataframe tbody tr th {\n",
       "        vertical-align: top;\n",
       "    }\n",
       "\n",
       "    .dataframe thead th {\n",
       "        text-align: right;\n",
       "    }\n",
       "</style>\n",
       "<table border=\"1\" class=\"dataframe\">\n",
       "  <thead>\n",
       "    <tr style=\"text-align: right;\">\n",
       "      <th></th>\n",
       "      <th>event_datetime</th>\n",
       "      <th>event</th>\n",
       "      <th>building_type</th>\n",
       "      <th>user_id</th>\n",
       "      <th>project_type</th>\n",
       "    </tr>\n",
       "  </thead>\n",
       "  <tbody>\n",
       "    <tr>\n",
       "      <td>47121</td>\n",
       "      <td>2020-05-08 18:10:25</td>\n",
       "      <td>project</td>\n",
       "      <td>NaN</td>\n",
       "      <td>e3c66498-9d45-4000-9392-f81e6796e7da</td>\n",
       "      <td>satellite_orbital_assembly</td>\n",
       "    </tr>\n",
       "    <tr>\n",
       "      <td>57398</td>\n",
       "      <td>2020-05-09 13:49:11</td>\n",
       "      <td>project</td>\n",
       "      <td>NaN</td>\n",
       "      <td>936e7af6-8338-4703-a1df-fc6c3f5b8e34</td>\n",
       "      <td>satellite_orbital_assembly</td>\n",
       "    </tr>\n",
       "    <tr>\n",
       "      <td>58797</td>\n",
       "      <td>2020-05-09 16:19:33</td>\n",
       "      <td>project</td>\n",
       "      <td>NaN</td>\n",
       "      <td>a4491c86-c498-4f74-a56e-65c136d0e9a1</td>\n",
       "      <td>satellite_orbital_assembly</td>\n",
       "    </tr>\n",
       "    <tr>\n",
       "      <td>61174</td>\n",
       "      <td>2020-05-09 20:29:01</td>\n",
       "      <td>project</td>\n",
       "      <td>NaN</td>\n",
       "      <td>85d9e675-562b-4329-8bbd-14d3b39096be</td>\n",
       "      <td>satellite_orbital_assembly</td>\n",
       "    </tr>\n",
       "    <tr>\n",
       "      <td>63770</td>\n",
       "      <td>2020-05-10 00:57:47</td>\n",
       "      <td>project</td>\n",
       "      <td>NaN</td>\n",
       "      <td>1889ca71-3c57-4e61-9ea6-a711971bbf0a</td>\n",
       "      <td>satellite_orbital_assembly</td>\n",
       "    </tr>\n",
       "  </tbody>\n",
       "</table>\n",
       "</div>"
      ],
      "text/plain": [
       "            event_datetime    event building_type  \\\n",
       "47121  2020-05-08 18:10:25  project           NaN   \n",
       "57398  2020-05-09 13:49:11  project           NaN   \n",
       "58797  2020-05-09 16:19:33  project           NaN   \n",
       "61174  2020-05-09 20:29:01  project           NaN   \n",
       "63770  2020-05-10 00:57:47  project           NaN   \n",
       "\n",
       "                                    user_id                project_type  \n",
       "47121  e3c66498-9d45-4000-9392-f81e6796e7da  satellite_orbital_assembly  \n",
       "57398  936e7af6-8338-4703-a1df-fc6c3f5b8e34  satellite_orbital_assembly  \n",
       "58797  a4491c86-c498-4f74-a56e-65c136d0e9a1  satellite_orbital_assembly  \n",
       "61174  85d9e675-562b-4329-8bbd-14d3b39096be  satellite_orbital_assembly  \n",
       "63770  1889ca71-3c57-4e61-9ea6-a711971bbf0a  satellite_orbital_assembly  "
      ]
     },
     "metadata": {},
     "output_type": "display_data"
    },
    {
     "name": "stdout",
     "output_type": "stream",
     "text": [
      "<class 'pandas.core.frame.DataFrame'>\n",
      "Int64Index: 1866 entries, 47121 to 135630\n",
      "Data columns (total 5 columns):\n",
      "event_datetime    1866 non-null object\n",
      "event             1866 non-null object\n",
      "building_type     0 non-null object\n",
      "user_id           1866 non-null object\n",
      "project_type      1866 non-null object\n",
      "dtypes: object(5)\n",
      "memory usage: 87.5+ KB\n"
     ]
    },
    {
     "data": {
      "text/plain": [
       "None"
      ]
     },
     "metadata": {},
     "output_type": "display_data"
    },
    {
     "data": {
      "text/plain": [
       "satellite_orbital_assembly    1866\n",
       "Name: project_type, dtype: int64"
      ]
     },
     "metadata": {},
     "output_type": "display_data"
    }
   ],
   "source": [
    "#посмотрим на строки, у которых в столбце project_type нет пропусков\n",
    "display(game_actions.loc[game_actions['project_type'].notnull()].head())\n",
    "display(game_actions.loc[game_actions['project_type'].notnull()].info())\n",
    "#посмотрим на уникальные значения столбца project_type\n",
    "display(game_actions['project_type'].value_counts())"
   ]
  },
  {
   "cell_type": "code",
   "execution_count": 13,
   "metadata": {},
   "outputs": [
    {
     "data": {
      "text/plain": [
       "building            127957\n",
       "finished_stage_1      5817\n",
       "project               1866\n",
       "Name: event, dtype: int64"
      ]
     },
     "metadata": {},
     "output_type": "display_data"
    }
   ],
   "source": [
    "#посмотрим на уникальные значения столбца event, т.к. видны пересечения\n",
    "#со значениями project столбца event\n",
    "display(game_actions['event'].value_counts())"
   ]
  },
  {
   "cell_type": "markdown",
   "metadata": {},
   "source": [
    "*Поясним, что в столбце project_type содержится тип реализованного проекта. Данные, хранящиеся в нем, носят категориальный характер.*  \n",
    "*Видим, что пропуски в столбце project_type имеются во всех строках, за исключением строк, в которых в столбце event имеется значение project.*  \n",
    "*Из этого можно сделать вывод, что: 1) cудя по количеству значений: 1866 в обоих случаях и взаимным пересечениям, в столбце project_type содержится расшифровка значения project столбца event; 2) удалить строки с пропусками не можем, т.к. потеряем почти все данные по другим значениям и по условиям игры в данном столбце может быть только информация о проекте, которым завершился уровень (вероятно, по этой причине и появились пропуски).* "
   ]
  },
  {
   "cell_type": "markdown",
   "metadata": {},
   "source": [
    "### Изучаем типы данных "
   ]
  },
  {
   "cell_type": "markdown",
   "metadata": {},
   "source": [
    "*Датасет game_actions содержит 5 столбцов, в которых все данные имеют тип object. В 4 столбцах можно оставить такой тип, но в столбце event_datetime явно содержится указание на дату и время, поэтому его тип лучше изменить.*  "
   ]
  },
  {
   "cell_type": "code",
   "execution_count": 14,
   "metadata": {},
   "outputs": [
    {
     "name": "stdout",
     "output_type": "stream",
     "text": [
      "<class 'pandas.core.frame.DataFrame'>\n",
      "RangeIndex: 135640 entries, 0 to 135639\n",
      "Data columns (total 5 columns):\n",
      "event_datetime    135640 non-null datetime64[ns]\n",
      "event             135640 non-null object\n",
      "building_type     127957 non-null object\n",
      "user_id           135640 non-null object\n",
      "project_type      1866 non-null object\n",
      "dtypes: datetime64[ns](1), object(4)\n",
      "memory usage: 5.2+ MB\n"
     ]
    }
   ],
   "source": [
    "#меняем тип данных в столбце event_datetime\n",
    "game_actions['event_datetime'] = pd.to_datetime(game_actions['event_datetime'], format='%Y-%m-%d %H:%M:%S')\n",
    "\n",
    "#проверяем преобразование\n",
    "game_actions.info()"
   ]
  },
  {
   "cell_type": "markdown",
   "metadata": {},
   "source": [
    "*1. Датасет ad_costs содержит 3 столбца, в 2 из которых тип object, а в 1 float 64 с 6 знаками после запятой. Столбец day лучше привести к типу date, а значения в столбце cost округлить до двух знаков после запятой, т.к. речь в нем идет о деньгах.*  \n",
    "*2. Также обратим внимание на то, что разброс данных в столбце cost значительный: при среднем 271, стандартное отклонение составляет 286.*"
   ]
  },
  {
   "cell_type": "code",
   "execution_count": 15,
   "metadata": {},
   "outputs": [
    {
     "name": "stdout",
     "output_type": "stream",
     "text": [
      "<class 'pandas.core.frame.DataFrame'>\n",
      "RangeIndex: 28 entries, 0 to 27\n",
      "Data columns (total 3 columns):\n",
      "source    28 non-null object\n",
      "day       28 non-null datetime64[ns]\n",
      "cost      28 non-null float64\n",
      "dtypes: datetime64[ns](1), float64(1), object(1)\n",
      "memory usage: 800.0+ bytes\n"
     ]
    },
    {
     "data": {
      "text/plain": [
       "None"
      ]
     },
     "metadata": {},
     "output_type": "display_data"
    },
    {
     "data": {
      "text/html": [
       "<div>\n",
       "<style scoped>\n",
       "    .dataframe tbody tr th:only-of-type {\n",
       "        vertical-align: middle;\n",
       "    }\n",
       "\n",
       "    .dataframe tbody tr th {\n",
       "        vertical-align: top;\n",
       "    }\n",
       "\n",
       "    .dataframe thead th {\n",
       "        text-align: right;\n",
       "    }\n",
       "</style>\n",
       "<table border=\"1\" class=\"dataframe\">\n",
       "  <thead>\n",
       "    <tr style=\"text-align: right;\">\n",
       "      <th></th>\n",
       "      <th>source</th>\n",
       "      <th>day</th>\n",
       "      <th>cost</th>\n",
       "    </tr>\n",
       "  </thead>\n",
       "  <tbody>\n",
       "    <tr>\n",
       "      <td>0</td>\n",
       "      <td>facebook_ads</td>\n",
       "      <td>2020-05-03</td>\n",
       "      <td>935.88</td>\n",
       "    </tr>\n",
       "    <tr>\n",
       "      <td>1</td>\n",
       "      <td>facebook_ads</td>\n",
       "      <td>2020-05-04</td>\n",
       "      <td>548.35</td>\n",
       "    </tr>\n",
       "    <tr>\n",
       "      <td>2</td>\n",
       "      <td>facebook_ads</td>\n",
       "      <td>2020-05-05</td>\n",
       "      <td>260.19</td>\n",
       "    </tr>\n",
       "  </tbody>\n",
       "</table>\n",
       "</div>"
      ],
      "text/plain": [
       "         source        day    cost\n",
       "0  facebook_ads 2020-05-03  935.88\n",
       "1  facebook_ads 2020-05-04  548.35\n",
       "2  facebook_ads 2020-05-05  260.19"
      ]
     },
     "metadata": {},
     "output_type": "display_data"
    }
   ],
   "source": [
    "#меняем тип данных в столбце event_datetime\n",
    "ad_costs['day'] = pd.to_datetime(ad_costs['day'], format='%Y-%m-%d')\n",
    "\n",
    "ad_costs['cost'] = round(ad_costs['cost'], 2)\n",
    "\n",
    "#проверяем преобразование и округление\n",
    "display(ad_costs.info())\n",
    "display(ad_costs.head(3))"
   ]
  },
  {
   "cell_type": "markdown",
   "metadata": {},
   "source": [
    "*В датасете user_source 2 столбца с типом данных object. В 1 столбце хранятся id пользователей, а во 2 категориальные переменные. Типы в обоих столбцах можно не менять и оставить без изменений.* "
   ]
  },
  {
   "cell_type": "markdown",
   "metadata": {},
   "source": [
    "### Исследование дубликатов"
   ]
  },
  {
   "cell_type": "code",
   "execution_count": 16,
   "metadata": {},
   "outputs": [
    {
     "data": {
      "text/plain": [
       "'Дубликаты в game_actions: 1'"
      ]
     },
     "metadata": {},
     "output_type": "display_data"
    },
    {
     "data": {
      "text/plain": [
       "'Дубликаты в ad_costs: 0'"
      ]
     },
     "metadata": {},
     "output_type": "display_data"
    },
    {
     "data": {
      "text/plain": [
       "'Дубликаты в user_source: 0'"
      ]
     },
     "metadata": {},
     "output_type": "display_data"
    }
   ],
   "source": [
    "#проверка на явные дубликаты\n",
    "display(f'Дубликаты в game_actions: {game_actions.duplicated().sum()}')\n",
    "display(f'Дубликаты в ad_costs: {ad_costs.duplicated().sum()}')\n",
    "display(f'Дубликаты в user_source: {user_source.duplicated().sum()}')"
   ]
  },
  {
   "cell_type": "markdown",
   "metadata": {},
   "source": [
    "*Во всех 3 датасетах нашелся только 1 дубликат в датасете game_actions. Далее посмотрим, что именно совпало.*"
   ]
  },
  {
   "cell_type": "code",
   "execution_count": 17,
   "metadata": {},
   "outputs": [
    {
     "data": {
      "text/html": [
       "<div>\n",
       "<style scoped>\n",
       "    .dataframe tbody tr th:only-of-type {\n",
       "        vertical-align: middle;\n",
       "    }\n",
       "\n",
       "    .dataframe tbody tr th {\n",
       "        vertical-align: top;\n",
       "    }\n",
       "\n",
       "    .dataframe thead th {\n",
       "        text-align: right;\n",
       "    }\n",
       "</style>\n",
       "<table border=\"1\" class=\"dataframe\">\n",
       "  <thead>\n",
       "    <tr style=\"text-align: right;\">\n",
       "      <th></th>\n",
       "      <th>event_datetime</th>\n",
       "      <th>event</th>\n",
       "      <th>building_type</th>\n",
       "      <th>user_id</th>\n",
       "      <th>project_type</th>\n",
       "    </tr>\n",
       "  </thead>\n",
       "  <tbody>\n",
       "    <tr>\n",
       "      <td>74890</td>\n",
       "      <td>2020-05-10 18:41:56</td>\n",
       "      <td>building</td>\n",
       "      <td>research_center</td>\n",
       "      <td>c9af55d2-b0ae-4bb4-b3d5-f32aa9ac03af</td>\n",
       "      <td>NaN</td>\n",
       "    </tr>\n",
       "    <tr>\n",
       "      <td>74891</td>\n",
       "      <td>2020-05-10 18:41:56</td>\n",
       "      <td>building</td>\n",
       "      <td>research_center</td>\n",
       "      <td>c9af55d2-b0ae-4bb4-b3d5-f32aa9ac03af</td>\n",
       "      <td>NaN</td>\n",
       "    </tr>\n",
       "  </tbody>\n",
       "</table>\n",
       "</div>"
      ],
      "text/plain": [
       "           event_datetime     event    building_type  \\\n",
       "74890 2020-05-10 18:41:56  building  research_center   \n",
       "74891 2020-05-10 18:41:56  building  research_center   \n",
       "\n",
       "                                    user_id project_type  \n",
       "74890  c9af55d2-b0ae-4bb4-b3d5-f32aa9ac03af          NaN  \n",
       "74891  c9af55d2-b0ae-4bb4-b3d5-f32aa9ac03af          NaN  "
      ]
     },
     "execution_count": 17,
     "metadata": {},
     "output_type": "execute_result"
    }
   ],
   "source": [
    "#выведем дубликаты\n",
    "game_actions[game_actions.duplicated(keep=False)]"
   ]
  },
  {
   "cell_type": "code",
   "execution_count": 18,
   "metadata": {},
   "outputs": [
    {
     "data": {
      "text/plain": [
       "0"
      ]
     },
     "execution_count": 18,
     "metadata": {},
     "output_type": "execute_result"
    }
   ],
   "source": [
    "#т.к. строки 74890 и 74891 полностью совпадают, то можно удалить дублирующую\n",
    "game_actions.drop_duplicates(inplace=True)\n",
    "\n",
    "#проверяем\n",
    "game_actions.duplicated().sum()"
   ]
  },
  {
   "cell_type": "markdown",
   "metadata": {},
   "source": [
    "### Выводы к шагу 1"
   ]
  },
  {
   "cell_type": "markdown",
   "metadata": {},
   "source": [
    "1. Ознакомились и провели предобработку 3 датасетов: game_actions, ad_costs, user_source.\n",
    "2. Названия столбцов всех датасетов соответствовали содержанию и оформлены корректно, поэтому наименования столбцов не меняли.\n",
    "3. Пропущенные значения были найдены в столбцах building_type (5.7%) и project_type (98.6%) датасета game_actions. В остальных датасетах пропуски отсутствуют.\n",
    "4. В отношении пропусков в столбце building_type: 1) удалить строки с пропусками тоже не можем, т.к. потеряем данные по целевым событиям; 2) сами пропуски обусловлены механизмом сбора данных.\n",
    "5. В отношении пропусков в столбце project_type: 1) cудя по количеству значений: 1866 в обоих случаях и взаимным пересечениям, в столбце project_type содержится расшифровка значения project столбца event; 2) удалить строки с пропусками не можем, т.к. потеряем почти все данные по другим значениям и по условиям игры в данном столбце может быть только информация о проекте, которым завершился уровень (вероятно, по этой причине и появились пропуски).\n",
    "6. В столбце event_datetime датасета game_actions изменили тип на дату и время.\n",
    "7. В датафрейме ad_costs: столбец day привели к типу date, а значения в столбце cost округлили до двух знаков после запятой, т.к. речь в нем шла о деньгах.\n",
    "8. В датасете user_source типы данных не меняли.\n",
    "9. Во всех 3 датасетах нашелся только 1 дубликат в датасете game_actions, который был удален."
   ]
  },
  {
   "cell_type": "markdown",
   "metadata": {},
   "source": [
    " <a id=\"analyzing\"></a>\n",
    "## Анализ данных и расчет метрик"
   ]
  },
  {
   "cell_type": "markdown",
   "metadata": {},
   "source": [
    "### Проверить данные на наличие аномалий, построить графики и расчитать метрики "
   ]
  },
  {
   "cell_type": "markdown",
   "metadata": {},
   "source": [
    "#### Анализ событий"
   ]
  },
  {
   "cell_type": "code",
   "execution_count": 19,
   "metadata": {
    "scrolled": true
   },
   "outputs": [
    {
     "data": {
      "text/html": [
       "<div>\n",
       "<style scoped>\n",
       "    .dataframe tbody tr th:only-of-type {\n",
       "        vertical-align: middle;\n",
       "    }\n",
       "\n",
       "    .dataframe tbody tr th {\n",
       "        vertical-align: top;\n",
       "    }\n",
       "\n",
       "    .dataframe thead th {\n",
       "        text-align: right;\n",
       "    }\n",
       "</style>\n",
       "<table border=\"1\" class=\"dataframe\">\n",
       "  <thead>\n",
       "    <tr style=\"text-align: right;\">\n",
       "      <th></th>\n",
       "      <th>event</th>\n",
       "      <th>amount</th>\n",
       "      <th>ratio</th>\n",
       "    </tr>\n",
       "  </thead>\n",
       "  <tbody>\n",
       "    <tr>\n",
       "      <td>0</td>\n",
       "      <td>building</td>\n",
       "      <td>127956</td>\n",
       "      <td>0.943</td>\n",
       "    </tr>\n",
       "    <tr>\n",
       "      <td>1</td>\n",
       "      <td>finished_stage_1</td>\n",
       "      <td>5817</td>\n",
       "      <td>0.043</td>\n",
       "    </tr>\n",
       "    <tr>\n",
       "      <td>2</td>\n",
       "      <td>project</td>\n",
       "      <td>1866</td>\n",
       "      <td>0.014</td>\n",
       "    </tr>\n",
       "  </tbody>\n",
       "</table>\n",
       "</div>"
      ],
      "text/plain": [
       "              event  amount  ratio\n",
       "0          building  127956  0.943\n",
       "1  finished_stage_1    5817  0.043\n",
       "2           project    1866  0.014"
      ]
     },
     "metadata": {},
     "output_type": "display_data"
    }
   ],
   "source": [
    "#посмотрим на количество по каждому из событий\n",
    "events_grouped = game_actions.groupby('event', as_index=False)['user_id'].count().rename(columns={'user_id' : 'amount'})\n",
    "\n",
    "#добавим столбец с расчетом доли \n",
    "events_grouped['ratio'] = round(events_grouped['amount'] / events_grouped['amount'].sum(), 3)\n",
    "\n",
    "#проверяем\n",
    "display(events_grouped.sort_values(by='amount', ascending=False))"
   ]
  },
  {
   "cell_type": "markdown",
   "metadata": {},
   "source": [
    "*События с победами отдельно в столбце event предусмотрены не были. Так как пояснения отсутствовали, предположим, что при победе всех врагов уровень завершался автоматически.*"
   ]
  },
  {
   "cell_type": "code",
   "execution_count": 20,
   "metadata": {},
   "outputs": [
    {
     "name": "stdout",
     "output_type": "stream",
     "text": [
      "Общее количество событий: 135639\n"
     ]
    }
   ],
   "source": [
    "#посмотрим на общее количество событий\n",
    "print('Общее количество событий:', events_grouped['amount'].sum())"
   ]
  },
  {
   "cell_type": "code",
   "execution_count": 21,
   "metadata": {},
   "outputs": [
    {
     "data": {
      "text/plain": [
       "Text(0, 0.5, 'Частота событий')"
      ]
     },
     "execution_count": 21,
     "metadata": {},
     "output_type": "execute_result"
    },
    {
     "data": {
      "image/png": "[encoded data removed]",
      "text/plain": [
       "<Figure size 432x216 with 1 Axes>"
      ]
     },
     "metadata": {
      "needs_background": "light"
     },
     "output_type": "display_data"
    }
   ],
   "source": [
    "#построим график распределения событий\n",
    "plt.figure(figsize=(6, 3))\n",
    "events_grouped_barplot = sns.barplot(x='event', y='amount', color='blue',\\\n",
    "data=events_grouped.sort_values(by='amount', ascending=False))\n",
    "\n",
    "events_grouped_barplot.set_title('Гистограмма для распределения событий')\n",
    "events_grouped_barplot.set_xlabel('События')\n",
    "events_grouped_barplot.set_ylabel('Частота событий')"
   ]
  },
  {
   "cell_type": "code",
   "execution_count": 22,
   "metadata": {},
   "outputs": [
    {
     "data": {
      "image/png": "[encoded data removed]",
      "text/plain": [
       "<Figure size 432x288 with 1 Axes>"
      ]
     },
     "metadata": {},
     "output_type": "display_data"
    }
   ],
   "source": [
    "#построим круговую диаграмму для распределения по событиям\n",
    "plt.pie(events_grouped['amount'], labels=events_grouped['event'], autopct='%.0f%%', radius=1.5)\n",
    "plt.show()"
   ]
  },
  {
   "cell_type": "markdown",
   "metadata": {},
   "source": [
    "*Из расчетов выше и графика видим, что 94% событий приходится на строительство объектов.* "
   ]
  },
  {
   "cell_type": "code",
   "execution_count": 23,
   "metadata": {},
   "outputs": [
    {
     "data": {
      "text/html": [
       "<div>\n",
       "<style scoped>\n",
       "    .dataframe tbody tr th:only-of-type {\n",
       "        vertical-align: middle;\n",
       "    }\n",
       "\n",
       "    .dataframe tbody tr th {\n",
       "        vertical-align: top;\n",
       "    }\n",
       "\n",
       "    .dataframe thead th {\n",
       "        text-align: right;\n",
       "    }\n",
       "</style>\n",
       "<table border=\"1\" class=\"dataframe\">\n",
       "  <thead>\n",
       "    <tr style=\"text-align: right;\">\n",
       "      <th></th>\n",
       "      <th>event</th>\n",
       "      <th>amount</th>\n",
       "      <th>ratio</th>\n",
       "    </tr>\n",
       "  </thead>\n",
       "  <tbody>\n",
       "    <tr>\n",
       "      <td>2</td>\n",
       "      <td>project</td>\n",
       "      <td>1866</td>\n",
       "      <td>0.32</td>\n",
       "    </tr>\n",
       "    <tr>\n",
       "      <td>1</td>\n",
       "      <td>victory</td>\n",
       "      <td>3951</td>\n",
       "      <td>0.68</td>\n",
       "    </tr>\n",
       "  </tbody>\n",
       "</table>\n",
       "</div>"
      ],
      "text/plain": [
       "     event  amount  ratio\n",
       "2  project    1866   0.32\n",
       "1  victory    3951   0.68"
      ]
     },
     "metadata": {},
     "output_type": "display_data"
    }
   ],
   "source": [
    "#посмотрим на распределение событий внутри целевого события finished_stage_1 \n",
    "stage_1 = events_grouped.loc[2:].drop(columns='ratio').copy()\n",
    "\n",
    "#добавим в датафрейм данные по событиям с победами\n",
    "stage_1.loc[1] = ['victory', events_grouped.loc[1, 'amount'] - events_grouped.loc[2, 'amount']]\n",
    "\n",
    "#добавим долю каждого из события в finished_stage_1\n",
    "stage_1['ratio'] = round(stage_1['amount'] / events_grouped.loc[1, 'amount'], 2) \n",
    "\n",
    "#проверяем\n",
    "display(stage_1)"
   ]
  },
  {
   "cell_type": "markdown",
   "metadata": {},
   "source": [
    "Здесь и далее под project понимается завершение 1-го уровня реализацией проекта, а под victory - завершение 1-го уровня победой над врагом."
   ]
  },
  {
   "cell_type": "code",
   "execution_count": 24,
   "metadata": {},
   "outputs": [
    {
     "data": {
      "text/plain": [
       "Text(0, 0.5, 'Частота событий')"
      ]
     },
     "execution_count": 24,
     "metadata": {},
     "output_type": "execute_result"
    },
    {
     "data": {
      "image/png": "[encoded data removed]",
      "text/plain": [
       "<Figure size 432x216 with 1 Axes>"
      ]
     },
     "metadata": {
      "needs_background": "light"
     },
     "output_type": "display_data"
    }
   ],
   "source": [
    "#построим график распределения событий\n",
    "plt.figure(figsize=(6, 3))\n",
    "stage_1_barplot = sns.barplot(x='event', y='amount', color='blue',\\\n",
    "data=stage_1.sort_values(by='amount', ascending=False))\n",
    "\n",
    "stage_1_barplot.set_title('Гистограмма для завершения 1 уровня: победы и проекты')\n",
    "stage_1_barplot.set_xlabel('События: победы и проекты')\n",
    "stage_1_barplot.set_ylabel('Частота событий')"
   ]
  },
  {
   "cell_type": "code",
   "execution_count": 25,
   "metadata": {},
   "outputs": [
    {
     "data": {
      "image/png": "[encoded data removed]",
      "text/plain": [
       "<Figure size 432x288 with 1 Axes>"
      ]
     },
     "metadata": {},
     "output_type": "display_data"
    }
   ],
   "source": [
    "#построим круговую диаграмму для распределения по победам и проектам\n",
    "plt.pie(stage_1['amount'], labels=stage_1['event'], autopct='%.0f%%', radius=1.5)\n",
    "plt.show()"
   ]
  },
  {
   "cell_type": "markdown",
   "metadata": {},
   "source": [
    "*Видим, что 1 уровень завершался победами в 2 раза больше, чем проектами.*"
   ]
  },
  {
   "cell_type": "code",
   "execution_count": 26,
   "metadata": {},
   "outputs": [
    {
     "data": {
      "text/html": [
       "<div>\n",
       "<style scoped>\n",
       "    .dataframe tbody tr th:only-of-type {\n",
       "        vertical-align: middle;\n",
       "    }\n",
       "\n",
       "    .dataframe tbody tr th {\n",
       "        vertical-align: top;\n",
       "    }\n",
       "\n",
       "    .dataframe thead th {\n",
       "        text-align: right;\n",
       "    }\n",
       "</style>\n",
       "<table border=\"1\" class=\"dataframe\">\n",
       "  <thead>\n",
       "    <tr style=\"text-align: right;\">\n",
       "      <th></th>\n",
       "      <th>event_datetime</th>\n",
       "      <th>event</th>\n",
       "      <th>building_type</th>\n",
       "      <th>user_id</th>\n",
       "      <th>project_type</th>\n",
       "      <th>date</th>\n",
       "      <th>week</th>\n",
       "    </tr>\n",
       "  </thead>\n",
       "  <tbody>\n",
       "    <tr>\n",
       "      <td>0</td>\n",
       "      <td>2020-05-04 00:00:01</td>\n",
       "      <td>building</td>\n",
       "      <td>assembly_shop</td>\n",
       "      <td>55e92310-cb8e-4754-b622-597e124b03de</td>\n",
       "      <td>NaN</td>\n",
       "      <td>2020-05-04</td>\n",
       "      <td>19</td>\n",
       "    </tr>\n",
       "    <tr>\n",
       "      <td>1</td>\n",
       "      <td>2020-05-04 00:00:03</td>\n",
       "      <td>building</td>\n",
       "      <td>assembly_shop</td>\n",
       "      <td>c07b1c10-f477-44dc-81dc-ec82254b1347</td>\n",
       "      <td>NaN</td>\n",
       "      <td>2020-05-04</td>\n",
       "      <td>19</td>\n",
       "    </tr>\n",
       "    <tr>\n",
       "      <td>2</td>\n",
       "      <td>2020-05-04 00:00:16</td>\n",
       "      <td>building</td>\n",
       "      <td>assembly_shop</td>\n",
       "      <td>6edd42cc-e753-4ff6-a947-2107cd560710</td>\n",
       "      <td>NaN</td>\n",
       "      <td>2020-05-04</td>\n",
       "      <td>19</td>\n",
       "    </tr>\n",
       "  </tbody>\n",
       "</table>\n",
       "</div>"
      ],
      "text/plain": [
       "       event_datetime     event  building_type  \\\n",
       "0 2020-05-04 00:00:01  building  assembly_shop   \n",
       "1 2020-05-04 00:00:03  building  assembly_shop   \n",
       "2 2020-05-04 00:00:16  building  assembly_shop   \n",
       "\n",
       "                                user_id project_type       date  week  \n",
       "0  55e92310-cb8e-4754-b622-597e124b03de          NaN 2020-05-04    19  \n",
       "1  c07b1c10-f477-44dc-81dc-ec82254b1347          NaN 2020-05-04    19  \n",
       "2  6edd42cc-e753-4ff6-a947-2107cd560710          NaN 2020-05-04    19  "
      ]
     },
     "execution_count": 26,
     "metadata": {},
     "output_type": "execute_result"
    }
   ],
   "source": [
    "#добавим столбец только с датой и неделей в game_actions\n",
    "game_actions['date'] = pd.to_datetime(game_actions['event_datetime'].dt.date)\n",
    "game_actions['week'] = game_actions['event_datetime'].dt.week\n",
    "\n",
    "#проверяем\n",
    "game_actions.head(3)"
   ]
  },
  {
   "cell_type": "code",
   "execution_count": 27,
   "metadata": {},
   "outputs": [
    {
     "data": {
      "image/png": "[encoded data removed]",
      "text/plain": [
       "<Figure size 864x576 with 1 Axes>"
      ]
     },
     "metadata": {
      "needs_background": "light"
     },
     "output_type": "display_data"
    }
   ],
   "source": [
    "#строим график по дням и по количеству определенных событий\n",
    "game_actions.pivot_table(index='date', columns='event', values='event_datetime', aggfunc='count').plot(figsize=(12, 8), grid=True)\n",
    "plt.title('Распределение по дням и по количеству событий')\n",
    "plt.ylabel('Количество событий в шт.')\n",
    "plt.xlabel('Даты')\n",
    "plt.show()\n"
   ]
  },
  {
   "cell_type": "markdown",
   "metadata": {},
   "source": [
    "*1. На графике видим, что интересующее нас событие building резко начинает расти с самого первого дня. Рост продолжается в течение 6 дней, а затем начинает резко падать и к 28.05 приходит практически к нулю.*  \n",
    "*2. В отношении событий finished_stage_1 и project рост и пик наступает позже. Это может быть объяснимо тем, что на завершение уровня требуется определенное время. Рост начинается с 5 дня, а пик приходится примерно на 12 день (16.05). При этом уже к 26.05 показания обоих событий находятся около 0.*  \n",
    "*3.Таким образом, активность на первом уровне игры продолжается примерно 22 дня.*"
   ]
  },
  {
   "cell_type": "markdown",
   "metadata": {},
   "source": [
    "#### Анализ пользователей, в том числе в контексте событий"
   ]
  },
  {
   "cell_type": "code",
   "execution_count": 28,
   "metadata": {},
   "outputs": [
    {
     "data": {
      "text/plain": [
       "'Всего пользователей: 13576'"
      ]
     },
     "metadata": {},
     "output_type": "display_data"
    },
    {
     "data": {
      "text/plain": [
       "'Событий на 1 пользователя: 10.0'"
      ]
     },
     "metadata": {},
     "output_type": "display_data"
    }
   ],
   "source": [
    "#посчитаем общее количество пользователей, игравших в игру, и сколько в среднем на 1 пользователя событий приходится\n",
    "total_users = len(game_actions['user_id'].unique())\n",
    "event_per_user = round(events_grouped['amount'].sum() / total_users, 0)\n",
    "\n",
    "display(f'Всего пользователей: {total_users}')\n",
    "display(f\"Событий на 1 пользователя: {event_per_user}\")"
   ]
  },
  {
   "cell_type": "code",
   "execution_count": 29,
   "metadata": {},
   "outputs": [
    {
     "data": {
      "text/html": [
       "<div>\n",
       "<style scoped>\n",
       "    .dataframe tbody tr th:only-of-type {\n",
       "        vertical-align: middle;\n",
       "    }\n",
       "\n",
       "    .dataframe tbody tr th {\n",
       "        vertical-align: top;\n",
       "    }\n",
       "\n",
       "    .dataframe thead th {\n",
       "        text-align: right;\n",
       "    }\n",
       "</style>\n",
       "<table border=\"1\" class=\"dataframe\">\n",
       "  <thead>\n",
       "    <tr style=\"text-align: right;\">\n",
       "      <th></th>\n",
       "      <th>user_id</th>\n",
       "      <th>amount</th>\n",
       "    </tr>\n",
       "  </thead>\n",
       "  <tbody>\n",
       "    <tr>\n",
       "      <td>11329</td>\n",
       "      <td>d6aca06a-cd75-4cd8-b8cd-240a3c163884</td>\n",
       "      <td>22</td>\n",
       "    </tr>\n",
       "    <tr>\n",
       "      <td>13550</td>\n",
       "      <td>ff841992-d93b-462e-bc6e-18c24a514f36</td>\n",
       "      <td>22</td>\n",
       "    </tr>\n",
       "    <tr>\n",
       "      <td>10120</td>\n",
       "      <td>bf542075-e3a2-4e79-82d8-3838e86d2a25</td>\n",
       "      <td>22</td>\n",
       "    </tr>\n",
       "    <tr>\n",
       "      <td>3773</td>\n",
       "      <td>45935e5d-8f50-4176-83d3-fd545bb2015f</td>\n",
       "      <td>21</td>\n",
       "    </tr>\n",
       "    <tr>\n",
       "      <td>7912</td>\n",
       "      <td>94844e06-0352-4048-9e62-1db7718f804c</td>\n",
       "      <td>21</td>\n",
       "    </tr>\n",
       "  </tbody>\n",
       "</table>\n",
       "</div>"
      ],
      "text/plain": [
       "                                    user_id  amount\n",
       "11329  d6aca06a-cd75-4cd8-b8cd-240a3c163884      22\n",
       "13550  ff841992-d93b-462e-bc6e-18c24a514f36      22\n",
       "10120  bf542075-e3a2-4e79-82d8-3838e86d2a25      22\n",
       "3773   45935e5d-8f50-4176-83d3-fd545bb2015f      21\n",
       "7912   94844e06-0352-4048-9e62-1db7718f804c      21"
      ]
     },
     "metadata": {},
     "output_type": "display_data"
    }
   ],
   "source": [
    "#посмотрим на количество событий, которые совершил каждый пользователь\n",
    "users_grouped = game_actions.groupby('user_id', as_index=False)['event'].count().rename(columns={'event' : 'amount'})\n",
    "\n",
    "#проверим и посмотрим топ-5\n",
    "display(users_grouped.sort_values(by='amount', ascending=False).head(5))"
   ]
  },
  {
   "cell_type": "code",
   "execution_count": 30,
   "metadata": {},
   "outputs": [
    {
     "data": {
      "text/html": [
       "<div>\n",
       "<style scoped>\n",
       "    .dataframe tbody tr th:only-of-type {\n",
       "        vertical-align: middle;\n",
       "    }\n",
       "\n",
       "    .dataframe tbody tr th {\n",
       "        vertical-align: top;\n",
       "    }\n",
       "\n",
       "    .dataframe thead th {\n",
       "        text-align: right;\n",
       "    }\n",
       "</style>\n",
       "<table border=\"1\" class=\"dataframe\">\n",
       "  <thead>\n",
       "    <tr style=\"text-align: right;\">\n",
       "      <th></th>\n",
       "      <th>amount</th>\n",
       "    </tr>\n",
       "  </thead>\n",
       "  <tbody>\n",
       "    <tr>\n",
       "      <td>count</td>\n",
       "      <td>13576.000000</td>\n",
       "    </tr>\n",
       "    <tr>\n",
       "      <td>mean</td>\n",
       "      <td>9.991087</td>\n",
       "    </tr>\n",
       "    <tr>\n",
       "      <td>std</td>\n",
       "      <td>4.146133</td>\n",
       "    </tr>\n",
       "    <tr>\n",
       "      <td>min</td>\n",
       "      <td>1.000000</td>\n",
       "    </tr>\n",
       "    <tr>\n",
       "      <td>25%</td>\n",
       "      <td>6.000000</td>\n",
       "    </tr>\n",
       "    <tr>\n",
       "      <td>50%</td>\n",
       "      <td>10.000000</td>\n",
       "    </tr>\n",
       "    <tr>\n",
       "      <td>75%</td>\n",
       "      <td>13.000000</td>\n",
       "    </tr>\n",
       "    <tr>\n",
       "      <td>max</td>\n",
       "      <td>22.000000</td>\n",
       "    </tr>\n",
       "  </tbody>\n",
       "</table>\n",
       "</div>"
      ],
      "text/plain": [
       "             amount\n",
       "count  13576.000000\n",
       "mean       9.991087\n",
       "std        4.146133\n",
       "min        1.000000\n",
       "25%        6.000000\n",
       "50%       10.000000\n",
       "75%       13.000000\n",
       "max       22.000000"
      ]
     },
     "execution_count": 30,
     "metadata": {},
     "output_type": "execute_result"
    }
   ],
   "source": [
    "#посмотрим на описание получившегося датасета\n",
    "users_grouped.describe()"
   ]
  },
  {
   "cell_type": "markdown",
   "metadata": {},
   "source": [
    "*Видим, что среднее и медиана одинаковы, стандартное отклонение равно 4. Чтобы понять насколько оно велико и как сильно разбросаны данные, в т.ч. имеются ли там выбросы, построим боксплот.*"
   ]
  },
  {
   "cell_type": "code",
   "execution_count": 31,
   "metadata": {},
   "outputs": [
    {
     "data": {
      "text/plain": [
       "<matplotlib.axes._subplots.AxesSubplot at 0x7f2e92c9aed0>"
      ]
     },
     "execution_count": 31,
     "metadata": {},
     "output_type": "execute_result"
    },
    {
     "data": {
      "image/png": "[encoded data removed]",
      "text/plain": [
       "<Figure size 432x288 with 1 Axes>"
      ]
     },
     "metadata": {
      "needs_background": "light"
     },
     "output_type": "display_data"
    }
   ],
   "source": [
    "#строим боксплот\n",
    "users_grouped.boxplot()"
   ]
  },
  {
   "cell_type": "markdown",
   "metadata": {},
   "source": [
    "*Выбросов в датасете users_grouped не обнаружено. Таким образом, оснований для исключения из него пользователей совершивших какое-либо определенное количество событий не имеется.*"
   ]
  },
  {
   "cell_type": "code",
   "execution_count": 32,
   "metadata": {},
   "outputs": [
    {
     "data": {
      "image/png": "[encoded data removed]",
      "text/plain": [
       "<Figure size 432x288 with 1 Axes>"
      ]
     },
     "metadata": {
      "needs_background": "light"
     },
     "output_type": "display_data"
    }
   ],
   "source": [
    "#изучим распределение на гистограмме\n",
    "users_grouped.plot(kind='hist', y='amount', bins=22, grid=True)\n",
    "plt.title('Гистограмма распределения событий на 1 пользователя')\n",
    "plt.xlabel('Количество событий на 1 пользователя')\n",
    "plt.ylabel('Частота значений')\n",
    "plt.show()"
   ]
  },
  {
   "cell_type": "markdown",
   "metadata": {},
   "source": [
    "*Видим, что минимальных (1) и максимальных значений количества событий (свыше 20) очень мало. В основном пики приходятся на 10, 6 и 12 событий.* "
   ]
  },
  {
   "cell_type": "code",
   "execution_count": 33,
   "metadata": {},
   "outputs": [
    {
     "name": "stdout",
     "output_type": "stream",
     "text": [
      "Количество пользователей, завершивших 1 уровень: 5817\n",
      "Доля пользователей, завершивших 1 уровень, от общего числа уникальных пользователей: 0.43\n"
     ]
    }
   ],
   "source": [
    "#создадим срез, в котором будут только те данные, где есть завершенный уровень 1\n",
    "slice_for_finished = game_actions.query('event == \"finished_stage_1\"').copy()\n",
    "\n",
    "#выведем уникальных пользователей, завершивших уровень 1\n",
    "print('Количество пользователей, завершивших 1 уровень:',\\\n",
    "      len(slice_for_finished['user_id'].unique()))\n",
    "\n",
    "#выведем долю пользователей, завершивших 1 уровень, от общего числа уникальных пользователей\n",
    "print('Доля пользователей, завершивших 1 уровень, от общего числа уникальных пользователей:',\\\n",
    "      round(len(slice_for_finished['user_id'].unique()) / total_users, 2))"
   ]
  },
  {
   "cell_type": "markdown",
   "metadata": {},
   "source": [
    "*43 % пользователей, пришедших в игру, заканчивали первый уровень.*"
   ]
  },
  {
   "cell_type": "code",
   "execution_count": 34,
   "metadata": {},
   "outputs": [
    {
     "name": "stdout",
     "output_type": "stream",
     "text": [
      "DAU: 2884\n",
      "WAU: 6120\n",
      "Sticky factor: 0.47\n"
     ]
    }
   ],
   "source": [
    "#посчитаем dau и wau\n",
    "dau_total = int(game_actions.groupby('date').agg({'user_id': 'nunique'}).mean())\n",
    "wau_total = int(game_actions.groupby('week').agg({'user_id': 'nunique'}).mean())\n",
    "\n",
    "\n",
    "#посчитаем sticky factor\n",
    "sticky_factor = round(dau_total / wau_total, 2)\n",
    "\n",
    "#выведем на экран результаты\n",
    "print('DAU:', dau_total)\n",
    "print('WAU:', wau_total)\n",
    "print('Sticky factor:', sticky_factor)"
   ]
  },
  {
   "cell_type": "markdown",
   "metadata": {},
   "source": [
    "*В принципе, sticky factor демонстрирует неплохой уровень - 47%, т.е. пользователи возвращаются к игре (в среднем для игр этот  показатель составляет 18%). Но в целях более высокой точности, этот показатель лучше контролировать в разные промежутки времени, а нам представлен только 1 месяц.*"
   ]
  },
  {
   "cell_type": "markdown",
   "metadata": {},
   "source": [
    "#### Схема монетизации"
   ]
  },
  {
   "cell_type": "markdown",
   "metadata": {},
   "source": [
    "**Первый вариант**"
   ]
  },
  {
   "cell_type": "code",
   "execution_count": 35,
   "metadata": {},
   "outputs": [
    {
     "data": {
      "text/plain": [
       "'Стоимость одного показа рекламы: 0.07.'"
      ]
     },
     "metadata": {},
     "output_type": "display_data"
    },
    {
     "data": {
      "text/plain": [
       "'Доход со всех построек в игре: 8956.92.'"
      ]
     },
     "metadata": {},
     "output_type": "display_data"
    },
    {
     "data": {
      "text/plain": [
       "'Расходы на привлечение пользователей: 7603.57.'"
      ]
     },
     "metadata": {},
     "output_type": "display_data"
    },
    {
     "data": {
      "text/plain": [
       "'ROMI: 117.8%'"
      ]
     },
     "metadata": {},
     "output_type": "display_data"
    }
   ],
   "source": [
    "#сохраним в переменную доход за один показ рекламы\n",
    "revenue_per_show = 0.07\n",
    "\n",
    "#посчитаем доход для всех построек в игре\n",
    "buildings_revenue = revenue_per_show * events_grouped.loc[0, 'amount']\n",
    "\n",
    "#узнаем совокупные расходы на привлечение\n",
    "total_costs = ad_costs['cost'].sum()\n",
    "\n",
    "#посчитаем ROMI\n",
    "ROMI = buildings_revenue / total_costs\n",
    "\n",
    "#выведем на экран\n",
    "display(f'Стоимость одного показа рекламы: {revenue_per_show}.')\n",
    "display(f'Доход со всех построек в игре: {buildings_revenue}.')\n",
    "display(f'Расходы на привлечение пользователей: {total_costs}.')\n",
    "display('ROMI: {:.1%}'.format(ROMI))"
   ]
  },
  {
   "cell_type": "markdown",
   "metadata": {},
   "source": [
    "*1. Видим, что если размещать рекламу на всех постройках сразу, то расходы на привлечение окупятся. Плюс, сверх окупаемости имеется прибыль в размере 17.8%.*  \n",
    "*2. Вместе с тем, при размещении рекламы с самого начала есть риски, что пользователи будут отказываться от игры из-за недовольства рекламой.*  \n",
    "*3. Поэтому лучше размещать рекламу, когда пользователь станет более лояльным к игре. Далее попробуем расчитать монетизацию с учетом данного обстоятельства.* "
   ]
  },
  {
   "cell_type": "code",
   "execution_count": 36,
   "metadata": {},
   "outputs": [
    {
     "data": {
      "text/plain": [
       "'Доход с построек за минусом первой постройки в игре: 8006.6.'"
      ]
     },
     "metadata": {},
     "output_type": "display_data"
    },
    {
     "data": {
      "text/plain": [
       "'Расходы на привлечение пользователей: 7603.57.'"
      ]
     },
     "metadata": {},
     "output_type": "display_data"
    },
    {
     "data": {
      "text/plain": [
       "'ROMI: 105.3%'"
      ]
     },
     "metadata": {},
     "output_type": "display_data"
    }
   ],
   "source": [
    "#посчитаем доход для всех построек за минусом первой постройки каждого пользователя\n",
    "revenue_without_first_building = (events_grouped.loc[0, 'amount'] - total_users) * revenue_per_show\n",
    "\n",
    "#посчитаем ROMI\n",
    "ROMI_without_first_building = revenue_without_first_building / total_costs\n",
    "\n",
    "#выведем на экран\n",
    "display(f'Доход с построек за минусом первой постройки в игре: {round(revenue_without_first_building, 2)}.')\n",
    "display(f'Расходы на привлечение пользователей: {total_costs}.')\n",
    "display('ROMI: {:.1%}'.format(ROMI_without_first_building))"
   ]
  },
  {
   "cell_type": "markdown",
   "metadata": {},
   "source": [
    "*Предлагается вариант, при котором реклама будет показываться не сразу, а начиная со второй постройки. В таком случае доход составит 8006.6, а ROMI 5.3%.*"
   ]
  },
  {
   "cell_type": "markdown",
   "metadata": {},
   "source": [
    "**Второй вариант**"
   ]
  },
  {
   "cell_type": "markdown",
   "metadata": {},
   "source": [
    "*Предлагается рассмотреть возможность включать рекламу не только в событии - постройка объектов, а во всех событиях: building, finished_stage_1, project.* "
   ]
  },
  {
   "cell_type": "code",
   "execution_count": 37,
   "metadata": {},
   "outputs": [
    {
     "data": {
      "text/plain": [
       "'Доход со всех событий: 8544.41.'"
      ]
     },
     "metadata": {},
     "output_type": "display_data"
    },
    {
     "data": {
      "text/plain": [
       "'Расходы на привлечение пользователей: 7603.57.'"
      ]
     },
     "metadata": {},
     "output_type": "display_data"
    },
    {
     "data": {
      "text/plain": [
       "'ROMI для всех событий: 112.4%'"
      ]
     },
     "metadata": {},
     "output_type": "display_data"
    }
   ],
   "source": [
    "#посчитаем доход для всех событий, за исключением 1-й постройки\n",
    "revenue_for_all_events = (events_grouped['amount'].sum() - total_users) * revenue_per_show\n",
    "\n",
    "#посчитаем ROMI с учетом всех событий\n",
    "ROMI_for_all_events = revenue_for_all_events / total_costs\n",
    "\n",
    "#выведем на экран\n",
    "display(f'Доход со всех событий: {round(revenue_for_all_events, 2)}.')\n",
    "display(f'Расходы на привлечение пользователей: {total_costs}.')\n",
    "display('ROMI для всех событий: {:.1%}'.format(ROMI_for_all_events))"
   ]
  },
  {
   "cell_type": "markdown",
   "metadata": {},
   "source": [
    "*Видим, что если реклама будет предусмотрена для всех событий в игре, то к окупаемости добавляется запас в 12%. Доход составит 8544.41 при расходе 7603.57. Кроме того, демонстрация рекламы в этих событиях не будет отвлекать пользователя, т.к. уровень уже практически завершен.*"
   ]
  },
  {
   "cell_type": "markdown",
   "metadata": {},
   "source": [
    "#### Анализ построек"
   ]
  },
  {
   "cell_type": "code",
   "execution_count": 38,
   "metadata": {},
   "outputs": [
    {
     "data": {
      "text/html": [
       "<div>\n",
       "<style scoped>\n",
       "    .dataframe tbody tr th:only-of-type {\n",
       "        vertical-align: middle;\n",
       "    }\n",
       "\n",
       "    .dataframe tbody tr th {\n",
       "        vertical-align: top;\n",
       "    }\n",
       "\n",
       "    .dataframe thead th {\n",
       "        text-align: right;\n",
       "    }\n",
       "</style>\n",
       "<table border=\"1\" class=\"dataframe\">\n",
       "  <thead>\n",
       "    <tr style=\"text-align: right;\">\n",
       "      <th></th>\n",
       "      <th>building_type</th>\n",
       "      <th>amount</th>\n",
       "      <th>ratio</th>\n",
       "    </tr>\n",
       "  </thead>\n",
       "  <tbody>\n",
       "    <tr>\n",
       "      <td>2</td>\n",
       "      <td>spaceport</td>\n",
       "      <td>59325</td>\n",
       "      <td>0.464</td>\n",
       "    </tr>\n",
       "    <tr>\n",
       "      <td>0</td>\n",
       "      <td>assembly_shop</td>\n",
       "      <td>54494</td>\n",
       "      <td>0.426</td>\n",
       "    </tr>\n",
       "    <tr>\n",
       "      <td>1</td>\n",
       "      <td>research_center</td>\n",
       "      <td>14137</td>\n",
       "      <td>0.110</td>\n",
       "    </tr>\n",
       "  </tbody>\n",
       "</table>\n",
       "</div>"
      ],
      "text/plain": [
       "     building_type  amount  ratio\n",
       "2        spaceport   59325  0.464\n",
       "0    assembly_shop   54494  0.426\n",
       "1  research_center   14137  0.110"
      ]
     },
     "metadata": {},
     "output_type": "display_data"
    }
   ],
   "source": [
    "#посмотрим на количество по каждому из зданий\n",
    "buildings_grouped = game_actions.groupby('building_type', as_index=False)['user_id'].count().rename(columns={'user_id' : 'amount'})\n",
    "\n",
    "#добавим столбец с расчетом доли \n",
    "buildings_grouped['ratio'] = round(buildings_grouped['amount'] / buildings_grouped['amount'].sum(), 3)\n",
    "\n",
    "#проверяем\n",
    "display(buildings_grouped.sort_values(by='amount', ascending=False))"
   ]
  },
  {
   "cell_type": "code",
   "execution_count": 39,
   "metadata": {},
   "outputs": [
    {
     "data": {
      "image/png": "[encoded data removed]",
      "text/plain": [
       "<Figure size 432x288 with 1 Axes>"
      ]
     },
     "metadata": {},
     "output_type": "display_data"
    }
   ],
   "source": [
    "#построим круговую диаграмму для распределения по постройкам\n",
    "plt.pie(buildings_grouped['amount'], labels=buildings_grouped['building_type'], autopct='%.0f%%', radius=1.5)\n",
    "plt.show()"
   ]
  },
  {
   "cell_type": "markdown",
   "metadata": {},
   "source": [
    "*После изучения построек видим, что среди них есть явный отстающий - reseach_center, с отставанием почти в 4 раза. Если данная постройка яляется финальной для завершения проекта по разработке орбитальной сборки спутников, то тогда отставание объяснимо, т.к. немного игроков завершает первый уровень созданием проекта.*  \n",
    "*Но может быть есть какие-то проблемы с данной постройкой, например, игроки не всегда могут ее построить из-за технических причин или требуется много ресурсов на нее/созданы иные сложные условия, что нетипично для 1 уровня.* "
   ]
  },
  {
   "cell_type": "markdown",
   "metadata": {},
   "source": [
    "#### Анализ расходов на привлечение"
   ]
  },
  {
   "cell_type": "code",
   "execution_count": 40,
   "metadata": {},
   "outputs": [
    {
     "data": {
      "text/html": [
       "<div>\n",
       "<style scoped>\n",
       "    .dataframe tbody tr th:only-of-type {\n",
       "        vertical-align: middle;\n",
       "    }\n",
       "\n",
       "    .dataframe tbody tr th {\n",
       "        vertical-align: top;\n",
       "    }\n",
       "\n",
       "    .dataframe thead th {\n",
       "        text-align: right;\n",
       "    }\n",
       "</style>\n",
       "<table border=\"1\" class=\"dataframe\">\n",
       "  <thead>\n",
       "    <tr style=\"text-align: right;\">\n",
       "      <th></th>\n",
       "      <th>source</th>\n",
       "      <th>cost</th>\n",
       "    </tr>\n",
       "  </thead>\n",
       "  <tbody>\n",
       "    <tr>\n",
       "      <td>2</td>\n",
       "      <td>yandex_direct</td>\n",
       "      <td>2233.11</td>\n",
       "    </tr>\n",
       "    <tr>\n",
       "      <td>1</td>\n",
       "      <td>instagram_new_adverts</td>\n",
       "      <td>2161.45</td>\n",
       "    </tr>\n",
       "    <tr>\n",
       "      <td>0</td>\n",
       "      <td>facebook_ads</td>\n",
       "      <td>2140.90</td>\n",
       "    </tr>\n",
       "    <tr>\n",
       "      <td>3</td>\n",
       "      <td>youtube_channel_reklama</td>\n",
       "      <td>1068.11</td>\n",
       "    </tr>\n",
       "  </tbody>\n",
       "</table>\n",
       "</div>"
      ],
      "text/plain": [
       "                    source     cost\n",
       "2            yandex_direct  2233.11\n",
       "1    instagram_new_adverts  2161.45\n",
       "0             facebook_ads  2140.90\n",
       "3  youtube_channel_reklama  1068.11"
      ]
     },
     "metadata": {},
     "output_type": "display_data"
    }
   ],
   "source": [
    "#посмотрим как источники распределены по расходам\n",
    "ad_cost_grouped = ad_costs.groupby('source', as_index=False)['cost'].sum().sort_values(by='cost', ascending=False)\n",
    "display(ad_cost_grouped)"
   ]
  },
  {
   "cell_type": "code",
   "execution_count": 41,
   "metadata": {},
   "outputs": [
    {
     "data": {
      "text/html": [
       "<div>\n",
       "<style scoped>\n",
       "    .dataframe tbody tr th:only-of-type {\n",
       "        vertical-align: middle;\n",
       "    }\n",
       "\n",
       "    .dataframe tbody tr th {\n",
       "        vertical-align: top;\n",
       "    }\n",
       "\n",
       "    .dataframe thead th {\n",
       "        text-align: right;\n",
       "    }\n",
       "</style>\n",
       "<table border=\"1\" class=\"dataframe\">\n",
       "  <thead>\n",
       "    <tr style=\"text-align: right;\">\n",
       "      <th></th>\n",
       "      <th>source</th>\n",
       "      <th>amount</th>\n",
       "    </tr>\n",
       "  </thead>\n",
       "  <tbody>\n",
       "    <tr>\n",
       "      <td>2</td>\n",
       "      <td>yandex_direct</td>\n",
       "      <td>4817</td>\n",
       "    </tr>\n",
       "    <tr>\n",
       "      <td>1</td>\n",
       "      <td>instagram_new_adverts</td>\n",
       "      <td>3347</td>\n",
       "    </tr>\n",
       "    <tr>\n",
       "      <td>0</td>\n",
       "      <td>facebook_ads</td>\n",
       "      <td>2726</td>\n",
       "    </tr>\n",
       "    <tr>\n",
       "      <td>3</td>\n",
       "      <td>youtube_channel_reklama</td>\n",
       "      <td>2686</td>\n",
       "    </tr>\n",
       "  </tbody>\n",
       "</table>\n",
       "</div>"
      ],
      "text/plain": [
       "                    source  amount\n",
       "2            yandex_direct    4817\n",
       "1    instagram_new_adverts    3347\n",
       "0             facebook_ads    2726\n",
       "3  youtube_channel_reklama    2686"
      ]
     },
     "metadata": {},
     "output_type": "display_data"
    }
   ],
   "source": [
    "#посмотрим сколько приходило пользователей из каждого источника\n",
    "user_source_grouped = user_source.groupby('source')['user_id'].nunique().\\\n",
    "to_frame(name='amount').reset_index().sort_values(by='amount', ascending=False)\n",
    "display(user_source_grouped)"
   ]
  },
  {
   "cell_type": "code",
   "execution_count": 42,
   "metadata": {},
   "outputs": [
    {
     "data": {
      "text/html": [
       "<div>\n",
       "<style scoped>\n",
       "    .dataframe tbody tr th:only-of-type {\n",
       "        vertical-align: middle;\n",
       "    }\n",
       "\n",
       "    .dataframe tbody tr th {\n",
       "        vertical-align: top;\n",
       "    }\n",
       "\n",
       "    .dataframe thead th {\n",
       "        text-align: right;\n",
       "    }\n",
       "</style>\n",
       "<table border=\"1\" class=\"dataframe\">\n",
       "  <thead>\n",
       "    <tr style=\"text-align: right;\">\n",
       "      <th></th>\n",
       "      <th>source</th>\n",
       "      <th>cost</th>\n",
       "      <th>amount</th>\n",
       "      <th>cost_per_user</th>\n",
       "    </tr>\n",
       "  </thead>\n",
       "  <tbody>\n",
       "    <tr>\n",
       "      <td>2</td>\n",
       "      <td>facebook_ads</td>\n",
       "      <td>2140.90</td>\n",
       "      <td>2726</td>\n",
       "      <td>0.79</td>\n",
       "    </tr>\n",
       "    <tr>\n",
       "      <td>1</td>\n",
       "      <td>instagram_new_adverts</td>\n",
       "      <td>2161.45</td>\n",
       "      <td>3347</td>\n",
       "      <td>0.65</td>\n",
       "    </tr>\n",
       "    <tr>\n",
       "      <td>0</td>\n",
       "      <td>yandex_direct</td>\n",
       "      <td>2233.11</td>\n",
       "      <td>4817</td>\n",
       "      <td>0.46</td>\n",
       "    </tr>\n",
       "    <tr>\n",
       "      <td>3</td>\n",
       "      <td>youtube_channel_reklama</td>\n",
       "      <td>1068.11</td>\n",
       "      <td>2686</td>\n",
       "      <td>0.40</td>\n",
       "    </tr>\n",
       "  </tbody>\n",
       "</table>\n",
       "</div>"
      ],
      "text/plain": [
       "                    source     cost  amount  cost_per_user\n",
       "2             facebook_ads  2140.90    2726           0.79\n",
       "1    instagram_new_adverts  2161.45    3347           0.65\n",
       "0            yandex_direct  2233.11    4817           0.46\n",
       "3  youtube_channel_reklama  1068.11    2686           0.40"
      ]
     },
     "metadata": {},
     "output_type": "display_data"
    }
   ],
   "source": [
    "#посчитаем эффективность расходов на привлечение 1 пользователя\n",
    "#для этого объединим датафреймы и добавим столбец с отношением\n",
    "merged_costs_sources = pd.merge(ad_cost_grouped, user_source_grouped, how=\"inner\", on='source')\n",
    "merged_costs_sources['cost_per_user'] = round(merged_costs_sources['cost'] / merged_costs_sources['amount'], 2)\n",
    "display(merged_costs_sources.sort_values(by='cost_per_user', ascending=False))"
   ]
  },
  {
   "cell_type": "markdown",
   "metadata": {},
   "source": [
    "*Эффективнее всего за изучаемый отрезок времени показало себя привлечение из youtube - 0.4 на одного пользователя. Но с youtube приходит и меньше всего клиентов - 2686. С точки зрения баланса (расходы - количество клиентов) лучше всех показало привлечение из yandex. Больше всех привлечено - 4817, при этом расходы на одного пользователя немногим больше, чем у youtube - 0.46. Самый неэффективый - facebook, т.к. расходы на пользователя составили 0.79 (дороже всего), а привлечено чуть больше, чем у youtube - 2726, т.е. на 40 клиентов.*"
   ]
  },
  {
   "cell_type": "markdown",
   "metadata": {},
   "source": [
    "### Выводы к шагу 2"
   ]
  },
  {
   "cell_type": "markdown",
   "metadata": {},
   "source": [
    "1. В представленном датасете 135 639 событий, которые были совершено 13 576 пользователями. Т.е. на одного пользователя - примерно 10 событий. 43 % пользователей, пришедших в игру, заканчивали первый уровень. \n",
    "2. 94% событий приходится на строительство объектов. Вероятно строительство объекта – ключевое событие игры, без которого невозможно завершение 1-го уровня.\n",
    "3. 1-й уровень завершался победами в 2 раза чаще, чем проектами (68% приходится на победы и 32% на проекты). Таким образом, заметен перекос в сторону побед, т.е. необходимо предпринять какие-либо действия для того, чтобы заинтересовать пользователей строить, а не воевать в основном. Возможно, следует причины в сложном алгоритме постройки, требовательности к ресурсам или технических проблемах. Так же пользователей можно заинтересовать в сторону развития путем предложения каких-нибудь игровых бонусов и т.д. \n",
    "4. Рост пользовательской активности и строительства объектов приходится на первые шесть дней, а затем начинает резко снижаться. Это обусловлено тем, что в первую неделю шло активное привлечение пользователей из рекламных ресурсов.\n",
    "5. В отношении событий finished_stage_1 и project рост и пик наступают позже. Это может быть обусловлено тем, что на завершение уровня требуется определенное время. Рост начинается с 5 дня, а пик приходится примерно на 12 день. \n",
    "6. Общая игровая активность на 1 уровне составляет примерно 22 дня. После этого какая-либо заметная активность отсутствует.\n",
    "7. Расчитанный sticky factor демонстрирует неплохой уровень - 47%, т.е. пользователи возвращаются к игре (в среднем для игр этот показатель составляет 18%). Но т.к. данные получены только за месяц, то лучше исследовать и другие периоды в целях более высокой точности. DAU составил - 2 884, WAU составил - 6 120.\n",
    "8. В части монетизации возможны следующие варианты:  \n",
    "А) Если размещать рекламу на всех постройках сразу, то расходы на привлечение окупятся, плюс, сверх окупаемости будет прибыль в размере 17.8% (ROMI). Доход со всех построек в игре: 8 956.92, а расходы на привлечение - 7 603.57. Но при размещении рекламы с самого первого дня игры есть риски, что пользователи будут отказываться от нее из-за недовольства рекламой.  \n",
    "В) С точки зрения интересов пользователей, лучше размещать рекламу, когда пользователь станет более лояльным к игре. Предлагается вариант, при котором реклама будет показываться не сразу, а начиная со второй постройки. В таком случае доход составит 8006.6, а ROMI 5.3%. Если показывать рекламу с третьей и далее постройки, то расходы на привлечение уже не окупятся.  \n",
    "С) Предложен вариант по включению рекламы не только в событие - постройка объектов, но и в другие события: finished_stage_1, project. В случае запуска рекламы для всех событий в игре (за минусом 1-й постройки) к окупаемости добавляется запас в 12%. Доход составит 8544.41 при расходе 7603.57. Кроме того, демонстрация рекламы в этих событиях не будет отвлекать пользователя, т.к. уровень уже практически завершен.\n",
    "9. При изучении построек выявили, что reseach_center строится почти в 4 раза меньше, чем остальные два типа объектов. Если данная постройка яляется финальной для завершения проекта по разработке орбитальной сборки спутников, то тогда отставание объяснимо, т.к. немного игроков завершает первый уровень созданием проекта. Но могут также быть есть какие-то проблемы с данной постройкой, например, игроки не всегда могут ее построить из-за технических причин или требуется много ресурсов на нее/созданы иные сложные условия для ее постройки, что нетипично для 1 уровня игры.\n",
    "10. Эффективнее всего за изучаемый отрезок времени показало себя привлечение из youtube - 0.4 на одного пользователя. Но с youtube приходит и меньше всего клиентов - 2686. С точки зрения баланса (расходы - количество клиентов) лучше всех показало привлечение из yandex. Больше всех привлечено - 4817, при этом расходы на одного пользователя немногим больше, чем у youtube - 0.46. Самый неэффективый - facebook, т.к. расходы на пользователя составили 0.79 (дороже всего), а привлечено чуть больше, чем у youtube - 2726, т.е. на 40 клиентов. Следует обратить на это внимание и при необходимости следует скорректировать настройки рекламной кампании."
   ]
  },
  {
   "cell_type": "markdown",
   "metadata": {},
   "source": [
    "<a id=\"hypothesis_checking\"></a>\n",
    "## Проверка гипотез"
   ]
  },
  {
   "cell_type": "markdown",
   "metadata": {},
   "source": [
    "### Проверка и формулирование гипотез"
   ]
  },
  {
   "cell_type": "markdown",
   "metadata": {},
   "source": [
    "**Проверка гипотезы о различии времени прохождения уровня между пользователями, которые заканчивают уровень через реализацию проекта, и пользователями, которые заканчивают уровень победой над другим игроком.**"
   ]
  },
  {
   "cell_type": "markdown",
   "metadata": {},
   "source": [
    "*Формулируем гипотезы:  \n",
    "H0 (нулевая гипотеза) – среднее время прохождения уровня пользователями, которые заканчивают уровень через реализацию проекта, и пользователями, которые заканчивают уровень победой над другим игроком, не различается.*  \n",
    "\n",
    "*Н1 (альтернативная гипотеза) – среднее время прохождения уровня пользователями, которые заканчивают уровень через реализацию проекта, и пользователями, которые заканчивают уровень победой над другим игроком различается.*"
   ]
  },
  {
   "cell_type": "code",
   "execution_count": 43,
   "metadata": {},
   "outputs": [],
   "source": [
    "#создаем списки \"имен\" пользователей для закончивших уровень 1, завершивших уровень проектом и победой\n",
    "finished_users_id = list(slice_for_finished['user_id'].unique())\n",
    "\n",
    "project_users_id = list(game_actions.query('event == \"project\"')['user_id'].unique())\n",
    "\n",
    "victory_users_id = []\n",
    "for element in finished_users_id:\n",
    "    if element not in project_users_id:\n",
    "        victory_users_id.append(element)"
   ]
  },
  {
   "cell_type": "code",
   "execution_count": 44,
   "metadata": {},
   "outputs": [
    {
     "name": "stdout",
     "output_type": "stream",
     "text": [
      "Среднее время для 1 уровня при победе врагов: 43050 сек.\n"
     ]
    }
   ],
   "source": [
    "#создаем датасет с пользователями, закончившими победой\n",
    "victory_events = game_actions.query('user_id in@victory_users_id').copy()\n",
    "\n",
    "#группируем по пользователям и находим макс. и мин. время\n",
    "victory_events_grouped = victory_events.groupby('user_id').agg({'event_datetime' : ['min', 'max']})\n",
    "\n",
    "#убираем мультииндексы\n",
    "victory_events_grouped.columns = victory_events_grouped.columns.droplevel()\n",
    "\n",
    "#считаем время на прохождение 1 уровня в секундах\n",
    "victory_events_grouped['time_spent'] = (victory_events_grouped['max'] - victory_events_grouped['min']).dt.seconds\n",
    "\n",
    "#считаем среднее время\n",
    "print('Среднее время для 1 уровня при победе врагов:', int(victory_events_grouped['time_spent'].mean()), 'сек.')"
   ]
  },
  {
   "cell_type": "code",
   "execution_count": 45,
   "metadata": {},
   "outputs": [
    {
     "name": "stdout",
     "output_type": "stream",
     "text": [
      "Среднее время для 1 уровня при реализации проекта: 42843 сек.\n"
     ]
    }
   ],
   "source": [
    "#создаем датасет с пользователями, закончившими проектом\n",
    "project_events = game_actions.query('user_id in@project_users_id').copy()\n",
    "\n",
    "#группируем по пользователям и находим макс. и мин. время\n",
    "project_events_grouped = project_events.groupby('user_id').agg({'event_datetime' : ['min', 'max']})\n",
    "\n",
    "#убираем мультииндексы\n",
    "project_events_grouped.columns = project_events_grouped.columns.droplevel()\n",
    "\n",
    "#считаем время на прохождение 1 уровня в секундах\n",
    "project_events_grouped['time_spent'] = (project_events_grouped['max'] - project_events_grouped['min']).dt.seconds\n",
    "\n",
    "#считаем среднее время\n",
    "print('Среднее время для 1 уровня при реализации проекта:', int(project_events_grouped['time_spent'].mean()), 'сек.')"
   ]
  },
  {
   "cell_type": "code",
   "execution_count": 46,
   "metadata": {},
   "outputs": [
    {
     "data": {
      "text/plain": [
       "<matplotlib.axes._subplots.AxesSubplot at 0x7f2e92cd4850>"
      ]
     },
     "execution_count": 46,
     "metadata": {},
     "output_type": "execute_result"
    },
    {
     "data": {
      "image/png": "[encoded data removed]",
      "text/plain": [
       "<Figure size 432x288 with 1 Axes>"
      ]
     },
     "metadata": {
      "needs_background": "light"
     },
     "output_type": "display_data"
    }
   ],
   "source": [
    "#построим boxplot для victory_events_grouped в целях проверки на выбросы\n",
    "victory_events_grouped.boxplot()"
   ]
  },
  {
   "cell_type": "code",
   "execution_count": 47,
   "metadata": {},
   "outputs": [
    {
     "data": {
      "text/plain": [
       "<matplotlib.axes._subplots.AxesSubplot at 0x7f2e92daf790>"
      ]
     },
     "execution_count": 47,
     "metadata": {},
     "output_type": "execute_result"
    },
    {
     "data": {
      "image/png": "[encoded data removed]",
      "text/plain": [
       "<Figure size 432x288 with 1 Axes>"
      ]
     },
     "metadata": {
      "needs_background": "light"
     },
     "output_type": "display_data"
    }
   ],
   "source": [
    "#построим boxplot для project_events_grouped в целях проверки на выбросы\n",
    "project_events_grouped.boxplot()"
   ]
  },
  {
   "cell_type": "markdown",
   "metadata": {},
   "source": [
    "*Выбросов не обнаружено, значит будем использовать ttest для проверки стат. гипотез*"
   ]
  },
  {
   "cell_type": "code",
   "execution_count": 48,
   "metadata": {},
   "outputs": [
    {
     "data": {
      "text/plain": [
       "603125705.651076"
      ]
     },
     "metadata": {},
     "output_type": "display_data"
    }
   ],
   "source": [
    "#смотрим на дисперсию выборок\n",
    "var_victory_time_spent = np.var(victory_events_grouped['time_spent'], ddof = 1)\n",
    "display(var_victory_time_spent)"
   ]
  },
  {
   "cell_type": "code",
   "execution_count": 49,
   "metadata": {},
   "outputs": [
    {
     "data": {
      "text/plain": [
       "608844266.6701481"
      ]
     },
     "metadata": {},
     "output_type": "display_data"
    }
   ],
   "source": [
    "#смотрим на дисперсию выборок\n",
    "var_project_time_spent = np.var(project_events_grouped['time_spent'], ddof = 1)\n",
    "display(var_project_time_spent)"
   ]
  },
  {
   "cell_type": "code",
   "execution_count": 50,
   "metadata": {},
   "outputs": [
    {
     "name": "stdout",
     "output_type": "stream",
     "text": [
      "p-значение: 0.7654132379987643\n",
      "Не получилось отвергнуть нулевую гипотезу\n"
     ]
    }
   ],
   "source": [
    "#используем метод для сравнения средних значений\n",
    "alpha = 0.05\n",
    "times_compare = st.ttest_ind(victory_events_grouped['time_spent'], project_events_grouped['time_spent'], equal_var=False)\n",
    "print('p-значение:', times_compare.pvalue)\n",
    "\n",
    "if times_compare.pvalue < alpha:\n",
    "    print('Отвергаем нулевую гипотезу')\n",
    "else:\n",
    "    print('Не получилось отвергнуть нулевую гипотезу')"
   ]
  },
  {
   "cell_type": "markdown",
   "metadata": {},
   "source": [
    "*Для проверки использовалось значение pvalue. Уровень значимости выбран в размере 0.05.*\n",
    "\n",
    "*Параметр False в equal_var выбран потому, что дисперсии выборок не равны.*\n",
    "\n",
    "*По итогам тестирования выявили, что нулевую гипотезу отвергнуть не получилось. Таким образом, хотя фактическое среднее время прохождения уровня пользователями, которые заканчивают уровень через реализацию проекта, и пользователями, которые заканчивают уровень победой над другим игроком, отличается, такое значение могло быть получено случайно с вероятностью 77%.*"
   ]
  },
  {
   "cell_type": "markdown",
   "metadata": {},
   "source": [
    "**Проверка гипотезы о различии времени, проведенного в игре, между пользователями, которые закончили 1-й уровень, и пользователями, которые не завершили его.**"
   ]
  },
  {
   "cell_type": "markdown",
   "metadata": {},
   "source": [
    "*Формулируем гипотезы:  \n",
    "H0 (нулевая гипотеза) – среднее время, проведенное в игре, пользователями, которые закончили 1-й уровень, и пользователями, которые не завершили его, не различается.*  \n",
    "\n",
    "*Н1 (альтернативная гипотеза) – среднее время, проведенное в игре, пользователями, которые закончили 1-й уровень, и пользователями, которые не завершили его, различается.*"
   ]
  },
  {
   "cell_type": "code",
   "execution_count": 51,
   "metadata": {},
   "outputs": [],
   "source": [
    "#создадим списки \"имен\" (id) пользователей для тех, кто построил здание\n",
    "users_id_buildings = list(game_actions.query('event != \"project\" or event != \"finished_stage_1\"')['user_id'].unique())\n",
    "\n",
    "#из списка выше уберем id тех, кто завершил 1 уровень\n",
    "not_finished_users_id = []\n",
    "for element in users_id_buildings:\n",
    "    if element not in finished_users_id or element not in project_users_id:\n",
    "        not_finished_users_id.append(element)"
   ]
  },
  {
   "cell_type": "code",
   "execution_count": 52,
   "metadata": {},
   "outputs": [
    {
     "name": "stdout",
     "output_type": "stream",
     "text": [
      "Среднее время для тех, кто не завершил 1 уровень: 43304 сек.\n"
     ]
    }
   ],
   "source": [
    "#создаем датасет с пользователями, не завершившими 1 уровень\n",
    "not_finished_events = game_actions.query('user_id in@not_finished_users_id').copy()\n",
    "\n",
    "#группируем по пользователям и находим макс. и мин. время\n",
    "not_finished_events_grouped = not_finished_events.groupby('user_id').agg({'event_datetime' : ['min', 'max']})\n",
    "\n",
    "#убираем мультииндексы\n",
    "not_finished_events_grouped.columns = not_finished_events_grouped.columns.droplevel()\n",
    "\n",
    "#считаем время тех, кто не прошел 1 уровень в секундах\n",
    "not_finished_events_grouped['time_spent'] = (not_finished_events_grouped['max'] - not_finished_events_grouped['min']).dt.seconds\n",
    "\n",
    "#считаем среднее время\n",
    "print('Среднее время для тех, кто не завершил 1 уровень:', int(not_finished_events_grouped['time_spent'].mean()), 'сек.')"
   ]
  },
  {
   "cell_type": "code",
   "execution_count": 53,
   "metadata": {},
   "outputs": [
    {
     "name": "stdout",
     "output_type": "stream",
     "text": [
      "Среднее время для тех, кто завершил 1 уровень: 42984 сек.\n"
     ]
    }
   ],
   "source": [
    "#создаем датасет с пользователями, завершившими 1 уровень\n",
    "finished_events = game_actions.query('user_id in@finished_users_id').copy()\n",
    "\n",
    "#группируем по пользователям и находим макс. и мин. время тех, кто завершил уровень 1\n",
    "finished_events_grouped = finished_events.groupby('user_id').agg({'event_datetime' : ['min', 'max']})\n",
    "\n",
    "#убираем мультииндексы\n",
    "finished_events_grouped.columns = finished_events_grouped.columns.droplevel()\n",
    "\n",
    "#считаем время тех, кто прошел 1 уровень в секундах\n",
    "finished_events_grouped['time_spent'] = (finished_events_grouped['max'] - finished_events_grouped['min']).dt.seconds\n",
    "\n",
    "#считаем среднее время тех, кто прошел уровень 1\n",
    "print('Среднее время для тех, кто завершил 1 уровень:', int(finished_events_grouped['time_spent'].mean()), 'сек.')"
   ]
  },
  {
   "cell_type": "code",
   "execution_count": 54,
   "metadata": {},
   "outputs": [
    {
     "data": {
      "text/plain": [
       "<matplotlib.axes._subplots.AxesSubplot at 0x7f2e92b84790>"
      ]
     },
     "execution_count": 54,
     "metadata": {},
     "output_type": "execute_result"
    },
    {
     "data": {
      "image/png": "[encoded data removed]",
      "text/plain": [
       "<Figure size 432x288 with 1 Axes>"
      ]
     },
     "metadata": {
      "needs_background": "light"
     },
     "output_type": "display_data"
    }
   ],
   "source": [
    "#построим boxplot для not_finished_events_grouped в целях проверки на выбросы\n",
    "not_finished_events_grouped.boxplot()"
   ]
  },
  {
   "cell_type": "code",
   "execution_count": 55,
   "metadata": {},
   "outputs": [
    {
     "data": {
      "text/plain": [
       "<matplotlib.axes._subplots.AxesSubplot at 0x7f2e92b84250>"
      ]
     },
     "execution_count": 55,
     "metadata": {},
     "output_type": "execute_result"
    },
    {
     "data": {
      "image/png": "[encoded data removed]",
      "text/plain": [
       "<Figure size 432x288 with 1 Axes>"
      ]
     },
     "metadata": {
      "needs_background": "light"
     },
     "output_type": "display_data"
    }
   ],
   "source": [
    "#построим boxplot для finished_events_grouped в целях проверки на выбросы\n",
    "finished_events_grouped.boxplot()"
   ]
  },
  {
   "cell_type": "markdown",
   "metadata": {},
   "source": [
    "*Выбросов не обнаружено, значит будем использовать ttest для проверки стат. гипотез*"
   ]
  },
  {
   "cell_type": "code",
   "execution_count": 56,
   "metadata": {},
   "outputs": [
    {
     "data": {
      "text/plain": [
       "620099528.7673608"
      ]
     },
     "metadata": {},
     "output_type": "display_data"
    }
   ],
   "source": [
    "#смотрим на дисперсию выборок\n",
    "var_not_finished_time_spent = np.var(not_finished_events_grouped['time_spent'], ddof = 1)\n",
    "display(var_not_finished_time_spent)"
   ]
  },
  {
   "cell_type": "code",
   "execution_count": 57,
   "metadata": {},
   "outputs": [
    {
     "data": {
      "text/plain": [
       "604865052.4702407"
      ]
     },
     "metadata": {},
     "output_type": "display_data"
    }
   ],
   "source": [
    "#смотрим на дисперсию выборок\n",
    "var_finished_time_spent = np.var(finished_events_grouped['time_spent'], ddof = 1)\n",
    "display(var_finished_time_spent)"
   ]
  },
  {
   "cell_type": "code",
   "execution_count": 58,
   "metadata": {},
   "outputs": [
    {
     "name": "stdout",
     "output_type": "stream",
     "text": [
      "p-значение: 0.4194801852900941\n",
      "Не получилось отвергнуть нулевую гипотезу\n"
     ]
    }
   ],
   "source": [
    "#используем метод для сравнения средних значений\n",
    "alpha = 0.05\n",
    "times_compare_fin_and_not_fin = st.ttest_ind(not_finished_events_grouped['time_spent'], finished_events_grouped['time_spent'], equal_var=False)\n",
    "print('p-значение:', times_compare_fin_and_not_fin.pvalue)\n",
    "\n",
    "if times_compare_fin_and_not_fin.pvalue < alpha:\n",
    "    print('Отвергаем нулевую гипотезу')\n",
    "else:\n",
    "    print('Не получилось отвергнуть нулевую гипотезу')"
   ]
  },
  {
   "cell_type": "markdown",
   "metadata": {},
   "source": [
    "*Для проверки использовалось значение pvalue.*\n",
    "\n",
    "*Параметр False в equal_var выбран потому, что дисперсии выборок не равны.*\n",
    "\n",
    "*По итогам тестирования выявили, что нулевую гипотезу отвергнуть не получилось. Таким образом, хотя фактическое среднее время в игре пользователей, которые не заканчивают 1-й уровень, и пользователей, которые заканчивают 1-й уровень, отличается, такое значение могло быть получено случайно с вероятностью 42%.*"
   ]
  },
  {
   "cell_type": "markdown",
   "metadata": {},
   "source": [
    "### Выводы к шагу 3"
   ]
  },
  {
   "cell_type": "markdown",
   "metadata": {},
   "source": [
    "*Проверили две статистические гипотезы по итогам проверки было выявлено, что вероятно:*  \n",
    "*1) среднее время прохождения уровня пользователями, которые заканчивают уровень через реализацию проекта, и пользователями, которые заканчивают уровень победой над другим игроком, не отличается, не смотря на фактическое различие -  42843 сек. у тех, кто завершил проект и 43050 сек. у тех, кто победил врагов;*  \n",
    "*2) среднее время в игре пользователей, которые не заканчивают 1-й уровень, и пользователей, которые заканчивают 1-й уровень, не отличается, не смотря на фактическое различие - 43304 сек. у тех, кто не завершил 1-й уровень и 42984 сек. у тех, кто завершил его;*\n"
   ]
  },
  {
   "cell_type": "markdown",
   "metadata": {},
   "source": [
    "<a id=\"summary\"></a>\n",
    "## Общие выводы"
   ]
  },
  {
   "cell_type": "markdown",
   "metadata": {},
   "source": [
    "*В части монетизации возможны следующие варианты:*  \n",
    "1. Если размещать рекламу на всех постройках сразу, то расходы на привлечение окупятся, плюс, сверх окупаемости будет прибыль в размере 17.8% (ROMI). Доход со всех построек в игре: 8 956.92, при расходе на привлечение - 7 603.57. Но при размещении рекламы с самого первого дня игры есть риски, что пользователи будут отказываться от нее из-за недовольства рекламой.  \n",
    "2. С точки зрения интересов пользователей, лучше размещать рекламу, когда пользователь станет более лояльным к игре. Предложен  вариант, при котором реклама будет показываться не сразу, а начиная со второй постройки. В таком случае доход составит 8006.6, а ROMI 5.3%. Если показывать рекламу с третьей и далее постройки, то расходы на привлечение уже не окупятся.  \n",
    "3. Дополнительно предложен вариант по включению рекламы не только в событие - постройка объектов, но и в другие события: finished_stage_1, project. В случае запуска рекламы для всех событий в игре (за минусом 1-й постройки) к окупаемости добавляется запас в 12%. Доход составит 8544.41 при расходе 7603.57. Кроме того, демонстрация рекламы в этих событиях не будет отвлекать пользователя, т.к. уровень уже практически завершен.\n",
    "\n",
    "*Иные, выводы и наблюдения, сделанные в ходе исследования:*\n",
    "1. Во время исследования был найден 1 дубликат в датасете game_actions, который был удален.\n",
    "2. 43 % пользователей, пришедших в игру, заканчивали первый уровень. \n",
    "3. В среднем на 1 пользователя приходилось 10 событий: всего событий 135 639, а пользователей 13 576. \n",
    "4. 94% событий приходится на строительство объектов. Вероятно, строительство объекта – ключевое событие игры, без которого невозможно завершение 1-го уровня и прохождение игры.\n",
    "5. 1-й уровень завершался победами в 2 раза чаще, чем проектами (68% приходится на победы и 32% на проекты). Таким образом, заметен перекос в сторону побед, т.е. необходимо предпринять какие-либо действия для того, чтобы заинтересовать пользователей строить, а не воевать. Возможно, причины следует искать в сложном алгоритме постройки, требовательности к ресурсам или технических проблемах. Так же пользователей можно заинтересовать на завершение игры реализацией проекта путем предложения каких-нибудь игровых бонусов и т.д. \n",
    "6. Рост пользовательской активности и строительства объектов приходится на первые шесть дней, а затем начинает резко снижаться. Это обусловлено тем, что в первую неделю шло активное привлечение пользователей из рекламных ресурсов.\n",
    "7. В отношении событий finished_stage_1 и project рост и пик наступают позже. Это может быть обусловлено тем, что на завершение уровня требуется определенное время. Рост начинается с 5 дня, а пик приходится примерно на 12 день. \n",
    "8. Общая игровая активность на 1 уровне составляет примерно 22 дня. После этого какая-либо заметная активность отсутствует.\n",
    "9. Расчитанный sticky factor демонстрирует неплохой уровень - 47%, т.е. пользователи возвращаются к игре (в среднем для игр этот показатель составляет 18%). Но т.к. данные получены только за месяц, то лучше исследовать и другие периоды в целях более высокой точности. DAU составил - 2 884, WAU составил - 6 120.\n",
    "10. При изучении построек выявили, что reseach_center строится почти в 4 раза меньше, чем остальные два типа объектов. Если данная постройка яляется финальной для завершения проекта по разработке орбитальной сборки спутников, то тогда отставание объяснимо, т.к. немного игроков завершает первый уровень созданием проекта. Но могут также быть какие-то проблемы с данной постройкой, например, игроки не всегда могут ее построить из-за технических причин или требуется много ресурсов на нее/созданы иные сложные условия для ее постройки, что нетипично для 1 уровня игры.\n",
    "11. Эффективнее всего за изучаемый отрезок времени показало себя привлечение из youtube - 0.4 на одного пользователя. Но с youtube приходит и меньше всего клиентов - 2686. С точки зрения баланса (расходы - количество клиентов) лучше всех показало привлечение из yandex. Больше всех привлечено - 4817, при этом расходы на одного пользователя немногим больше, чем у youtube - 0.46. Самый неэффективый - facebook, т.к. расходы на пользователя составили 0.79 (дороже всего), а привлечено чуть больше, чем у youtube - 2726, т.е. на 40 клиентов. Следует обратить на это внимание и при необходимости следует скорректировать настройки рекламной кампании.\n",
    "12. Проверили две статистические гипотезы по итогам проверки было выявлено, что вероятно:  \n",
    "1) среднее время прохождения уровня пользователями, которые заканчивают уровень через реализацию проекта, и пользователями, которые заканчивают уровень победой над другим игроком, не отличается, не смотря на фактическое различие -  42843 сек. у тех, кто завершил проект и 43050 сек. у тех, кто победил врагов;  \n",
    "2) среднее время в игре пользователей, которые не заканчивают 1-й уровень, и пользователей, которые заканчивают 1-й уровень, не отличается, не смотря на фактическое различие - 43304 сек. у тех, кто не завершил 1-й уровень и 42984 сек. у тех, кто завершил его;\n",
    "13. Полученные результаты проверки гипотез могут свидетельствовать о том, что: а) пользователи пробуют игру из любопытства и хотят быстрее пройти уровень, б) либо процесс строительства объектов носит сложный/непонятный характер или есть технические препятствия в реализации построек/прохождения игры; в) возможно игроки были введены в заблуждение жанром игры - думали, что это экшн, а это на стратегию больше похоже.\n",
    " "
   ]
  },
  {
   "cell_type": "code",
   "execution_count": null,
   "metadata": {},
   "outputs": [],
   "source": []
  }
 ],
 "metadata": {
  "ExecuteTimeLog": [
   {
    "duration": 531,
    "start_time": "2021-10-05T12:57:10.505Z"
   },
   {
    "duration": 1213,
    "start_time": "2021-10-05T12:57:13.779Z"
   },
   {
    "duration": 516,
    "start_time": "2021-10-05T13:08:48.842Z"
   },
   {
    "duration": 1196,
    "start_time": "2021-10-05T13:08:49.360Z"
   },
   {
    "duration": 2554,
    "start_time": "2021-10-05T14:28:17.182Z"
   },
   {
    "duration": 16,
    "start_time": "2021-10-05T14:28:38.744Z"
   },
   {
    "duration": 273,
    "start_time": "2021-10-05T14:31:13.300Z"
   },
   {
    "duration": 139,
    "start_time": "2021-10-05T14:32:25.162Z"
   },
   {
    "duration": 4,
    "start_time": "2021-10-05T14:32:33.470Z"
   },
   {
    "duration": 239,
    "start_time": "2021-10-05T14:32:35.379Z"
   },
   {
    "duration": 23,
    "start_time": "2021-10-05T14:34:59.255Z"
   },
   {
    "duration": 37,
    "start_time": "2021-10-05T14:36:28.759Z"
   },
   {
    "duration": 14,
    "start_time": "2021-10-05T15:02:36.440Z"
   },
   {
    "duration": 27,
    "start_time": "2021-10-05T15:04:50.492Z"
   },
   {
    "duration": 67,
    "start_time": "2021-10-05T15:55:13.153Z"
   },
   {
    "duration": 64,
    "start_time": "2021-10-05T15:56:33.920Z"
   },
   {
    "duration": 77,
    "start_time": "2021-10-05T16:02:07.902Z"
   },
   {
    "duration": 62,
    "start_time": "2021-10-05T16:05:23.715Z"
   },
   {
    "duration": 21,
    "start_time": "2021-10-05T16:05:27.381Z"
   },
   {
    "duration": 21,
    "start_time": "2021-10-05T16:07:23.145Z"
   },
   {
    "duration": 10,
    "start_time": "2021-10-05T16:09:15.920Z"
   },
   {
    "duration": 13,
    "start_time": "2021-10-05T16:09:26.253Z"
   },
   {
    "duration": 29,
    "start_time": "2021-10-05T16:20:37.788Z"
   },
   {
    "duration": 2,
    "start_time": "2021-10-05T16:27:28.143Z"
   },
   {
    "duration": 258,
    "start_time": "2021-10-05T16:29:00.793Z"
   },
   {
    "duration": 30,
    "start_time": "2021-10-05T16:41:33.345Z"
   },
   {
    "duration": 7,
    "start_time": "2021-10-05T16:42:11.793Z"
   },
   {
    "duration": 7,
    "start_time": "2021-10-05T16:42:15.392Z"
   },
   {
    "duration": 26,
    "start_time": "2021-10-05T16:42:47.172Z"
   },
   {
    "duration": 25,
    "start_time": "2021-10-05T16:43:35.608Z"
   },
   {
    "duration": 23,
    "start_time": "2021-10-05T16:53:56.514Z"
   },
   {
    "duration": 145,
    "start_time": "2021-10-05T18:09:18.934Z"
   },
   {
    "duration": 8,
    "start_time": "2021-10-05T18:10:00.325Z"
   },
   {
    "duration": 15,
    "start_time": "2021-10-05T18:11:03.375Z"
   },
   {
    "duration": 13,
    "start_time": "2021-10-05T18:11:14.097Z"
   },
   {
    "duration": 36,
    "start_time": "2021-10-05T18:18:49.728Z"
   },
   {
    "duration": 21,
    "start_time": "2021-10-05T18:24:40.434Z"
   },
   {
    "duration": 20,
    "start_time": "2021-10-05T18:25:28.135Z"
   },
   {
    "duration": 6,
    "start_time": "2021-10-05T18:27:54.075Z"
   },
   {
    "duration": 7,
    "start_time": "2021-10-05T18:28:06.061Z"
   },
   {
    "duration": 14,
    "start_time": "2021-10-05T18:34:38.532Z"
   },
   {
    "duration": 3813,
    "start_time": "2021-10-05T18:35:29.947Z"
   },
   {
    "duration": 150,
    "start_time": "2021-10-05T18:35:52.130Z"
   },
   {
    "duration": 26,
    "start_time": "2021-10-05T18:36:23.984Z"
   },
   {
    "duration": 6,
    "start_time": "2021-10-05T18:37:10.970Z"
   },
   {
    "duration": 6,
    "start_time": "2021-10-05T18:37:54.936Z"
   },
   {
    "duration": 92,
    "start_time": "2021-10-05T18:45:36.122Z"
   },
   {
    "duration": 42,
    "start_time": "2021-10-05T18:47:14.472Z"
   },
   {
    "duration": 41,
    "start_time": "2021-10-05T18:47:21.688Z"
   },
   {
    "duration": 52,
    "start_time": "2021-10-05T18:49:59.544Z"
   },
   {
    "duration": 48,
    "start_time": "2021-10-05T18:57:19.002Z"
   },
   {
    "duration": 44,
    "start_time": "2021-10-05T18:58:29.071Z"
   },
   {
    "duration": 89,
    "start_time": "2021-10-05T19:06:00.413Z"
   },
   {
    "duration": 48,
    "start_time": "2021-10-05T19:06:21.639Z"
   },
   {
    "duration": 84,
    "start_time": "2021-10-05T19:06:47.731Z"
   },
   {
    "duration": 48,
    "start_time": "2021-10-05T19:06:50.279Z"
   },
   {
    "duration": 46,
    "start_time": "2021-10-05T19:06:53.219Z"
   },
   {
    "duration": 85,
    "start_time": "2021-10-05T19:06:55.721Z"
   },
   {
    "duration": 47,
    "start_time": "2021-10-05T19:06:58.837Z"
   },
   {
    "duration": 48,
    "start_time": "2021-10-05T19:07:04.269Z"
   },
   {
    "duration": 507,
    "start_time": "2021-10-05T19:07:16.838Z"
   },
   {
    "duration": 228,
    "start_time": "2021-10-05T19:07:17.347Z"
   },
   {
    "duration": 4,
    "start_time": "2021-10-05T19:07:17.577Z"
   },
   {
    "duration": 264,
    "start_time": "2021-10-05T19:07:17.583Z"
   },
   {
    "duration": 24,
    "start_time": "2021-10-05T19:07:17.849Z"
   },
   {
    "duration": 43,
    "start_time": "2021-10-05T19:07:17.875Z"
   },
   {
    "duration": 9,
    "start_time": "2021-10-05T19:07:17.919Z"
   },
   {
    "duration": 42,
    "start_time": "2021-10-05T19:07:17.930Z"
   },
   {
    "duration": 28,
    "start_time": "2021-10-05T19:07:17.974Z"
   },
   {
    "duration": 38,
    "start_time": "2021-10-05T19:07:18.004Z"
   },
   {
    "duration": 68,
    "start_time": "2021-10-05T19:07:18.043Z"
   },
   {
    "duration": 28,
    "start_time": "2021-10-05T19:07:18.113Z"
   },
   {
    "duration": 14,
    "start_time": "2021-10-05T19:07:18.142Z"
   },
   {
    "duration": 73,
    "start_time": "2021-10-05T19:07:18.157Z"
   },
   {
    "duration": 13,
    "start_time": "2021-10-05T19:07:18.231Z"
   },
   {
    "duration": 74,
    "start_time": "2021-10-05T19:07:18.245Z"
   },
   {
    "duration": 49,
    "start_time": "2021-10-05T19:07:18.320Z"
   },
   {
    "duration": 100,
    "start_time": "2021-10-05T19:07:18.371Z"
   },
   {
    "duration": 88,
    "start_time": "2021-10-05T19:07:35.257Z"
   },
   {
    "duration": 84,
    "start_time": "2021-10-05T19:08:32.889Z"
   },
   {
    "duration": 84,
    "start_time": "2021-10-05T19:08:55.672Z"
   },
   {
    "duration": 90,
    "start_time": "2021-10-05T19:09:04.168Z"
   },
   {
    "duration": 92,
    "start_time": "2021-10-05T19:09:09.281Z"
   },
   {
    "duration": 748,
    "start_time": "2021-10-06T07:35:33.795Z"
   },
   {
    "duration": 299,
    "start_time": "2021-10-06T07:35:34.546Z"
   },
   {
    "duration": 6,
    "start_time": "2021-10-06T07:35:34.848Z"
   },
   {
    "duration": 530,
    "start_time": "2021-10-06T07:35:34.857Z"
   },
   {
    "duration": 42,
    "start_time": "2021-10-06T07:35:35.388Z"
   },
   {
    "duration": 69,
    "start_time": "2021-10-06T07:35:35.433Z"
   },
   {
    "duration": 8,
    "start_time": "2021-10-06T07:35:35.504Z"
   },
   {
    "duration": 87,
    "start_time": "2021-10-06T07:35:35.515Z"
   },
   {
    "duration": 9,
    "start_time": "2021-10-06T07:35:35.604Z"
   },
   {
    "duration": 36,
    "start_time": "2021-10-06T07:35:35.615Z"
   },
   {
    "duration": 133,
    "start_time": "2021-10-06T07:35:35.654Z"
   },
   {
    "duration": 47,
    "start_time": "2021-10-06T07:35:35.801Z"
   },
   {
    "duration": 18,
    "start_time": "2021-10-06T07:35:35.851Z"
   },
   {
    "duration": 118,
    "start_time": "2021-10-06T07:35:35.902Z"
   },
   {
    "duration": 20,
    "start_time": "2021-10-06T07:35:36.022Z"
   },
   {
    "duration": 116,
    "start_time": "2021-10-06T07:35:36.044Z"
   },
   {
    "duration": 100,
    "start_time": "2021-10-06T07:35:36.162Z"
   },
   {
    "duration": 164,
    "start_time": "2021-10-06T07:35:36.264Z"
   },
   {
    "duration": 13,
    "start_time": "2021-10-06T07:45:10.606Z"
   },
   {
    "duration": 26,
    "start_time": "2021-10-06T07:57:39.627Z"
   },
   {
    "duration": 40,
    "start_time": "2021-10-06T07:58:11.287Z"
   },
   {
    "duration": 41,
    "start_time": "2021-10-06T08:01:37.172Z"
   },
   {
    "duration": 32,
    "start_time": "2021-10-06T08:04:26.806Z"
   },
   {
    "duration": 42,
    "start_time": "2021-10-06T08:04:45.083Z"
   },
   {
    "duration": 42,
    "start_time": "2021-10-06T08:06:57.389Z"
   },
   {
    "duration": 34,
    "start_time": "2021-10-06T08:07:37.762Z"
   },
   {
    "duration": 6571,
    "start_time": "2021-10-06T08:23:37.400Z"
   },
   {
    "duration": 35,
    "start_time": "2021-10-06T08:27:15.956Z"
   },
   {
    "duration": 36,
    "start_time": "2021-10-06T08:29:02.235Z"
   },
   {
    "duration": 43,
    "start_time": "2021-10-06T08:30:43.321Z"
   },
   {
    "duration": 47,
    "start_time": "2021-10-06T08:33:45.191Z"
   },
   {
    "duration": 35,
    "start_time": "2021-10-06T08:38:57.247Z"
   },
   {
    "duration": 49,
    "start_time": "2021-10-06T08:39:20.182Z"
   },
   {
    "duration": 42,
    "start_time": "2021-10-06T08:39:43.007Z"
   },
   {
    "duration": 112,
    "start_time": "2021-10-06T09:05:56.116Z"
   },
   {
    "duration": 333,
    "start_time": "2021-10-06T09:08:46.195Z"
   },
   {
    "duration": 328,
    "start_time": "2021-10-06T09:10:04.491Z"
   },
   {
    "duration": 301,
    "start_time": "2021-10-06T09:13:03.831Z"
   },
   {
    "duration": 571,
    "start_time": "2021-10-06T09:24:12.051Z"
   },
   {
    "duration": 312,
    "start_time": "2021-10-06T09:31:43.351Z"
   },
   {
    "duration": 325,
    "start_time": "2021-10-06T09:32:24.601Z"
   },
   {
    "duration": 98,
    "start_time": "2021-10-06T09:33:36.707Z"
   },
   {
    "duration": 309,
    "start_time": "2021-10-06T09:33:44.766Z"
   },
   {
    "duration": 303,
    "start_time": "2021-10-06T09:33:58.338Z"
   },
   {
    "duration": 267,
    "start_time": "2021-10-06T09:39:28.618Z"
   },
   {
    "duration": 340,
    "start_time": "2021-10-06T09:39:43.939Z"
   },
   {
    "duration": 4,
    "start_time": "2021-10-06T09:48:23.761Z"
   },
   {
    "duration": 12,
    "start_time": "2021-10-06T09:48:45.323Z"
   },
   {
    "duration": 13,
    "start_time": "2021-10-06T09:52:34.444Z"
   },
   {
    "duration": 13,
    "start_time": "2021-10-06T09:53:04.072Z"
   },
   {
    "duration": 11,
    "start_time": "2021-10-06T09:53:23.025Z"
   },
   {
    "duration": 13,
    "start_time": "2021-10-06T09:53:45.628Z"
   },
   {
    "duration": 209,
    "start_time": "2021-10-06T09:57:46.409Z"
   },
   {
    "duration": 314,
    "start_time": "2021-10-06T10:15:26.313Z"
   },
   {
    "duration": 100,
    "start_time": "2021-10-06T10:15:35.618Z"
   },
   {
    "duration": 112,
    "start_time": "2021-10-06T10:16:44.320Z"
   },
   {
    "duration": 111,
    "start_time": "2021-10-06T10:17:51.084Z"
   },
   {
    "duration": 121,
    "start_time": "2021-10-06T10:18:40.835Z"
   },
   {
    "duration": 136,
    "start_time": "2021-10-06T10:19:02.089Z"
   },
   {
    "duration": 175,
    "start_time": "2021-10-06T10:19:19.369Z"
   },
   {
    "duration": 117,
    "start_time": "2021-10-06T10:19:40.124Z"
   },
   {
    "duration": 114,
    "start_time": "2021-10-06T10:19:49.243Z"
   },
   {
    "duration": 147,
    "start_time": "2021-10-06T10:27:30.971Z"
   },
   {
    "duration": 127,
    "start_time": "2021-10-06T10:27:49.983Z"
   },
   {
    "duration": 99,
    "start_time": "2021-10-06T10:31:00.440Z"
   },
   {
    "duration": 578,
    "start_time": "2021-10-06T11:19:45.033Z"
   },
   {
    "duration": 5,
    "start_time": "2021-10-06T11:20:37.567Z"
   },
   {
    "duration": 6,
    "start_time": "2021-10-06T11:21:00.697Z"
   },
   {
    "duration": 6,
    "start_time": "2021-10-06T11:45:37.428Z"
   },
   {
    "duration": 12,
    "start_time": "2021-10-06T11:50:51.131Z"
   },
   {
    "duration": 28,
    "start_time": "2021-10-06T11:51:58.675Z"
   },
   {
    "duration": 37,
    "start_time": "2021-10-06T11:56:00.790Z"
   },
   {
    "duration": 36,
    "start_time": "2021-10-06T11:56:36.032Z"
   },
   {
    "duration": 5,
    "start_time": "2021-10-06T11:57:57.861Z"
   },
   {
    "duration": 223,
    "start_time": "2021-10-06T11:58:28.815Z"
   },
   {
    "duration": 118,
    "start_time": "2021-10-06T11:58:35.424Z"
   },
   {
    "duration": 13,
    "start_time": "2021-10-06T12:00:27.245Z"
   },
   {
    "duration": 8,
    "start_time": "2021-10-06T12:01:10.664Z"
   },
   {
    "duration": 16,
    "start_time": "2021-10-06T12:01:32.867Z"
   },
   {
    "duration": 11,
    "start_time": "2021-10-06T12:06:15.064Z"
   },
   {
    "duration": 22,
    "start_time": "2021-10-06T12:09:17.808Z"
   },
   {
    "duration": 18,
    "start_time": "2021-10-06T12:11:09.134Z"
   },
   {
    "duration": 17,
    "start_time": "2021-10-06T12:11:51.279Z"
   },
   {
    "duration": 308,
    "start_time": "2021-10-06T12:12:07.910Z"
   },
   {
    "duration": 102,
    "start_time": "2021-10-06T12:12:13.356Z"
   },
   {
    "duration": 24,
    "start_time": "2021-10-06T12:14:42.285Z"
   },
   {
    "duration": 25,
    "start_time": "2021-10-06T12:15:12.745Z"
   },
   {
    "duration": 35,
    "start_time": "2021-10-06T12:33:29.042Z"
   },
   {
    "duration": 38,
    "start_time": "2021-10-06T12:35:29.781Z"
   },
   {
    "duration": 37,
    "start_time": "2021-10-06T12:36:31.836Z"
   },
   {
    "duration": 92,
    "start_time": "2021-10-06T12:40:22.455Z"
   },
   {
    "duration": 30,
    "start_time": "2021-10-06T12:41:20.162Z"
   },
   {
    "duration": 29,
    "start_time": "2021-10-06T12:42:09.157Z"
   },
   {
    "duration": 39,
    "start_time": "2021-10-06T12:42:21.079Z"
   },
   {
    "duration": 61,
    "start_time": "2021-10-06T13:33:28.168Z"
   },
   {
    "duration": 5,
    "start_time": "2021-10-06T13:34:50.460Z"
   },
   {
    "duration": 6,
    "start_time": "2021-10-06T13:35:23.374Z"
   },
   {
    "duration": 6,
    "start_time": "2021-10-06T13:35:35.432Z"
   },
   {
    "duration": 60,
    "start_time": "2021-10-06T13:37:38.925Z"
   },
   {
    "duration": 16,
    "start_time": "2021-10-06T13:38:53.360Z"
   },
   {
    "duration": 255,
    "start_time": "2021-10-06T13:45:43.471Z"
   },
   {
    "duration": 205,
    "start_time": "2021-10-06T13:46:17.813Z"
   },
   {
    "duration": 30,
    "start_time": "2021-10-06T13:48:51.785Z"
   },
   {
    "duration": 28,
    "start_time": "2021-10-06T13:48:54.893Z"
   },
   {
    "duration": 211,
    "start_time": "2021-10-06T13:52:50.691Z"
   },
   {
    "duration": 200,
    "start_time": "2021-10-06T13:56:28.533Z"
   },
   {
    "duration": 496,
    "start_time": "2021-10-06T14:00:58.186Z"
   },
   {
    "duration": 4498,
    "start_time": "2021-10-06T14:02:38.761Z"
   },
   {
    "duration": 1470,
    "start_time": "2021-10-06T14:13:04.215Z"
   },
   {
    "duration": 308,
    "start_time": "2021-10-06T14:13:05.687Z"
   },
   {
    "duration": 5,
    "start_time": "2021-10-06T14:13:05.998Z"
   },
   {
    "duration": 414,
    "start_time": "2021-10-06T14:13:06.006Z"
   },
   {
    "duration": 36,
    "start_time": "2021-10-06T14:13:06.423Z"
   },
   {
    "duration": 65,
    "start_time": "2021-10-06T14:13:06.461Z"
   },
   {
    "duration": 8,
    "start_time": "2021-10-06T14:13:06.528Z"
   },
   {
    "duration": 95,
    "start_time": "2021-10-06T14:13:06.538Z"
   },
   {
    "duration": 10,
    "start_time": "2021-10-06T14:13:06.637Z"
   },
   {
    "duration": 75,
    "start_time": "2021-10-06T14:13:06.650Z"
   },
   {
    "duration": 116,
    "start_time": "2021-10-06T14:13:06.728Z"
   },
   {
    "duration": 73,
    "start_time": "2021-10-06T14:13:06.846Z"
   },
   {
    "duration": 21,
    "start_time": "2021-10-06T14:13:06.921Z"
   },
   {
    "duration": 100,
    "start_time": "2021-10-06T14:13:06.945Z"
   },
   {
    "duration": 19,
    "start_time": "2021-10-06T14:13:07.047Z"
   },
   {
    "duration": 111,
    "start_time": "2021-10-06T14:13:07.069Z"
   },
   {
    "duration": 105,
    "start_time": "2021-10-06T14:13:07.182Z"
   },
   {
    "duration": 168,
    "start_time": "2021-10-06T14:13:07.300Z"
   },
   {
    "duration": 14,
    "start_time": "2021-10-06T14:13:07.470Z"
   },
   {
    "duration": 37,
    "start_time": "2021-10-06T14:13:07.501Z"
   },
   {
    "duration": 5,
    "start_time": "2021-10-06T14:13:07.541Z"
   },
   {
    "duration": 375,
    "start_time": "2021-10-06T14:13:07.548Z"
   },
   {
    "duration": 139,
    "start_time": "2021-10-06T14:13:07.925Z"
   },
   {
    "duration": 18,
    "start_time": "2021-10-06T14:13:08.066Z"
   },
   {
    "duration": 227,
    "start_time": "2021-10-06T14:13:08.100Z"
   },
   {
    "duration": 115,
    "start_time": "2021-10-06T14:13:08.329Z"
   },
   {
    "duration": 27,
    "start_time": "2021-10-06T14:13:08.448Z"
   },
   {
    "duration": 78,
    "start_time": "2021-10-06T14:13:08.478Z"
   },
   {
    "duration": 16,
    "start_time": "2021-10-06T14:13:08.558Z"
   },
   {
    "duration": 251,
    "start_time": "2021-10-06T14:13:08.577Z"
   },
   {
    "duration": 337,
    "start_time": "2021-10-06T14:13:08.830Z"
   },
   {
    "duration": 3,
    "start_time": "2021-10-06T14:13:09.169Z"
   },
   {
    "duration": 54,
    "start_time": "2021-10-06T14:13:09.174Z"
   },
   {
    "duration": 13,
    "start_time": "2021-10-06T14:13:09.231Z"
   },
   {
    "duration": 7,
    "start_time": "2021-10-06T14:16:55.451Z"
   },
   {
    "duration": 353,
    "start_time": "2021-10-06T14:31:53.168Z"
   },
   {
    "duration": 439,
    "start_time": "2021-10-06T14:33:37.303Z"
   },
   {
    "duration": 371,
    "start_time": "2021-10-06T14:38:49.593Z"
   },
   {
    "duration": 366,
    "start_time": "2021-10-06T14:39:02.267Z"
   },
   {
    "duration": 13,
    "start_time": "2021-10-06T15:54:06.993Z"
   },
   {
    "duration": 21,
    "start_time": "2021-10-06T16:02:29.636Z"
   },
   {
    "duration": 18,
    "start_time": "2021-10-06T16:41:35.636Z"
   },
   {
    "duration": 421,
    "start_time": "2021-10-06T16:44:55.165Z"
   },
   {
    "duration": 195,
    "start_time": "2021-10-06T16:49:22.007Z"
   },
   {
    "duration": 119,
    "start_time": "2021-10-06T17:00:56.594Z"
   },
   {
    "duration": 106,
    "start_time": "2021-10-06T17:02:41.602Z"
   },
   {
    "duration": 102,
    "start_time": "2021-10-06T17:03:10.568Z"
   },
   {
    "duration": 62,
    "start_time": "2021-10-06T17:03:27.055Z"
   },
   {
    "duration": 253,
    "start_time": "2021-10-06T17:03:48.676Z"
   },
   {
    "duration": 63,
    "start_time": "2021-10-06T17:04:07.405Z"
   },
   {
    "duration": 66,
    "start_time": "2021-10-06T17:06:00.399Z"
   },
   {
    "duration": 69,
    "start_time": "2021-10-06T17:07:13.201Z"
   },
   {
    "duration": 120,
    "start_time": "2021-10-06T17:11:07.805Z"
   },
   {
    "duration": 710,
    "start_time": "2021-10-06T17:12:36.265Z"
   },
   {
    "duration": 733,
    "start_time": "2021-10-06T17:17:13.622Z"
   },
   {
    "duration": 97,
    "start_time": "2021-10-06T18:44:41.131Z"
   },
   {
    "duration": 17,
    "start_time": "2021-10-06T18:45:01.607Z"
   },
   {
    "duration": 86,
    "start_time": "2021-10-06T18:48:28.030Z"
   },
   {
    "duration": 80,
    "start_time": "2021-10-06T18:49:52.781Z"
   },
   {
    "duration": 275,
    "start_time": "2021-10-06T18:51:01.578Z"
   },
   {
    "duration": 18,
    "start_time": "2021-10-06T18:51:17.051Z"
   },
   {
    "duration": 16,
    "start_time": "2021-10-06T18:51:38.069Z"
   },
   {
    "duration": 17,
    "start_time": "2021-10-06T18:52:13.316Z"
   },
   {
    "duration": 27,
    "start_time": "2021-10-06T18:55:09.391Z"
   },
   {
    "duration": 28,
    "start_time": "2021-10-06T18:56:22.296Z"
   },
   {
    "duration": 29,
    "start_time": "2021-10-06T19:06:57.351Z"
   },
   {
    "duration": 24,
    "start_time": "2021-10-06T19:07:12.722Z"
   },
   {
    "duration": 15,
    "start_time": "2021-10-06T19:11:52.451Z"
   },
   {
    "duration": 1464,
    "start_time": "2021-10-07T08:42:43.285Z"
   },
   {
    "duration": 297,
    "start_time": "2021-10-07T08:42:44.752Z"
   },
   {
    "duration": 5,
    "start_time": "2021-10-07T08:42:45.052Z"
   },
   {
    "duration": 416,
    "start_time": "2021-10-07T08:42:45.061Z"
   },
   {
    "duration": 41,
    "start_time": "2021-10-07T08:42:45.480Z"
   },
   {
    "duration": 71,
    "start_time": "2021-10-07T08:42:45.523Z"
   },
   {
    "duration": 9,
    "start_time": "2021-10-07T08:42:45.597Z"
   },
   {
    "duration": 92,
    "start_time": "2021-10-07T08:42:45.610Z"
   },
   {
    "duration": 9,
    "start_time": "2021-10-07T08:42:45.704Z"
   },
   {
    "duration": 74,
    "start_time": "2021-10-07T08:42:45.715Z"
   },
   {
    "duration": 117,
    "start_time": "2021-10-07T08:42:45.792Z"
   },
   {
    "duration": 66,
    "start_time": "2021-10-07T08:42:45.912Z"
   },
   {
    "duration": 18,
    "start_time": "2021-10-07T08:42:45.981Z"
   },
   {
    "duration": 97,
    "start_time": "2021-10-07T08:42:46.002Z"
   },
   {
    "duration": 22,
    "start_time": "2021-10-07T08:42:46.102Z"
   },
   {
    "duration": 121,
    "start_time": "2021-10-07T08:42:46.127Z"
   },
   {
    "duration": 87,
    "start_time": "2021-10-07T08:42:46.266Z"
   },
   {
    "duration": 167,
    "start_time": "2021-10-07T08:42:46.368Z"
   },
   {
    "duration": 47,
    "start_time": "2021-10-07T08:42:46.538Z"
   },
   {
    "duration": 7,
    "start_time": "2021-10-07T08:42:46.587Z"
   },
   {
    "duration": 269,
    "start_time": "2021-10-07T08:42:46.597Z"
   },
   {
    "duration": 131,
    "start_time": "2021-10-07T08:42:46.869Z"
   },
   {
    "duration": 19,
    "start_time": "2021-10-07T08:42:47.004Z"
   },
   {
    "duration": 243,
    "start_time": "2021-10-07T08:42:47.026Z"
   },
   {
    "duration": 118,
    "start_time": "2021-10-07T08:42:47.272Z"
   },
   {
    "duration": 114,
    "start_time": "2021-10-07T08:42:47.392Z"
   },
   {
    "duration": 767,
    "start_time": "2021-10-07T08:42:47.509Z"
   },
   {
    "duration": 28,
    "start_time": "2021-10-07T08:42:48.278Z"
   },
   {
    "duration": 86,
    "start_time": "2021-10-07T08:42:48.308Z"
   },
   {
    "duration": 17,
    "start_time": "2021-10-07T08:42:48.396Z"
   },
   {
    "duration": 239,
    "start_time": "2021-10-07T08:42:48.416Z"
   },
   {
    "duration": 398,
    "start_time": "2021-10-07T08:42:48.657Z"
   },
   {
    "duration": 24,
    "start_time": "2021-10-07T08:42:49.057Z"
   },
   {
    "duration": 15,
    "start_time": "2021-10-07T08:42:49.084Z"
   },
   {
    "duration": 137,
    "start_time": "2021-10-07T08:42:49.102Z"
   },
   {
    "duration": 25,
    "start_time": "2021-10-07T08:42:49.242Z"
   },
   {
    "duration": 5,
    "start_time": "2021-10-07T08:51:40.728Z"
   },
   {
    "duration": 8,
    "start_time": "2021-10-07T08:54:44.939Z"
   },
   {
    "duration": 9,
    "start_time": "2021-10-07T08:58:02.972Z"
   },
   {
    "duration": 428,
    "start_time": "2021-10-07T09:03:50.877Z"
   },
   {
    "duration": 12,
    "start_time": "2021-10-07T09:05:14.571Z"
   },
   {
    "duration": 12,
    "start_time": "2021-10-07T09:05:29.970Z"
   },
   {
    "duration": 696,
    "start_time": "2021-10-07T09:18:17.662Z"
   },
   {
    "duration": 362,
    "start_time": "2021-10-07T09:21:13.530Z"
   },
   {
    "duration": 693,
    "start_time": "2021-10-07T09:22:09.864Z"
   },
   {
    "duration": 699,
    "start_time": "2021-10-07T09:27:03.325Z"
   },
   {
    "duration": 598,
    "start_time": "2021-10-07T09:28:07.778Z"
   },
   {
    "duration": 35,
    "start_time": "2021-10-07T09:32:50.205Z"
   },
   {
    "duration": 756,
    "start_time": "2021-10-07T09:33:18.121Z"
   },
   {
    "duration": 30,
    "start_time": "2021-10-07T09:51:42.097Z"
   },
   {
    "duration": 25,
    "start_time": "2021-10-07T09:52:22.531Z"
   },
   {
    "duration": 329,
    "start_time": "2021-10-07T09:54:51.749Z"
   },
   {
    "duration": 35,
    "start_time": "2021-10-07T09:55:06.008Z"
   },
   {
    "duration": 35,
    "start_time": "2021-10-07T09:55:45.700Z"
   },
   {
    "duration": 4,
    "start_time": "2021-10-07T09:58:02.184Z"
   },
   {
    "duration": 5,
    "start_time": "2021-10-07T09:58:16.430Z"
   },
   {
    "duration": 40,
    "start_time": "2021-10-07T10:03:15.628Z"
   },
   {
    "duration": 3,
    "start_time": "2021-10-07T10:03:34.082Z"
   },
   {
    "duration": 6,
    "start_time": "2021-10-07T10:03:39.869Z"
   },
   {
    "duration": 41,
    "start_time": "2021-10-07T10:04:43.447Z"
   },
   {
    "duration": 3,
    "start_time": "2021-10-07T10:05:10.250Z"
   },
   {
    "duration": 5,
    "start_time": "2021-10-07T10:05:12.374Z"
   },
   {
    "duration": 281,
    "start_time": "2021-10-07T10:17:43.981Z"
   },
   {
    "duration": 26,
    "start_time": "2021-10-07T10:17:50.486Z"
   },
   {
    "duration": 4,
    "start_time": "2021-10-07T10:17:53.300Z"
   },
   {
    "duration": 33,
    "start_time": "2021-10-07T10:20:51.282Z"
   },
   {
    "duration": 31,
    "start_time": "2021-10-07T10:21:28.410Z"
   },
   {
    "duration": 1604,
    "start_time": "2021-10-07T10:27:26.352Z"
   },
   {
    "duration": 306,
    "start_time": "2021-10-07T10:27:27.958Z"
   },
   {
    "duration": 5,
    "start_time": "2021-10-07T10:27:28.268Z"
   },
   {
    "duration": 433,
    "start_time": "2021-10-07T10:27:28.275Z"
   },
   {
    "duration": 38,
    "start_time": "2021-10-07T10:27:28.711Z"
   },
   {
    "duration": 47,
    "start_time": "2021-10-07T10:27:28.751Z"
   },
   {
    "duration": 8,
    "start_time": "2021-10-07T10:27:28.800Z"
   },
   {
    "duration": 95,
    "start_time": "2021-10-07T10:27:28.812Z"
   },
   {
    "duration": 9,
    "start_time": "2021-10-07T10:27:28.910Z"
   },
   {
    "duration": 79,
    "start_time": "2021-10-07T10:27:28.922Z"
   },
   {
    "duration": 129,
    "start_time": "2021-10-07T10:27:29.003Z"
   },
   {
    "duration": 80,
    "start_time": "2021-10-07T10:27:29.135Z"
   },
   {
    "duration": 28,
    "start_time": "2021-10-07T10:27:29.218Z"
   },
   {
    "duration": 75,
    "start_time": "2021-10-07T10:27:29.268Z"
   },
   {
    "duration": 38,
    "start_time": "2021-10-07T10:27:29.346Z"
   },
   {
    "duration": 131,
    "start_time": "2021-10-07T10:27:29.387Z"
   },
   {
    "duration": 106,
    "start_time": "2021-10-07T10:27:29.520Z"
   },
   {
    "duration": 172,
    "start_time": "2021-10-07T10:27:29.628Z"
   },
   {
    "duration": 40,
    "start_time": "2021-10-07T10:27:29.803Z"
   },
   {
    "duration": 6,
    "start_time": "2021-10-07T10:27:29.866Z"
   },
   {
    "duration": 264,
    "start_time": "2021-10-07T10:27:29.875Z"
   },
   {
    "duration": 145,
    "start_time": "2021-10-07T10:27:30.142Z"
   },
   {
    "duration": 26,
    "start_time": "2021-10-07T10:27:30.294Z"
   },
   {
    "duration": 253,
    "start_time": "2021-10-07T10:27:30.324Z"
   },
   {
    "duration": 115,
    "start_time": "2021-10-07T10:27:30.579Z"
   },
   {
    "duration": 114,
    "start_time": "2021-10-07T10:27:30.697Z"
   },
   {
    "duration": 775,
    "start_time": "2021-10-07T10:27:30.813Z"
   },
   {
    "duration": 642,
    "start_time": "2021-10-07T10:27:31.591Z"
   },
   {
    "duration": 37,
    "start_time": "2021-10-07T10:27:32.235Z"
   },
   {
    "duration": 61,
    "start_time": "2021-10-07T10:27:32.274Z"
   },
   {
    "duration": 41,
    "start_time": "2021-10-07T10:27:32.337Z"
   },
   {
    "duration": 230,
    "start_time": "2021-10-07T10:27:32.380Z"
   },
   {
    "duration": 471,
    "start_time": "2021-10-07T10:27:32.613Z"
   },
   {
    "duration": 18,
    "start_time": "2021-10-07T10:27:33.087Z"
   },
   {
    "duration": 14,
    "start_time": "2021-10-07T10:27:33.108Z"
   },
   {
    "duration": 67,
    "start_time": "2021-10-07T10:27:33.124Z"
   },
   {
    "duration": 15,
    "start_time": "2021-10-07T10:27:33.193Z"
   },
   {
    "duration": 65,
    "start_time": "2021-10-07T10:27:33.210Z"
   },
   {
    "duration": 15,
    "start_time": "2021-10-07T10:27:33.277Z"
   },
   {
    "duration": 639,
    "start_time": "2021-10-07T10:27:52.061Z"
   },
   {
    "duration": 32,
    "start_time": "2021-10-07T10:28:49.565Z"
   },
   {
    "duration": 25,
    "start_time": "2021-10-07T10:38:04.297Z"
   },
   {
    "duration": 16,
    "start_time": "2021-10-07T11:46:42.139Z"
   },
   {
    "duration": 127,
    "start_time": "2021-10-07T11:50:41.401Z"
   },
   {
    "duration": 127,
    "start_time": "2021-10-07T11:51:39.639Z"
   },
   {
    "duration": 15,
    "start_time": "2021-10-07T11:52:22.707Z"
   },
   {
    "duration": 337,
    "start_time": "2021-10-07T11:53:03.656Z"
   },
   {
    "duration": 339,
    "start_time": "2021-10-07T11:54:03.370Z"
   },
   {
    "duration": 321,
    "start_time": "2021-10-07T11:57:31.980Z"
   },
   {
    "duration": 330,
    "start_time": "2021-10-07T11:58:00.486Z"
   },
   {
    "duration": 156,
    "start_time": "2021-10-07T11:58:52.877Z"
   },
   {
    "duration": 332,
    "start_time": "2021-10-07T11:59:04.481Z"
   },
   {
    "duration": 320,
    "start_time": "2021-10-07T12:00:22.182Z"
   },
   {
    "duration": 325,
    "start_time": "2021-10-07T12:01:15.757Z"
   },
   {
    "duration": 126,
    "start_time": "2021-10-07T12:28:31.889Z"
   },
   {
    "duration": 15,
    "start_time": "2021-10-07T15:44:25.987Z"
   },
   {
    "duration": 15,
    "start_time": "2021-10-07T15:44:51.824Z"
   },
   {
    "duration": 7,
    "start_time": "2021-10-07T15:46:21.024Z"
   },
   {
    "duration": 407,
    "start_time": "2021-10-07T15:46:30.628Z"
   },
   {
    "duration": 7,
    "start_time": "2021-10-07T15:46:44.572Z"
   },
   {
    "duration": 13,
    "start_time": "2021-10-07T15:47:07.305Z"
   },
   {
    "duration": 6,
    "start_time": "2021-10-07T16:00:47.946Z"
   },
   {
    "duration": 23,
    "start_time": "2021-10-07T16:01:03.156Z"
   },
   {
    "duration": 14,
    "start_time": "2021-10-07T16:04:02.702Z"
   },
   {
    "duration": 285,
    "start_time": "2021-10-07T16:10:58.912Z"
   },
   {
    "duration": 277,
    "start_time": "2021-10-07T16:11:22.425Z"
   },
   {
    "duration": 14,
    "start_time": "2021-10-07T16:12:49.163Z"
   },
   {
    "duration": 24,
    "start_time": "2021-10-07T16:47:05.287Z"
   },
   {
    "duration": 41,
    "start_time": "2021-10-07T16:47:36.231Z"
   },
   {
    "duration": 31,
    "start_time": "2021-10-07T16:48:47.565Z"
   },
   {
    "duration": 15,
    "start_time": "2021-10-07T17:11:09.097Z"
   },
   {
    "duration": 249,
    "start_time": "2021-10-07T17:13:59.245Z"
   },
   {
    "duration": 276,
    "start_time": "2021-10-07T17:14:36.315Z"
   },
   {
    "duration": 18,
    "start_time": "2021-10-07T17:14:39.204Z"
   },
   {
    "duration": 22,
    "start_time": "2021-10-07T17:19:08.130Z"
   },
   {
    "duration": 10,
    "start_time": "2021-10-07T17:19:23.772Z"
   },
   {
    "duration": 34,
    "start_time": "2021-10-07T17:23:23.472Z"
   },
   {
    "duration": 18,
    "start_time": "2021-10-07T17:23:25.816Z"
   },
   {
    "duration": 30,
    "start_time": "2021-10-07T17:24:04.762Z"
   },
   {
    "duration": 13,
    "start_time": "2021-10-07T17:24:07.552Z"
   },
   {
    "duration": 23,
    "start_time": "2021-10-07T17:24:21.752Z"
   },
   {
    "duration": 13,
    "start_time": "2021-10-07T17:24:24.174Z"
   },
   {
    "duration": 24,
    "start_time": "2021-10-07T17:24:41.802Z"
   },
   {
    "duration": 14,
    "start_time": "2021-10-07T17:24:43.966Z"
   },
   {
    "duration": 459,
    "start_time": "2021-10-07T17:27:42.099Z"
   },
   {
    "duration": 23,
    "start_time": "2021-10-07T17:28:19.872Z"
   },
   {
    "duration": 34,
    "start_time": "2021-10-07T17:28:48.674Z"
   },
   {
    "duration": 14,
    "start_time": "2021-10-07T17:28:50.976Z"
   },
   {
    "duration": 23,
    "start_time": "2021-10-07T17:29:02.955Z"
   },
   {
    "duration": 14,
    "start_time": "2021-10-07T17:29:04.881Z"
   },
   {
    "duration": 6624,
    "start_time": "2021-10-07T17:30:53.485Z"
   },
   {
    "duration": 608,
    "start_time": "2021-10-07T17:30:59.504Z"
   },
   {
    "duration": 22,
    "start_time": "2021-10-07T17:34:28.028Z"
   },
   {
    "duration": 14,
    "start_time": "2021-10-07T17:34:30.846Z"
   },
   {
    "duration": 20,
    "start_time": "2021-10-07T17:37:10.101Z"
   },
   {
    "duration": 12,
    "start_time": "2021-10-07T17:37:12.076Z"
   },
   {
    "duration": 23,
    "start_time": "2021-10-07T17:37:35.883Z"
   },
   {
    "duration": 18,
    "start_time": "2021-10-07T17:37:37.806Z"
   },
   {
    "duration": 35,
    "start_time": "2021-10-07T17:37:52.789Z"
   },
   {
    "duration": 14,
    "start_time": "2021-10-07T17:37:54.802Z"
   },
   {
    "duration": 22,
    "start_time": "2021-10-07T17:38:04.106Z"
   },
   {
    "duration": 13,
    "start_time": "2021-10-07T17:38:05.906Z"
   },
   {
    "duration": 22,
    "start_time": "2021-10-07T17:39:46.899Z"
   },
   {
    "duration": 14,
    "start_time": "2021-10-07T17:39:48.867Z"
   },
   {
    "duration": 323,
    "start_time": "2021-10-07T17:39:56.723Z"
   },
   {
    "duration": 24,
    "start_time": "2021-10-07T17:40:02.613Z"
   },
   {
    "duration": 13,
    "start_time": "2021-10-07T17:40:04.387Z"
   },
   {
    "duration": 22,
    "start_time": "2021-10-07T17:40:13.329Z"
   },
   {
    "duration": 15,
    "start_time": "2021-10-07T17:40:16.533Z"
   },
   {
    "duration": 285,
    "start_time": "2021-10-07T17:42:13.039Z"
   },
   {
    "duration": 23,
    "start_time": "2021-10-07T17:43:53.900Z"
   },
   {
    "duration": 14,
    "start_time": "2021-10-07T17:43:55.943Z"
   },
   {
    "duration": 22,
    "start_time": "2021-10-07T17:44:15.731Z"
   },
   {
    "duration": 14,
    "start_time": "2021-10-07T17:44:18.003Z"
   },
   {
    "duration": 105,
    "start_time": "2021-10-07T17:52:26.142Z"
   },
   {
    "duration": 45,
    "start_time": "2021-10-07T17:52:32.788Z"
   },
   {
    "duration": 12,
    "start_time": "2021-10-07T17:52:35.665Z"
   },
   {
    "duration": 48,
    "start_time": "2021-10-07T17:52:54.813Z"
   },
   {
    "duration": 13,
    "start_time": "2021-10-07T17:52:56.928Z"
   },
   {
    "duration": 48,
    "start_time": "2021-10-07T17:53:19.603Z"
   },
   {
    "duration": 22,
    "start_time": "2021-10-07T17:53:21.713Z"
   },
   {
    "duration": 6,
    "start_time": "2021-10-07T17:53:55.890Z"
   },
   {
    "duration": 49,
    "start_time": "2021-10-07T17:54:14.803Z"
   },
   {
    "duration": 6,
    "start_time": "2021-10-07T17:54:17.135Z"
   },
   {
    "duration": 49,
    "start_time": "2021-10-07T17:54:41.650Z"
   },
   {
    "duration": 6,
    "start_time": "2021-10-07T17:54:45.624Z"
   },
   {
    "duration": 44,
    "start_time": "2021-10-07T17:58:13.262Z"
   },
   {
    "duration": 4,
    "start_time": "2021-10-07T17:58:15.688Z"
   },
   {
    "duration": 13,
    "start_time": "2021-10-07T17:58:26.888Z"
   },
   {
    "duration": 724,
    "start_time": "2021-10-07T17:58:29.905Z"
   },
   {
    "duration": 20,
    "start_time": "2021-10-07T18:00:06.436Z"
   },
   {
    "duration": 3,
    "start_time": "2021-10-07T18:00:08.674Z"
   },
   {
    "duration": 11,
    "start_time": "2021-10-07T18:00:11.558Z"
   },
   {
    "duration": 314,
    "start_time": "2021-10-07T18:00:16.754Z"
   },
   {
    "duration": 21,
    "start_time": "2021-10-07T18:00:19.731Z"
   },
   {
    "duration": 4,
    "start_time": "2021-10-07T18:00:21.923Z"
   },
   {
    "duration": 11,
    "start_time": "2021-10-07T18:00:24.363Z"
   },
   {
    "duration": 21,
    "start_time": "2021-10-07T18:00:58.513Z"
   },
   {
    "duration": 4,
    "start_time": "2021-10-07T18:01:00.464Z"
   },
   {
    "duration": 11,
    "start_time": "2021-10-07T18:01:02.760Z"
   },
   {
    "duration": 6,
    "start_time": "2021-10-07T18:26:09.422Z"
   },
   {
    "duration": 11,
    "start_time": "2021-10-07T18:26:45.057Z"
   },
   {
    "duration": 20,
    "start_time": "2021-10-07T18:27:06.316Z"
   },
   {
    "duration": 4,
    "start_time": "2021-10-07T18:27:08.336Z"
   },
   {
    "duration": 11,
    "start_time": "2021-10-07T18:27:10.237Z"
   },
   {
    "duration": 20,
    "start_time": "2021-10-07T18:34:02.467Z"
   },
   {
    "duration": 4,
    "start_time": "2021-10-07T18:34:04.592Z"
   },
   {
    "duration": 7,
    "start_time": "2021-10-07T18:34:07.107Z"
   },
   {
    "duration": 13,
    "start_time": "2021-10-07T18:34:09.528Z"
   },
   {
    "duration": 322,
    "start_time": "2021-10-07T18:35:14.637Z"
   },
   {
    "duration": 7,
    "start_time": "2021-10-07T18:39:22.577Z"
   },
   {
    "duration": 12,
    "start_time": "2021-10-07T18:39:25.074Z"
   },
   {
    "duration": 291,
    "start_time": "2021-10-07T18:39:47.252Z"
   },
   {
    "duration": 301,
    "start_time": "2021-10-07T18:39:57.182Z"
   },
   {
    "duration": 7,
    "start_time": "2021-10-07T18:40:05.257Z"
   },
   {
    "duration": 11,
    "start_time": "2021-10-07T18:40:07.444Z"
   },
   {
    "duration": 9,
    "start_time": "2021-10-07T18:40:53.377Z"
   },
   {
    "duration": 289,
    "start_time": "2021-10-07T18:46:19.600Z"
   },
   {
    "duration": 44,
    "start_time": "2021-10-07T18:49:48.908Z"
   },
   {
    "duration": 46,
    "start_time": "2021-10-07T18:50:33.221Z"
   },
   {
    "duration": 48,
    "start_time": "2021-10-07T18:51:35.588Z"
   },
   {
    "duration": 50,
    "start_time": "2021-10-07T18:55:20.732Z"
   },
   {
    "duration": 49,
    "start_time": "2021-10-07T18:55:44.818Z"
   },
   {
    "duration": 11,
    "start_time": "2021-10-07T18:56:14.169Z"
   },
   {
    "duration": 41,
    "start_time": "2021-10-07T18:59:43.651Z"
   },
   {
    "duration": 4,
    "start_time": "2021-10-07T19:10:15.851Z"
   },
   {
    "duration": 7,
    "start_time": "2021-10-07T19:13:23.144Z"
   },
   {
    "duration": 1529,
    "start_time": "2021-10-08T14:20:21.542Z"
   },
   {
    "duration": 285,
    "start_time": "2021-10-08T14:20:23.073Z"
   },
   {
    "duration": 11,
    "start_time": "2021-10-08T14:20:23.361Z"
   },
   {
    "duration": 382,
    "start_time": "2021-10-08T14:20:23.375Z"
   },
   {
    "duration": 41,
    "start_time": "2021-10-08T14:20:23.762Z"
   },
   {
    "duration": 74,
    "start_time": "2021-10-08T14:20:23.806Z"
   },
   {
    "duration": 10,
    "start_time": "2021-10-08T14:20:23.883Z"
   },
   {
    "duration": 94,
    "start_time": "2021-10-08T14:20:23.896Z"
   },
   {
    "duration": 11,
    "start_time": "2021-10-08T14:20:23.995Z"
   },
   {
    "duration": 67,
    "start_time": "2021-10-08T14:20:24.009Z"
   },
   {
    "duration": 131,
    "start_time": "2021-10-08T14:20:24.078Z"
   },
   {
    "duration": 81,
    "start_time": "2021-10-08T14:20:24.211Z"
   },
   {
    "duration": 21,
    "start_time": "2021-10-08T14:20:24.294Z"
   },
   {
    "duration": 106,
    "start_time": "2021-10-08T14:20:24.317Z"
   },
   {
    "duration": 38,
    "start_time": "2021-10-08T14:20:24.425Z"
   },
   {
    "duration": 114,
    "start_time": "2021-10-08T14:20:24.469Z"
   },
   {
    "duration": 100,
    "start_time": "2021-10-08T14:20:24.587Z"
   },
   {
    "duration": 166,
    "start_time": "2021-10-08T14:20:24.690Z"
   },
   {
    "duration": 49,
    "start_time": "2021-10-08T14:20:24.861Z"
   },
   {
    "duration": 7,
    "start_time": "2021-10-08T14:20:24.913Z"
   },
   {
    "duration": 287,
    "start_time": "2021-10-08T14:20:24.922Z"
   },
   {
    "duration": 145,
    "start_time": "2021-10-08T14:20:25.212Z"
   },
   {
    "duration": 28,
    "start_time": "2021-10-08T14:20:25.365Z"
   },
   {
    "duration": 260,
    "start_time": "2021-10-08T14:20:25.397Z"
   },
   {
    "duration": 125,
    "start_time": "2021-10-08T14:20:25.662Z"
   },
   {
    "duration": 146,
    "start_time": "2021-10-08T14:20:25.791Z"
   },
   {
    "duration": 726,
    "start_time": "2021-10-08T14:20:25.939Z"
   },
   {
    "duration": 652,
    "start_time": "2021-10-08T14:20:26.668Z"
   },
   {
    "duration": 50,
    "start_time": "2021-10-08T14:20:27.323Z"
   },
   {
    "duration": 56,
    "start_time": "2021-10-08T14:20:27.376Z"
   },
   {
    "duration": 36,
    "start_time": "2021-10-08T14:20:27.435Z"
   },
   {
    "duration": 229,
    "start_time": "2021-10-08T14:20:27.473Z"
   },
   {
    "duration": 515,
    "start_time": "2021-10-08T14:20:27.704Z"
   },
   {
    "duration": 27,
    "start_time": "2021-10-08T14:20:28.222Z"
   },
   {
    "duration": 416,
    "start_time": "2021-10-08T14:20:28.252Z"
   },
   {
    "duration": 19,
    "start_time": "2021-10-08T14:20:28.671Z"
   },
   {
    "duration": 66,
    "start_time": "2021-10-08T14:20:28.695Z"
   },
   {
    "duration": 33,
    "start_time": "2021-10-08T14:20:28.770Z"
   },
   {
    "duration": 37,
    "start_time": "2021-10-08T14:20:28.806Z"
   },
   {
    "duration": 137,
    "start_time": "2021-10-08T14:20:28.862Z"
   },
   {
    "duration": 266,
    "start_time": "2021-10-08T14:20:29.001Z"
   },
   {
    "duration": 45,
    "start_time": "2021-10-08T14:20:29.270Z"
   },
   {
    "duration": 63,
    "start_time": "2021-10-08T14:20:29.318Z"
   },
   {
    "duration": 8,
    "start_time": "2021-10-08T14:20:29.391Z"
   },
   {
    "duration": 14,
    "start_time": "2021-10-08T15:08:06.970Z"
   },
   {
    "duration": 10,
    "start_time": "2021-10-08T15:08:40.048Z"
   },
   {
    "duration": 475,
    "start_time": "2021-10-08T15:09:43.164Z"
   },
   {
    "duration": 16,
    "start_time": "2021-10-08T15:10:03.638Z"
   },
   {
    "duration": 17,
    "start_time": "2021-10-08T15:11:44.243Z"
   },
   {
    "duration": 1187,
    "start_time": "2021-10-08T15:13:44.821Z"
   },
   {
    "duration": 11,
    "start_time": "2021-10-08T15:14:19.862Z"
   },
   {
    "duration": 308,
    "start_time": "2021-10-08T15:17:43.552Z"
   },
   {
    "duration": 22,
    "start_time": "2021-10-08T15:18:00.380Z"
   },
   {
    "duration": 8,
    "start_time": "2021-10-08T15:18:02.611Z"
   },
   {
    "duration": 375,
    "start_time": "2021-10-08T15:18:26.468Z"
   },
   {
    "duration": 30,
    "start_time": "2021-10-08T15:19:08.156Z"
   },
   {
    "duration": 9,
    "start_time": "2021-10-08T15:19:13.101Z"
   },
   {
    "duration": 76,
    "start_time": "2021-10-08T15:20:36.599Z"
   },
   {
    "duration": 35,
    "start_time": "2021-10-08T15:20:38.681Z"
   },
   {
    "duration": 29,
    "start_time": "2021-10-08T15:23:12.821Z"
   },
   {
    "duration": 12,
    "start_time": "2021-10-08T15:23:15.202Z"
   },
   {
    "duration": 30,
    "start_time": "2021-10-08T15:23:41.605Z"
   },
   {
    "duration": 13,
    "start_time": "2021-10-08T15:23:43.731Z"
   },
   {
    "duration": 383,
    "start_time": "2021-10-08T15:24:27.767Z"
   },
   {
    "duration": 438,
    "start_time": "2021-10-08T15:25:43.052Z"
   },
   {
    "duration": 344,
    "start_time": "2021-10-08T15:25:57.060Z"
   },
   {
    "duration": 23,
    "start_time": "2021-10-08T15:26:07.495Z"
   },
   {
    "duration": 9,
    "start_time": "2021-10-08T15:26:09.811Z"
   },
   {
    "duration": 32,
    "start_time": "2021-10-08T15:27:33.559Z"
   },
   {
    "duration": 305,
    "start_time": "2021-10-08T15:27:35.926Z"
   },
   {
    "duration": 11,
    "start_time": "2021-10-08T15:29:53.059Z"
   },
   {
    "duration": 12,
    "start_time": "2021-10-08T15:31:47.668Z"
   },
   {
    "duration": 327,
    "start_time": "2021-10-08T15:32:02.037Z"
   },
   {
    "duration": 9,
    "start_time": "2021-10-08T15:33:38.204Z"
   },
   {
    "duration": 11,
    "start_time": "2021-10-08T15:33:54.138Z"
   },
   {
    "duration": 13,
    "start_time": "2021-10-08T15:34:40.282Z"
   },
   {
    "duration": 17,
    "start_time": "2021-10-08T15:51:05.724Z"
   },
   {
    "duration": 19,
    "start_time": "2021-10-08T15:51:34.599Z"
   },
   {
    "duration": 18,
    "start_time": "2021-10-08T15:51:55.210Z"
   },
   {
    "duration": 22,
    "start_time": "2021-10-08T15:53:24.111Z"
   },
   {
    "duration": 311,
    "start_time": "2021-10-08T16:00:53.512Z"
   },
   {
    "duration": 11,
    "start_time": "2021-10-08T16:01:08.521Z"
   },
   {
    "duration": 17,
    "start_time": "2021-10-08T16:01:11.879Z"
   },
   {
    "duration": 19,
    "start_time": "2021-10-08T16:01:14.891Z"
   },
   {
    "duration": 14,
    "start_time": "2021-10-08T16:02:27.010Z"
   },
   {
    "duration": 16,
    "start_time": "2021-10-08T16:02:30.508Z"
   },
   {
    "duration": 23,
    "start_time": "2021-10-08T16:05:33.639Z"
   },
   {
    "duration": 20,
    "start_time": "2021-10-08T16:06:09.414Z"
   },
   {
    "duration": 20,
    "start_time": "2021-10-08T16:06:34.666Z"
   },
   {
    "duration": 24,
    "start_time": "2021-10-08T16:08:44.949Z"
   },
   {
    "duration": 1537,
    "start_time": "2021-10-08T18:29:16.836Z"
   },
   {
    "duration": 311,
    "start_time": "2021-10-08T18:29:18.375Z"
   },
   {
    "duration": 5,
    "start_time": "2021-10-08T18:29:18.689Z"
   },
   {
    "duration": 400,
    "start_time": "2021-10-08T18:29:18.697Z"
   },
   {
    "duration": 35,
    "start_time": "2021-10-08T18:29:19.099Z"
   },
   {
    "duration": 61,
    "start_time": "2021-10-08T18:29:19.137Z"
   },
   {
    "duration": 8,
    "start_time": "2021-10-08T18:29:19.200Z"
   },
   {
    "duration": 93,
    "start_time": "2021-10-08T18:29:19.211Z"
   },
   {
    "duration": 9,
    "start_time": "2021-10-08T18:29:19.307Z"
   },
   {
    "duration": 75,
    "start_time": "2021-10-08T18:29:19.318Z"
   },
   {
    "duration": 115,
    "start_time": "2021-10-08T18:29:19.396Z"
   },
   {
    "duration": 63,
    "start_time": "2021-10-08T18:29:19.513Z"
   },
   {
    "duration": 19,
    "start_time": "2021-10-08T18:29:19.578Z"
   },
   {
    "duration": 95,
    "start_time": "2021-10-08T18:29:19.600Z"
   },
   {
    "duration": 21,
    "start_time": "2021-10-08T18:29:19.698Z"
   },
   {
    "duration": 118,
    "start_time": "2021-10-08T18:29:19.721Z"
   },
   {
    "duration": 101,
    "start_time": "2021-10-08T18:29:19.842Z"
   },
   {
    "duration": 175,
    "start_time": "2021-10-08T18:29:19.946Z"
   },
   {
    "duration": 52,
    "start_time": "2021-10-08T18:29:20.124Z"
   },
   {
    "duration": 6,
    "start_time": "2021-10-08T18:29:20.178Z"
   },
   {
    "duration": 261,
    "start_time": "2021-10-08T18:29:20.187Z"
   },
   {
    "duration": 136,
    "start_time": "2021-10-08T18:29:20.450Z"
   },
   {
    "duration": 18,
    "start_time": "2021-10-08T18:29:20.591Z"
   },
   {
    "duration": 243,
    "start_time": "2021-10-08T18:29:20.612Z"
   },
   {
    "duration": 118,
    "start_time": "2021-10-08T18:29:20.857Z"
   },
   {
    "duration": 130,
    "start_time": "2021-10-08T18:29:20.978Z"
   },
   {
    "duration": 657,
    "start_time": "2021-10-08T18:29:21.110Z"
   },
   {
    "duration": 597,
    "start_time": "2021-10-08T18:29:21.769Z"
   },
   {
    "duration": 28,
    "start_time": "2021-10-08T18:29:22.369Z"
   },
   {
    "duration": 81,
    "start_time": "2021-10-08T18:29:22.399Z"
   },
   {
    "duration": 17,
    "start_time": "2021-10-08T18:29:22.482Z"
   },
   {
    "duration": 238,
    "start_time": "2021-10-08T18:29:22.501Z"
   },
   {
    "duration": 464,
    "start_time": "2021-10-08T18:29:22.741Z"
   },
   {
    "duration": 18,
    "start_time": "2021-10-08T18:29:23.208Z"
   },
   {
    "duration": 356,
    "start_time": "2021-10-08T18:29:23.228Z"
   },
   {
    "duration": 12,
    "start_time": "2021-10-08T18:29:23.587Z"
   },
   {
    "duration": 67,
    "start_time": "2021-10-08T18:29:23.602Z"
   },
   {
    "duration": 26,
    "start_time": "2021-10-08T18:29:23.672Z"
   },
   {
    "duration": 69,
    "start_time": "2021-10-08T18:29:23.700Z"
   },
   {
    "duration": 132,
    "start_time": "2021-10-08T18:29:23.772Z"
   },
   {
    "duration": 15,
    "start_time": "2021-10-08T18:29:23.907Z"
   },
   {
    "duration": 45,
    "start_time": "2021-10-08T18:29:23.925Z"
   },
   {
    "duration": 20,
    "start_time": "2021-10-08T18:29:23.972Z"
   },
   {
    "duration": 272,
    "start_time": "2021-10-08T18:29:23.995Z"
   },
   {
    "duration": 47,
    "start_time": "2021-10-08T18:29:24.270Z"
   },
   {
    "duration": 61,
    "start_time": "2021-10-08T18:29:24.320Z"
   },
   {
    "duration": 7,
    "start_time": "2021-10-08T18:29:24.384Z"
   },
   {
    "duration": 17,
    "start_time": "2021-10-08T18:33:24.622Z"
   },
   {
    "duration": 472,
    "start_time": "2021-10-08T18:41:11.534Z"
   },
   {
    "duration": 50,
    "start_time": "2021-10-08T18:41:31.132Z"
   },
   {
    "duration": 356,
    "start_time": "2021-10-08T18:42:55.744Z"
   },
   {
    "duration": 347,
    "start_time": "2021-10-08T18:43:22.135Z"
   },
   {
    "duration": 323,
    "start_time": "2021-10-08T18:44:03.119Z"
   },
   {
    "duration": 355,
    "start_time": "2021-10-08T18:46:10.006Z"
   },
   {
    "duration": 56,
    "start_time": "2021-10-08T18:48:42.277Z"
   },
   {
    "duration": 2013,
    "start_time": "2021-10-08T18:58:55.729Z"
   },
   {
    "duration": 6,
    "start_time": "2021-10-08T18:59:16.158Z"
   },
   {
    "duration": 94,
    "start_time": "2021-10-08T19:05:59.752Z"
   },
   {
    "duration": 22,
    "start_time": "2021-10-08T19:11:25.853Z"
   },
   {
    "duration": 70,
    "start_time": "2021-10-08T19:15:26.488Z"
   },
   {
    "duration": 7,
    "start_time": "2021-10-08T19:19:18.162Z"
   },
   {
    "duration": 1123,
    "start_time": "2021-10-09T08:10:29.517Z"
   },
   {
    "duration": 238,
    "start_time": "2021-10-09T08:10:30.641Z"
   },
   {
    "duration": 4,
    "start_time": "2021-10-09T08:10:30.881Z"
   },
   {
    "duration": 323,
    "start_time": "2021-10-09T08:10:30.887Z"
   },
   {
    "duration": 28,
    "start_time": "2021-10-09T08:10:31.212Z"
   },
   {
    "duration": 46,
    "start_time": "2021-10-09T08:10:31.242Z"
   },
   {
    "duration": 6,
    "start_time": "2021-10-09T08:10:31.289Z"
   },
   {
    "duration": 38,
    "start_time": "2021-10-09T08:10:31.297Z"
   },
   {
    "duration": 7,
    "start_time": "2021-10-09T08:10:31.377Z"
   },
   {
    "duration": 54,
    "start_time": "2021-10-09T08:10:31.385Z"
   },
   {
    "duration": 64,
    "start_time": "2021-10-09T08:10:31.441Z"
   },
   {
    "duration": 31,
    "start_time": "2021-10-09T08:10:31.507Z"
   },
   {
    "duration": 13,
    "start_time": "2021-10-09T08:10:31.540Z"
   },
   {
    "duration": 48,
    "start_time": "2021-10-09T08:10:31.577Z"
   },
   {
    "duration": 13,
    "start_time": "2021-10-09T08:10:31.627Z"
   },
   {
    "duration": 83,
    "start_time": "2021-10-09T08:10:31.641Z"
   },
   {
    "duration": 59,
    "start_time": "2021-10-09T08:10:31.726Z"
   },
   {
    "duration": 101,
    "start_time": "2021-10-09T08:10:31.787Z"
   },
   {
    "duration": 25,
    "start_time": "2021-10-09T08:10:31.889Z"
   },
   {
    "duration": 3,
    "start_time": "2021-10-09T08:10:31.916Z"
   },
   {
    "duration": 166,
    "start_time": "2021-10-09T08:10:31.921Z"
   },
   {
    "duration": 72,
    "start_time": "2021-10-09T08:10:32.089Z"
   },
   {
    "duration": 13,
    "start_time": "2021-10-09T08:10:32.177Z"
   },
   {
    "duration": 150,
    "start_time": "2021-10-09T08:10:32.192Z"
   },
   {
    "duration": 90,
    "start_time": "2021-10-09T08:10:32.344Z"
   },
   {
    "duration": 110,
    "start_time": "2021-10-09T08:10:32.436Z"
   },
   {
    "duration": 384,
    "start_time": "2021-10-09T08:10:32.548Z"
   },
   {
    "duration": 352,
    "start_time": "2021-10-09T08:10:32.934Z"
   },
   {
    "duration": 18,
    "start_time": "2021-10-09T08:10:33.287Z"
   },
   {
    "duration": 41,
    "start_time": "2021-10-09T08:10:33.307Z"
   },
   {
    "duration": 31,
    "start_time": "2021-10-09T08:10:33.349Z"
   },
   {
    "duration": 132,
    "start_time": "2021-10-09T08:10:33.382Z"
   },
   {
    "duration": 285,
    "start_time": "2021-10-09T08:10:33.516Z"
   },
   {
    "duration": 14,
    "start_time": "2021-10-09T08:10:33.802Z"
   },
   {
    "duration": 243,
    "start_time": "2021-10-09T08:10:33.818Z"
   },
   {
    "duration": 13,
    "start_time": "2021-10-09T08:10:34.063Z"
   },
   {
    "duration": 20,
    "start_time": "2021-10-09T08:10:34.078Z"
   },
   {
    "duration": 14,
    "start_time": "2021-10-09T08:10:34.099Z"
   },
   {
    "duration": 25,
    "start_time": "2021-10-09T08:10:34.115Z"
   },
   {
    "duration": 105,
    "start_time": "2021-10-09T08:10:34.142Z"
   },
   {
    "duration": 10,
    "start_time": "2021-10-09T08:10:34.249Z"
   },
   {
    "duration": 28,
    "start_time": "2021-10-09T08:10:34.260Z"
   },
   {
    "duration": 12,
    "start_time": "2021-10-09T08:10:34.289Z"
   },
   {
    "duration": 135,
    "start_time": "2021-10-09T08:10:34.303Z"
   },
   {
    "duration": 39,
    "start_time": "2021-10-09T08:10:34.440Z"
   },
   {
    "duration": 25,
    "start_time": "2021-10-09T08:10:34.481Z"
   },
   {
    "duration": 5,
    "start_time": "2021-10-09T08:10:34.507Z"
   },
   {
    "duration": 1062,
    "start_time": "2021-10-09T08:10:34.514Z"
   },
   {
    "duration": 63,
    "start_time": "2021-10-09T08:10:35.578Z"
   },
   {
    "duration": 63,
    "start_time": "2021-10-09T08:10:35.643Z"
   },
   {
    "duration": 5,
    "start_time": "2021-10-09T08:10:35.708Z"
   },
   {
    "duration": 310,
    "start_time": "2021-10-09T08:34:00.519Z"
   },
   {
    "duration": 182,
    "start_time": "2021-10-09T08:34:52.786Z"
   },
   {
    "duration": 487,
    "start_time": "2021-10-09T08:35:15.952Z"
   },
   {
    "duration": 135,
    "start_time": "2021-10-09T08:35:42.235Z"
   },
   {
    "duration": 4,
    "start_time": "2021-10-09T08:37:20.040Z"
   },
   {
    "duration": 5,
    "start_time": "2021-10-09T08:37:48.866Z"
   },
   {
    "duration": 148,
    "start_time": "2021-10-09T08:41:01.701Z"
   },
   {
    "duration": 142,
    "start_time": "2021-10-09T08:42:02.221Z"
   },
   {
    "duration": 128,
    "start_time": "2021-10-09T08:42:21.150Z"
   },
   {
    "duration": 5,
    "start_time": "2021-10-09T08:44:07.562Z"
   },
   {
    "duration": 4,
    "start_time": "2021-10-09T08:44:10.810Z"
   },
   {
    "duration": 133,
    "start_time": "2021-10-09T08:45:33.978Z"
   },
   {
    "duration": 123,
    "start_time": "2021-10-09T08:46:11.613Z"
   },
   {
    "duration": 1200,
    "start_time": "2021-10-09T11:54:28.735Z"
   },
   {
    "duration": 244,
    "start_time": "2021-10-09T11:54:29.937Z"
   },
   {
    "duration": 3,
    "start_time": "2021-10-09T11:54:30.186Z"
   },
   {
    "duration": 320,
    "start_time": "2021-10-09T11:54:30.191Z"
   },
   {
    "duration": 28,
    "start_time": "2021-10-09T11:54:30.513Z"
   },
   {
    "duration": 51,
    "start_time": "2021-10-09T11:54:30.543Z"
   },
   {
    "duration": 5,
    "start_time": "2021-10-09T11:54:30.597Z"
   },
   {
    "duration": 73,
    "start_time": "2021-10-09T11:54:30.604Z"
   },
   {
    "duration": 6,
    "start_time": "2021-10-09T11:54:30.680Z"
   },
   {
    "duration": 32,
    "start_time": "2021-10-09T11:54:30.688Z"
   },
   {
    "duration": 104,
    "start_time": "2021-10-09T11:54:30.722Z"
   },
   {
    "duration": 52,
    "start_time": "2021-10-09T11:54:30.828Z"
   },
   {
    "duration": 16,
    "start_time": "2021-10-09T11:54:30.881Z"
   },
   {
    "duration": 55,
    "start_time": "2021-10-09T11:54:30.898Z"
   },
   {
    "duration": 32,
    "start_time": "2021-10-09T11:54:30.954Z"
   },
   {
    "duration": 69,
    "start_time": "2021-10-09T11:54:30.988Z"
   },
   {
    "duration": 71,
    "start_time": "2021-10-09T11:54:31.058Z"
   },
   {
    "duration": 108,
    "start_time": "2021-10-09T11:54:31.131Z"
   },
   {
    "duration": 24,
    "start_time": "2021-10-09T11:54:31.241Z"
   },
   {
    "duration": 4,
    "start_time": "2021-10-09T11:54:31.277Z"
   },
   {
    "duration": 161,
    "start_time": "2021-10-09T11:54:31.282Z"
   },
   {
    "duration": 88,
    "start_time": "2021-10-09T11:54:31.447Z"
   },
   {
    "duration": 12,
    "start_time": "2021-10-09T11:54:31.537Z"
   },
   {
    "duration": 145,
    "start_time": "2021-10-09T11:54:31.551Z"
   },
   {
    "duration": 61,
    "start_time": "2021-10-09T11:54:31.698Z"
   },
   {
    "duration": 95,
    "start_time": "2021-10-09T11:54:31.760Z"
   },
   {
    "duration": 396,
    "start_time": "2021-10-09T11:54:31.857Z"
   },
   {
    "duration": 362,
    "start_time": "2021-10-09T11:54:32.254Z"
   },
   {
    "duration": 20,
    "start_time": "2021-10-09T11:54:32.617Z"
   },
   {
    "duration": 57,
    "start_time": "2021-10-09T11:54:32.638Z"
   },
   {
    "duration": 12,
    "start_time": "2021-10-09T11:54:32.696Z"
   },
   {
    "duration": 143,
    "start_time": "2021-10-09T11:54:32.710Z"
   },
   {
    "duration": 302,
    "start_time": "2021-10-09T11:54:32.856Z"
   },
   {
    "duration": 22,
    "start_time": "2021-10-09T11:54:33.160Z"
   },
   {
    "duration": 235,
    "start_time": "2021-10-09T11:54:33.184Z"
   },
   {
    "duration": 7,
    "start_time": "2021-10-09T11:54:33.421Z"
   },
   {
    "duration": 35,
    "start_time": "2021-10-09T11:54:33.430Z"
   },
   {
    "duration": 24,
    "start_time": "2021-10-09T11:54:33.467Z"
   },
   {
    "duration": 26,
    "start_time": "2021-10-09T11:54:33.493Z"
   },
   {
    "duration": 98,
    "start_time": "2021-10-09T11:54:33.520Z"
   },
   {
    "duration": 11,
    "start_time": "2021-10-09T11:54:33.620Z"
   },
   {
    "duration": 13,
    "start_time": "2021-10-09T11:54:33.632Z"
   },
   {
    "duration": 35,
    "start_time": "2021-10-09T11:54:33.646Z"
   },
   {
    "duration": 127,
    "start_time": "2021-10-09T11:54:33.682Z"
   },
   {
    "duration": 33,
    "start_time": "2021-10-09T11:54:33.811Z"
   },
   {
    "duration": 45,
    "start_time": "2021-10-09T11:54:33.846Z"
   },
   {
    "duration": 139,
    "start_time": "2021-10-09T11:54:33.892Z"
   },
   {
    "duration": 137,
    "start_time": "2021-10-09T11:54:34.032Z"
   },
   {
    "duration": 5,
    "start_time": "2021-10-09T11:54:34.176Z"
   },
   {
    "duration": 1005,
    "start_time": "2021-10-09T11:54:34.183Z"
   },
   {
    "duration": 66,
    "start_time": "2021-10-09T11:54:35.189Z"
   },
   {
    "duration": 60,
    "start_time": "2021-10-09T11:54:35.257Z"
   },
   {
    "duration": 141,
    "start_time": "2021-10-09T11:54:35.319Z"
   },
   {
    "duration": 143,
    "start_time": "2021-10-09T11:54:35.461Z"
   },
   {
    "duration": 5,
    "start_time": "2021-10-09T11:54:35.606Z"
   },
   {
    "duration": 1207,
    "start_time": "2021-10-10T10:07:14.729Z"
   },
   {
    "duration": 218,
    "start_time": "2021-10-10T10:07:15.938Z"
   },
   {
    "duration": 4,
    "start_time": "2021-10-10T10:07:16.157Z"
   },
   {
    "duration": 244,
    "start_time": "2021-10-10T10:07:16.163Z"
   },
   {
    "duration": 24,
    "start_time": "2021-10-10T10:07:16.408Z"
   },
   {
    "duration": 22,
    "start_time": "2021-10-10T10:07:16.434Z"
   },
   {
    "duration": 5,
    "start_time": "2021-10-10T10:07:16.457Z"
   },
   {
    "duration": 65,
    "start_time": "2021-10-10T10:07:16.464Z"
   },
   {
    "duration": 6,
    "start_time": "2021-10-10T10:07:16.531Z"
   },
   {
    "duration": 26,
    "start_time": "2021-10-10T10:07:16.538Z"
   },
   {
    "duration": 65,
    "start_time": "2021-10-10T10:07:16.600Z"
   },
   {
    "duration": 47,
    "start_time": "2021-10-10T10:07:16.666Z"
   },
   {
    "duration": 13,
    "start_time": "2021-10-10T10:07:16.714Z"
   },
   {
    "duration": 48,
    "start_time": "2021-10-10T10:07:16.729Z"
   },
   {
    "duration": 13,
    "start_time": "2021-10-10T10:07:16.799Z"
   },
   {
    "duration": 55,
    "start_time": "2021-10-10T10:07:16.814Z"
   },
   {
    "duration": 68,
    "start_time": "2021-10-10T10:07:16.870Z"
   },
   {
    "duration": 92,
    "start_time": "2021-10-10T10:07:16.940Z"
   },
   {
    "duration": 23,
    "start_time": "2021-10-10T10:07:17.033Z"
   },
   {
    "duration": 3,
    "start_time": "2021-10-10T10:07:17.057Z"
   },
   {
    "duration": 158,
    "start_time": "2021-10-10T10:07:17.062Z"
   },
   {
    "duration": 80,
    "start_time": "2021-10-10T10:07:17.221Z"
   },
   {
    "duration": 12,
    "start_time": "2021-10-10T10:07:17.304Z"
   },
   {
    "duration": 145,
    "start_time": "2021-10-10T10:07:17.318Z"
   },
   {
    "duration": 66,
    "start_time": "2021-10-10T10:07:17.464Z"
   },
   {
    "duration": 86,
    "start_time": "2021-10-10T10:07:17.532Z"
   },
   {
    "duration": 383,
    "start_time": "2021-10-10T10:07:17.619Z"
   },
   {
    "duration": 355,
    "start_time": "2021-10-10T10:07:18.004Z"
   },
   {
    "duration": 18,
    "start_time": "2021-10-10T10:07:18.361Z"
   },
   {
    "duration": 53,
    "start_time": "2021-10-10T10:07:18.380Z"
   },
   {
    "duration": 11,
    "start_time": "2021-10-10T10:07:18.434Z"
   },
   {
    "duration": 140,
    "start_time": "2021-10-10T10:07:18.446Z"
   },
   {
    "duration": 286,
    "start_time": "2021-10-10T10:07:18.588Z"
   },
   {
    "duration": 23,
    "start_time": "2021-10-10T10:07:18.876Z"
   },
   {
    "duration": 207,
    "start_time": "2021-10-10T10:07:18.901Z"
   },
   {
    "duration": 7,
    "start_time": "2021-10-10T10:07:19.110Z"
   },
   {
    "duration": 18,
    "start_time": "2021-10-10T10:07:19.119Z"
   },
   {
    "duration": 12,
    "start_time": "2021-10-10T10:07:19.139Z"
   },
   {
    "duration": 50,
    "start_time": "2021-10-10T10:07:19.153Z"
   },
   {
    "duration": 70,
    "start_time": "2021-10-10T10:07:19.205Z"
   },
   {
    "duration": 29,
    "start_time": "2021-10-10T10:07:19.276Z"
   },
   {
    "duration": 14,
    "start_time": "2021-10-10T10:07:19.306Z"
   },
   {
    "duration": 12,
    "start_time": "2021-10-10T10:07:19.321Z"
   },
   {
    "duration": 131,
    "start_time": "2021-10-10T10:07:19.335Z"
   },
   {
    "duration": 40,
    "start_time": "2021-10-10T10:07:19.467Z"
   },
   {
    "duration": 26,
    "start_time": "2021-10-10T10:07:19.509Z"
   },
   {
    "duration": 150,
    "start_time": "2021-10-10T10:07:19.537Z"
   },
   {
    "duration": 136,
    "start_time": "2021-10-10T10:07:19.689Z"
   },
   {
    "duration": 5,
    "start_time": "2021-10-10T10:07:19.827Z"
   },
   {
    "duration": 994,
    "start_time": "2021-10-10T10:07:19.833Z"
   },
   {
    "duration": 71,
    "start_time": "2021-10-10T10:07:20.829Z"
   },
   {
    "duration": 45,
    "start_time": "2021-10-10T10:07:20.901Z"
   },
   {
    "duration": 145,
    "start_time": "2021-10-10T10:07:20.948Z"
   },
   {
    "duration": 140,
    "start_time": "2021-10-10T10:07:21.099Z"
   },
   {
    "duration": 5,
    "start_time": "2021-10-10T10:07:21.241Z"
   },
   {
    "duration": 128,
    "start_time": "2021-10-10T10:25:00.037Z"
   },
   {
    "duration": 42,
    "start_time": "2021-10-10T10:26:32.004Z"
   },
   {
    "duration": 119,
    "start_time": "2021-10-10T10:43:51.469Z"
   },
   {
    "duration": 45,
    "start_time": "2021-10-10T10:44:33.292Z"
   },
   {
    "duration": 10,
    "start_time": "2021-10-10T10:50:59.914Z"
   },
   {
    "duration": 10,
    "start_time": "2021-10-10T10:51:02.874Z"
   },
   {
    "duration": 12,
    "start_time": "2021-10-10T10:51:04.256Z"
   },
   {
    "duration": 113,
    "start_time": "2021-10-10T10:57:27.449Z"
   },
   {
    "duration": 368,
    "start_time": "2021-10-10T14:52:33.701Z"
   },
   {
    "duration": 1531,
    "start_time": "2021-10-10T14:52:52.641Z"
   },
   {
    "duration": 306,
    "start_time": "2021-10-10T14:52:54.175Z"
   },
   {
    "duration": 5,
    "start_time": "2021-10-10T14:52:54.484Z"
   },
   {
    "duration": 384,
    "start_time": "2021-10-10T14:52:54.492Z"
   },
   {
    "duration": 49,
    "start_time": "2021-10-10T14:52:54.878Z"
   },
   {
    "duration": 34,
    "start_time": "2021-10-10T14:52:54.929Z"
   },
   {
    "duration": 41,
    "start_time": "2021-10-10T14:52:54.965Z"
   },
   {
    "duration": 53,
    "start_time": "2021-10-10T14:52:55.010Z"
   },
   {
    "duration": 42,
    "start_time": "2021-10-10T14:52:55.066Z"
   },
   {
    "duration": 48,
    "start_time": "2021-10-10T14:52:55.110Z"
   },
   {
    "duration": 118,
    "start_time": "2021-10-10T14:52:55.160Z"
   },
   {
    "duration": 61,
    "start_time": "2021-10-10T14:52:55.281Z"
   },
   {
    "duration": 20,
    "start_time": "2021-10-10T14:52:55.344Z"
   },
   {
    "duration": 100,
    "start_time": "2021-10-10T14:52:55.366Z"
   },
   {
    "duration": 37,
    "start_time": "2021-10-10T14:52:55.468Z"
   },
   {
    "duration": 104,
    "start_time": "2021-10-10T14:52:55.508Z"
   },
   {
    "duration": 107,
    "start_time": "2021-10-10T14:52:55.614Z"
   },
   {
    "duration": 173,
    "start_time": "2021-10-10T14:52:55.724Z"
   },
   {
    "duration": 37,
    "start_time": "2021-10-10T14:52:55.901Z"
   },
   {
    "duration": 4,
    "start_time": "2021-10-10T14:52:55.941Z"
   },
   {
    "duration": 276,
    "start_time": "2021-10-10T14:52:55.948Z"
   },
   {
    "duration": 142,
    "start_time": "2021-10-10T14:52:56.226Z"
   },
   {
    "duration": 29,
    "start_time": "2021-10-10T14:52:56.374Z"
   },
   {
    "duration": 222,
    "start_time": "2021-10-10T14:52:56.406Z"
   },
   {
    "duration": 115,
    "start_time": "2021-10-10T14:52:56.631Z"
   },
   {
    "duration": 132,
    "start_time": "2021-10-10T14:52:56.749Z"
   },
   {
    "duration": 660,
    "start_time": "2021-10-10T14:52:56.884Z"
   },
   {
    "duration": 607,
    "start_time": "2021-10-10T14:52:57.547Z"
   },
   {
    "duration": 47,
    "start_time": "2021-10-10T14:52:58.157Z"
   },
   {
    "duration": 59,
    "start_time": "2021-10-10T14:52:58.208Z"
   },
   {
    "duration": 40,
    "start_time": "2021-10-10T14:52:58.270Z"
   },
   {
    "duration": 228,
    "start_time": "2021-10-10T14:52:58.313Z"
   },
   {
    "duration": 559,
    "start_time": "2021-10-10T14:52:58.544Z"
   },
   {
    "duration": 19,
    "start_time": "2021-10-10T14:52:59.106Z"
   },
   {
    "duration": 348,
    "start_time": "2021-10-10T14:52:59.128Z"
   },
   {
    "duration": 25,
    "start_time": "2021-10-10T14:52:59.478Z"
   },
   {
    "duration": 37,
    "start_time": "2021-10-10T14:52:59.505Z"
   },
   {
    "duration": 24,
    "start_time": "2021-10-10T14:52:59.544Z"
   },
   {
    "duration": 38,
    "start_time": "2021-10-10T14:52:59.601Z"
   },
   {
    "duration": 143,
    "start_time": "2021-10-10T14:52:59.641Z"
   },
   {
    "duration": 22,
    "start_time": "2021-10-10T14:52:59.786Z"
   },
   {
    "duration": 18,
    "start_time": "2021-10-10T14:52:59.811Z"
   },
   {
    "duration": 19,
    "start_time": "2021-10-10T14:52:59.832Z"
   },
   {
    "duration": 277,
    "start_time": "2021-10-10T14:52:59.853Z"
   },
   {
    "duration": 50,
    "start_time": "2021-10-10T14:53:00.132Z"
   },
   {
    "duration": 43,
    "start_time": "2021-10-10T14:53:00.202Z"
   },
   {
    "duration": 241,
    "start_time": "2021-10-10T14:53:00.248Z"
   },
   {
    "duration": 235,
    "start_time": "2021-10-10T14:53:00.491Z"
   },
   {
    "duration": 7,
    "start_time": "2021-10-10T14:53:00.728Z"
   },
   {
    "duration": 2109,
    "start_time": "2021-10-10T14:53:00.737Z"
   },
   {
    "duration": 109,
    "start_time": "2021-10-10T14:53:02.849Z"
   },
   {
    "duration": 82,
    "start_time": "2021-10-10T14:53:02.961Z"
   },
   {
    "duration": 255,
    "start_time": "2021-10-10T14:53:03.046Z"
   },
   {
    "duration": 218,
    "start_time": "2021-10-10T14:53:03.304Z"
   },
   {
    "duration": 7,
    "start_time": "2021-10-10T14:53:03.524Z"
   },
   {
    "duration": 88,
    "start_time": "2021-10-10T14:57:04.692Z"
   },
   {
    "duration": 6,
    "start_time": "2021-10-10T15:47:54.029Z"
   },
   {
    "duration": 48,
    "start_time": "2021-10-10T15:48:06.856Z"
   },
   {
    "duration": 5,
    "start_time": "2021-10-10T15:48:28.160Z"
   },
   {
    "duration": 4,
    "start_time": "2021-10-10T16:02:59.380Z"
   },
   {
    "duration": 6,
    "start_time": "2021-10-10T16:07:39.899Z"
   },
   {
    "duration": 6,
    "start_time": "2021-10-10T16:09:09.503Z"
   },
   {
    "duration": 8,
    "start_time": "2021-10-10T16:10:17.722Z"
   },
   {
    "duration": 9,
    "start_time": "2021-10-10T16:10:22.192Z"
   },
   {
    "duration": 7,
    "start_time": "2021-10-10T16:18:35.861Z"
   },
   {
    "duration": 5,
    "start_time": "2021-10-10T16:18:38.661Z"
   },
   {
    "duration": 7,
    "start_time": "2021-10-10T16:19:01.547Z"
   },
   {
    "duration": 8,
    "start_time": "2021-10-10T16:19:33.398Z"
   },
   {
    "duration": 510,
    "start_time": "2021-10-10T16:33:02.835Z"
   },
   {
    "duration": 13,
    "start_time": "2021-10-10T16:33:36.972Z"
   },
   {
    "duration": 9,
    "start_time": "2021-10-10T16:33:46.620Z"
   },
   {
    "duration": 11,
    "start_time": "2021-10-10T17:05:15.034Z"
   },
   {
    "duration": 16,
    "start_time": "2021-10-10T18:15:55.452Z"
   },
   {
    "duration": 6,
    "start_time": "2021-10-10T18:17:08.181Z"
   },
   {
    "duration": 7,
    "start_time": "2021-10-10T18:17:31.037Z"
   },
   {
    "duration": 9,
    "start_time": "2021-10-10T19:27:02.378Z"
   },
   {
    "duration": 10,
    "start_time": "2021-10-10T19:35:14.276Z"
   },
   {
    "duration": 52,
    "start_time": "2021-10-10T20:03:00.399Z"
   },
   {
    "duration": 44,
    "start_time": "2021-10-10T20:03:24.984Z"
   },
   {
    "duration": 94,
    "start_time": "2021-10-10T20:06:11.146Z"
   },
   {
    "duration": 66,
    "start_time": "2021-10-10T20:06:23.731Z"
   },
   {
    "duration": 1069,
    "start_time": "2021-10-11T06:58:42.412Z"
   },
   {
    "duration": 210,
    "start_time": "2021-10-11T06:58:43.483Z"
   },
   {
    "duration": 3,
    "start_time": "2021-10-11T06:58:43.695Z"
   },
   {
    "duration": 258,
    "start_time": "2021-10-11T06:58:43.700Z"
   },
   {
    "duration": 25,
    "start_time": "2021-10-11T06:58:43.960Z"
   },
   {
    "duration": 21,
    "start_time": "2021-10-11T06:58:43.987Z"
   },
   {
    "duration": 4,
    "start_time": "2021-10-11T06:58:44.009Z"
   },
   {
    "duration": 34,
    "start_time": "2021-10-11T06:58:44.044Z"
   },
   {
    "duration": 5,
    "start_time": "2021-10-11T06:58:44.080Z"
   },
   {
    "duration": 58,
    "start_time": "2021-10-11T06:58:44.087Z"
   },
   {
    "duration": 72,
    "start_time": "2021-10-11T06:58:44.147Z"
   },
   {
    "duration": 42,
    "start_time": "2021-10-11T06:58:44.221Z"
   },
   {
    "duration": 14,
    "start_time": "2021-10-11T06:58:44.264Z"
   },
   {
    "duration": 70,
    "start_time": "2021-10-11T06:58:44.279Z"
   },
   {
    "duration": 13,
    "start_time": "2021-10-11T06:58:44.350Z"
   },
   {
    "duration": 58,
    "start_time": "2021-10-11T06:58:44.364Z"
   },
   {
    "duration": 48,
    "start_time": "2021-10-11T06:58:44.445Z"
   },
   {
    "duration": 98,
    "start_time": "2021-10-11T06:58:44.494Z"
   },
   {
    "duration": 23,
    "start_time": "2021-10-11T06:58:44.593Z"
   },
   {
    "duration": 3,
    "start_time": "2021-10-11T06:58:44.617Z"
   },
   {
    "duration": 156,
    "start_time": "2021-10-11T06:58:44.621Z"
   },
   {
    "duration": 73,
    "start_time": "2021-10-11T06:58:44.779Z"
   },
   {
    "duration": 11,
    "start_time": "2021-10-11T06:58:44.856Z"
   },
   {
    "duration": 141,
    "start_time": "2021-10-11T06:58:44.870Z"
   },
   {
    "duration": 66,
    "start_time": "2021-10-11T06:58:45.013Z"
   },
   {
    "duration": 88,
    "start_time": "2021-10-11T06:58:45.081Z"
   },
   {
    "duration": 468,
    "start_time": "2021-10-11T06:58:45.171Z"
   },
   {
    "duration": 331,
    "start_time": "2021-10-11T06:58:45.640Z"
   },
   {
    "duration": 19,
    "start_time": "2021-10-11T06:58:45.973Z"
   },
   {
    "duration": 61,
    "start_time": "2021-10-11T06:58:45.994Z"
   },
   {
    "duration": 11,
    "start_time": "2021-10-11T06:58:46.057Z"
   },
   {
    "duration": 140,
    "start_time": "2021-10-11T06:58:46.070Z"
   },
   {
    "duration": 266,
    "start_time": "2021-10-11T06:58:46.211Z"
   },
   {
    "duration": 12,
    "start_time": "2021-10-11T06:58:46.479Z"
   },
   {
    "duration": 224,
    "start_time": "2021-10-11T06:58:46.493Z"
   },
   {
    "duration": 8,
    "start_time": "2021-10-11T06:58:46.718Z"
   },
   {
    "duration": 21,
    "start_time": "2021-10-11T06:58:46.728Z"
   },
   {
    "duration": 13,
    "start_time": "2021-10-11T06:58:46.751Z"
   },
   {
    "duration": 30,
    "start_time": "2021-10-11T06:58:46.766Z"
   },
   {
    "duration": 80,
    "start_time": "2021-10-11T06:58:46.798Z"
   },
   {
    "duration": 10,
    "start_time": "2021-10-11T06:58:46.879Z"
   },
   {
    "duration": 34,
    "start_time": "2021-10-11T06:58:46.891Z"
   },
   {
    "duration": 28,
    "start_time": "2021-10-11T06:58:46.927Z"
   },
   {
    "duration": 173,
    "start_time": "2021-10-11T06:58:46.957Z"
   },
   {
    "duration": 41,
    "start_time": "2021-10-11T06:58:47.132Z"
   },
   {
    "duration": 30,
    "start_time": "2021-10-11T06:58:47.175Z"
   },
   {
    "duration": 125,
    "start_time": "2021-10-11T06:58:47.206Z"
   },
   {
    "duration": 131,
    "start_time": "2021-10-11T06:58:47.333Z"
   },
   {
    "duration": 6,
    "start_time": "2021-10-11T06:58:47.466Z"
   },
   {
    "duration": 24,
    "start_time": "2021-10-11T06:58:47.474Z"
   },
   {
    "duration": 19,
    "start_time": "2021-10-11T06:58:47.500Z"
   },
   {
    "duration": 26,
    "start_time": "2021-10-11T06:58:47.520Z"
   },
   {
    "duration": 990,
    "start_time": "2021-10-11T06:58:47.547Z"
   },
   {
    "duration": 62,
    "start_time": "2021-10-11T06:58:48.539Z"
   },
   {
    "duration": 52,
    "start_time": "2021-10-11T06:58:48.603Z"
   },
   {
    "duration": 120,
    "start_time": "2021-10-11T06:58:48.657Z"
   },
   {
    "duration": 127,
    "start_time": "2021-10-11T06:58:48.778Z"
   },
   {
    "duration": 5,
    "start_time": "2021-10-11T06:58:48.907Z"
   },
   {
    "duration": 7,
    "start_time": "2021-10-11T06:58:48.913Z"
   },
   {
    "duration": 11,
    "start_time": "2021-10-11T06:58:48.921Z"
   },
   {
    "duration": 1478,
    "start_time": "2021-10-19T13:39:29.374Z"
   },
   {
    "duration": 290,
    "start_time": "2021-10-19T13:39:30.855Z"
   },
   {
    "duration": 6,
    "start_time": "2021-10-19T13:39:31.148Z"
   },
   {
    "duration": 412,
    "start_time": "2021-10-19T13:39:31.157Z"
   },
   {
    "duration": 37,
    "start_time": "2021-10-19T13:39:31.571Z"
   },
   {
    "duration": 34,
    "start_time": "2021-10-19T13:39:31.611Z"
   },
   {
    "duration": 40,
    "start_time": "2021-10-19T13:39:31.647Z"
   },
   {
    "duration": 92,
    "start_time": "2021-10-19T13:39:31.691Z"
   },
   {
    "duration": 9,
    "start_time": "2021-10-19T13:39:31.786Z"
   },
   {
    "duration": 48,
    "start_time": "2021-10-19T13:39:31.798Z"
   },
   {
    "duration": 118,
    "start_time": "2021-10-19T13:39:31.849Z"
   },
   {
    "duration": 45,
    "start_time": "2021-10-19T13:39:31.982Z"
   },
   {
    "duration": 19,
    "start_time": "2021-10-19T13:39:32.029Z"
   },
   {
    "duration": 98,
    "start_time": "2021-10-19T13:39:32.050Z"
   },
   {
    "duration": 39,
    "start_time": "2021-10-19T13:39:32.151Z"
   },
   {
    "duration": 101,
    "start_time": "2021-10-19T13:39:32.192Z"
   },
   {
    "duration": 92,
    "start_time": "2021-10-19T13:39:32.295Z"
   },
   {
    "duration": 147,
    "start_time": "2021-10-19T13:39:32.389Z"
   },
   {
    "duration": 49,
    "start_time": "2021-10-19T13:39:32.538Z"
   },
   {
    "duration": 5,
    "start_time": "2021-10-19T13:39:32.589Z"
   },
   {
    "duration": 261,
    "start_time": "2021-10-19T13:39:32.597Z"
   },
   {
    "duration": 133,
    "start_time": "2021-10-19T13:39:32.860Z"
   },
   {
    "duration": 19,
    "start_time": "2021-10-19T13:39:32.999Z"
   },
   {
    "duration": 223,
    "start_time": "2021-10-19T13:39:33.021Z"
   },
   {
    "duration": 113,
    "start_time": "2021-10-19T13:39:33.246Z"
   },
   {
    "duration": 147,
    "start_time": "2021-10-19T13:39:33.362Z"
   },
   {
    "duration": 621,
    "start_time": "2021-10-19T13:39:33.511Z"
   },
   {
    "duration": 27,
    "start_time": "2021-10-19T13:39:34.135Z"
   },
   {
    "duration": 55,
    "start_time": "2021-10-19T13:39:34.183Z"
   },
   {
    "duration": 17,
    "start_time": "2021-10-19T13:39:34.240Z"
   },
   {
    "duration": 237,
    "start_time": "2021-10-19T13:39:34.259Z"
   },
   {
    "duration": 370,
    "start_time": "2021-10-19T13:39:34.498Z"
   },
   {
    "duration": 22,
    "start_time": "2021-10-19T13:39:34.870Z"
   },
   {
    "duration": 328,
    "start_time": "2021-10-19T13:39:34.894Z"
   },
   {
    "duration": 11,
    "start_time": "2021-10-19T13:39:35.225Z"
   },
   {
    "duration": 101,
    "start_time": "2021-10-19T13:39:35.238Z"
   },
   {
    "duration": 8,
    "start_time": "2021-10-19T13:39:35.342Z"
   },
   {
    "duration": 58,
    "start_time": "2021-10-19T13:39:35.352Z"
   },
   {
    "duration": 140,
    "start_time": "2021-10-19T13:39:35.412Z"
   },
   {
    "duration": 14,
    "start_time": "2021-10-19T13:39:35.555Z"
   },
   {
    "duration": 16,
    "start_time": "2021-10-19T13:39:35.583Z"
   },
   {
    "duration": 18,
    "start_time": "2021-10-19T13:39:35.601Z"
   },
   {
    "duration": 370,
    "start_time": "2021-10-19T13:39:35.621Z"
   },
   {
    "duration": 48,
    "start_time": "2021-10-19T13:39:35.993Z"
   },
   {
    "duration": 59,
    "start_time": "2021-10-19T13:39:36.043Z"
   },
   {
    "duration": 232,
    "start_time": "2021-10-19T13:39:36.105Z"
   },
   {
    "duration": 219,
    "start_time": "2021-10-19T13:39:36.340Z"
   },
   {
    "duration": 5,
    "start_time": "2021-10-19T13:39:36.562Z"
   },
   {
    "duration": 16,
    "start_time": "2021-10-19T13:39:36.570Z"
   },
   {
    "duration": 13,
    "start_time": "2021-10-19T13:39:36.588Z"
   },
   {
    "duration": 1920,
    "start_time": "2021-10-19T13:39:36.603Z"
   },
   {
    "duration": 93,
    "start_time": "2021-10-19T13:39:38.526Z"
   },
   {
    "duration": 81,
    "start_time": "2021-10-19T13:39:38.622Z"
   },
   {
    "duration": 214,
    "start_time": "2021-10-19T13:39:38.706Z"
   },
   {
    "duration": 219,
    "start_time": "2021-10-19T13:39:38.923Z"
   },
   {
    "duration": 6,
    "start_time": "2021-10-19T13:39:39.145Z"
   },
   {
    "duration": 8,
    "start_time": "2021-10-19T13:39:39.154Z"
   },
   {
    "duration": 11,
    "start_time": "2021-10-19T13:39:39.182Z"
   }
  ],
  "kernelspec": {
   "display_name": "Python 3",
   "language": "python",
   "name": "python3"
  },
  "language_info": {
   "codemirror_mode": {
    "name": "ipython",
    "version": 3
   },
   "file_extension": ".py",
   "mimetype": "text/x-python",
   "name": "python",
   "nbconvert_exporter": "python",
   "pygments_lexer": "ipython3",
   "version": "3.7.8"
  },
  "toc": {
   "base_numbering": 1,
   "nav_menu": {
    "height": "114px",
    "width": "205px"
   },
   "number_sections": true,
   "sideBar": true,
   "skip_h1_title": true,
   "title_cell": "Table of Contents",
   "title_sidebar": "Contents",
   "toc_cell": false,
   "toc_position": {},
   "toc_section_display": true,
   "toc_window_display": false
  }
 },
 "nbformat": 4,
 "nbformat_minor": 2
}
